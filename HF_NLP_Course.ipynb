{
  "cells": [
    {
      "cell_type": "markdown",
      "metadata": {
        "colab_type": "text",
        "id": "view-in-github"
      },
      "source": [
        "<a href=\"https://colab.research.google.com/github/tsilva/sandbox-transformers/blob/main/HF_NLP_Course.ipynb\" target=\"_parent\"><img src=\"https://colab.research.google.com/assets/colab-badge.svg\" alt=\"Open In Colab\"/></a>"
      ]
    },
    {
      "cell_type": "markdown",
      "metadata": {
        "id": "s5aRTaqSxMif"
      },
      "source": [
        "# Hugging Face NLP Course"
      ]
    },
    {
      "cell_type": "markdown",
      "metadata": {
        "id": "e7tKUxMixW02"
      },
      "source": [
        "This is a notebook on the [Hugging Face NLP Course](https://huggingface.co/learn/nlp-course/chapter1/1)."
      ]
    },
    {
      "cell_type": "markdown",
      "metadata": {
        "id": "IHaBN1BorwbA"
      },
      "source": [
        "## 0. Setup"
      ]
    },
    {
      "cell_type": "markdown",
      "metadata": {
        "id": "m96yTbU1xxnk"
      },
      "source": [
        "We will need to install the `transformers` library with the `sentencepiece` optional dependency since some of the models we're using use that library for tokenization."
      ]
    },
    {
      "cell_type": "code",
      "execution_count": null,
      "metadata": {
        "colab": {
          "base_uri": "https://localhost:8080/"
        },
        "id": "v0X_6J4qoljv",
        "outputId": "b9c35352-9cb6-4bc0-dd21-f1e4c91ac234"
      },
      "outputs": [
        {
          "name": "stdout",
          "output_type": "stream",
          "text": [
            "Requirement already satisfied: transformers[sentencepiece] in /home/tsilva/miniconda3/envs/sandbox-transformers/lib/python3.11/site-packages (4.48.2)\n",
            "Requirement already satisfied: filelock in /home/tsilva/miniconda3/envs/sandbox-transformers/lib/python3.11/site-packages (from transformers[sentencepiece]) (3.17.0)\n",
            "Requirement already satisfied: huggingface-hub<1.0,>=0.24.0 in /home/tsilva/miniconda3/envs/sandbox-transformers/lib/python3.11/site-packages (from transformers[sentencepiece]) (0.28.0)\n",
            "Requirement already satisfied: numpy>=1.17 in /home/tsilva/miniconda3/envs/sandbox-transformers/lib/python3.11/site-packages (from transformers[sentencepiece]) (2.2.2)\n",
            "Requirement already satisfied: packaging>=20.0 in /home/tsilva/miniconda3/envs/sandbox-transformers/lib/python3.11/site-packages (from transformers[sentencepiece]) (24.2)\n",
            "Requirement already satisfied: pyyaml>=5.1 in /home/tsilva/miniconda3/envs/sandbox-transformers/lib/python3.11/site-packages (from transformers[sentencepiece]) (6.0.2)\n",
            "Requirement already satisfied: regex!=2019.12.17 in /home/tsilva/miniconda3/envs/sandbox-transformers/lib/python3.11/site-packages (from transformers[sentencepiece]) (2024.11.6)\n",
            "Requirement already satisfied: requests in /home/tsilva/miniconda3/envs/sandbox-transformers/lib/python3.11/site-packages (from transformers[sentencepiece]) (2.32.3)\n",
            "Requirement already satisfied: tokenizers<0.22,>=0.21 in /home/tsilva/miniconda3/envs/sandbox-transformers/lib/python3.11/site-packages (from transformers[sentencepiece]) (0.21.0)\n",
            "Requirement already satisfied: safetensors>=0.4.1 in /home/tsilva/miniconda3/envs/sandbox-transformers/lib/python3.11/site-packages (from transformers[sentencepiece]) (0.5.2)\n",
            "Requirement already satisfied: tqdm>=4.27 in /home/tsilva/miniconda3/envs/sandbox-transformers/lib/python3.11/site-packages (from transformers[sentencepiece]) (4.67.1)\n",
            "Requirement already satisfied: sentencepiece!=0.1.92,>=0.1.91 in /home/tsilva/miniconda3/envs/sandbox-transformers/lib/python3.11/site-packages (from transformers[sentencepiece]) (0.2.0)\n",
            "Requirement already satisfied: protobuf in /home/tsilva/miniconda3/envs/sandbox-transformers/lib/python3.11/site-packages (from transformers[sentencepiece]) (5.29.3)\n",
            "Requirement already satisfied: fsspec>=2023.5.0 in /home/tsilva/miniconda3/envs/sandbox-transformers/lib/python3.11/site-packages (from huggingface-hub<1.0,>=0.24.0->transformers[sentencepiece]) (2024.9.0)\n",
            "Requirement already satisfied: typing-extensions>=3.7.4.3 in /home/tsilva/miniconda3/envs/sandbox-transformers/lib/python3.11/site-packages (from huggingface-hub<1.0,>=0.24.0->transformers[sentencepiece]) (4.12.2)\n",
            "Requirement already satisfied: charset_normalizer<4,>=2 in /home/tsilva/miniconda3/envs/sandbox-transformers/lib/python3.11/site-packages (from requests->transformers[sentencepiece]) (3.4.1)\n",
            "Requirement already satisfied: idna<4,>=2.5 in /home/tsilva/miniconda3/envs/sandbox-transformers/lib/python3.11/site-packages (from requests->transformers[sentencepiece]) (3.10)\n",
            "Requirement already satisfied: urllib3<3,>=1.21.1 in /home/tsilva/miniconda3/envs/sandbox-transformers/lib/python3.11/site-packages (from requests->transformers[sentencepiece]) (2.3.0)\n",
            "Requirement already satisfied: certifi>=2017.4.17 in /home/tsilva/miniconda3/envs/sandbox-transformers/lib/python3.11/site-packages (from requests->transformers[sentencepiece]) (2024.12.14)\n",
            "Note: you may need to restart the kernel to use updated packages.\n",
            "Collecting python-dotenv\n",
            "  Using cached python_dotenv-1.0.1-py3-none-any.whl.metadata (23 kB)\n",
            "Using cached python_dotenv-1.0.1-py3-none-any.whl (19 kB)\n",
            "Installing collected packages: python-dotenv\n",
            "Successfully installed python-dotenv-1.0.1\n",
            "Note: you may need to restart the kernel to use updated packages.\n"
          ]
        }
      ],
      "source": [
        "%pip install transformers[sentencepiece]"
      ]
    },
    {
      "cell_type": "code",
      "execution_count": 12,
      "metadata": {},
      "outputs": [
        {
          "name": "stdout",
          "output_type": "stream",
          "text": [
            "Requirement already satisfied: python-dotenv in /home/tsilva/miniconda3/envs/sandbox-transformers/lib/python3.11/site-packages (1.0.1)\n",
            "Note: you may need to restart the kernel to use updated packages.\n"
          ]
        },
        {
          "data": {
            "text/plain": [
              "True"
            ]
          },
          "execution_count": 12,
          "metadata": {},
          "output_type": "execute_result"
        }
      ],
      "source": [
        "%pip install python-dotenv\n",
        "\n",
        "from dotenv import load_dotenv\n",
        "load_dotenv()"
      ]
    },
    {
      "cell_type": "markdown",
      "metadata": {
        "id": "oPGzG7C4_03o"
      },
      "source": [
        "## 1. Transformer Models"
      ]
    },
    {
      "cell_type": "markdown",
      "metadata": {
        "id": "t6XyXWDdAnsy"
      },
      "source": [
        "### 1.1. Transformers, what can they do?"
      ]
    },
    {
      "cell_type": "markdown",
      "metadata": {
        "id": "FZBjCPmjx7QH"
      },
      "source": [
        "The following are some examples of using transformer models for performing different tasks, using the `pipeline` abstraction from `transformers`. This abstraction will select the most appropriate model for the specified task by default."
      ]
    },
    {
      "cell_type": "markdown",
      "metadata": {
        "id": "vuLLvNCQrtYV"
      },
      "source": [
        "\n",
        "\n",
        "#### Sentiment analysis"
      ]
    },
    {
      "cell_type": "markdown",
      "metadata": {
        "id": "p5nsOxPTyKK5"
      },
      "source": [
        "Given one or more sentences, classify their sentiment. By default this pipeline currently uses `distilbert/distilbert-base-uncased-finetuned-sst-2-english` as it's default model."
      ]
    },
    {
      "cell_type": "code",
      "execution_count": 13,
      "metadata": {
        "colab": {
          "base_uri": "https://localhost:8080/",
          "height": 287,
          "referenced_widgets": [
            "a3e37a715463470abc795db3ec9ae72e",
            "38a5d8ea51864657b38e135427846660",
            "731eca3b9bfa4d5b90e352006738a37f",
            "46ae55fc62cc42d8882436949b5ca3c2",
            "819fa2ee132544df8f738c748f90a432",
            "f8c51bab51704391bc6ebb55b3a32831",
            "846a2ca5a48e42b589fb583a6979cf63",
            "a47c97359f064c50820a9df0603d864b",
            "baadce1ba11c45ec94e70b29a7535260",
            "7db672f695d2449daf85589592c87878",
            "1a54a56d7a654e2d9fe5c386f29af24a",
            "9c8f936fa94a4bf787380ccf9148ee33",
            "7a2a139a584f4481ba805df892a2644f",
            "0d895359c3a34c4189f4d09211220c9b",
            "e2060029b0a64680a1f2727f208a9afa",
            "3eb6cea9a7844dc8b066806d36e5568b",
            "35dd6927ff1d45ba9ca227d9ec5f14ef",
            "b2e135f5d467438cb7ab9edabd6aba73",
            "0445687f96714d96a6dd71d0444b75ad",
            "c0826b47e7d044059c035d2c133510c3",
            "bc94672b792e42e8baec2919d0a36c80",
            "a717ec70d2144a998c6f662821460474",
            "0d0bdbe42e7340578fac0965a91e05e6",
            "f42011399f7744059a6ceaf01988ced9",
            "7604d961c8f0423aa53628c41dbcb039",
            "a1a683b5ece2407f9b58297f5b15c959",
            "e72ba593aa064bd2a1f4b80dde376667",
            "ead328d5823242d1ad378bff7ef833d3",
            "1a6c88d2e8424a9c87b671acb77e5849",
            "1287e03455ec45a08b4454abc3ec1614",
            "42fcb8f4274f4687877c673eb4921ffd",
            "fea4d8a9ad374c81a2fcd623bd642e49",
            "ca762b8197cf40eca6edd33852d49436",
            "9646ab82f9df49adbc0a3e85b86fdf77",
            "2878d885213046e2ab938441768e314c",
            "4ea86371cffb4dec9f6c0a72fc4c6415",
            "3bc8521c14e148b39bd77a3079a2cbd6",
            "05ecf30c88e94cacbc1ae486ad498e39",
            "f9caaaa771924a7ca06004567114fdab",
            "36dde58163a84509b2ab3bef0b0cade6",
            "32e27e8ea4834e0d9bae284fad6e9fcb",
            "c09b55be87b648f6a49b446a12ac4247",
            "d66bf4cfeda14376a1e421083b6d8c8d",
            "c0e03b1659ba4bb2913b8afab055b814"
          ]
        },
        "id": "5xLpoAP4pqCq",
        "outputId": "28e83fe2-d997-481e-c5cd-cbc4f570b3dc"
      },
      "outputs": [
        {
          "name": "stderr",
          "output_type": "stream",
          "text": [
            "No model was supplied, defaulted to distilbert/distilbert-base-uncased-finetuned-sst-2-english and revision 714eb0f (https://huggingface.co/distilbert/distilbert-base-uncased-finetuned-sst-2-english).\n",
            "Using a pipeline without specifying a model name and revision in production is not recommended.\n",
            "Device set to use cpu\n"
          ]
        },
        {
          "data": {
            "text/plain": [
              "[{'label': 'POSITIVE', 'score': 0.9598050713539124},\n",
              " {'label': 'NEGATIVE', 'score': 0.9994558691978455},\n",
              " {'label': 'NEGATIVE', 'score': 0.8600779175758362},\n",
              " {'label': 'POSITIVE', 'score': 0.9994854927062988}]"
            ]
          },
          "execution_count": 13,
          "metadata": {},
          "output_type": "execute_result"
        }
      ],
      "source": [
        "from transformers import pipeline\n",
        "\n",
        "classifier = pipeline(\"sentiment-analysis\")\n",
        "classifier(\n",
        "    [\n",
        "        \"I've been waiting for a HuggingFace course my whole life.\",\n",
        "        \"I hate this so much!\",\n",
        "        \"It hurts so good!\",\n",
        "        \"While the service was certainly unique, it left a lasting impression that I won’t forget anytime soon.\"\n",
        "    ]\n",
        ")"
      ]
    },
    {
      "cell_type": "markdown",
      "metadata": {
        "id": "NGWRG8V0qfRC"
      },
      "source": [
        "#### Zero-shot classification"
      ]
    },
    {
      "cell_type": "markdown",
      "metadata": {
        "id": "q22dOjpzysn8"
      },
      "source": [
        "In a `zero-shot-classification` task, a model must be able to classify the probability that an input should be labeled with each of the provided labels. These labels are not predefined, hence the zero-shot aspect. By default, this pipeline will use the `facebook/bart-large-mnli` model."
      ]
    },
    {
      "cell_type": "code",
      "execution_count": 14,
      "metadata": {
        "colab": {
          "base_uri": "https://localhost:8080/",
          "height": 403,
          "referenced_widgets": [
            "9203d9acf1f54eecbe447dc7c2020e1e",
            "e24fffe7a2a34d11b611b97984f451bf",
            "64790cb37bf4499ba69ae509ef8b4177",
            "aa5941a51c234831a4e98ee89204b72a",
            "2a9ca250aef848eface97dc81ef10653",
            "4868bb99c42f4008849753e5ebe67991",
            "31f645d4e3294b72b331d1d87db6f1a5",
            "f8c11a790e2348ae8376301b7b35dc3b",
            "d021a8a075264cd6832cae1898491fae",
            "43415127fd564f249a436d7a611c553a",
            "71f6be46b1c841399afd125469af50f9",
            "456207ec2f144cdb80358a20b8d9f945",
            "090d6b1e9d424bf498501ad76df966ab",
            "87cbb5ea9b2d48208f1191d22b756544",
            "1588029825be42599027db3d7b511cb1",
            "f33225cb8a0a4185bbdded3565c0b026",
            "dc5b3008dbd44c12ab2a6f3852898a19",
            "944640ff71b64f21887c4103f1937797",
            "247ff32d8c1949beb2aae4c15182c074",
            "3e9d755de3974c8aa5f9bc56483392c4",
            "16cf024a2dde4e21909f3c80da9cdc2a",
            "6052d687e9b2451e97c358e683c3560d",
            "bc6ed053f6e344648ad0d703c8e76a77",
            "c76116ba7c2746b6a0b534fb8dca7622",
            "e5c9290df605489b8b766b7891fa2cbc",
            "300c0511de70440e9abb0c0cf0b17371",
            "48d48123f959476f9ef468a1d20af223",
            "8bd31efa049b4dffba8415a48c1e40e1",
            "85089b9dd89b450191601ac0bcda20a9",
            "f701679327ea4b56803c95fa36465c00",
            "fb6fd0cf67c14ffb828432c8618adc1e",
            "8bf14618c3f2419199438fe13b42fd40",
            "83b08ea8025b45f6ba7d7a9efc3eeab1",
            "025e9eb404704670a99e911ce06fbfcd",
            "e3218b1195db46e9b5a316f03aeec59e",
            "7ad87a7dd4ac4d11a8c833ca316d2a85",
            "003d3158eb7e46c3b6bc75eec13b33e4",
            "429edc31fa95413f8191bbd999481fa9",
            "a085a545384b46ada56bfe966a41aafc",
            "bf6bfcbfe62043ebb4e34f376a9132c9",
            "ac3003579a954a5aa746e39cad4cd60e",
            "449b962507e046f58afeef1d1e66e050",
            "20b1103d46404849a49afe5ebce0f2a4",
            "6b973777c7ee4849a06acbabb61addbf",
            "afe21ed86a2e40b08ee6a8c62de01c1c",
            "e12b02e3fc894d939527b84ea1113270",
            "e0d8368327f8404a96a3c4a824b2d41e",
            "a62f5ef7453344cc9a16083380608f74",
            "38e0cbf3a38c40abb597456c0854b7c0",
            "1059ab1c328042b0a190962486cfc727",
            "ba7cdca797194720af03177f7aec5eba",
            "f7fa3717cc8744a782201e1eaa2e3b89",
            "485b2b764860424fb6bce2a2f01904e5",
            "c5b20fc186bd4614a9966af4e30bef76",
            "d33237acd6304ce2be65703b1d05f6cf",
            "50794f0dedb84a45ab13d4b2d67aaf70",
            "e37d89d394a1478eba734047be8675a1",
            "9cb92575e70f4803b2c430e2de4b4e89",
            "4d884bc0281841bbbf6264da390118d6",
            "96596ed5a65b4f26846408bd783919c9",
            "f72cf75106c941f388d678bcf1666e90",
            "ed6e0ac9b689462e91576ea28b6664c4",
            "040968f8cbc547408b2863deba6e7e38",
            "bf63e3129c7f4ad786df9de8f48bf6d4",
            "1d95730bc4084ce19185009be56e19d0",
            "f4876507c3644139b3806fbf02f46ebd"
          ]
        },
        "id": "D_ujmOK0qhAH",
        "outputId": "d14829d0-6228-462b-851c-487b561c83ac"
      },
      "outputs": [
        {
          "name": "stderr",
          "output_type": "stream",
          "text": [
            "No model was supplied, defaulted to facebook/bart-large-mnli and revision d7645e1 (https://huggingface.co/facebook/bart-large-mnli).\n",
            "Using a pipeline without specifying a model name and revision in production is not recommended.\n"
          ]
        },
        {
          "data": {
            "application/vnd.jupyter.widget-view+json": {
              "model_id": "39e578884ed145a39f7da393e984e144",
              "version_major": 2,
              "version_minor": 0
            },
            "text/plain": [
              "config.json:   0%|          | 0.00/1.15k [00:00<?, ?B/s]"
            ]
          },
          "metadata": {},
          "output_type": "display_data"
        },
        {
          "data": {
            "application/vnd.jupyter.widget-view+json": {
              "model_id": "c847413845d944b5b870c17c6c700d3a",
              "version_major": 2,
              "version_minor": 0
            },
            "text/plain": [
              "model.safetensors:   0%|          | 0.00/1.63G [00:00<?, ?B/s]"
            ]
          },
          "metadata": {},
          "output_type": "display_data"
        },
        {
          "data": {
            "application/vnd.jupyter.widget-view+json": {
              "model_id": "d837138026de489b8cd79f4f743bc42a",
              "version_major": 2,
              "version_minor": 0
            },
            "text/plain": [
              "tokenizer_config.json:   0%|          | 0.00/26.0 [00:00<?, ?B/s]"
            ]
          },
          "metadata": {},
          "output_type": "display_data"
        },
        {
          "data": {
            "application/vnd.jupyter.widget-view+json": {
              "model_id": "ebae5aca905443a4bd1f28309902bef8",
              "version_major": 2,
              "version_minor": 0
            },
            "text/plain": [
              "vocab.json:   0%|          | 0.00/899k [00:00<?, ?B/s]"
            ]
          },
          "metadata": {},
          "output_type": "display_data"
        },
        {
          "data": {
            "application/vnd.jupyter.widget-view+json": {
              "model_id": "656bd075b91b4adcabc82e0f8a627f6f",
              "version_major": 2,
              "version_minor": 0
            },
            "text/plain": [
              "merges.txt:   0%|          | 0.00/456k [00:00<?, ?B/s]"
            ]
          },
          "metadata": {},
          "output_type": "display_data"
        },
        {
          "data": {
            "application/vnd.jupyter.widget-view+json": {
              "model_id": "5d7f7682712946e2b382e4ebe1b96750",
              "version_major": 2,
              "version_minor": 0
            },
            "text/plain": [
              "tokenizer.json:   0%|          | 0.00/1.36M [00:00<?, ?B/s]"
            ]
          },
          "metadata": {},
          "output_type": "display_data"
        },
        {
          "name": "stderr",
          "output_type": "stream",
          "text": [
            "Device set to use cpu\n"
          ]
        },
        {
          "data": {
            "text/plain": [
              "{'sequence': 'The ball curved beautifully into the top corner, leaving the goalkeeper with no chance.',\n",
              " 'labels': ['sports', 'technology', 'art', 'nature', 'cooking'],\n",
              " 'scores': [0.35649970173835754,\n",
              "  0.2944627106189728,\n",
              "  0.2560218572616577,\n",
              "  0.06628338992595673,\n",
              "  0.026732269674539566]}"
            ]
          },
          "execution_count": 14,
          "metadata": {},
          "output_type": "execute_result"
        }
      ],
      "source": [
        "classifier = pipeline(\"zero-shot-classification\")\n",
        "classifier(\n",
        "    \"The ball curved beautifully into the top corner, leaving the goalkeeper with no chance.\",\n",
        "    candidate_labels=[\"sports\", \"art\", \"technology\", \"cooking\", \"nature\"]\n",
        ")"
      ]
    },
    {
      "cell_type": "markdown",
      "metadata": {
        "id": "ruGENj_wqoIO"
      },
      "source": [
        "#### Text Generation"
      ]
    },
    {
      "cell_type": "markdown",
      "metadata": {
        "id": "wxZkmU8OzcyL"
      },
      "source": [
        "In a `text-generation` task, the model will add more tokens to the right of the provided sentence. In this particular example, let's ask it to generate to candidate sentence completions with a maximum length of 30. By default, this pipeline will use the `openai-community/gpt2` model."
      ]
    },
    {
      "cell_type": "code",
      "execution_count": 6,
      "metadata": {
        "colab": {
          "base_uri": "https://localhost:8080/",
          "height": 417,
          "referenced_widgets": [
            "f3830472d83d4a11ae61e0a9405f6d22",
            "16f3a524e49d40e98c113c8373791c4b",
            "10d7fb2a2f854f5cba3f06bcec276852",
            "15451a86a5bc45f2ac730331a7caa8b0",
            "f0ab2dfef46344d7a294ccab000f181f",
            "8875eceb1b864795823d5768fbbb5ecd",
            "0f08a9d78a50435dbf22b07dae7c9021",
            "5521f2f7ea5a42d2a558002850b2b952",
            "786e0b363b8140459212146e29279e1d",
            "9be1d04d528943abbbe5e24036afb09e",
            "0bf925501aba4efd9bf482557bd0fe70",
            "64f50a8958d94cf6834007f7d1216f2e",
            "124d9eba19ec49f6b718d50d624eb57d",
            "d90c92a761d94129ac73b53abd43d5a7",
            "b099285041b942e1aa6b6ff22928447d",
            "cb9427db3c1d43478072aad88e3fdd20",
            "d0a91865142d40f3a54846235cce6522",
            "03450b7321b24c94947c2341b9bac2ff",
            "69e629e19dbf40e19e1fb1a5119b271b",
            "cc066e391a9c49f9969e3324df962d92",
            "cd9559aad92449cab7124d5fbc9da4a7",
            "665d8aedf32c455eae62032415895ec6",
            "3a3f5c48839748fd8480862dd33d63ba",
            "437673be68614267a8e23cb16ce3bfcc",
            "c2d342fdc7eb44a79eaca662d25a2ada",
            "3ee212878ea04f2d8c0ce809ff0fa29a",
            "88ab8699227f4c559fcfd9f8834f3d7a",
            "df666c85af2f4114b8dd385e76cfea4f",
            "a11b712d763242fabea97f91603be2a1",
            "ec83033f8caa4ea0841080ce51002861",
            "de7c0899ba0c46fda7a008fbe45b349f",
            "a2a9e04a5ff74c199d322fce52dd07aa",
            "8bd8dc3e3e51438db295c862eafb5a51",
            "c2b1cf6126f24d28921cfadc42481aaa",
            "b4e1c0e7f3b642ddb4e3b76ab58d7846",
            "6366b8ca9c05449bbe63349cf5e7ddda",
            "6fa0bf577d9d4396a0fa7a0fd4439a51",
            "5cdaf8bade5f48ef937c9b34efe8d44a",
            "87d29a6708134631ae4dbde555c1eaa5",
            "1da23be43f684e5e8cce20204188152e",
            "a18257086b0343db89c6dd7e8baa6000",
            "b02826b6c9f0420fa862404c1709d018",
            "1d7c4a9a82a0450884363163527ab612",
            "a92dc7a373b448e69aa081a580989944",
            "8a0419ba21ef49378c1d82ba1aab4ad5",
            "017acb3c20cd4b46bf02419fb9646b74",
            "d882c4d019b04a2daf30485819a0ad71",
            "73afa8d0b4c24295afc8ce0db89c9e71",
            "a0d9d6560621491d90b527630d82e337",
            "4710e36a274d49e880b3f2af7fc5e875",
            "a5b419f179a942a19ad6220a6055c6bd",
            "417e75926bf647c29e409980330be185",
            "90ce105df74c44c3a552719cf2412d0a",
            "fb1162539d9842eaad2ba10aa9af12bb",
            "c51354a2e990483589503887f771bb6d",
            "7552ef5c191c489682cf4be74c9001d6",
            "0597ecfe1dcb4cfcab723c55ec6f35d9",
            "5b4cd3150b9d412e8b915c99c1fb02e9",
            "6fe77aabbf1844fd905b1bba455e6098",
            "a0d34a1a204245fda5bad65150cb376a",
            "a3cae66eee0d42079dd8d6525d7fd6b0",
            "841812bd49264ff18f8a97c58f287647",
            "02b9dfa584184c9298fcc20d132db387",
            "47d0bd8474294c5bb554ceb573942076",
            "3d7737ebdec1489ba93faa90319d7dfa",
            "7f6baecf3ef94af4b9c611258d887abf",
            "193d8165d1094515a0f4201f686317ab",
            "bac30b90347d41cb8f5caa54182cd67f",
            "efc7cde4ce5c481ebe871d38c12fcaa0",
            "52d48346d68a4108b60c7391f4b28ff0",
            "458f26ffde36433f8ec135d4dde1ef90",
            "1e01ff37882740489509ea857d8817f7",
            "c683f5c6fba040b2b9cb2223a1533cab",
            "d15f514308ea47e48b06c025d77c1254",
            "c531c43ca88445c5bf5aed428d9f3803",
            "c7b6741984644fec90c7b3db973a5661",
            "5987c795fb524a18a965d72728dc0194"
          ]
        },
        "id": "WhQAbuPlqu4i",
        "outputId": "25af2ee2-812b-4da2-e9c0-2bf6ac97b959"
      },
      "outputs": [
        {
          "name": "stderr",
          "output_type": "stream",
          "text": [
            "No model was supplied, defaulted to openai-community/gpt2 and revision 607a30d (https://huggingface.co/openai-community/gpt2).\n",
            "Using a pipeline without specifying a model name and revision in production is not recommended.\n"
          ]
        },
        {
          "data": {
            "application/vnd.jupyter.widget-view+json": {
              "model_id": "715480b52cf34a75a4089abcac1d9b89",
              "version_major": 2,
              "version_minor": 0
            },
            "text/plain": [
              "config.json:   0%|          | 0.00/665 [00:00<?, ?B/s]"
            ]
          },
          "metadata": {},
          "output_type": "display_data"
        },
        {
          "data": {
            "application/vnd.jupyter.widget-view+json": {
              "model_id": "673e4afb7e6243e68781db27fd8c21ea",
              "version_major": 2,
              "version_minor": 0
            },
            "text/plain": [
              "model.safetensors:   0%|          | 0.00/548M [00:00<?, ?B/s]"
            ]
          },
          "metadata": {},
          "output_type": "display_data"
        },
        {
          "data": {
            "application/vnd.jupyter.widget-view+json": {
              "model_id": "6e6099a2de9d4b45ba05dbc17121061f",
              "version_major": 2,
              "version_minor": 0
            },
            "text/plain": [
              "generation_config.json:   0%|          | 0.00/124 [00:00<?, ?B/s]"
            ]
          },
          "metadata": {},
          "output_type": "display_data"
        },
        {
          "data": {
            "application/vnd.jupyter.widget-view+json": {
              "model_id": "bb842502171f437d849f57278d714d4f",
              "version_major": 2,
              "version_minor": 0
            },
            "text/plain": [
              "tokenizer_config.json:   0%|          | 0.00/26.0 [00:00<?, ?B/s]"
            ]
          },
          "metadata": {},
          "output_type": "display_data"
        },
        {
          "data": {
            "application/vnd.jupyter.widget-view+json": {
              "model_id": "719f8b49446e463c8473dc5fd77d4c4e",
              "version_major": 2,
              "version_minor": 0
            },
            "text/plain": [
              "vocab.json:   0%|          | 0.00/1.04M [00:00<?, ?B/s]"
            ]
          },
          "metadata": {},
          "output_type": "display_data"
        }
      ],
      "source": [
        "generator = pipeline(\"text-generation\")#, model=\"distilgpt2\")\n",
        "generator(\n",
        "    \"In this course, we will teach you how to\",\n",
        "    max_length=30,\n",
        "    num_return_sequences=2, # Generate 2 candidate sentence completions with the provided input as the prefix\n",
        ")"
      ]
    },
    {
      "cell_type": "markdown",
      "metadata": {
        "id": "MhzOyPCDq3z1"
      },
      "source": [
        "#### Mask Filling"
      ]
    },
    {
      "cell_type": "markdown",
      "metadata": {
        "id": "ohFTqWOu70bM"
      },
      "source": [
        "The `mask-filling` task entails having the model predict the most likely tokens to be present in the location of the mask. This pipeline will use `distilbert/distilroberta-base` by default."
      ]
    },
    {
      "cell_type": "code",
      "execution_count": 7,
      "metadata": {
        "colab": {
          "base_uri": "https://localhost:8080/",
          "height": 782,
          "referenced_widgets": [
            "912c2f7a086540ef9b5eda29e594d3ca",
            "eabf640c7ecf41d4b0ea08996ddfa1de",
            "2d08afee29604e8595a4da563d6d87e6",
            "adde69997b9b40a6bb08b155fc17b1aa",
            "631164089e4043f5a7e0008b5a635bd6",
            "4fca92ff73db4e2e8b2d398142045ec9",
            "91d03108a6634960a5168804afec223b",
            "b8fc50de20584f75958547d4088a2a00",
            "c705216c37564e3d9275c4f028a9f826",
            "32eead93771e4969966ae67969b3540b",
            "a01b894df71645969845c922340184fc",
            "241fa947ff94400daec3d72c99bf4c38",
            "8f4bd13860ac4412b8a0d378cfb67563",
            "e105debffbbb43059834136e5d46afc4",
            "f6a06fcd2e7c414683d82a7cbb47a331",
            "16fec1adfbdf4cc8947848e1752d4f26",
            "c555d841d29c4343b65bf6239fe4f4de",
            "fe31be53f19040f49cc9d3479d4d8101",
            "25e44110ce7f406a90199caec50bc98c",
            "a7742b9aca8245629bf68aabbb6520b1",
            "8039b108a2ed4d668c777c8b849577f2",
            "7d347a8f64f2428ca4729520feb809c2",
            "4759cc078c244bb4931726e97817c602",
            "edb86a6b8659432e913c6072e3303b22",
            "6da06155960c4a84bd51f6153f31d294",
            "07490aca543d48cfb9eeffcbae7e7f76",
            "9c50fb35ecfc4a1b813367da58e5e10e",
            "5c1cede4afe44ec6b38f78d116f3b950",
            "17c7dea8c42f41388f6a9726a4e1632a",
            "d6db8bcb1ca84a489a5cc764813ad3b7",
            "a7684953c09b448ba91a8753f9e94d83",
            "65ce2169349444839319b177538ebf90",
            "bc5c097ba49d48a4a83dd0df7b6a7624",
            "6caa028fe401469ab573e4fc5f2b99e4",
            "d95bd72e1eb441cf85e56b4c171fd123",
            "cf60954a7e324a3286e99d1c4b0b24a3",
            "8011f19f7ef14839aa551c406d102920",
            "671ea80530a84ebeb968de32694b4952",
            "649833f7f8cf4b6e8a8745741f5252ad",
            "f672e45549324dec9fdfc779db73d0f4",
            "7963ba5443f1425f919aed3badfab4e5",
            "1a5535ab81e34a29a4ab23e36f0f9763",
            "aa5d7e52169b4f1096367759c0683811",
            "d088a51480ee487b82bcfc143459c981"
          ]
        },
        "id": "6lOXUquSq21I",
        "outputId": "215dd4bd-7d0d-4997-c798-57ad948ed787"
      },
      "outputs": [
        {
          "name": "stderr",
          "output_type": "stream",
          "text": [
            "No model was supplied, defaulted to distilbert/distilroberta-base and revision fb53ab8 (https://huggingface.co/distilbert/distilroberta-base).\n",
            "Using a pipeline without specifying a model name and revision in production is not recommended.\n"
          ]
        },
        {
          "data": {
            "application/vnd.jupyter.widget-view+json": {
              "model_id": "912c2f7a086540ef9b5eda29e594d3ca",
              "version_major": 2,
              "version_minor": 0
            },
            "text/plain": [
              "config.json:   0%|          | 0.00/480 [00:00<?, ?B/s]"
            ]
          },
          "metadata": {},
          "output_type": "display_data"
        },
        {
          "data": {
            "application/vnd.jupyter.widget-view+json": {
              "model_id": "241fa947ff94400daec3d72c99bf4c38",
              "version_major": 2,
              "version_minor": 0
            },
            "text/plain": [
              "model.safetensors:   0%|          | 0.00/331M [00:00<?, ?B/s]"
            ]
          },
          "metadata": {},
          "output_type": "display_data"
        },
        {
          "name": "stderr",
          "output_type": "stream",
          "text": [
            "Some weights of the model checkpoint at distilbert/distilroberta-base were not used when initializing RobertaForMaskedLM: ['roberta.pooler.dense.bias', 'roberta.pooler.dense.weight']\n",
            "- This IS expected if you are initializing RobertaForMaskedLM from the checkpoint of a model trained on another task or with another architecture (e.g. initializing a BertForSequenceClassification model from a BertForPreTraining model).\n",
            "- This IS NOT expected if you are initializing RobertaForMaskedLM from the checkpoint of a model that you expect to be exactly identical (initializing a BertForSequenceClassification model from a BertForSequenceClassification model).\n"
          ]
        },
        {
          "data": {
            "application/vnd.jupyter.widget-view+json": {
              "model_id": "4759cc078c244bb4931726e97817c602",
              "version_major": 2,
              "version_minor": 0
            },
            "text/plain": [
              "tokenizer_config.json:   0%|          | 0.00/25.0 [00:00<?, ?B/s]"
            ]
          },
          "metadata": {},
          "output_type": "display_data"
        },
        {
          "data": {
            "application/vnd.jupyter.widget-view+json": {
              "model_id": "6caa028fe401469ab573e4fc5f2b99e4",
              "version_major": 2,
              "version_minor": 0
            },
            "text/plain": [
              "vocab.json:   0%|          | 0.00/899k [00:00<?, ?B/s]"
            ]
          },
          "metadata": {},
          "output_type": "display_data"
        },
        {
          "ename": "ReadTimeout",
          "evalue": "(ReadTimeoutError(\"HTTPSConnectionPool(host='huggingface.co', port=443): Read timed out. (read timeout=10)\"), '(Request ID: d5af27b5-c744-4cf6-b144-88e1938d656b)')",
          "output_type": "error",
          "traceback": [
            "\u001b[0;31m---------------------------------------------------------------------------\u001b[0m",
            "\u001b[0;31mTimeoutError\u001b[0m                              Traceback (most recent call last)",
            "\u001b[0;32m/usr/local/lib/python3.11/dist-packages/urllib3/connectionpool.py\u001b[0m in \u001b[0;36m_make_request\u001b[0;34m(self, conn, method, url, body, headers, retries, timeout, chunked, response_conn, preload_content, decode_content, enforce_content_length)\u001b[0m\n\u001b[1;32m    533\u001b[0m         \u001b[0;32mtry\u001b[0m\u001b[0;34m:\u001b[0m\u001b[0;34m\u001b[0m\u001b[0;34m\u001b[0m\u001b[0m\n\u001b[0;32m--> 534\u001b[0;31m             \u001b[0mresponse\u001b[0m \u001b[0;34m=\u001b[0m \u001b[0mconn\u001b[0m\u001b[0;34m.\u001b[0m\u001b[0mgetresponse\u001b[0m\u001b[0;34m(\u001b[0m\u001b[0;34m)\u001b[0m\u001b[0;34m\u001b[0m\u001b[0;34m\u001b[0m\u001b[0m\n\u001b[0m\u001b[1;32m    535\u001b[0m         \u001b[0;32mexcept\u001b[0m \u001b[0;34m(\u001b[0m\u001b[0mBaseSSLError\u001b[0m\u001b[0;34m,\u001b[0m \u001b[0mOSError\u001b[0m\u001b[0;34m)\u001b[0m \u001b[0;32mas\u001b[0m \u001b[0me\u001b[0m\u001b[0;34m:\u001b[0m\u001b[0;34m\u001b[0m\u001b[0;34m\u001b[0m\u001b[0m\n",
            "\u001b[0;32m/usr/local/lib/python3.11/dist-packages/urllib3/connection.py\u001b[0m in \u001b[0;36mgetresponse\u001b[0;34m(self)\u001b[0m\n\u001b[1;32m    515\u001b[0m         \u001b[0;31m# Get the response from http.client.HTTPConnection\u001b[0m\u001b[0;34m\u001b[0m\u001b[0;34m\u001b[0m\u001b[0m\n\u001b[0;32m--> 516\u001b[0;31m         \u001b[0mhttplib_response\u001b[0m \u001b[0;34m=\u001b[0m \u001b[0msuper\u001b[0m\u001b[0;34m(\u001b[0m\u001b[0;34m)\u001b[0m\u001b[0;34m.\u001b[0m\u001b[0mgetresponse\u001b[0m\u001b[0;34m(\u001b[0m\u001b[0;34m)\u001b[0m\u001b[0;34m\u001b[0m\u001b[0;34m\u001b[0m\u001b[0m\n\u001b[0m\u001b[1;32m    517\u001b[0m \u001b[0;34m\u001b[0m\u001b[0m\n",
            "\u001b[0;32m/usr/lib/python3.11/http/client.py\u001b[0m in \u001b[0;36mgetresponse\u001b[0;34m(self)\u001b[0m\n\u001b[1;32m   1394\u001b[0m             \u001b[0;32mtry\u001b[0m\u001b[0;34m:\u001b[0m\u001b[0;34m\u001b[0m\u001b[0;34m\u001b[0m\u001b[0m\n\u001b[0;32m-> 1395\u001b[0;31m                 \u001b[0mresponse\u001b[0m\u001b[0;34m.\u001b[0m\u001b[0mbegin\u001b[0m\u001b[0;34m(\u001b[0m\u001b[0;34m)\u001b[0m\u001b[0;34m\u001b[0m\u001b[0;34m\u001b[0m\u001b[0m\n\u001b[0m\u001b[1;32m   1396\u001b[0m             \u001b[0;32mexcept\u001b[0m \u001b[0mConnectionError\u001b[0m\u001b[0;34m:\u001b[0m\u001b[0;34m\u001b[0m\u001b[0;34m\u001b[0m\u001b[0m\n",
            "\u001b[0;32m/usr/lib/python3.11/http/client.py\u001b[0m in \u001b[0;36mbegin\u001b[0;34m(self)\u001b[0m\n\u001b[1;32m    324\u001b[0m         \u001b[0;32mwhile\u001b[0m \u001b[0;32mTrue\u001b[0m\u001b[0;34m:\u001b[0m\u001b[0;34m\u001b[0m\u001b[0;34m\u001b[0m\u001b[0m\n\u001b[0;32m--> 325\u001b[0;31m             \u001b[0mversion\u001b[0m\u001b[0;34m,\u001b[0m \u001b[0mstatus\u001b[0m\u001b[0;34m,\u001b[0m \u001b[0mreason\u001b[0m \u001b[0;34m=\u001b[0m \u001b[0mself\u001b[0m\u001b[0;34m.\u001b[0m\u001b[0m_read_status\u001b[0m\u001b[0;34m(\u001b[0m\u001b[0;34m)\u001b[0m\u001b[0;34m\u001b[0m\u001b[0;34m\u001b[0m\u001b[0m\n\u001b[0m\u001b[1;32m    326\u001b[0m             \u001b[0;32mif\u001b[0m \u001b[0mstatus\u001b[0m \u001b[0;34m!=\u001b[0m \u001b[0mCONTINUE\u001b[0m\u001b[0;34m:\u001b[0m\u001b[0;34m\u001b[0m\u001b[0;34m\u001b[0m\u001b[0m\n",
            "\u001b[0;32m/usr/lib/python3.11/http/client.py\u001b[0m in \u001b[0;36m_read_status\u001b[0;34m(self)\u001b[0m\n\u001b[1;32m    285\u001b[0m     \u001b[0;32mdef\u001b[0m \u001b[0m_read_status\u001b[0m\u001b[0;34m(\u001b[0m\u001b[0mself\u001b[0m\u001b[0;34m)\u001b[0m\u001b[0;34m:\u001b[0m\u001b[0;34m\u001b[0m\u001b[0;34m\u001b[0m\u001b[0m\n\u001b[0;32m--> 286\u001b[0;31m         \u001b[0mline\u001b[0m \u001b[0;34m=\u001b[0m \u001b[0mstr\u001b[0m\u001b[0;34m(\u001b[0m\u001b[0mself\u001b[0m\u001b[0;34m.\u001b[0m\u001b[0mfp\u001b[0m\u001b[0;34m.\u001b[0m\u001b[0mreadline\u001b[0m\u001b[0;34m(\u001b[0m\u001b[0m_MAXLINE\u001b[0m \u001b[0;34m+\u001b[0m \u001b[0;36m1\u001b[0m\u001b[0;34m)\u001b[0m\u001b[0;34m,\u001b[0m \u001b[0;34m\"iso-8859-1\"\u001b[0m\u001b[0;34m)\u001b[0m\u001b[0;34m\u001b[0m\u001b[0;34m\u001b[0m\u001b[0m\n\u001b[0m\u001b[1;32m    287\u001b[0m         \u001b[0;32mif\u001b[0m \u001b[0mlen\u001b[0m\u001b[0;34m(\u001b[0m\u001b[0mline\u001b[0m\u001b[0;34m)\u001b[0m \u001b[0;34m>\u001b[0m \u001b[0m_MAXLINE\u001b[0m\u001b[0;34m:\u001b[0m\u001b[0;34m\u001b[0m\u001b[0;34m\u001b[0m\u001b[0m\n",
            "\u001b[0;32m/usr/lib/python3.11/socket.py\u001b[0m in \u001b[0;36mreadinto\u001b[0;34m(self, b)\u001b[0m\n\u001b[1;32m    717\u001b[0m             \u001b[0;32mtry\u001b[0m\u001b[0;34m:\u001b[0m\u001b[0;34m\u001b[0m\u001b[0;34m\u001b[0m\u001b[0m\n\u001b[0;32m--> 718\u001b[0;31m                 \u001b[0;32mreturn\u001b[0m \u001b[0mself\u001b[0m\u001b[0;34m.\u001b[0m\u001b[0m_sock\u001b[0m\u001b[0;34m.\u001b[0m\u001b[0mrecv_into\u001b[0m\u001b[0;34m(\u001b[0m\u001b[0mb\u001b[0m\u001b[0;34m)\u001b[0m\u001b[0;34m\u001b[0m\u001b[0;34m\u001b[0m\u001b[0m\n\u001b[0m\u001b[1;32m    719\u001b[0m             \u001b[0;32mexcept\u001b[0m \u001b[0mtimeout\u001b[0m\u001b[0;34m:\u001b[0m\u001b[0;34m\u001b[0m\u001b[0;34m\u001b[0m\u001b[0m\n",
            "\u001b[0;32m/usr/lib/python3.11/ssl.py\u001b[0m in \u001b[0;36mrecv_into\u001b[0;34m(self, buffer, nbytes, flags)\u001b[0m\n\u001b[1;32m   1313\u001b[0m                   self.__class__)\n\u001b[0;32m-> 1314\u001b[0;31m             \u001b[0;32mreturn\u001b[0m \u001b[0mself\u001b[0m\u001b[0;34m.\u001b[0m\u001b[0mread\u001b[0m\u001b[0;34m(\u001b[0m\u001b[0mnbytes\u001b[0m\u001b[0;34m,\u001b[0m \u001b[0mbuffer\u001b[0m\u001b[0;34m)\u001b[0m\u001b[0;34m\u001b[0m\u001b[0;34m\u001b[0m\u001b[0m\n\u001b[0m\u001b[1;32m   1315\u001b[0m         \u001b[0;32melse\u001b[0m\u001b[0;34m:\u001b[0m\u001b[0;34m\u001b[0m\u001b[0;34m\u001b[0m\u001b[0m\n",
            "\u001b[0;32m/usr/lib/python3.11/ssl.py\u001b[0m in \u001b[0;36mread\u001b[0;34m(self, len, buffer)\u001b[0m\n\u001b[1;32m   1165\u001b[0m             \u001b[0;32mif\u001b[0m \u001b[0mbuffer\u001b[0m \u001b[0;32mis\u001b[0m \u001b[0;32mnot\u001b[0m \u001b[0;32mNone\u001b[0m\u001b[0;34m:\u001b[0m\u001b[0;34m\u001b[0m\u001b[0;34m\u001b[0m\u001b[0m\n\u001b[0;32m-> 1166\u001b[0;31m                 \u001b[0;32mreturn\u001b[0m \u001b[0mself\u001b[0m\u001b[0;34m.\u001b[0m\u001b[0m_sslobj\u001b[0m\u001b[0;34m.\u001b[0m\u001b[0mread\u001b[0m\u001b[0;34m(\u001b[0m\u001b[0mlen\u001b[0m\u001b[0;34m,\u001b[0m \u001b[0mbuffer\u001b[0m\u001b[0;34m)\u001b[0m\u001b[0;34m\u001b[0m\u001b[0;34m\u001b[0m\u001b[0m\n\u001b[0m\u001b[1;32m   1167\u001b[0m             \u001b[0;32melse\u001b[0m\u001b[0;34m:\u001b[0m\u001b[0;34m\u001b[0m\u001b[0;34m\u001b[0m\u001b[0m\n",
            "\u001b[0;31mTimeoutError\u001b[0m: The read operation timed out",
            "\nThe above exception was the direct cause of the following exception:\n",
            "\u001b[0;31mReadTimeoutError\u001b[0m                          Traceback (most recent call last)",
            "\u001b[0;32m/usr/local/lib/python3.11/dist-packages/requests/adapters.py\u001b[0m in \u001b[0;36msend\u001b[0;34m(self, request, stream, timeout, verify, cert, proxies)\u001b[0m\n\u001b[1;32m    666\u001b[0m         \u001b[0;32mtry\u001b[0m\u001b[0;34m:\u001b[0m\u001b[0;34m\u001b[0m\u001b[0;34m\u001b[0m\u001b[0m\n\u001b[0;32m--> 667\u001b[0;31m             resp = conn.urlopen(\n\u001b[0m\u001b[1;32m    668\u001b[0m                 \u001b[0mmethod\u001b[0m\u001b[0;34m=\u001b[0m\u001b[0mrequest\u001b[0m\u001b[0;34m.\u001b[0m\u001b[0mmethod\u001b[0m\u001b[0;34m,\u001b[0m\u001b[0;34m\u001b[0m\u001b[0;34m\u001b[0m\u001b[0m\n",
            "\u001b[0;32m/usr/local/lib/python3.11/dist-packages/urllib3/connectionpool.py\u001b[0m in \u001b[0;36murlopen\u001b[0;34m(self, method, url, body, headers, retries, redirect, assert_same_host, timeout, pool_timeout, release_conn, chunked, body_pos, preload_content, decode_content, **response_kw)\u001b[0m\n\u001b[1;32m    840\u001b[0m \u001b[0;34m\u001b[0m\u001b[0m\n\u001b[0;32m--> 841\u001b[0;31m             retries = retries.increment(\n\u001b[0m\u001b[1;32m    842\u001b[0m                 \u001b[0mmethod\u001b[0m\u001b[0;34m,\u001b[0m \u001b[0murl\u001b[0m\u001b[0;34m,\u001b[0m \u001b[0merror\u001b[0m\u001b[0;34m=\u001b[0m\u001b[0mnew_e\u001b[0m\u001b[0;34m,\u001b[0m \u001b[0m_pool\u001b[0m\u001b[0;34m=\u001b[0m\u001b[0mself\u001b[0m\u001b[0;34m,\u001b[0m \u001b[0m_stacktrace\u001b[0m\u001b[0;34m=\u001b[0m\u001b[0msys\u001b[0m\u001b[0;34m.\u001b[0m\u001b[0mexc_info\u001b[0m\u001b[0;34m(\u001b[0m\u001b[0;34m)\u001b[0m\u001b[0;34m[\u001b[0m\u001b[0;36m2\u001b[0m\u001b[0;34m]\u001b[0m\u001b[0;34m\u001b[0m\u001b[0;34m\u001b[0m\u001b[0m\n",
            "\u001b[0;32m/usr/local/lib/python3.11/dist-packages/urllib3/util/retry.py\u001b[0m in \u001b[0;36mincrement\u001b[0;34m(self, method, url, response, error, _pool, _stacktrace)\u001b[0m\n\u001b[1;32m    473\u001b[0m             \u001b[0;32mif\u001b[0m \u001b[0mread\u001b[0m \u001b[0;32mis\u001b[0m \u001b[0;32mFalse\u001b[0m \u001b[0;32mor\u001b[0m \u001b[0mmethod\u001b[0m \u001b[0;32mis\u001b[0m \u001b[0;32mNone\u001b[0m \u001b[0;32mor\u001b[0m \u001b[0;32mnot\u001b[0m \u001b[0mself\u001b[0m\u001b[0;34m.\u001b[0m\u001b[0m_is_method_retryable\u001b[0m\u001b[0;34m(\u001b[0m\u001b[0mmethod\u001b[0m\u001b[0;34m)\u001b[0m\u001b[0;34m:\u001b[0m\u001b[0;34m\u001b[0m\u001b[0;34m\u001b[0m\u001b[0m\n\u001b[0;32m--> 474\u001b[0;31m                 \u001b[0;32mraise\u001b[0m \u001b[0mreraise\u001b[0m\u001b[0;34m(\u001b[0m\u001b[0mtype\u001b[0m\u001b[0;34m(\u001b[0m\u001b[0merror\u001b[0m\u001b[0;34m)\u001b[0m\u001b[0;34m,\u001b[0m \u001b[0merror\u001b[0m\u001b[0;34m,\u001b[0m \u001b[0m_stacktrace\u001b[0m\u001b[0;34m)\u001b[0m\u001b[0;34m\u001b[0m\u001b[0;34m\u001b[0m\u001b[0m\n\u001b[0m\u001b[1;32m    475\u001b[0m             \u001b[0;32melif\u001b[0m \u001b[0mread\u001b[0m \u001b[0;32mis\u001b[0m \u001b[0;32mnot\u001b[0m \u001b[0;32mNone\u001b[0m\u001b[0;34m:\u001b[0m\u001b[0;34m\u001b[0m\u001b[0;34m\u001b[0m\u001b[0m\n",
            "\u001b[0;32m/usr/local/lib/python3.11/dist-packages/urllib3/util/util.py\u001b[0m in \u001b[0;36mreraise\u001b[0;34m(tp, value, tb)\u001b[0m\n\u001b[1;32m     38\u001b[0m             \u001b[0;32mraise\u001b[0m \u001b[0mvalue\u001b[0m\u001b[0;34m.\u001b[0m\u001b[0mwith_traceback\u001b[0m\u001b[0;34m(\u001b[0m\u001b[0mtb\u001b[0m\u001b[0;34m)\u001b[0m\u001b[0;34m\u001b[0m\u001b[0;34m\u001b[0m\u001b[0m\n\u001b[0;32m---> 39\u001b[0;31m         \u001b[0;32mraise\u001b[0m \u001b[0mvalue\u001b[0m\u001b[0;34m\u001b[0m\u001b[0;34m\u001b[0m\u001b[0m\n\u001b[0m\u001b[1;32m     40\u001b[0m     \u001b[0;32mfinally\u001b[0m\u001b[0;34m:\u001b[0m\u001b[0;34m\u001b[0m\u001b[0;34m\u001b[0m\u001b[0m\n",
            "\u001b[0;32m/usr/local/lib/python3.11/dist-packages/urllib3/connectionpool.py\u001b[0m in \u001b[0;36murlopen\u001b[0;34m(self, method, url, body, headers, retries, redirect, assert_same_host, timeout, pool_timeout, release_conn, chunked, body_pos, preload_content, decode_content, **response_kw)\u001b[0m\n\u001b[1;32m    786\u001b[0m             \u001b[0;31m# Make the request on the HTTPConnection object\u001b[0m\u001b[0;34m\u001b[0m\u001b[0;34m\u001b[0m\u001b[0m\n\u001b[0;32m--> 787\u001b[0;31m             response = self._make_request(\n\u001b[0m\u001b[1;32m    788\u001b[0m                 \u001b[0mconn\u001b[0m\u001b[0;34m,\u001b[0m\u001b[0;34m\u001b[0m\u001b[0;34m\u001b[0m\u001b[0m\n",
            "\u001b[0;32m/usr/local/lib/python3.11/dist-packages/urllib3/connectionpool.py\u001b[0m in \u001b[0;36m_make_request\u001b[0;34m(self, conn, method, url, body, headers, retries, timeout, chunked, response_conn, preload_content, decode_content, enforce_content_length)\u001b[0m\n\u001b[1;32m    535\u001b[0m         \u001b[0;32mexcept\u001b[0m \u001b[0;34m(\u001b[0m\u001b[0mBaseSSLError\u001b[0m\u001b[0;34m,\u001b[0m \u001b[0mOSError\u001b[0m\u001b[0;34m)\u001b[0m \u001b[0;32mas\u001b[0m \u001b[0me\u001b[0m\u001b[0;34m:\u001b[0m\u001b[0;34m\u001b[0m\u001b[0;34m\u001b[0m\u001b[0m\n\u001b[0;32m--> 536\u001b[0;31m             \u001b[0mself\u001b[0m\u001b[0;34m.\u001b[0m\u001b[0m_raise_timeout\u001b[0m\u001b[0;34m(\u001b[0m\u001b[0merr\u001b[0m\u001b[0;34m=\u001b[0m\u001b[0me\u001b[0m\u001b[0;34m,\u001b[0m \u001b[0murl\u001b[0m\u001b[0;34m=\u001b[0m\u001b[0murl\u001b[0m\u001b[0;34m,\u001b[0m \u001b[0mtimeout_value\u001b[0m\u001b[0;34m=\u001b[0m\u001b[0mread_timeout\u001b[0m\u001b[0;34m)\u001b[0m\u001b[0;34m\u001b[0m\u001b[0;34m\u001b[0m\u001b[0m\n\u001b[0m\u001b[1;32m    537\u001b[0m             \u001b[0;32mraise\u001b[0m\u001b[0;34m\u001b[0m\u001b[0;34m\u001b[0m\u001b[0m\n",
            "\u001b[0;32m/usr/local/lib/python3.11/dist-packages/urllib3/connectionpool.py\u001b[0m in \u001b[0;36m_raise_timeout\u001b[0;34m(self, err, url, timeout_value)\u001b[0m\n\u001b[1;32m    366\u001b[0m         \u001b[0;32mif\u001b[0m \u001b[0misinstance\u001b[0m\u001b[0;34m(\u001b[0m\u001b[0merr\u001b[0m\u001b[0;34m,\u001b[0m \u001b[0mSocketTimeout\u001b[0m\u001b[0;34m)\u001b[0m\u001b[0;34m:\u001b[0m\u001b[0;34m\u001b[0m\u001b[0;34m\u001b[0m\u001b[0m\n\u001b[0;32m--> 367\u001b[0;31m             raise ReadTimeoutError(\n\u001b[0m\u001b[1;32m    368\u001b[0m                 \u001b[0mself\u001b[0m\u001b[0;34m,\u001b[0m \u001b[0murl\u001b[0m\u001b[0;34m,\u001b[0m \u001b[0;34mf\"Read timed out. (read timeout={timeout_value})\"\u001b[0m\u001b[0;34m\u001b[0m\u001b[0;34m\u001b[0m\u001b[0m\n",
            "\u001b[0;31mReadTimeoutError\u001b[0m: HTTPSConnectionPool(host='huggingface.co', port=443): Read timed out. (read timeout=10)",
            "\nDuring handling of the above exception, another exception occurred:\n",
            "\u001b[0;31mReadTimeout\u001b[0m                               Traceback (most recent call last)",
            "\u001b[0;32m<ipython-input-7-1af9760eced7>\u001b[0m in \u001b[0;36m<cell line: 0>\u001b[0;34m()\u001b[0m\n\u001b[0;32m----> 1\u001b[0;31m \u001b[0munmasker\u001b[0m \u001b[0;34m=\u001b[0m \u001b[0mpipeline\u001b[0m\u001b[0;34m(\u001b[0m\u001b[0;34m\"fill-mask\"\u001b[0m\u001b[0;34m)\u001b[0m\u001b[0;34m\u001b[0m\u001b[0;34m\u001b[0m\u001b[0m\n\u001b[0m\u001b[1;32m      2\u001b[0m \u001b[0munmasker\u001b[0m\u001b[0;34m(\u001b[0m\u001b[0;34m\"This course will teach you all about <mask> models.\"\u001b[0m\u001b[0;34m,\u001b[0m \u001b[0mtop_k\u001b[0m\u001b[0;34m=\u001b[0m\u001b[0;36m2\u001b[0m\u001b[0;34m)\u001b[0m\u001b[0;34m\u001b[0m\u001b[0;34m\u001b[0m\u001b[0m\n",
            "\u001b[0;32m/usr/local/lib/python3.11/dist-packages/transformers/pipelines/__init__.py\u001b[0m in \u001b[0;36mpipeline\u001b[0;34m(task, model, config, tokenizer, feature_extractor, image_processor, processor, framework, revision, use_fast, token, device, device_map, torch_dtype, trust_remote_code, model_kwargs, pipeline_class, **kwargs)\u001b[0m\n\u001b[1;32m   1045\u001b[0m                 \u001b[0mtokenizer_kwargs\u001b[0m\u001b[0;34m.\u001b[0m\u001b[0mpop\u001b[0m\u001b[0;34m(\u001b[0m\u001b[0;34m\"torch_dtype\"\u001b[0m\u001b[0;34m,\u001b[0m \u001b[0;32mNone\u001b[0m\u001b[0;34m)\u001b[0m\u001b[0;34m\u001b[0m\u001b[0;34m\u001b[0m\u001b[0m\n\u001b[1;32m   1046\u001b[0m \u001b[0;34m\u001b[0m\u001b[0m\n\u001b[0;32m-> 1047\u001b[0;31m             tokenizer = AutoTokenizer.from_pretrained(\n\u001b[0m\u001b[1;32m   1048\u001b[0m                 \u001b[0mtokenizer_identifier\u001b[0m\u001b[0;34m,\u001b[0m \u001b[0muse_fast\u001b[0m\u001b[0;34m=\u001b[0m\u001b[0muse_fast\u001b[0m\u001b[0;34m,\u001b[0m \u001b[0m_from_pipeline\u001b[0m\u001b[0;34m=\u001b[0m\u001b[0mtask\u001b[0m\u001b[0;34m,\u001b[0m \u001b[0;34m**\u001b[0m\u001b[0mhub_kwargs\u001b[0m\u001b[0;34m,\u001b[0m \u001b[0;34m**\u001b[0m\u001b[0mtokenizer_kwargs\u001b[0m\u001b[0;34m\u001b[0m\u001b[0;34m\u001b[0m\u001b[0m\n\u001b[1;32m   1049\u001b[0m             )\n",
            "\u001b[0;32m/usr/local/lib/python3.11/dist-packages/transformers/models/auto/tokenization_auto.py\u001b[0m in \u001b[0;36mfrom_pretrained\u001b[0;34m(cls, pretrained_model_name_or_path, *inputs, **kwargs)\u001b[0m\n\u001b[1;32m    938\u001b[0m \u001b[0;34m\u001b[0m\u001b[0m\n\u001b[1;32m    939\u001b[0m             \u001b[0;32mif\u001b[0m \u001b[0mtokenizer_class_fast\u001b[0m \u001b[0;32mand\u001b[0m \u001b[0;34m(\u001b[0m\u001b[0muse_fast\u001b[0m \u001b[0;32mor\u001b[0m \u001b[0mtokenizer_class_py\u001b[0m \u001b[0;32mis\u001b[0m \u001b[0;32mNone\u001b[0m\u001b[0;34m)\u001b[0m\u001b[0;34m:\u001b[0m\u001b[0;34m\u001b[0m\u001b[0;34m\u001b[0m\u001b[0m\n\u001b[0;32m--> 940\u001b[0;31m                 \u001b[0;32mreturn\u001b[0m \u001b[0mtokenizer_class_fast\u001b[0m\u001b[0;34m.\u001b[0m\u001b[0mfrom_pretrained\u001b[0m\u001b[0;34m(\u001b[0m\u001b[0mpretrained_model_name_or_path\u001b[0m\u001b[0;34m,\u001b[0m \u001b[0;34m*\u001b[0m\u001b[0minputs\u001b[0m\u001b[0;34m,\u001b[0m \u001b[0;34m**\u001b[0m\u001b[0mkwargs\u001b[0m\u001b[0;34m)\u001b[0m\u001b[0;34m\u001b[0m\u001b[0;34m\u001b[0m\u001b[0m\n\u001b[0m\u001b[1;32m    941\u001b[0m             \u001b[0;32melse\u001b[0m\u001b[0;34m:\u001b[0m\u001b[0;34m\u001b[0m\u001b[0;34m\u001b[0m\u001b[0m\n\u001b[1;32m    942\u001b[0m                 \u001b[0;32mif\u001b[0m \u001b[0mtokenizer_class_py\u001b[0m \u001b[0;32mis\u001b[0m \u001b[0;32mnot\u001b[0m \u001b[0;32mNone\u001b[0m\u001b[0;34m:\u001b[0m\u001b[0;34m\u001b[0m\u001b[0;34m\u001b[0m\u001b[0m\n",
            "\u001b[0;32m/usr/local/lib/python3.11/dist-packages/transformers/tokenization_utils_base.py\u001b[0m in \u001b[0;36mfrom_pretrained\u001b[0;34m(cls, pretrained_model_name_or_path, cache_dir, force_download, local_files_only, token, revision, trust_remote_code, *init_inputs, **kwargs)\u001b[0m\n\u001b[1;32m   1986\u001b[0m                     \u001b[0mresolved_vocab_files\u001b[0m\u001b[0;34m[\u001b[0m\u001b[0mfile_id\u001b[0m\u001b[0;34m]\u001b[0m \u001b[0;34m=\u001b[0m \u001b[0mdownload_url\u001b[0m\u001b[0;34m(\u001b[0m\u001b[0mfile_path\u001b[0m\u001b[0;34m,\u001b[0m \u001b[0mproxies\u001b[0m\u001b[0;34m=\u001b[0m\u001b[0mproxies\u001b[0m\u001b[0;34m)\u001b[0m\u001b[0;34m\u001b[0m\u001b[0;34m\u001b[0m\u001b[0m\n\u001b[1;32m   1987\u001b[0m             \u001b[0;32melse\u001b[0m\u001b[0;34m:\u001b[0m\u001b[0;34m\u001b[0m\u001b[0;34m\u001b[0m\u001b[0m\n\u001b[0;32m-> 1988\u001b[0;31m                 resolved_vocab_files[file_id] = cached_file(\n\u001b[0m\u001b[1;32m   1989\u001b[0m                     \u001b[0mpretrained_model_name_or_path\u001b[0m\u001b[0;34m,\u001b[0m\u001b[0;34m\u001b[0m\u001b[0;34m\u001b[0m\u001b[0m\n\u001b[1;32m   1990\u001b[0m                     \u001b[0mfile_path\u001b[0m\u001b[0;34m,\u001b[0m\u001b[0;34m\u001b[0m\u001b[0;34m\u001b[0m\u001b[0m\n",
            "\u001b[0;32m/usr/local/lib/python3.11/dist-packages/transformers/utils/hub.py\u001b[0m in \u001b[0;36mcached_file\u001b[0;34m(path_or_repo_id, filename, cache_dir, force_download, resume_download, proxies, token, revision, local_files_only, subfolder, repo_type, user_agent, _raise_exceptions_for_gated_repo, _raise_exceptions_for_missing_entries, _raise_exceptions_for_connection_errors, _commit_hash, **deprecated_kwargs)\u001b[0m\n\u001b[1;32m    401\u001b[0m     \u001b[0;32mtry\u001b[0m\u001b[0;34m:\u001b[0m\u001b[0;34m\u001b[0m\u001b[0;34m\u001b[0m\u001b[0m\n\u001b[1;32m    402\u001b[0m         \u001b[0;31m# Load from URL or cache if already cached\u001b[0m\u001b[0;34m\u001b[0m\u001b[0;34m\u001b[0m\u001b[0m\n\u001b[0;32m--> 403\u001b[0;31m         resolved_file = hf_hub_download(\n\u001b[0m\u001b[1;32m    404\u001b[0m             \u001b[0mpath_or_repo_id\u001b[0m\u001b[0;34m,\u001b[0m\u001b[0;34m\u001b[0m\u001b[0;34m\u001b[0m\u001b[0m\n\u001b[1;32m    405\u001b[0m             \u001b[0mfilename\u001b[0m\u001b[0;34m,\u001b[0m\u001b[0;34m\u001b[0m\u001b[0;34m\u001b[0m\u001b[0m\n",
            "\u001b[0;32m/usr/local/lib/python3.11/dist-packages/huggingface_hub/utils/_validators.py\u001b[0m in \u001b[0;36m_inner_fn\u001b[0;34m(*args, **kwargs)\u001b[0m\n\u001b[1;32m    112\u001b[0m             \u001b[0mkwargs\u001b[0m \u001b[0;34m=\u001b[0m \u001b[0msmoothly_deprecate_use_auth_token\u001b[0m\u001b[0;34m(\u001b[0m\u001b[0mfn_name\u001b[0m\u001b[0;34m=\u001b[0m\u001b[0mfn\u001b[0m\u001b[0;34m.\u001b[0m\u001b[0m__name__\u001b[0m\u001b[0;34m,\u001b[0m \u001b[0mhas_token\u001b[0m\u001b[0;34m=\u001b[0m\u001b[0mhas_token\u001b[0m\u001b[0;34m,\u001b[0m \u001b[0mkwargs\u001b[0m\u001b[0;34m=\u001b[0m\u001b[0mkwargs\u001b[0m\u001b[0;34m)\u001b[0m\u001b[0;34m\u001b[0m\u001b[0;34m\u001b[0m\u001b[0m\n\u001b[1;32m    113\u001b[0m \u001b[0;34m\u001b[0m\u001b[0m\n\u001b[0;32m--> 114\u001b[0;31m         \u001b[0;32mreturn\u001b[0m \u001b[0mfn\u001b[0m\u001b[0;34m(\u001b[0m\u001b[0;34m*\u001b[0m\u001b[0margs\u001b[0m\u001b[0;34m,\u001b[0m \u001b[0;34m**\u001b[0m\u001b[0mkwargs\u001b[0m\u001b[0;34m)\u001b[0m\u001b[0;34m\u001b[0m\u001b[0;34m\u001b[0m\u001b[0m\n\u001b[0m\u001b[1;32m    115\u001b[0m \u001b[0;34m\u001b[0m\u001b[0m\n\u001b[1;32m    116\u001b[0m     \u001b[0;32mreturn\u001b[0m \u001b[0m_inner_fn\u001b[0m  \u001b[0;31m# type: ignore\u001b[0m\u001b[0;34m\u001b[0m\u001b[0;34m\u001b[0m\u001b[0m\n",
            "\u001b[0;32m/usr/local/lib/python3.11/dist-packages/huggingface_hub/file_download.py\u001b[0m in \u001b[0;36mhf_hub_download\u001b[0;34m(repo_id, filename, subfolder, repo_type, revision, library_name, library_version, cache_dir, local_dir, user_agent, force_download, proxies, etag_timeout, token, local_files_only, headers, endpoint, resume_download, force_filename, local_dir_use_symlinks)\u001b[0m\n\u001b[1;32m    858\u001b[0m         )\n\u001b[1;32m    859\u001b[0m     \u001b[0;32melse\u001b[0m\u001b[0;34m:\u001b[0m\u001b[0;34m\u001b[0m\u001b[0;34m\u001b[0m\u001b[0m\n\u001b[0;32m--> 860\u001b[0;31m         return _hf_hub_download_to_cache_dir(\n\u001b[0m\u001b[1;32m    861\u001b[0m             \u001b[0;31m# Destination\u001b[0m\u001b[0;34m\u001b[0m\u001b[0;34m\u001b[0m\u001b[0m\n\u001b[1;32m    862\u001b[0m             \u001b[0mcache_dir\u001b[0m\u001b[0;34m=\u001b[0m\u001b[0mcache_dir\u001b[0m\u001b[0;34m,\u001b[0m\u001b[0;34m\u001b[0m\u001b[0;34m\u001b[0m\u001b[0m\n",
            "\u001b[0;32m/usr/local/lib/python3.11/dist-packages/huggingface_hub/file_download.py\u001b[0m in \u001b[0;36m_hf_hub_download_to_cache_dir\u001b[0;34m(cache_dir, repo_id, filename, repo_type, revision, endpoint, etag_timeout, headers, proxies, token, local_files_only, force_download)\u001b[0m\n\u001b[1;32m   1007\u001b[0m     \u001b[0mPath\u001b[0m\u001b[0;34m(\u001b[0m\u001b[0mlock_path\u001b[0m\u001b[0;34m)\u001b[0m\u001b[0;34m.\u001b[0m\u001b[0mparent\u001b[0m\u001b[0;34m.\u001b[0m\u001b[0mmkdir\u001b[0m\u001b[0;34m(\u001b[0m\u001b[0mparents\u001b[0m\u001b[0;34m=\u001b[0m\u001b[0;32mTrue\u001b[0m\u001b[0;34m,\u001b[0m \u001b[0mexist_ok\u001b[0m\u001b[0;34m=\u001b[0m\u001b[0;32mTrue\u001b[0m\u001b[0;34m)\u001b[0m\u001b[0;34m\u001b[0m\u001b[0;34m\u001b[0m\u001b[0m\n\u001b[1;32m   1008\u001b[0m     \u001b[0;32mwith\u001b[0m \u001b[0mWeakFileLock\u001b[0m\u001b[0;34m(\u001b[0m\u001b[0mlock_path\u001b[0m\u001b[0;34m)\u001b[0m\u001b[0;34m:\u001b[0m\u001b[0;34m\u001b[0m\u001b[0;34m\u001b[0m\u001b[0m\n\u001b[0;32m-> 1009\u001b[0;31m         _download_to_tmp_and_move(\n\u001b[0m\u001b[1;32m   1010\u001b[0m             \u001b[0mincomplete_path\u001b[0m\u001b[0;34m=\u001b[0m\u001b[0mPath\u001b[0m\u001b[0;34m(\u001b[0m\u001b[0mblob_path\u001b[0m \u001b[0;34m+\u001b[0m \u001b[0;34m\".incomplete\"\u001b[0m\u001b[0;34m)\u001b[0m\u001b[0;34m,\u001b[0m\u001b[0;34m\u001b[0m\u001b[0;34m\u001b[0m\u001b[0m\n\u001b[1;32m   1011\u001b[0m             \u001b[0mdestination_path\u001b[0m\u001b[0;34m=\u001b[0m\u001b[0mPath\u001b[0m\u001b[0;34m(\u001b[0m\u001b[0mblob_path\u001b[0m\u001b[0;34m)\u001b[0m\u001b[0;34m,\u001b[0m\u001b[0;34m\u001b[0m\u001b[0;34m\u001b[0m\u001b[0m\n",
            "\u001b[0;32m/usr/local/lib/python3.11/dist-packages/huggingface_hub/file_download.py\u001b[0m in \u001b[0;36m_download_to_tmp_and_move\u001b[0;34m(incomplete_path, destination_path, url_to_download, proxies, headers, expected_size, filename, force_download)\u001b[0m\n\u001b[1;32m   1541\u001b[0m             \u001b[0m_check_disk_space\u001b[0m\u001b[0;34m(\u001b[0m\u001b[0mexpected_size\u001b[0m\u001b[0;34m,\u001b[0m \u001b[0mdestination_path\u001b[0m\u001b[0;34m.\u001b[0m\u001b[0mparent\u001b[0m\u001b[0;34m)\u001b[0m\u001b[0;34m\u001b[0m\u001b[0;34m\u001b[0m\u001b[0m\n\u001b[1;32m   1542\u001b[0m \u001b[0;34m\u001b[0m\u001b[0m\n\u001b[0;32m-> 1543\u001b[0;31m         http_get(\n\u001b[0m\u001b[1;32m   1544\u001b[0m             \u001b[0murl_to_download\u001b[0m\u001b[0;34m,\u001b[0m\u001b[0;34m\u001b[0m\u001b[0;34m\u001b[0m\u001b[0m\n\u001b[1;32m   1545\u001b[0m             \u001b[0mf\u001b[0m\u001b[0;34m,\u001b[0m\u001b[0;34m\u001b[0m\u001b[0;34m\u001b[0m\u001b[0m\n",
            "\u001b[0;32m/usr/local/lib/python3.11/dist-packages/huggingface_hub/file_download.py\u001b[0m in \u001b[0;36mhttp_get\u001b[0;34m(url, temp_file, proxies, resume_size, headers, expected_size, displayed_filename, _nb_retries, _tqdm_bar)\u001b[0m\n\u001b[1;32m    367\u001b[0m         \u001b[0mheaders\u001b[0m\u001b[0;34m[\u001b[0m\u001b[0;34m\"Range\"\u001b[0m\u001b[0;34m]\u001b[0m \u001b[0;34m=\u001b[0m \u001b[0;34m\"bytes=%d-\"\u001b[0m \u001b[0;34m%\u001b[0m \u001b[0;34m(\u001b[0m\u001b[0mresume_size\u001b[0m\u001b[0;34m,\u001b[0m\u001b[0;34m)\u001b[0m\u001b[0;34m\u001b[0m\u001b[0;34m\u001b[0m\u001b[0m\n\u001b[1;32m    368\u001b[0m \u001b[0;34m\u001b[0m\u001b[0m\n\u001b[0;32m--> 369\u001b[0;31m     r = _request_wrapper(\n\u001b[0m\u001b[1;32m    370\u001b[0m         \u001b[0mmethod\u001b[0m\u001b[0;34m=\u001b[0m\u001b[0;34m\"GET\"\u001b[0m\u001b[0;34m,\u001b[0m \u001b[0murl\u001b[0m\u001b[0;34m=\u001b[0m\u001b[0murl\u001b[0m\u001b[0;34m,\u001b[0m \u001b[0mstream\u001b[0m\u001b[0;34m=\u001b[0m\u001b[0;32mTrue\u001b[0m\u001b[0;34m,\u001b[0m \u001b[0mproxies\u001b[0m\u001b[0;34m=\u001b[0m\u001b[0mproxies\u001b[0m\u001b[0;34m,\u001b[0m \u001b[0mheaders\u001b[0m\u001b[0;34m=\u001b[0m\u001b[0mheaders\u001b[0m\u001b[0;34m,\u001b[0m \u001b[0mtimeout\u001b[0m\u001b[0;34m=\u001b[0m\u001b[0mconstants\u001b[0m\u001b[0;34m.\u001b[0m\u001b[0mHF_HUB_DOWNLOAD_TIMEOUT\u001b[0m\u001b[0;34m\u001b[0m\u001b[0;34m\u001b[0m\u001b[0m\n\u001b[1;32m    371\u001b[0m     )\n",
            "\u001b[0;32m/usr/local/lib/python3.11/dist-packages/huggingface_hub/file_download.py\u001b[0m in \u001b[0;36m_request_wrapper\u001b[0;34m(method, url, follow_relative_redirects, **params)\u001b[0m\n\u001b[1;32m    299\u001b[0m \u001b[0;34m\u001b[0m\u001b[0m\n\u001b[1;32m    300\u001b[0m     \u001b[0;31m# Perform request and return if status_code is not in the retry list.\u001b[0m\u001b[0;34m\u001b[0m\u001b[0;34m\u001b[0m\u001b[0m\n\u001b[0;32m--> 301\u001b[0;31m     \u001b[0mresponse\u001b[0m \u001b[0;34m=\u001b[0m \u001b[0mget_session\u001b[0m\u001b[0;34m(\u001b[0m\u001b[0;34m)\u001b[0m\u001b[0;34m.\u001b[0m\u001b[0mrequest\u001b[0m\u001b[0;34m(\u001b[0m\u001b[0mmethod\u001b[0m\u001b[0;34m=\u001b[0m\u001b[0mmethod\u001b[0m\u001b[0;34m,\u001b[0m \u001b[0murl\u001b[0m\u001b[0;34m=\u001b[0m\u001b[0murl\u001b[0m\u001b[0;34m,\u001b[0m \u001b[0;34m**\u001b[0m\u001b[0mparams\u001b[0m\u001b[0;34m)\u001b[0m\u001b[0;34m\u001b[0m\u001b[0;34m\u001b[0m\u001b[0m\n\u001b[0m\u001b[1;32m    302\u001b[0m     \u001b[0mhf_raise_for_status\u001b[0m\u001b[0;34m(\u001b[0m\u001b[0mresponse\u001b[0m\u001b[0;34m)\u001b[0m\u001b[0;34m\u001b[0m\u001b[0;34m\u001b[0m\u001b[0m\n\u001b[1;32m    303\u001b[0m     \u001b[0;32mreturn\u001b[0m \u001b[0mresponse\u001b[0m\u001b[0;34m\u001b[0m\u001b[0;34m\u001b[0m\u001b[0m\n",
            "\u001b[0;32m/usr/local/lib/python3.11/dist-packages/requests/sessions.py\u001b[0m in \u001b[0;36mrequest\u001b[0;34m(self, method, url, params, data, headers, cookies, files, auth, timeout, allow_redirects, proxies, hooks, stream, verify, cert, json)\u001b[0m\n\u001b[1;32m    587\u001b[0m         }\n\u001b[1;32m    588\u001b[0m         \u001b[0msend_kwargs\u001b[0m\u001b[0;34m.\u001b[0m\u001b[0mupdate\u001b[0m\u001b[0;34m(\u001b[0m\u001b[0msettings\u001b[0m\u001b[0;34m)\u001b[0m\u001b[0;34m\u001b[0m\u001b[0;34m\u001b[0m\u001b[0m\n\u001b[0;32m--> 589\u001b[0;31m         \u001b[0mresp\u001b[0m \u001b[0;34m=\u001b[0m \u001b[0mself\u001b[0m\u001b[0;34m.\u001b[0m\u001b[0msend\u001b[0m\u001b[0;34m(\u001b[0m\u001b[0mprep\u001b[0m\u001b[0;34m,\u001b[0m \u001b[0;34m**\u001b[0m\u001b[0msend_kwargs\u001b[0m\u001b[0;34m)\u001b[0m\u001b[0;34m\u001b[0m\u001b[0;34m\u001b[0m\u001b[0m\n\u001b[0m\u001b[1;32m    590\u001b[0m \u001b[0;34m\u001b[0m\u001b[0m\n\u001b[1;32m    591\u001b[0m         \u001b[0;32mreturn\u001b[0m \u001b[0mresp\u001b[0m\u001b[0;34m\u001b[0m\u001b[0;34m\u001b[0m\u001b[0m\n",
            "\u001b[0;32m/usr/local/lib/python3.11/dist-packages/requests/sessions.py\u001b[0m in \u001b[0;36msend\u001b[0;34m(self, request, **kwargs)\u001b[0m\n\u001b[1;32m    701\u001b[0m \u001b[0;34m\u001b[0m\u001b[0m\n\u001b[1;32m    702\u001b[0m         \u001b[0;31m# Send the request\u001b[0m\u001b[0;34m\u001b[0m\u001b[0;34m\u001b[0m\u001b[0m\n\u001b[0;32m--> 703\u001b[0;31m         \u001b[0mr\u001b[0m \u001b[0;34m=\u001b[0m \u001b[0madapter\u001b[0m\u001b[0;34m.\u001b[0m\u001b[0msend\u001b[0m\u001b[0;34m(\u001b[0m\u001b[0mrequest\u001b[0m\u001b[0;34m,\u001b[0m \u001b[0;34m**\u001b[0m\u001b[0mkwargs\u001b[0m\u001b[0;34m)\u001b[0m\u001b[0;34m\u001b[0m\u001b[0;34m\u001b[0m\u001b[0m\n\u001b[0m\u001b[1;32m    704\u001b[0m \u001b[0;34m\u001b[0m\u001b[0m\n\u001b[1;32m    705\u001b[0m         \u001b[0;31m# Total elapsed time of the request (approximately)\u001b[0m\u001b[0;34m\u001b[0m\u001b[0;34m\u001b[0m\u001b[0m\n",
            "\u001b[0;32m/usr/local/lib/python3.11/dist-packages/huggingface_hub/utils/_http.py\u001b[0m in \u001b[0;36msend\u001b[0;34m(self, request, *args, **kwargs)\u001b[0m\n\u001b[1;32m     91\u001b[0m         \u001b[0;34m\"\"\"Catch any RequestException to append request id to the error message for debugging.\"\"\"\u001b[0m\u001b[0;34m\u001b[0m\u001b[0;34m\u001b[0m\u001b[0m\n\u001b[1;32m     92\u001b[0m         \u001b[0;32mtry\u001b[0m\u001b[0;34m:\u001b[0m\u001b[0;34m\u001b[0m\u001b[0;34m\u001b[0m\u001b[0m\n\u001b[0;32m---> 93\u001b[0;31m             \u001b[0;32mreturn\u001b[0m \u001b[0msuper\u001b[0m\u001b[0;34m(\u001b[0m\u001b[0;34m)\u001b[0m\u001b[0;34m.\u001b[0m\u001b[0msend\u001b[0m\u001b[0;34m(\u001b[0m\u001b[0mrequest\u001b[0m\u001b[0;34m,\u001b[0m \u001b[0;34m*\u001b[0m\u001b[0margs\u001b[0m\u001b[0;34m,\u001b[0m \u001b[0;34m**\u001b[0m\u001b[0mkwargs\u001b[0m\u001b[0;34m)\u001b[0m\u001b[0;34m\u001b[0m\u001b[0;34m\u001b[0m\u001b[0m\n\u001b[0m\u001b[1;32m     94\u001b[0m         \u001b[0;32mexcept\u001b[0m \u001b[0mrequests\u001b[0m\u001b[0;34m.\u001b[0m\u001b[0mRequestException\u001b[0m \u001b[0;32mas\u001b[0m \u001b[0me\u001b[0m\u001b[0;34m:\u001b[0m\u001b[0;34m\u001b[0m\u001b[0;34m\u001b[0m\u001b[0m\n\u001b[1;32m     95\u001b[0m             \u001b[0mrequest_id\u001b[0m \u001b[0;34m=\u001b[0m \u001b[0mrequest\u001b[0m\u001b[0;34m.\u001b[0m\u001b[0mheaders\u001b[0m\u001b[0;34m.\u001b[0m\u001b[0mget\u001b[0m\u001b[0;34m(\u001b[0m\u001b[0mX_AMZN_TRACE_ID\u001b[0m\u001b[0;34m)\u001b[0m\u001b[0;34m\u001b[0m\u001b[0;34m\u001b[0m\u001b[0m\n",
            "\u001b[0;32m/usr/local/lib/python3.11/dist-packages/requests/adapters.py\u001b[0m in \u001b[0;36msend\u001b[0;34m(self, request, stream, timeout, verify, cert, proxies)\u001b[0m\n\u001b[1;32m    711\u001b[0m                 \u001b[0;32mraise\u001b[0m \u001b[0mSSLError\u001b[0m\u001b[0;34m(\u001b[0m\u001b[0me\u001b[0m\u001b[0;34m,\u001b[0m \u001b[0mrequest\u001b[0m\u001b[0;34m=\u001b[0m\u001b[0mrequest\u001b[0m\u001b[0;34m)\u001b[0m\u001b[0;34m\u001b[0m\u001b[0;34m\u001b[0m\u001b[0m\n\u001b[1;32m    712\u001b[0m             \u001b[0;32melif\u001b[0m \u001b[0misinstance\u001b[0m\u001b[0;34m(\u001b[0m\u001b[0me\u001b[0m\u001b[0;34m,\u001b[0m \u001b[0mReadTimeoutError\u001b[0m\u001b[0;34m)\u001b[0m\u001b[0;34m:\u001b[0m\u001b[0;34m\u001b[0m\u001b[0;34m\u001b[0m\u001b[0m\n\u001b[0;32m--> 713\u001b[0;31m                 \u001b[0;32mraise\u001b[0m \u001b[0mReadTimeout\u001b[0m\u001b[0;34m(\u001b[0m\u001b[0me\u001b[0m\u001b[0;34m,\u001b[0m \u001b[0mrequest\u001b[0m\u001b[0;34m=\u001b[0m\u001b[0mrequest\u001b[0m\u001b[0;34m)\u001b[0m\u001b[0;34m\u001b[0m\u001b[0;34m\u001b[0m\u001b[0m\n\u001b[0m\u001b[1;32m    714\u001b[0m             \u001b[0;32melif\u001b[0m \u001b[0misinstance\u001b[0m\u001b[0;34m(\u001b[0m\u001b[0me\u001b[0m\u001b[0;34m,\u001b[0m \u001b[0m_InvalidHeader\u001b[0m\u001b[0;34m)\u001b[0m\u001b[0;34m:\u001b[0m\u001b[0;34m\u001b[0m\u001b[0;34m\u001b[0m\u001b[0m\n\u001b[1;32m    715\u001b[0m                 \u001b[0;32mraise\u001b[0m \u001b[0mInvalidHeader\u001b[0m\u001b[0;34m(\u001b[0m\u001b[0me\u001b[0m\u001b[0;34m,\u001b[0m \u001b[0mrequest\u001b[0m\u001b[0;34m=\u001b[0m\u001b[0mrequest\u001b[0m\u001b[0;34m)\u001b[0m\u001b[0;34m\u001b[0m\u001b[0;34m\u001b[0m\u001b[0m\n",
            "\u001b[0;31mReadTimeout\u001b[0m: (ReadTimeoutError(\"HTTPSConnectionPool(host='huggingface.co', port=443): Read timed out. (read timeout=10)\"), '(Request ID: d5af27b5-c744-4cf6-b144-88e1938d656b)')"
          ]
        }
      ],
      "source": [
        "unmasker = pipeline(\"fill-mask\")\n",
        "unmasker(\"This course will teach you all about <mask> models.\", top_k=2)"
      ]
    },
    {
      "cell_type": "markdown",
      "metadata": {
        "id": "oJj_ZNwxrKsa"
      },
      "source": [
        "#### Named Entity Recognition"
      ]
    },
    {
      "cell_type": "markdown",
      "metadata": {
        "id": "yQEZtiPz8Bgp"
      },
      "source": [
        "The `ner` task will identify words in text and group them according to their categories."
      ]
    },
    {
      "cell_type": "code",
      "execution_count": null,
      "metadata": {
        "id": "IoJSeiMnrMa7"
      },
      "outputs": [],
      "source": [
        "ner = pipeline(\"ner\", grouped_entities=True)\n",
        "ner(\"My name is Sylvain and I work at Hugging Face in Brooklyn.\")"
      ]
    },
    {
      "cell_type": "markdown",
      "metadata": {
        "id": "hbQn5Tagrahb"
      },
      "source": [
        "#### Question Answering"
      ]
    },
    {
      "cell_type": "markdown",
      "metadata": {
        "id": "vL4D07iK8Neg"
      },
      "source": [
        "With the `question-answering` pipeline, the user provides a context and a question, and the model will answer the question based on the context. This pipeline uses `distilbert/distilbert-base-cased-distilled-squad` by default."
      ]
    },
    {
      "cell_type": "code",
      "execution_count": null,
      "metadata": {
        "id": "_yuysCo9rdnX"
      },
      "outputs": [],
      "source": [
        "question_answerer = pipeline(\"question-answering\")\n",
        "question_answerer(\n",
        "    question=\"Where do I work?\",\n",
        "    context=\"My name is Sylvain and I work at Hugging Face in Brooklyn\",\n",
        ")"
      ]
    },
    {
      "cell_type": "markdown",
      "metadata": {
        "id": "uqjPumDMrgAK"
      },
      "source": [
        "#### Summarization"
      ]
    },
    {
      "cell_type": "markdown",
      "metadata": {
        "id": "yJRjhb5w8qdZ"
      },
      "source": [
        "The `summarization` pipeline creates a summary of the provided text. This pipeline uses `sshleifer/distilbart-cnn-12-6` by default."
      ]
    },
    {
      "cell_type": "code",
      "execution_count": null,
      "metadata": {
        "id": "u6ELGfoTrhGl"
      },
      "outputs": [],
      "source": [
        "summarizer = pipeline(\"summarization\")\n",
        "summarizer(\n",
        "    \"\"\"\n",
        "    America has changed dramatically during recent years. Not only has the number of\n",
        "    graduates in traditional engineering disciplines such as mechanical, civil,\n",
        "    electrical, chemical, and aeronautical engineering declined, but in most of\n",
        "    the premier American universities engineering curricula now concentrate on\n",
        "    and encourage largely the study of engineering science. As a result, there\n",
        "    are declining offerings in engineering subjects dealing with infrastructure,\n",
        "    the environment, and related issues, and greater concentration on high\n",
        "    technology subjects, largely supporting increasingly complex scientific\n",
        "    developments. While the latter is important, it should not be at the expense\n",
        "    of more traditional engineering.\n",
        "\n",
        "    Rapidly developing economies such as China and India, as well as other\n",
        "    industrial countries in Europe and Asia, continue to encourage and advance\n",
        "    the teaching of engineering. Both China and India, respectively, graduate\n",
        "    six and eight times as many traditional engineers as does the United States.\n",
        "    Other industrial countries at minimum maintain their output, while America\n",
        "    suffers an increasingly serious decline in the number of engineering graduates\n",
        "    and a lack of well-educated engineers.\n",
        "\"\"\"\n",
        ")\n"
      ]
    },
    {
      "cell_type": "markdown",
      "metadata": {
        "id": "qfuXCcWorjPs"
      },
      "source": [
        "#### Translation\n",
        "\n",
        "The `translation` pipeline translates text from one language to another. You will need to specify a model, otherwise the pipeline won't know which one to select because it doesn't know which languages it's translating."
      ]
    },
    {
      "cell_type": "code",
      "execution_count": null,
      "metadata": {
        "id": "2xwJPT4-rkgU"
      },
      "outputs": [],
      "source": [
        "translator = pipeline(\"translation\", model=\"Helsinki-NLP/opus-mt-fr-en\")\n",
        "translator(\"Ce cours est produit par Hugging Face.\")"
      ]
    },
    {
      "cell_type": "markdown",
      "metadata": {
        "id": "-g2oTzW-zlgT"
      },
      "source": [
        "### Feature Extraction"
      ]
    },
    {
      "cell_type": "markdown",
      "metadata": {
        "id": "5qJFvXUn9DNH"
      },
      "source": [
        "The `feature-extraction` pipeline converts sentences to embeddings. This pipeline uses `distilbert/distilbert-base-cased` by default."
      ]
    },
    {
      "cell_type": "code",
      "execution_count": null,
      "metadata": {
        "id": "aQrMg2O7zoNC"
      },
      "outputs": [],
      "source": [
        "feature_extractor = pipeline(\"feature-extraction\")\n",
        "feature_extractor([\n",
        "    \"Woodpecker\",\n",
        "    \"How much wood would a woodchuck chuck if a woodchuck could chuck wood?\",\n",
        "    \"Soccer\"\n",
        "])[0]"
      ]
    },
    {
      "cell_type": "markdown",
      "metadata": {
        "id": "KU1CBrMB05VK"
      },
      "source": [
        "### 1.2. How do Transformers work?"
      ]
    },
    {
      "cell_type": "markdown",
      "metadata": {
        "id": "wZvoKOu40-Dh"
      },
      "source": [
        "GPT-like (also called auto-regressive Transformer models)\n",
        "BERT-like (also called auto-encoding Transformer models)\n",
        "BART/T5-like (also called sequence-to-sequence Transformer models)"
      ]
    },
    {
      "cell_type": "markdown",
      "metadata": {
        "id": "IexTubA41MT-"
      },
      "source": [
        "Causal Language Modeling: Predict next word based on previous N Words\n",
        "\n",
        "Masked Language Modeling: Predict masked word in sequence of words"
      ]
    },
    {
      "cell_type": "markdown",
      "metadata": {
        "id": "os_tc-d_4Gr1"
      },
      "source": [
        "Encoder-only models: Good for tasks that require understanding of the input, such as sentence classification and named entity recognition.\n",
        "Decoder-only models: Good for generative tasks such as text generation.\n",
        "Encoder-decoder models or sequence-to-sequence models: Good for generative tasks that require an input, such as translation or summarization."
      ]
    },
    {
      "cell_type": "markdown",
      "metadata": {
        "id": "XwapyHNR813V"
      },
      "source": [
        "### 1.3. Encoder Models"
      ]
    },
    {
      "cell_type": "markdown",
      "metadata": {
        "id": "n8F_cQvz84xM"
      },
      "source": [
        "BERT is an encoder-only architecture. Here the self-attention mechanisms nudges the embedding of each word to be influenced by surrounding words."
      ]
    },
    {
      "cell_type": "markdown",
      "metadata": {
        "id": "EdSnjznj7luL"
      },
      "source": [
        "### 1.4. Decoder Models"
      ]
    },
    {
      "cell_type": "markdown",
      "metadata": {
        "id": "XVv3aHG57omD"
      },
      "source": [
        "Decoder models use only the decoder of a Transformer model. At each stage, for a given word the attention layers can only access the words positioned before it in the sentence. These models are often called auto-regressive models."
      ]
    },
    {
      "cell_type": "markdown",
      "metadata": {
        "id": "yB6LlAes78jz"
      },
      "source": [
        "Decoders self-attention mechanism is different from encoders. These use masked self-attention, where they only have access to words in one side, typically previous words on left. These models are good for text generation and GPT-2 is an example of a decoder only model."
      ]
    },
    {
      "cell_type": "markdown",
      "metadata": {
        "id": "YeGZy7IC8TEl"
      },
      "source": [
        "### 1.5. Encoder-Decoder Models"
      ]
    },
    {
      "cell_type": "markdown",
      "metadata": {
        "id": "FUkhYHPY914u"
      },
      "source": [
        "Encoder-decoder models (also called sequence-to-sequence models) use both parts of the Transformer architecture. At each stage, the attention layers of the encoder can access all the words in the initial sentence, whereas the attention layers of the decoder can only access the words positioned before a given word in the input."
      ]
    },
    {
      "cell_type": "markdown",
      "metadata": {
        "id": "uzjpAEby96fs"
      },
      "source": [
        "Sequence-to-sequence models are best suited for tasks revolving around generating new sentences depending on a given input, such as summarization, translation, or generative question answering."
      ]
    },
    {
      "cell_type": "markdown",
      "metadata": {
        "id": "lO3ThDS597W5"
      },
      "source": [
        "Representatives of this family of models include: BART and T5"
      ]
    },
    {
      "cell_type": "markdown",
      "metadata": {
        "id": "SE4CAsoX9-J9"
      },
      "source": [
        "### 1.6. Bias and Limitations\n",
        "\n",
        "https://huggingface.co/learn/nlp-course/chapter1/8?fw=pt"
      ]
    },
    {
      "cell_type": "code",
      "execution_count": null,
      "metadata": {
        "id": "DnNljP_A-YqF"
      },
      "outputs": [],
      "source": [
        "unmasker = pipeline(\"fill-mask\", model=\"bert-base-uncased\")\n",
        "result = unmasker(\"This man works as a [MASK].\")\n",
        "result"
      ]
    },
    {
      "cell_type": "markdown",
      "metadata": {
        "id": "EeTtmIdO-gKc"
      },
      "source": [
        "Model\tExamples\tTasks\n",
        "Encoder\tALBERT, BERT, DistilBERT, ELECTRA, RoBERTa\tSentence classification, named entity recognition, extractive question answering\n",
        "Decoder\tCTRL, GPT, GPT-2, Transformer XL\tText generation\n",
        "Encoder-decoder\tBART, T5, Marian, mBART\tSummarization, translation, generative question answering"
      ]
    },
    {
      "cell_type": "markdown",
      "metadata": {
        "id": "rLUIDQK_rujG"
      },
      "source": [
        "\n",
        "---\n",
        "\n",
        "## 2. Using Transformers"
      ]
    },
    {
      "cell_type": "markdown",
      "metadata": {
        "id": "7TF0MmLvry5h"
      },
      "source": [
        "### 2.1. Behind the Pipeline"
      ]
    },
    {
      "cell_type": "code",
      "execution_count": 14,
      "metadata": {
        "colab": {
          "base_uri": "https://localhost:8080/"
        },
        "id": "uF8U0r87r9VR",
        "outputId": "badb50c7-0b66-4295-c3f4-23d5dfa16e4c"
      },
      "outputs": [
        {
          "name": "stderr",
          "output_type": "stream",
          "text": [
            "No model was supplied, defaulted to distilbert/distilbert-base-uncased-finetuned-sst-2-english and revision 714eb0f (https://huggingface.co/distilbert/distilbert-base-uncased-finetuned-sst-2-english).\n",
            "Using a pipeline without specifying a model name and revision in production is not recommended.\n",
            "Device set to use cuda:0\n"
          ]
        },
        {
          "data": {
            "text/plain": [
              "[{'label': 'POSITIVE', 'score': 0.9598046541213989},\n",
              " {'label': 'NEGATIVE', 'score': 0.9994558691978455}]"
            ]
          },
          "execution_count": 14,
          "metadata": {},
          "output_type": "execute_result"
        }
      ],
      "source": [
        "from transformers import pipeline\n",
        "\n",
        "classifier = pipeline(\"sentiment-analysis\")\n",
        "classifier(\n",
        "    [\n",
        "        \"I've been waiting for a HuggingFace course my whole life.\",\n",
        "        \"I hate this so much!\",\n",
        "    ]\n",
        ")"
      ]
    },
    {
      "cell_type": "code",
      "execution_count": 15,
      "metadata": {
        "colab": {
          "base_uri": "https://localhost:8080/",
          "height": 113,
          "referenced_widgets": [
            "fb281a3b60404d5596bc4bc8984db1c5",
            "3d5163b509ca464d9cb5d1d40636d2dc",
            "f119ea7f40fe47458efef5db6ad9315b",
            "b0666b7e781547199e080390743fd862",
            "8a74ea8153a3486688f09103e9795a2d",
            "ab4c019432b04ed39c5b0c9de169dfd5",
            "3d757307e5e143c089dfeacd9a5af02b",
            "943dd82236564ac18a448760f9949f0c",
            "642c66e452024307aa6ef8cfc475e4a3",
            "38cb49e5f31a46c8a52011915e14fac1",
            "8be259c16dd54c41bf9ba7d175ba3dad",
            "0aa6e4a3d72b4ccb8a9eb9c654917773",
            "56efe96a469a481281e1320d9f9ca3ea",
            "7216ad22712644998df358e1239b8204",
            "fae9eaf11d514fdfa794e917b46478ba",
            "bb8628e37ce3467ebad76110c9031ce1",
            "415682e6d1aa4a0f93afffa5b8971324",
            "ebfb3ebdf0164995b1c2f35d5f4de23f",
            "0a19f739eccf4c73b3948a9808ada7c5",
            "1886ce1a2166428d8859a2153a20fd08",
            "3435e45721664269b707ae1b74a50a93",
            "082d84c2530447f1b85e3ab39d0e5b9c",
            "9a862db58a754984aa95e23822cff218",
            "c3a67d112dd041419f8f287c5a935ce7",
            "37e4c05bf05346248160c8ef5ca1ab63",
            "351aec4dfe3242d89204104bf54e3c72",
            "debf64a8b776492d9be7e9f73769d6aa",
            "193efcf438a9484892c46e53682a7dcd",
            "972d4b18cdba4a438fee9d9511a58999",
            "45a66e73de1a4d0e9b24a65040de0f37",
            "577f36b979204a5dae9a42c8d7ee020f",
            "c41bf596ede54ff7a9654cbec03ff5b6",
            "9545f1b1719c4627b1a17e53273a87f9"
          ]
        },
        "id": "_MeBwXX8sYbt",
        "outputId": "73a1fa86-b4e3-4d99-af48-7d8564e72339"
      },
      "outputs": [
        {
          "data": {
            "application/vnd.jupyter.widget-view+json": {
              "model_id": "fb281a3b60404d5596bc4bc8984db1c5",
              "version_major": 2,
              "version_minor": 0
            },
            "text/plain": [
              "tokenizer_config.json:   0%|          | 0.00/48.0 [00:00<?, ?B/s]"
            ]
          },
          "metadata": {},
          "output_type": "display_data"
        },
        {
          "data": {
            "application/vnd.jupyter.widget-view+json": {
              "model_id": "0aa6e4a3d72b4ccb8a9eb9c654917773",
              "version_major": 2,
              "version_minor": 0
            },
            "text/plain": [
              "config.json:   0%|          | 0.00/629 [00:00<?, ?B/s]"
            ]
          },
          "metadata": {},
          "output_type": "display_data"
        },
        {
          "data": {
            "application/vnd.jupyter.widget-view+json": {
              "model_id": "9a862db58a754984aa95e23822cff218",
              "version_major": 2,
              "version_minor": 0
            },
            "text/plain": [
              "vocab.txt:   0%|          | 0.00/232k [00:00<?, ?B/s]"
            ]
          },
          "metadata": {},
          "output_type": "display_data"
        }
      ],
      "source": [
        "from transformers import AutoTokenizer\n",
        "\n",
        "checkpoint = \"distilbert-base-uncased-finetuned-sst-2-english\"\n",
        "tokenizer = AutoTokenizer.from_pretrained(checkpoint)"
      ]
    },
    {
      "cell_type": "code",
      "execution_count": 16,
      "metadata": {
        "colab": {
          "base_uri": "https://localhost:8080/"
        },
        "id": "7FUKyCkesqGB",
        "outputId": "37c8a19f-a087-476b-b02e-6f1b149f8d55"
      },
      "outputs": [
        {
          "data": {
            "text/plain": [
              "(dict_keys(['input_ids', 'attention_mask']),\n",
              " {'input_ids': tensor([[  101,  1045,  1005,  2310,  2042,  3403,  2005,  1037, 17662, 12172,\n",
              "           2607,  2026,  2878,  2166,  1012,   102],\n",
              "         [  101,  1045,  5223,  2023,  2061,  2172,   999,   102,     0,     0,\n",
              "              0,     0,     0,     0,     0,     0]]), 'attention_mask': tensor([[1, 1, 1, 1, 1, 1, 1, 1, 1, 1, 1, 1, 1, 1, 1, 1],\n",
              "         [1, 1, 1, 1, 1, 1, 1, 1, 0, 0, 0, 0, 0, 0, 0, 0]])})"
            ]
          },
          "execution_count": 16,
          "metadata": {},
          "output_type": "execute_result"
        }
      ],
      "source": [
        "raw_inputs = [\n",
        "    \"I've been waiting for a HuggingFace course my whole life.\",\n",
        "    \"I hate this so much!\",\n",
        "]\n",
        "inputs = tokenizer(raw_inputs, padding=True, truncation=True, return_tensors=\"pt\")\n",
        "inputs.keys(), inputs"
      ]
    },
    {
      "cell_type": "code",
      "execution_count": 17,
      "metadata": {
        "colab": {
          "base_uri": "https://localhost:8080/"
        },
        "id": "8a0iRREftApF",
        "outputId": "3a9ea793-ff65-43bb-c1d0-7a979f0d661c"
      },
      "outputs": [
        {
          "data": {
            "text/plain": [
              "(torch.Size([2, 16]),\n",
              " tensor([[  101,  1045,  1005,  2310,  2042,  3403,  2005,  1037, 17662, 12172,\n",
              "           2607,  2026,  2878,  2166,  1012,   102],\n",
              "         [  101,  1045,  5223,  2023,  2061,  2172,   999,   102,     0,     0,\n",
              "              0,     0,     0,     0,     0,     0]]))"
            ]
          },
          "execution_count": 17,
          "metadata": {},
          "output_type": "execute_result"
        }
      ],
      "source": [
        "inputs['input_ids'].shape, inputs['input_ids']"
      ]
    },
    {
      "cell_type": "code",
      "execution_count": 18,
      "metadata": {
        "colab": {
          "base_uri": "https://localhost:8080/"
        },
        "id": "hzKbWQhAtGh9",
        "outputId": "7234856c-24a8-43f7-ae75-20db5da7a454"
      },
      "outputs": [
        {
          "data": {
            "text/plain": [
              "(torch.Size([2, 16]),\n",
              " tensor([[1, 1, 1, 1, 1, 1, 1, 1, 1, 1, 1, 1, 1, 1, 1, 1],\n",
              "         [1, 1, 1, 1, 1, 1, 1, 1, 0, 0, 0, 0, 0, 0, 0, 0]]))"
            ]
          },
          "execution_count": 18,
          "metadata": {},
          "output_type": "execute_result"
        }
      ],
      "source": [
        "inputs['attention_mask'].shape, inputs['attention_mask']"
      ]
    },
    {
      "cell_type": "markdown",
      "metadata": {
        "id": "DrrP3r-GwWVt"
      },
      "source": [
        "The attention mask indicates which tokens it should pay attention to. Zeros are placed in the padded tokens so the transformer can ignore these tokens."
      ]
    },
    {
      "cell_type": "code",
      "execution_count": 19,
      "metadata": {
        "colab": {
          "base_uri": "https://localhost:8080/",
          "height": 49,
          "referenced_widgets": [
            "f68822388daf485c84721db462ea50d2",
            "e493c3e0b9954259b42f1f990efe0135",
            "af579cae53e74c96896cf2e6723f6908",
            "23e4a40b988d493996c61d99d917cd5d",
            "a38a8a1b1d6b4205bc5a7a725bd1f8ce",
            "d168f80e54ad4f7d8866b6ce4551c31c",
            "6aeff0ffb89547baaab9d585fead64cd",
            "5e76b3fc4953404abe4ce3232661fcfc",
            "7c46da16aaf3459abb3f55267e8fa074",
            "b35e095f93294a638dacec23ee8af075",
            "64c2e152324d46079e7b58cc0c4c365a"
          ]
        },
        "id": "q2jiH8iPtMD3",
        "outputId": "3f6f71bd-c7a0-4dba-a5db-ba6d5db0e183"
      },
      "outputs": [
        {
          "data": {
            "application/vnd.jupyter.widget-view+json": {
              "model_id": "f68822388daf485c84721db462ea50d2",
              "version_major": 2,
              "version_minor": 0
            },
            "text/plain": [
              "model.safetensors:   0%|          | 0.00/268M [00:00<?, ?B/s]"
            ]
          },
          "metadata": {},
          "output_type": "display_data"
        }
      ],
      "source": [
        "from transformers import AutoModel\n",
        "\n",
        "checkpoint = \"distilbert-base-uncased-finetuned-sst-2-english\"\n",
        "model = AutoModel.from_pretrained(checkpoint)"
      ]
    },
    {
      "cell_type": "code",
      "execution_count": 20,
      "metadata": {
        "colab": {
          "base_uri": "https://localhost:8080/"
        },
        "id": "NcJ_0MCptf5g",
        "outputId": "2a0308f2-4a80-4a76-b680-0dcf4985f622"
      },
      "outputs": [
        {
          "name": "stdout",
          "output_type": "stream",
          "text": [
            "torch.Size([2, 16, 768])\n"
          ]
        }
      ],
      "source": [
        "outputs = model(**inputs)\n",
        "print(outputs.last_hidden_state.shape)"
      ]
    },
    {
      "cell_type": "markdown",
      "metadata": {
        "id": "SqlPi2RfthgD"
      },
      "source": [
        "torch.Size([2, 16, 768]) because they were two sentences, each tokenized into 16 tokens (short sentence is padded), and each token represented as a tensor with dimension 768. If sentences were larger than the model supported, they would be truncated. return_tensors=\"pt\" is used to return pytorch tensors."
      ]
    },
    {
      "cell_type": "markdown",
      "metadata": {
        "id": "P0okRJT1t5y8"
      },
      "source": [
        "![image.png](data:image/png;base64,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)"
      ]
    },
    {
      "cell_type": "code",
      "execution_count": 21,
      "metadata": {
        "colab": {
          "base_uri": "https://localhost:8080/"
        },
        "id": "LvhQqu-BuUQ7",
        "outputId": "abfbfd11-db38-4f8b-bdc2-13d9763a38a6"
      },
      "outputs": [
        {
          "name": "stdout",
          "output_type": "stream",
          "text": [
            "torch.Size([2, 2])\n"
          ]
        }
      ],
      "source": [
        "from transformers import AutoModelForSequenceClassification\n",
        "\n",
        "checkpoint = \"distilbert-base-uncased-finetuned-sst-2-english\"\n",
        "model = AutoModelForSequenceClassification.from_pretrained(checkpoint)\n",
        "outputs = model(**inputs)\n",
        "print(outputs.logits.shape)"
      ]
    },
    {
      "cell_type": "markdown",
      "metadata": {
        "id": "o8WtMsbsuTo2"
      },
      "source": [
        "Since we have just two sentences and two labels, the result we get from our model is of shape 2 x 2."
      ]
    },
    {
      "cell_type": "code",
      "execution_count": 22,
      "metadata": {
        "colab": {
          "base_uri": "https://localhost:8080/"
        },
        "id": "4hHQkJuCuiP5",
        "outputId": "e22a06d6-ddc0-4586-99d5-8685a70232f9"
      },
      "outputs": [
        {
          "name": "stdout",
          "output_type": "stream",
          "text": [
            "tensor([[-1.5607,  1.6123],\n",
            "        [ 4.1692, -3.3464]], grad_fn=<AddmmBackward0>)\n"
          ]
        }
      ],
      "source": [
        "print(outputs.logits)"
      ]
    },
    {
      "cell_type": "code",
      "execution_count": 23,
      "metadata": {
        "colab": {
          "base_uri": "https://localhost:8080/"
        },
        "id": "Bl9w74TRuttp",
        "outputId": "5c157e69-e370-4de0-86b9-7b0bb020e8d2"
      },
      "outputs": [
        {
          "name": "stdout",
          "output_type": "stream",
          "text": [
            "tensor([[4.0195e-02, 9.5980e-01],\n",
            "        [9.9946e-01, 5.4418e-04]], grad_fn=<SoftmaxBackward0>)\n"
          ]
        }
      ],
      "source": [
        "import torch\n",
        "\n",
        "predictions = torch.nn.functional.softmax(outputs.logits, dim=-1)\n",
        "print(predictions)"
      ]
    },
    {
      "cell_type": "code",
      "execution_count": 24,
      "metadata": {
        "colab": {
          "base_uri": "https://localhost:8080/"
        },
        "id": "87aKCw95u2a_",
        "outputId": "e7786583-bdc6-4cfe-a3be-0ce803bdd498"
      },
      "outputs": [
        {
          "data": {
            "text/plain": [
              "{0: 'NEGATIVE', 1: 'POSITIVE'}"
            ]
          },
          "execution_count": 24,
          "metadata": {},
          "output_type": "execute_result"
        }
      ],
      "source": [
        "model.config.id2label"
      ]
    },
    {
      "cell_type": "markdown",
      "metadata": {
        "id": "IAz7C02iu7mL"
      },
      "source": [
        "Now we can conclude that the model predicted the following:\n",
        "\n",
        "First sentence: NEGATIVE: 0.0402, POSITIVE: 0.9598\n",
        "Second sentence: NEGATIVE: 0.9995, POSITIVE: 0.0005"
      ]
    },
    {
      "cell_type": "markdown",
      "metadata": {
        "id": "zkdQ-bMjvBIq"
      },
      "source": [
        "### 2.2. Models"
      ]
    },
    {
      "cell_type": "markdown",
      "metadata": {
        "id": "OcPhj5y_xLhb"
      },
      "source": [
        "AutoModel automatically instantiates the appropriate model for the specified checkpoint. But you can do it directly:"
      ]
    },
    {
      "cell_type": "code",
      "execution_count": 25,
      "metadata": {
        "colab": {
          "base_uri": "https://localhost:8080/"
        },
        "id": "YojWvqkOxSOO",
        "outputId": "78102ff5-afb1-4d6f-893b-1a78c8004301"
      },
      "outputs": [
        {
          "data": {
            "text/plain": [
              "BertModel(\n",
              "  (embeddings): BertEmbeddings(\n",
              "    (word_embeddings): Embedding(30522, 768, padding_idx=0)\n",
              "    (position_embeddings): Embedding(512, 768)\n",
              "    (token_type_embeddings): Embedding(2, 768)\n",
              "    (LayerNorm): LayerNorm((768,), eps=1e-12, elementwise_affine=True)\n",
              "    (dropout): Dropout(p=0.1, inplace=False)\n",
              "  )\n",
              "  (encoder): BertEncoder(\n",
              "    (layer): ModuleList(\n",
              "      (0-11): 12 x BertLayer(\n",
              "        (attention): BertAttention(\n",
              "          (self): BertSdpaSelfAttention(\n",
              "            (query): Linear(in_features=768, out_features=768, bias=True)\n",
              "            (key): Linear(in_features=768, out_features=768, bias=True)\n",
              "            (value): Linear(in_features=768, out_features=768, bias=True)\n",
              "            (dropout): Dropout(p=0.1, inplace=False)\n",
              "          )\n",
              "          (output): BertSelfOutput(\n",
              "            (dense): Linear(in_features=768, out_features=768, bias=True)\n",
              "            (LayerNorm): LayerNorm((768,), eps=1e-12, elementwise_affine=True)\n",
              "            (dropout): Dropout(p=0.1, inplace=False)\n",
              "          )\n",
              "        )\n",
              "        (intermediate): BertIntermediate(\n",
              "          (dense): Linear(in_features=768, out_features=3072, bias=True)\n",
              "          (intermediate_act_fn): GELUActivation()\n",
              "        )\n",
              "        (output): BertOutput(\n",
              "          (dense): Linear(in_features=3072, out_features=768, bias=True)\n",
              "          (LayerNorm): LayerNorm((768,), eps=1e-12, elementwise_affine=True)\n",
              "          (dropout): Dropout(p=0.1, inplace=False)\n",
              "        )\n",
              "      )\n",
              "    )\n",
              "  )\n",
              "  (pooler): BertPooler(\n",
              "    (dense): Linear(in_features=768, out_features=768, bias=True)\n",
              "    (activation): Tanh()\n",
              "  )\n",
              ")"
            ]
          },
          "execution_count": 25,
          "metadata": {},
          "output_type": "execute_result"
        }
      ],
      "source": [
        "from transformers import BertConfig, BertModel\n",
        "\n",
        "# Building the config\n",
        "config = BertConfig()\n",
        "\n",
        "# Building the model from the config\n",
        "model = BertModel(config)\n",
        "model"
      ]
    },
    {
      "cell_type": "code",
      "execution_count": 26,
      "metadata": {
        "colab": {
          "base_uri": "https://localhost:8080/"
        },
        "id": "nPGxDPZZxauG",
        "outputId": "2c8b3d9b-5943-4d4b-86e6-ae735d647760"
      },
      "outputs": [
        {
          "name": "stdout",
          "output_type": "stream",
          "text": [
            "BertConfig {\n",
            "  \"_attn_implementation_autoset\": true,\n",
            "  \"attention_probs_dropout_prob\": 0.1,\n",
            "  \"classifier_dropout\": null,\n",
            "  \"hidden_act\": \"gelu\",\n",
            "  \"hidden_dropout_prob\": 0.1,\n",
            "  \"hidden_size\": 768,\n",
            "  \"initializer_range\": 0.02,\n",
            "  \"intermediate_size\": 3072,\n",
            "  \"layer_norm_eps\": 1e-12,\n",
            "  \"max_position_embeddings\": 512,\n",
            "  \"model_type\": \"bert\",\n",
            "  \"num_attention_heads\": 12,\n",
            "  \"num_hidden_layers\": 12,\n",
            "  \"pad_token_id\": 0,\n",
            "  \"position_embedding_type\": \"absolute\",\n",
            "  \"transformers_version\": \"4.47.1\",\n",
            "  \"type_vocab_size\": 2,\n",
            "  \"use_cache\": true,\n",
            "  \"vocab_size\": 30522\n",
            "}\n",
            "\n"
          ]
        }
      ],
      "source": [
        "print(config)"
      ]
    },
    {
      "cell_type": "code",
      "execution_count": 27,
      "metadata": {
        "colab": {
          "base_uri": "https://localhost:8080/",
          "height": 81,
          "referenced_widgets": [
            "a9ba1b17eff04a24a816c18d4ed23c04",
            "8dc5fe28a1344dffb0eb94d1f6831d5d",
            "2a90299d0aa34aa3b1605700f9a96713",
            "4904104b0999423fbd0532f76f17ef1e",
            "f8e1447a36ce4554b2eba72bb7c8870c",
            "c4c753d900724c3a9954aea98da837a3",
            "d3f517eafe644747b54a9279541e761c",
            "2247b28c205245dd9ee9cffc69ab6cef",
            "2d6855b8ae53408c947041505f846029",
            "4453429d12514b27948cb2767795b06f",
            "11a563e18bb14fd2be491d29700ad604",
            "c47ba22420764852a2cdd0913b8f7165",
            "9273da5caa1e4ed3984d5e8c04ed0797",
            "b885cb431f3843caa016d8a6c63b0e44",
            "948706cbcf03410fa492d377924585e4",
            "04b8f73f4feb454a88b775ff87558f96",
            "e79b88eda179468fac6a66b07e42e160",
            "d54a069659e744a1bf755201bb43a6b9",
            "6b29ab8f730c47f1b24cd1f1dc3e6bad",
            "8cacb448a57a4406981b6694a020ee0e",
            "b1333ee82adb4842a91c94aecca37fb3",
            "5fcc073c88994693a80594ed8df3833c"
          ]
        },
        "id": "tXsMyBg0xpzw",
        "outputId": "0c377553-fcc4-4188-86d4-7338723a0485"
      },
      "outputs": [
        {
          "data": {
            "application/vnd.jupyter.widget-view+json": {
              "model_id": "a9ba1b17eff04a24a816c18d4ed23c04",
              "version_major": 2,
              "version_minor": 0
            },
            "text/plain": [
              "config.json:   0%|          | 0.00/570 [00:00<?, ?B/s]"
            ]
          },
          "metadata": {},
          "output_type": "display_data"
        },
        {
          "data": {
            "application/vnd.jupyter.widget-view+json": {
              "model_id": "c47ba22420764852a2cdd0913b8f7165",
              "version_major": 2,
              "version_minor": 0
            },
            "text/plain": [
              "model.safetensors:   0%|          | 0.00/436M [00:00<?, ?B/s]"
            ]
          },
          "metadata": {},
          "output_type": "display_data"
        }
      ],
      "source": [
        "from transformers import BertModel\n",
        "\n",
        "model = BertModel.from_pretrained(\"bert-base-cased\")"
      ]
    },
    {
      "cell_type": "code",
      "execution_count": 28,
      "metadata": {
        "id": "HZfqsq2kyAUB"
      },
      "outputs": [],
      "source": [
        "model.save_pretrained(\"directory_on_my_computer\")"
      ]
    },
    {
      "cell_type": "code",
      "execution_count": 29,
      "metadata": {
        "colab": {
          "base_uri": "https://localhost:8080/"
        },
        "id": "fhMkJXUQyCYz",
        "outputId": "8954a274-46c0-474f-d934-35b5330d57c8"
      },
      "outputs": [
        {
          "name": "stdout",
          "output_type": "stream",
          "text": [
            "config.json  model.safetensors\n"
          ]
        }
      ],
      "source": [
        "!ls directory_on_my_computer"
      ]
    },
    {
      "cell_type": "markdown",
      "metadata": {
        "id": "VU-Ft3MMx_p1"
      },
      "source": [
        "model.save_pretrained(\"directory_on_my_computer\")"
      ]
    },
    {
      "cell_type": "code",
      "execution_count": 30,
      "metadata": {
        "id": "U3IiGEl4yaEq"
      },
      "outputs": [],
      "source": [
        "sequences = [\"Hello!\", \"Cool.\", \"Nice!\"]"
      ]
    },
    {
      "cell_type": "code",
      "execution_count": 31,
      "metadata": {
        "id": "ersx0DeAycDs"
      },
      "outputs": [],
      "source": [
        "encoded_sequences = [\n",
        "    [101, 7592, 999, 102],\n",
        "    [101, 4658, 1012, 102],\n",
        "    [101, 3835, 999, 102],\n",
        "]"
      ]
    },
    {
      "cell_type": "code",
      "execution_count": 32,
      "metadata": {
        "id": "WbSTRLddyjCL"
      },
      "outputs": [],
      "source": [
        "import torch\n",
        "\n",
        "model_inputs = torch.tensor(encoded_sequences)"
      ]
    },
    {
      "cell_type": "code",
      "execution_count": 33,
      "metadata": {
        "colab": {
          "base_uri": "https://localhost:8080/"
        },
        "id": "CKQPC3SdykeL",
        "outputId": "25df54b9-f279-4af7-dc03-e2221a34372a"
      },
      "outputs": [
        {
          "data": {
            "text/plain": [
              "BaseModelOutputWithPoolingAndCrossAttentions(last_hidden_state=tensor([[[ 4.4496e-01,  4.8276e-01,  2.7797e-01,  ..., -5.4032e-02,\n",
              "           3.9393e-01, -9.4770e-02],\n",
              "         [ 2.4943e-01, -4.4093e-01,  8.1772e-01,  ..., -3.1917e-01,\n",
              "           2.2992e-01, -4.1172e-02],\n",
              "         [ 1.3668e-01,  2.2518e-01,  1.4502e-01,  ..., -4.6915e-02,\n",
              "           2.8224e-01,  7.5566e-02],\n",
              "         [ 1.1789e+00,  1.6738e-01, -1.8187e-01,  ...,  2.4671e-01,\n",
              "           1.0441e+00, -6.1972e-03]],\n",
              "\n",
              "        [[ 3.6436e-01,  3.2464e-02,  2.0258e-01,  ...,  6.0110e-02,\n",
              "           3.2451e-01, -2.0996e-02],\n",
              "         [ 7.1866e-01, -4.8725e-01,  5.1740e-01,  ..., -4.4012e-01,\n",
              "           1.4553e-01, -3.7545e-02],\n",
              "         [ 3.3223e-01, -2.3271e-01,  9.4876e-02,  ..., -2.5268e-01,\n",
              "           3.2172e-01,  8.1085e-04],\n",
              "         [ 1.2523e+00,  3.5754e-01, -5.1320e-02,  ..., -3.7840e-01,\n",
              "           1.0526e+00, -5.6255e-01]],\n",
              "\n",
              "        [[ 2.4042e-01,  1.4718e-01,  1.2110e-01,  ...,  7.6062e-02,\n",
              "           3.3564e-01,  2.8262e-01],\n",
              "         [ 6.5701e-01, -3.2787e-01,  2.4968e-01,  ..., -2.5919e-01,\n",
              "           2.0175e-01,  3.3275e-01],\n",
              "         [ 2.0160e-01,  1.5783e-01,  9.8970e-03,  ..., -3.8850e-01,\n",
              "           4.1307e-01,  3.9732e-01],\n",
              "         [ 1.0175e+00,  6.4387e-01, -7.8147e-01,  ..., -4.2109e-01,\n",
              "           1.0925e+00, -4.8456e-02]]], grad_fn=<NativeLayerNormBackward0>), pooler_output=tensor([[-0.6856,  0.5262,  1.0000,  ...,  1.0000, -0.6112,  0.9971],\n",
              "        [-0.6055,  0.4997,  0.9998,  ...,  0.9999, -0.6753,  0.9769],\n",
              "        [-0.7702,  0.5447,  0.9999,  ...,  1.0000, -0.4655,  0.9894]],\n",
              "       grad_fn=<TanhBackward0>), hidden_states=None, past_key_values=None, attentions=None, cross_attentions=None)"
            ]
          },
          "execution_count": 33,
          "metadata": {},
          "output_type": "execute_result"
        }
      ],
      "source": [
        "output = model(model_inputs)\n",
        "output"
      ]
    },
    {
      "cell_type": "markdown",
      "metadata": {
        "id": "mMjTrJlpypTy"
      },
      "source": [
        "### 2.4. Tokenizers"
      ]
    },
    {
      "cell_type": "markdown",
      "metadata": {
        "id": "QiQnLt3AysHb"
      },
      "source": [
        "- word-based\n",
        "- character-based\n",
        "- subword-based"
      ]
    },
    {
      "cell_type": "markdown",
      "metadata": {
        "id": "HkuMJ-TwzUk2"
      },
      "source": [
        "word-based:\n",
        "- split on spaces\n",
        "- split on punctuation"
      ]
    },
    {
      "cell_type": "markdown",
      "metadata": {
        "id": "sCmmoOZrzdIP"
      },
      "source": [
        "A vocabulary is the total number of tokens the tokenizer can generate. Each word gets assigned an ID, starting from 0 and going up to the size of the vocabulary. The model uses these IDs to identify each word. Unknown tokens are represented as `[UNK]` or `<unk>`.\n"
      ]
    },
    {
      "cell_type": "markdown",
      "metadata": {
        "id": "xhCzK40xzrcu"
      },
      "source": [
        "Word-based tokenizers require a large vocabulary (eg: there are 500k words in the English language)."
      ]
    },
    {
      "cell_type": "markdown",
      "metadata": {
        "id": "SznQwrNVz9EJ"
      },
      "source": [
        "Character-based tokenizers assign an ID to each character, which makes the vocabulary much smaller and makes unknown tokens unlikely.\n",
        "\n",
        "However, characters carry little meaning when compared to words, and tokenizing by characters will make the input ultimately be converted to a much bigger tensor.\n",
        "\n",
        "NOTE: Character-level tokenizers may be worthwhile in some languages, like in Chinese, where each character carries a lot of meaning."
      ]
    },
    {
      "cell_type": "markdown",
      "metadata": {
        "id": "UQX1GwIw0iNi"
      },
      "source": [
        "Subword-based tokenizers have the pros of word and character-based tokenizers with few cons. They are able to form a much smaller vocabulary than word-based tokenizers while still making sure each token carries enough meaning. The way this is done is that frequent words get their own token, and infrequent are split into multiple tokens in order to maximize their frequency in the corpus. For example, modern may be more frequent than modernization in a text corpus. So splitting \"modernization\" into \"modern\" and \"ization\" maximizes their frequency, as \"ization\" is used as an ending to multiple words, and has a specific meaning when attached to each word. The model can still understand that when these two tokens \"modern\" and \"ization\" appear together, it means that \"modern\" 's meaning is to be nudged to add \"ization\"'s meaning, making it have the meaning of \"modernization\"."
      ]
    },
    {
      "cell_type": "markdown",
      "metadata": {
        "id": "MJywmJmz2yrV"
      },
      "source": [
        "There are more tokenization strategies, eg:\n",
        "\n",
        "Byte-level BPE, as used in GPT-2\n",
        "WordPiece, as used in BERT\n",
        "SentencePiece or Unigram, as used in several multilingual models"
      ]
    },
    {
      "cell_type": "code",
      "execution_count": 34,
      "metadata": {
        "colab": {
          "base_uri": "https://localhost:8080/",
          "height": 113,
          "referenced_widgets": [
            "95c1018aa2a44c2b8dcc0095f3155367",
            "762ab39e17774d9e9a18bb2a23f13751",
            "15db18887e214f26a54d5f9ed4d0da40",
            "6a1a6c3e64434aab92a414ae39410827",
            "c71bddc9ca2b44d2a9a92f98d144009a",
            "c66ff1000f634786aa95fa028693f4e9",
            "0cf74b59ffa641468930f832c4a39296",
            "1b0e34fd7f224a198eb59543f0c76abb",
            "481c4eb362464ed8849acc210aad4bef",
            "ff67235c800a4b1d93f3648ac164efdd",
            "c11b779f2bef4513b5946a7cb3071f2e",
            "3eb81a5a326d463bb87e2ed14221e0aa",
            "e16130b0698f436e89206db9f10f500b",
            "344b7d1bd5474af9a046a785ce758f44",
            "af4b34135dba4958b01bc47c4e49b05e",
            "2d42d9de3c304c15aefdfad1c75354b3",
            "ea6ab806206943ccb257bd05b170b32d",
            "6ef307e2b3074916b0082655f11e8256",
            "e8b573eaad4c4babb02fc19d288544f6",
            "bf96b648ed544af68f0c411c54df8960",
            "076e4455e2214572a979ea84c9d2b6f0",
            "145713f41c0e4b5bb81913b717a8a1b5",
            "2bad054cbabc4ca7a7ecb07bf41659ea",
            "987e2a5874024237bbaa468ec99058e8",
            "3b960119a194489b9cc1bba5e7a32f65",
            "e8e9b2e128ef48ea91f8c4a18d77026f",
            "5368da3f285e4a1caefac999061fd39a",
            "2304e62caf984747aadaa0589176c8de",
            "2eb2fe452ab040d3bde000c441a4e185",
            "1bd6aa0e215e46e99432551d2c52905d",
            "b83d33c75e204fe5a14647b5c4f967f4",
            "3e75c46e9c0b4f7a9927bb84a47a30d7",
            "37a764bf35f6462b8493b8ab6ec1367d"
          ]
        },
        "id": "KMajGqMU25UY",
        "outputId": "90864d58-25ce-4029-98b5-16f05a9d57b2"
      },
      "outputs": [
        {
          "data": {
            "application/vnd.jupyter.widget-view+json": {
              "model_id": "95c1018aa2a44c2b8dcc0095f3155367",
              "version_major": 2,
              "version_minor": 0
            },
            "text/plain": [
              "tokenizer_config.json:   0%|          | 0.00/49.0 [00:00<?, ?B/s]"
            ]
          },
          "metadata": {},
          "output_type": "display_data"
        },
        {
          "data": {
            "application/vnd.jupyter.widget-view+json": {
              "model_id": "3eb81a5a326d463bb87e2ed14221e0aa",
              "version_major": 2,
              "version_minor": 0
            },
            "text/plain": [
              "vocab.txt:   0%|          | 0.00/213k [00:00<?, ?B/s]"
            ]
          },
          "metadata": {},
          "output_type": "display_data"
        },
        {
          "data": {
            "application/vnd.jupyter.widget-view+json": {
              "model_id": "2bad054cbabc4ca7a7ecb07bf41659ea",
              "version_major": 2,
              "version_minor": 0
            },
            "text/plain": [
              "tokenizer.json:   0%|          | 0.00/436k [00:00<?, ?B/s]"
            ]
          },
          "metadata": {},
          "output_type": "display_data"
        }
      ],
      "source": [
        "from transformers import BertTokenizer\n",
        "\n",
        "tokenizer = BertTokenizer.from_pretrained(\"bert-base-cased\")"
      ]
    },
    {
      "cell_type": "code",
      "execution_count": 35,
      "metadata": {
        "id": "ZqjIv0kX283X"
      },
      "outputs": [],
      "source": [
        "from transformers import AutoTokenizer\n",
        "\n",
        "tokenizer = AutoTokenizer.from_pretrained(\"bert-base-cased\")"
      ]
    },
    {
      "cell_type": "code",
      "execution_count": 36,
      "metadata": {
        "colab": {
          "base_uri": "https://localhost:8080/"
        },
        "id": "rSrhaAcY3ADK",
        "outputId": "46780807-a686-43ab-b6a8-8f5e3f064cff"
      },
      "outputs": [
        {
          "data": {
            "text/plain": [
              "{'input_ids': [101, 7993, 170, 13809, 23763, 2443, 1110, 3014, 102], 'token_type_ids': [0, 0, 0, 0, 0, 0, 0, 0, 0], 'attention_mask': [1, 1, 1, 1, 1, 1, 1, 1, 1]}"
            ]
          },
          "execution_count": 36,
          "metadata": {},
          "output_type": "execute_result"
        }
      ],
      "source": [
        "tokenizer(\"Using a Transformer network is simple\")"
      ]
    },
    {
      "cell_type": "markdown",
      "metadata": {
        "id": "gUkhD0fi2z52"
      },
      "source": [
        "Translating text to numbers is known as encoding. Encoding is done in a two-step process: the tokenization, followed by the conversion to input IDs."
      ]
    },
    {
      "cell_type": "markdown",
      "metadata": {
        "id": "kTL4bCWF3RGj"
      },
      "source": [
        "As we’ve seen, the first step is to split the text into words (or parts of words, punctuation symbols, etc.), usually called tokens. There are multiple rules that can govern that process, which is why we need to instantiate the tokenizer using the name of the model, to make sure we use the same rules that were used when the model was pretrained."
      ]
    },
    {
      "cell_type": "code",
      "execution_count": 44,
      "metadata": {
        "colab": {
          "base_uri": "https://localhost:8080/"
        },
        "id": "eyPwySH93Zkz",
        "outputId": "4ced2c61-ec4a-4985-c00e-1032f16b16ca"
      },
      "outputs": [
        {
          "name": "stdout",
          "output_type": "stream",
          "text": [
            "['Using', 'a', 'Trans', '##former', 'network', 'is', 'simple']\n"
          ]
        }
      ],
      "source": [
        "from transformers import AutoTokenizer\n",
        "\n",
        "tokenizer = AutoTokenizer.from_pretrained(\"bert-base-cased\")\n",
        "\n",
        "sequence = \"Using a Transformer network is simple\"\n",
        "tokens = tokenizer.tokenize(sequence)\n",
        "\n",
        "print(tokens)"
      ]
    },
    {
      "cell_type": "code",
      "execution_count": 43,
      "metadata": {
        "colab": {
          "base_uri": "https://localhost:8080/"
        },
        "id": "u6gy7sbv3iN8",
        "outputId": "05f38f2c-c103-442e-e632-75eee30b6c82"
      },
      "outputs": [
        {
          "name": "stdout",
          "output_type": "stream",
          "text": [
            "[1045, 1005, 2310, 2042, 3403, 2005, 1037, 17662, 12172, 2607, 2026, 2878, 2166, 1012]\n"
          ]
        }
      ],
      "source": [
        "ids = tokenizer.convert_tokens_to_ids(tokens)\n",
        "\n",
        "print(ids)"
      ]
    },
    {
      "cell_type": "code",
      "execution_count": 45,
      "metadata": {
        "colab": {
          "base_uri": "https://localhost:8080/"
        },
        "id": "ueoYS6723n_b",
        "outputId": "3bbd48b7-59c4-4066-9d1f-591e71d5a853"
      },
      "outputs": [
        {
          "name": "stdout",
          "output_type": "stream",
          "text": [
            "Using a transformer network is simple\n"
          ]
        }
      ],
      "source": [
        "decoded_string = tokenizer.decode([7993, 170, 11303, 1200, 2443, 1110, 3014])\n",
        "print(decoded_string)"
      ]
    },
    {
      "cell_type": "markdown",
      "metadata": {
        "id": "nJfKkhJy3v2a"
      },
      "source": [
        "### 2.5. Handling multiple sequences"
      ]
    },
    {
      "cell_type": "code",
      "execution_count": 46,
      "metadata": {
        "colab": {
          "base_uri": "https://localhost:8080/",
          "height": 339
        },
        "id": "pDWmPBS57JuM",
        "outputId": "c47120a9-e2c7-44ba-8dfa-10de55e7e7e9"
      },
      "outputs": [
        {
          "ename": "IndexError",
          "evalue": "too many indices for tensor of dimension 1",
          "output_type": "error",
          "traceback": [
            "\u001b[0;31m---------------------------------------------------------------------------\u001b[0m",
            "\u001b[0;31mIndexError\u001b[0m                                Traceback (most recent call last)",
            "\u001b[0;32m<ipython-input-46-2b9fc1b6cd40>\u001b[0m in \u001b[0;36m<cell line: 0>\u001b[0;34m()\u001b[0m\n\u001b[1;32m     12\u001b[0m \u001b[0minput_ids\u001b[0m \u001b[0;34m=\u001b[0m \u001b[0mtorch\u001b[0m\u001b[0;34m.\u001b[0m\u001b[0mtensor\u001b[0m\u001b[0;34m(\u001b[0m\u001b[0mids\u001b[0m\u001b[0;34m)\u001b[0m\u001b[0;34m\u001b[0m\u001b[0;34m\u001b[0m\u001b[0m\n\u001b[1;32m     13\u001b[0m \u001b[0;31m# This line will fail.\u001b[0m\u001b[0;34m\u001b[0m\u001b[0;34m\u001b[0m\u001b[0m\n\u001b[0;32m---> 14\u001b[0;31m \u001b[0mmodel\u001b[0m\u001b[0;34m(\u001b[0m\u001b[0minput_ids\u001b[0m\u001b[0;34m)\u001b[0m\u001b[0;34m\u001b[0m\u001b[0;34m\u001b[0m\u001b[0m\n\u001b[0m",
            "\u001b[0;32m/usr/local/lib/python3.11/dist-packages/torch/nn/modules/module.py\u001b[0m in \u001b[0;36m_wrapped_call_impl\u001b[0;34m(self, *args, **kwargs)\u001b[0m\n\u001b[1;32m   1734\u001b[0m             \u001b[0;32mreturn\u001b[0m \u001b[0mself\u001b[0m\u001b[0;34m.\u001b[0m\u001b[0m_compiled_call_impl\u001b[0m\u001b[0;34m(\u001b[0m\u001b[0;34m*\u001b[0m\u001b[0margs\u001b[0m\u001b[0;34m,\u001b[0m \u001b[0;34m**\u001b[0m\u001b[0mkwargs\u001b[0m\u001b[0;34m)\u001b[0m  \u001b[0;31m# type: ignore[misc]\u001b[0m\u001b[0;34m\u001b[0m\u001b[0;34m\u001b[0m\u001b[0m\n\u001b[1;32m   1735\u001b[0m         \u001b[0;32melse\u001b[0m\u001b[0;34m:\u001b[0m\u001b[0;34m\u001b[0m\u001b[0;34m\u001b[0m\u001b[0m\n\u001b[0;32m-> 1736\u001b[0;31m             \u001b[0;32mreturn\u001b[0m \u001b[0mself\u001b[0m\u001b[0;34m.\u001b[0m\u001b[0m_call_impl\u001b[0m\u001b[0;34m(\u001b[0m\u001b[0;34m*\u001b[0m\u001b[0margs\u001b[0m\u001b[0;34m,\u001b[0m \u001b[0;34m**\u001b[0m\u001b[0mkwargs\u001b[0m\u001b[0;34m)\u001b[0m\u001b[0;34m\u001b[0m\u001b[0;34m\u001b[0m\u001b[0m\n\u001b[0m\u001b[1;32m   1737\u001b[0m \u001b[0;34m\u001b[0m\u001b[0m\n\u001b[1;32m   1738\u001b[0m     \u001b[0;31m# torchrec tests the code consistency with the following code\u001b[0m\u001b[0;34m\u001b[0m\u001b[0;34m\u001b[0m\u001b[0m\n",
            "\u001b[0;32m/usr/local/lib/python3.11/dist-packages/torch/nn/modules/module.py\u001b[0m in \u001b[0;36m_call_impl\u001b[0;34m(self, *args, **kwargs)\u001b[0m\n\u001b[1;32m   1745\u001b[0m                 \u001b[0;32mor\u001b[0m \u001b[0m_global_backward_pre_hooks\u001b[0m \u001b[0;32mor\u001b[0m \u001b[0m_global_backward_hooks\u001b[0m\u001b[0;34m\u001b[0m\u001b[0;34m\u001b[0m\u001b[0m\n\u001b[1;32m   1746\u001b[0m                 or _global_forward_hooks or _global_forward_pre_hooks):\n\u001b[0;32m-> 1747\u001b[0;31m             \u001b[0;32mreturn\u001b[0m \u001b[0mforward_call\u001b[0m\u001b[0;34m(\u001b[0m\u001b[0;34m*\u001b[0m\u001b[0margs\u001b[0m\u001b[0;34m,\u001b[0m \u001b[0;34m**\u001b[0m\u001b[0mkwargs\u001b[0m\u001b[0;34m)\u001b[0m\u001b[0;34m\u001b[0m\u001b[0;34m\u001b[0m\u001b[0m\n\u001b[0m\u001b[1;32m   1748\u001b[0m \u001b[0;34m\u001b[0m\u001b[0m\n\u001b[1;32m   1749\u001b[0m         \u001b[0mresult\u001b[0m \u001b[0;34m=\u001b[0m \u001b[0;32mNone\u001b[0m\u001b[0;34m\u001b[0m\u001b[0;34m\u001b[0m\u001b[0m\n",
            "\u001b[0;32m/usr/local/lib/python3.11/dist-packages/transformers/models/distilbert/modeling_distilbert.py\u001b[0m in \u001b[0;36mforward\u001b[0;34m(self, input_ids, attention_mask, head_mask, inputs_embeds, labels, output_attentions, output_hidden_states, return_dict)\u001b[0m\n\u001b[1;32m    976\u001b[0m         \u001b[0mreturn_dict\u001b[0m \u001b[0;34m=\u001b[0m \u001b[0mreturn_dict\u001b[0m \u001b[0;32mif\u001b[0m \u001b[0mreturn_dict\u001b[0m \u001b[0;32mis\u001b[0m \u001b[0;32mnot\u001b[0m \u001b[0;32mNone\u001b[0m \u001b[0;32melse\u001b[0m \u001b[0mself\u001b[0m\u001b[0;34m.\u001b[0m\u001b[0mconfig\u001b[0m\u001b[0;34m.\u001b[0m\u001b[0muse_return_dict\u001b[0m\u001b[0;34m\u001b[0m\u001b[0;34m\u001b[0m\u001b[0m\n\u001b[1;32m    977\u001b[0m \u001b[0;34m\u001b[0m\u001b[0m\n\u001b[0;32m--> 978\u001b[0;31m         distilbert_output = self.distilbert(\n\u001b[0m\u001b[1;32m    979\u001b[0m             \u001b[0minput_ids\u001b[0m\u001b[0;34m=\u001b[0m\u001b[0minput_ids\u001b[0m\u001b[0;34m,\u001b[0m\u001b[0;34m\u001b[0m\u001b[0;34m\u001b[0m\u001b[0m\n\u001b[1;32m    980\u001b[0m             \u001b[0mattention_mask\u001b[0m\u001b[0;34m=\u001b[0m\u001b[0mattention_mask\u001b[0m\u001b[0;34m,\u001b[0m\u001b[0;34m\u001b[0m\u001b[0;34m\u001b[0m\u001b[0m\n",
            "\u001b[0;32m/usr/local/lib/python3.11/dist-packages/torch/nn/modules/module.py\u001b[0m in \u001b[0;36m_wrapped_call_impl\u001b[0;34m(self, *args, **kwargs)\u001b[0m\n\u001b[1;32m   1734\u001b[0m             \u001b[0;32mreturn\u001b[0m \u001b[0mself\u001b[0m\u001b[0;34m.\u001b[0m\u001b[0m_compiled_call_impl\u001b[0m\u001b[0;34m(\u001b[0m\u001b[0;34m*\u001b[0m\u001b[0margs\u001b[0m\u001b[0;34m,\u001b[0m \u001b[0;34m**\u001b[0m\u001b[0mkwargs\u001b[0m\u001b[0;34m)\u001b[0m  \u001b[0;31m# type: ignore[misc]\u001b[0m\u001b[0;34m\u001b[0m\u001b[0;34m\u001b[0m\u001b[0m\n\u001b[1;32m   1735\u001b[0m         \u001b[0;32melse\u001b[0m\u001b[0;34m:\u001b[0m\u001b[0;34m\u001b[0m\u001b[0;34m\u001b[0m\u001b[0m\n\u001b[0;32m-> 1736\u001b[0;31m             \u001b[0;32mreturn\u001b[0m \u001b[0mself\u001b[0m\u001b[0;34m.\u001b[0m\u001b[0m_call_impl\u001b[0m\u001b[0;34m(\u001b[0m\u001b[0;34m*\u001b[0m\u001b[0margs\u001b[0m\u001b[0;34m,\u001b[0m \u001b[0;34m**\u001b[0m\u001b[0mkwargs\u001b[0m\u001b[0;34m)\u001b[0m\u001b[0;34m\u001b[0m\u001b[0;34m\u001b[0m\u001b[0m\n\u001b[0m\u001b[1;32m   1737\u001b[0m \u001b[0;34m\u001b[0m\u001b[0m\n\u001b[1;32m   1738\u001b[0m     \u001b[0;31m# torchrec tests the code consistency with the following code\u001b[0m\u001b[0;34m\u001b[0m\u001b[0;34m\u001b[0m\u001b[0m\n",
            "\u001b[0;32m/usr/local/lib/python3.11/dist-packages/torch/nn/modules/module.py\u001b[0m in \u001b[0;36m_call_impl\u001b[0;34m(self, *args, **kwargs)\u001b[0m\n\u001b[1;32m   1745\u001b[0m                 \u001b[0;32mor\u001b[0m \u001b[0m_global_backward_pre_hooks\u001b[0m \u001b[0;32mor\u001b[0m \u001b[0m_global_backward_hooks\u001b[0m\u001b[0;34m\u001b[0m\u001b[0;34m\u001b[0m\u001b[0m\n\u001b[1;32m   1746\u001b[0m                 or _global_forward_hooks or _global_forward_pre_hooks):\n\u001b[0;32m-> 1747\u001b[0;31m             \u001b[0;32mreturn\u001b[0m \u001b[0mforward_call\u001b[0m\u001b[0;34m(\u001b[0m\u001b[0;34m*\u001b[0m\u001b[0margs\u001b[0m\u001b[0;34m,\u001b[0m \u001b[0;34m**\u001b[0m\u001b[0mkwargs\u001b[0m\u001b[0;34m)\u001b[0m\u001b[0;34m\u001b[0m\u001b[0;34m\u001b[0m\u001b[0m\n\u001b[0m\u001b[1;32m   1748\u001b[0m \u001b[0;34m\u001b[0m\u001b[0m\n\u001b[1;32m   1749\u001b[0m         \u001b[0mresult\u001b[0m \u001b[0;34m=\u001b[0m \u001b[0;32mNone\u001b[0m\u001b[0;34m\u001b[0m\u001b[0;34m\u001b[0m\u001b[0m\n",
            "\u001b[0;32m/usr/local/lib/python3.11/dist-packages/transformers/models/distilbert/modeling_distilbert.py\u001b[0m in \u001b[0;36mforward\u001b[0;34m(self, input_ids, attention_mask, head_mask, inputs_embeds, output_attentions, output_hidden_states, return_dict)\u001b[0m\n\u001b[1;32m    770\u001b[0m             \u001b[0;32mraise\u001b[0m \u001b[0mValueError\u001b[0m\u001b[0;34m(\u001b[0m\u001b[0;34m\"You cannot specify both input_ids and inputs_embeds at the same time\"\u001b[0m\u001b[0;34m)\u001b[0m\u001b[0;34m\u001b[0m\u001b[0;34m\u001b[0m\u001b[0m\n\u001b[1;32m    771\u001b[0m         \u001b[0;32melif\u001b[0m \u001b[0minput_ids\u001b[0m \u001b[0;32mis\u001b[0m \u001b[0;32mnot\u001b[0m \u001b[0;32mNone\u001b[0m\u001b[0;34m:\u001b[0m\u001b[0;34m\u001b[0m\u001b[0;34m\u001b[0m\u001b[0m\n\u001b[0;32m--> 772\u001b[0;31m             \u001b[0mself\u001b[0m\u001b[0;34m.\u001b[0m\u001b[0mwarn_if_padding_and_no_attention_mask\u001b[0m\u001b[0;34m(\u001b[0m\u001b[0minput_ids\u001b[0m\u001b[0;34m,\u001b[0m \u001b[0mattention_mask\u001b[0m\u001b[0;34m)\u001b[0m\u001b[0;34m\u001b[0m\u001b[0;34m\u001b[0m\u001b[0m\n\u001b[0m\u001b[1;32m    773\u001b[0m             \u001b[0minput_shape\u001b[0m \u001b[0;34m=\u001b[0m \u001b[0minput_ids\u001b[0m\u001b[0;34m.\u001b[0m\u001b[0msize\u001b[0m\u001b[0;34m(\u001b[0m\u001b[0;34m)\u001b[0m\u001b[0;34m\u001b[0m\u001b[0;34m\u001b[0m\u001b[0m\n\u001b[1;32m    774\u001b[0m         \u001b[0;32melif\u001b[0m \u001b[0minputs_embeds\u001b[0m \u001b[0;32mis\u001b[0m \u001b[0;32mnot\u001b[0m \u001b[0;32mNone\u001b[0m\u001b[0;34m:\u001b[0m\u001b[0;34m\u001b[0m\u001b[0;34m\u001b[0m\u001b[0m\n",
            "\u001b[0;32m/usr/local/lib/python3.11/dist-packages/transformers/modeling_utils.py\u001b[0m in \u001b[0;36mwarn_if_padding_and_no_attention_mask\u001b[0;34m(self, input_ids, attention_mask)\u001b[0m\n\u001b[1;32m   5029\u001b[0m \u001b[0;34m\u001b[0m\u001b[0m\n\u001b[1;32m   5030\u001b[0m         \u001b[0;31m# Check only the first and last input IDs to reduce overhead.\u001b[0m\u001b[0;34m\u001b[0m\u001b[0;34m\u001b[0m\u001b[0m\n\u001b[0;32m-> 5031\u001b[0;31m         \u001b[0;32mif\u001b[0m \u001b[0mself\u001b[0m\u001b[0;34m.\u001b[0m\u001b[0mconfig\u001b[0m\u001b[0;34m.\u001b[0m\u001b[0mpad_token_id\u001b[0m \u001b[0;32min\u001b[0m \u001b[0minput_ids\u001b[0m\u001b[0;34m[\u001b[0m\u001b[0;34m:\u001b[0m\u001b[0;34m,\u001b[0m \u001b[0;34m[\u001b[0m\u001b[0;34m-\u001b[0m\u001b[0;36m1\u001b[0m\u001b[0;34m,\u001b[0m \u001b[0;36m0\u001b[0m\u001b[0;34m]\u001b[0m\u001b[0;34m]\u001b[0m\u001b[0;34m:\u001b[0m\u001b[0;34m\u001b[0m\u001b[0;34m\u001b[0m\u001b[0m\n\u001b[0m\u001b[1;32m   5032\u001b[0m             warn_string = (\n\u001b[1;32m   5033\u001b[0m                 \u001b[0;34m\"We strongly recommend passing in an `attention_mask` since your input_ids may be padded. See \"\u001b[0m\u001b[0;34m\u001b[0m\u001b[0;34m\u001b[0m\u001b[0m\n",
            "\u001b[0;31mIndexError\u001b[0m: too many indices for tensor of dimension 1"
          ]
        }
      ],
      "source": [
        "import torch\n",
        "from transformers import AutoTokenizer, AutoModelForSequenceClassification\n",
        "\n",
        "checkpoint = \"distilbert-base-uncased-finetuned-sst-2-english\"\n",
        "tokenizer = AutoTokenizer.from_pretrained(checkpoint)\n",
        "model = AutoModelForSequenceClassification.from_pretrained(checkpoint)\n",
        "\n",
        "sequence = \"I've been waiting for a HuggingFace course my whole life.\"\n",
        "\n",
        "tokens = tokenizer.tokenize(sequence)\n",
        "ids = tokenizer.convert_tokens_to_ids(tokens)\n",
        "input_ids = torch.tensor(ids)\n",
        "# This line will fail.\n",
        "model(input_ids)"
      ]
    },
    {
      "cell_type": "code",
      "execution_count": 47,
      "metadata": {
        "colab": {
          "base_uri": "https://localhost:8080/"
        },
        "id": "-r6w2_zK7OhM",
        "outputId": "8cefc474-6077-49d3-9e5e-fa64da9b5fa8"
      },
      "outputs": [
        {
          "name": "stdout",
          "output_type": "stream",
          "text": [
            "tensor([[  101,  1045,  1005,  2310,  2042,  3403,  2005,  1037, 17662, 12172,\n",
            "          2607,  2026,  2878,  2166,  1012,   102]])\n"
          ]
        }
      ],
      "source": [
        "tokenized_inputs = tokenizer(sequence, return_tensors=\"pt\")\n",
        "print(tokenized_inputs[\"input_ids\"])"
      ]
    },
    {
      "cell_type": "code",
      "execution_count": 48,
      "metadata": {
        "colab": {
          "base_uri": "https://localhost:8080/"
        },
        "id": "Mx4t4Pn47Rdo",
        "outputId": "f76247b5-a0c4-49d0-8e77-6f9fd0167289"
      },
      "outputs": [
        {
          "name": "stdout",
          "output_type": "stream",
          "text": [
            "Input IDs: tensor([[ 1045,  1005,  2310,  2042,  3403,  2005,  1037, 17662, 12172,  2607,\n",
            "          2026,  2878,  2166,  1012]])\n",
            "Logits: tensor([[-2.7276,  2.8789]], grad_fn=<AddmmBackward0>)\n"
          ]
        }
      ],
      "source": [
        "import torch\n",
        "from transformers import AutoTokenizer, AutoModelForSequenceClassification\n",
        "\n",
        "checkpoint = \"distilbert-base-uncased-finetuned-sst-2-english\"\n",
        "tokenizer = AutoTokenizer.from_pretrained(checkpoint)\n",
        "model = AutoModelForSequenceClassification.from_pretrained(checkpoint)\n",
        "\n",
        "sequence = \"I've been waiting for a HuggingFace course my whole life.\"\n",
        "\n",
        "tokens = tokenizer.tokenize(sequence)\n",
        "ids = tokenizer.convert_tokens_to_ids(tokens)\n",
        "\n",
        "input_ids = torch.tensor([ids])\n",
        "print(\"Input IDs:\", input_ids)\n",
        "\n",
        "output = model(input_ids)\n",
        "print(\"Logits:\", output.logits)"
      ]
    },
    {
      "cell_type": "code",
      "execution_count": 49,
      "metadata": {
        "colab": {
          "base_uri": "https://localhost:8080/"
        },
        "id": "5wrAuGhl7jIm",
        "outputId": "2d34f978-42d8-4d89-99ea-1e298200276f"
      },
      "outputs": [
        {
          "name": "stderr",
          "output_type": "stream",
          "text": [
            "We strongly recommend passing in an `attention_mask` since your input_ids may be padded. See https://huggingface.co/docs/transformers/troubleshooting#incorrect-output-when-padding-tokens-arent-masked.\n"
          ]
        },
        {
          "name": "stdout",
          "output_type": "stream",
          "text": [
            "tensor([[ 1.5694, -1.3895]], grad_fn=<AddmmBackward0>)\n",
            "tensor([[ 0.5803, -0.4125]], grad_fn=<AddmmBackward0>)\n",
            "tensor([[ 1.5694, -1.3895],\n",
            "        [ 1.3374, -1.2163]], grad_fn=<AddmmBackward0>)\n"
          ]
        }
      ],
      "source": [
        "model = AutoModelForSequenceClassification.from_pretrained(checkpoint)\n",
        "\n",
        "sequence1_ids = [[200, 200, 200]]\n",
        "sequence2_ids = [[200, 200]]\n",
        "batched_ids = [\n",
        "    [200, 200, 200],\n",
        "    [200, 200, tokenizer.pad_token_id],\n",
        "]\n",
        "\n",
        "print(model(torch.tensor(sequence1_ids)).logits)\n",
        "print(model(torch.tensor(sequence2_ids)).logits)\n",
        "print(model(torch.tensor(batched_ids)).logits)"
      ]
    },
    {
      "cell_type": "markdown",
      "metadata": {
        "id": "7G0Iw0vm8H78"
      },
      "source": [
        "Notice how the predictions on the batched ids were different from the invidiual predictions. This is because the model attended to the padding tokens. To get the same result, we need to provide an attention mask to tell the model which tokens to ignore:"
      ]
    },
    {
      "cell_type": "code",
      "execution_count": 50,
      "metadata": {
        "colab": {
          "base_uri": "https://localhost:8080/"
        },
        "id": "f0pldZIl8bvO",
        "outputId": "7dbce866-e867-447d-9608-652148e76493"
      },
      "outputs": [
        {
          "name": "stdout",
          "output_type": "stream",
          "text": [
            "tensor([[ 1.5694, -1.3895]], grad_fn=<AddmmBackward0>)\n",
            "tensor([[ 0.5803, -0.4125]], grad_fn=<AddmmBackward0>)\n",
            "tensor([[ 1.5694, -1.3895],\n",
            "        [ 0.5803, -0.4125]], grad_fn=<AddmmBackward0>)\n"
          ]
        }
      ],
      "source": [
        "batched_ids = [\n",
        "    [200, 200, 200],\n",
        "    [200, 200, tokenizer.pad_token_id],\n",
        "]\n",
        "\n",
        "attention_mask = [\n",
        "    [1, 1, 1],\n",
        "    [1, 1, 0],\n",
        "]\n",
        "\n",
        "\n",
        "\n",
        "print(model(torch.tensor(sequence1_ids)).logits)\n",
        "print(model(torch.tensor(sequence2_ids)).logits)\n",
        "outputs = model(torch.tensor(batched_ids), attention_mask=torch.tensor(attention_mask))\n",
        "print(outputs.logits)"
      ]
    },
    {
      "cell_type": "markdown",
      "metadata": {
        "id": "ne9Ylazo8k8p"
      },
      "source": [
        "When sequences are bigger than the model context length, use a different model or truncate sequences. eg: `sequence = sequence[:max_sequence_length]`"
      ]
    },
    {
      "cell_type": "markdown",
      "metadata": {
        "id": "o15N5las8z0b"
      },
      "source": [
        "### 2.6. Putting it all together"
      ]
    },
    {
      "cell_type": "markdown",
      "metadata": {
        "id": "X2CQr4EJ82lK"
      },
      "source": []
    },
    {
      "cell_type": "code",
      "execution_count": 51,
      "metadata": {
        "colab": {
          "base_uri": "https://localhost:8080/"
        },
        "id": "Jj6GEYzv88MW",
        "outputId": "aeaa96f8-7948-4767-b8e7-4b20b7fff25d"
      },
      "outputs": [
        {
          "data": {
            "text/plain": [
              "{'input_ids': [101, 1045, 1005, 2310, 2042, 3403, 2005, 1037, 17662, 12172, 2607, 2026, 2878, 2166, 1012, 102], 'attention_mask': [1, 1, 1, 1, 1, 1, 1, 1, 1, 1, 1, 1, 1, 1, 1, 1]}"
            ]
          },
          "execution_count": 51,
          "metadata": {},
          "output_type": "execute_result"
        }
      ],
      "source": [
        "from transformers import AutoTokenizer\n",
        "\n",
        "checkpoint = \"distilbert-base-uncased-finetuned-sst-2-english\"\n",
        "tokenizer = AutoTokenizer.from_pretrained(checkpoint)\n",
        "\n",
        "sequence = \"I've been waiting for a HuggingFace course my whole life.\"\n",
        "\n",
        "model_inputs = tokenizer(sequence)\n",
        "model_inputs"
      ]
    },
    {
      "cell_type": "code",
      "execution_count": 53,
      "metadata": {
        "colab": {
          "base_uri": "https://localhost:8080/"
        },
        "id": "Pdw3uLNw9EeA",
        "outputId": "703dd699-d09d-4a71-f934-156f04b8bfa3"
      },
      "outputs": [
        {
          "data": {
            "text/plain": [
              "{'input_ids': [101, 1045, 1005, 2310, 2042, 3403, 2005, 1037, 17662, 12172, 2607, 2026, 2878, 2166, 1012, 102], 'attention_mask': [1, 1, 1, 1, 1, 1, 1, 1, 1, 1, 1, 1, 1, 1, 1, 1]}"
            ]
          },
          "execution_count": 53,
          "metadata": {},
          "output_type": "execute_result"
        }
      ],
      "source": [
        "sequence = \"I've been waiting for a HuggingFace course my whole life.\"\n",
        "\n",
        "model_inputs = tokenizer(sequence)\n",
        "model_inputs"
      ]
    },
    {
      "cell_type": "code",
      "execution_count": 54,
      "metadata": {
        "colab": {
          "base_uri": "https://localhost:8080/"
        },
        "id": "s4rM7W889Jg-",
        "outputId": "ea0bf046-5f09-48b4-d80a-c82e4f338430"
      },
      "outputs": [
        {
          "data": {
            "text/plain": [
              "{'input_ids': [[101, 1045, 1005, 2310, 2042, 3403, 2005, 1037, 17662, 12172, 2607, 2026, 2878, 2166, 1012, 102], [101, 2061, 2031, 1045, 999, 102]], 'attention_mask': [[1, 1, 1, 1, 1, 1, 1, 1, 1, 1, 1, 1, 1, 1, 1, 1], [1, 1, 1, 1, 1, 1]]}"
            ]
          },
          "execution_count": 54,
          "metadata": {},
          "output_type": "execute_result"
        }
      ],
      "source": [
        "sequences = [\"I've been waiting for a HuggingFace course my whole life.\", \"So have I!\"]\n",
        "\n",
        "model_inputs = tokenizer(sequences)\n",
        "model_inputs"
      ]
    },
    {
      "cell_type": "code",
      "execution_count": 55,
      "metadata": {
        "colab": {
          "base_uri": "https://localhost:8080/"
        },
        "id": "on7B4WpJ9QNC",
        "outputId": "274dc251-6be5-456f-b8ef-f03506fc29cf"
      },
      "outputs": [
        {
          "data": {
            "text/plain": [
              "({'input_ids': [[101, 1045, 1005, 2310, 2042, 3403, 2005, 1037, 17662, 12172, 2607, 2026, 2878, 2166, 1012, 102], [101, 2061, 2031, 1045, 999, 102, 0, 0, 0, 0, 0, 0, 0, 0, 0, 0]], 'attention_mask': [[1, 1, 1, 1, 1, 1, 1, 1, 1, 1, 1, 1, 1, 1, 1, 1], [1, 1, 1, 1, 1, 1, 0, 0, 0, 0, 0, 0, 0, 0, 0, 0]]},\n",
              " {'input_ids': [[101, 1045, 1005, 2310, 2042, 3403, 2005, 1037, 17662, 12172, 2607, 2026, 2878, 2166, 1012, 102, 0, 0, 0, 0, 0, 0, 0, 0, 0, 0, 0, 0, 0, 0, 0, 0, 0, 0, 0, 0, 0, 0, 0, 0, 0, 0, 0, 0, 0, 0, 0, 0, 0, 0, 0, 0, 0, 0, 0, 0, 0, 0, 0, 0, 0, 0, 0, 0, 0, 0, 0, 0, 0, 0, 0, 0, 0, 0, 0, 0, 0, 0, 0, 0, 0, 0, 0, 0, 0, 0, 0, 0, 0, 0, 0, 0, 0, 0, 0, 0, 0, 0, 0, 0, 0, 0, 0, 0, 0, 0, 0, 0, 0, 0, 0, 0, 0, 0, 0, 0, 0, 0, 0, 0, 0, 0, 0, 0, 0, 0, 0, 0, 0, 0, 0, 0, 0, 0, 0, 0, 0, 0, 0, 0, 0, 0, 0, 0, 0, 0, 0, 0, 0, 0, 0, 0, 0, 0, 0, 0, 0, 0, 0, 0, 0, 0, 0, 0, 0, 0, 0, 0, 0, 0, 0, 0, 0, 0, 0, 0, 0, 0, 0, 0, 0, 0, 0, 0, 0, 0, 0, 0, 0, 0, 0, 0, 0, 0, 0, 0, 0, 0, 0, 0, 0, 0, 0, 0, 0, 0, 0, 0, 0, 0, 0, 0, 0, 0, 0, 0, 0, 0, 0, 0, 0, 0, 0, 0, 0, 0, 0, 0, 0, 0, 0, 0, 0, 0, 0, 0, 0, 0, 0, 0, 0, 0, 0, 0, 0, 0, 0, 0, 0, 0, 0, 0, 0, 0, 0, 0, 0, 0, 0, 0, 0, 0, 0, 0, 0, 0, 0, 0, 0, 0, 0, 0, 0, 0, 0, 0, 0, 0, 0, 0, 0, 0, 0, 0, 0, 0, 0, 0, 0, 0, 0, 0, 0, 0, 0, 0, 0, 0, 0, 0, 0, 0, 0, 0, 0, 0, 0, 0, 0, 0, 0, 0, 0, 0, 0, 0, 0, 0, 0, 0, 0, 0, 0, 0, 0, 0, 0, 0, 0, 0, 0, 0, 0, 0, 0, 0, 0, 0, 0, 0, 0, 0, 0, 0, 0, 0, 0, 0, 0, 0, 0, 0, 0, 0, 0, 0, 0, 0, 0, 0, 0, 0, 0, 0, 0, 0, 0, 0, 0, 0, 0, 0, 0, 0, 0, 0, 0, 0, 0, 0, 0, 0, 0, 0, 0, 0, 0, 0, 0, 0, 0, 0, 0, 0, 0, 0, 0, 0, 0, 0, 0, 0, 0, 0, 0, 0, 0, 0, 0, 0, 0, 0, 0, 0, 0, 0, 0, 0, 0, 0, 0, 0, 0, 0, 0, 0, 0, 0, 0, 0, 0, 0, 0, 0, 0, 0, 0, 0, 0, 0, 0, 0, 0, 0, 0, 0, 0, 0, 0, 0, 0, 0, 0, 0, 0, 0, 0, 0, 0, 0, 0, 0, 0, 0, 0, 0, 0, 0, 0, 0, 0, 0, 0, 0, 0, 0, 0, 0, 0, 0, 0, 0, 0, 0, 0, 0, 0, 0, 0, 0, 0, 0, 0, 0, 0, 0, 0, 0, 0, 0, 0, 0, 0, 0, 0, 0, 0, 0, 0, 0, 0, 0], [101, 2061, 2031, 1045, 999, 102, 0, 0, 0, 0, 0, 0, 0, 0, 0, 0, 0, 0, 0, 0, 0, 0, 0, 0, 0, 0, 0, 0, 0, 0, 0, 0, 0, 0, 0, 0, 0, 0, 0, 0, 0, 0, 0, 0, 0, 0, 0, 0, 0, 0, 0, 0, 0, 0, 0, 0, 0, 0, 0, 0, 0, 0, 0, 0, 0, 0, 0, 0, 0, 0, 0, 0, 0, 0, 0, 0, 0, 0, 0, 0, 0, 0, 0, 0, 0, 0, 0, 0, 0, 0, 0, 0, 0, 0, 0, 0, 0, 0, 0, 0, 0, 0, 0, 0, 0, 0, 0, 0, 0, 0, 0, 0, 0, 0, 0, 0, 0, 0, 0, 0, 0, 0, 0, 0, 0, 0, 0, 0, 0, 0, 0, 0, 0, 0, 0, 0, 0, 0, 0, 0, 0, 0, 0, 0, 0, 0, 0, 0, 0, 0, 0, 0, 0, 0, 0, 0, 0, 0, 0, 0, 0, 0, 0, 0, 0, 0, 0, 0, 0, 0, 0, 0, 0, 0, 0, 0, 0, 0, 0, 0, 0, 0, 0, 0, 0, 0, 0, 0, 0, 0, 0, 0, 0, 0, 0, 0, 0, 0, 0, 0, 0, 0, 0, 0, 0, 0, 0, 0, 0, 0, 0, 0, 0, 0, 0, 0, 0, 0, 0, 0, 0, 0, 0, 0, 0, 0, 0, 0, 0, 0, 0, 0, 0, 0, 0, 0, 0, 0, 0, 0, 0, 0, 0, 0, 0, 0, 0, 0, 0, 0, 0, 0, 0, 0, 0, 0, 0, 0, 0, 0, 0, 0, 0, 0, 0, 0, 0, 0, 0, 0, 0, 0, 0, 0, 0, 0, 0, 0, 0, 0, 0, 0, 0, 0, 0, 0, 0, 0, 0, 0, 0, 0, 0, 0, 0, 0, 0, 0, 0, 0, 0, 0, 0, 0, 0, 0, 0, 0, 0, 0, 0, 0, 0, 0, 0, 0, 0, 0, 0, 0, 0, 0, 0, 0, 0, 0, 0, 0, 0, 0, 0, 0, 0, 0, 0, 0, 0, 0, 0, 0, 0, 0, 0, 0, 0, 0, 0, 0, 0, 0, 0, 0, 0, 0, 0, 0, 0, 0, 0, 0, 0, 0, 0, 0, 0, 0, 0, 0, 0, 0, 0, 0, 0, 0, 0, 0, 0, 0, 0, 0, 0, 0, 0, 0, 0, 0, 0, 0, 0, 0, 0, 0, 0, 0, 0, 0, 0, 0, 0, 0, 0, 0, 0, 0, 0, 0, 0, 0, 0, 0, 0, 0, 0, 0, 0, 0, 0, 0, 0, 0, 0, 0, 0, 0, 0, 0, 0, 0, 0, 0, 0, 0, 0, 0, 0, 0, 0, 0, 0, 0, 0, 0, 0, 0, 0, 0, 0, 0, 0, 0, 0, 0, 0, 0, 0, 0, 0, 0, 0, 0, 0, 0, 0, 0, 0, 0, 0, 0, 0, 0, 0, 0, 0, 0, 0, 0, 0, 0, 0, 0, 0, 0, 0, 0, 0, 0, 0, 0, 0, 0, 0, 0, 0, 0, 0, 0, 0, 0, 0, 0, 0, 0, 0, 0, 0, 0, 0, 0, 0, 0, 0, 0]], 'attention_mask': [[1, 1, 1, 1, 1, 1, 1, 1, 1, 1, 1, 1, 1, 1, 1, 1, 0, 0, 0, 0, 0, 0, 0, 0, 0, 0, 0, 0, 0, 0, 0, 0, 0, 0, 0, 0, 0, 0, 0, 0, 0, 0, 0, 0, 0, 0, 0, 0, 0, 0, 0, 0, 0, 0, 0, 0, 0, 0, 0, 0, 0, 0, 0, 0, 0, 0, 0, 0, 0, 0, 0, 0, 0, 0, 0, 0, 0, 0, 0, 0, 0, 0, 0, 0, 0, 0, 0, 0, 0, 0, 0, 0, 0, 0, 0, 0, 0, 0, 0, 0, 0, 0, 0, 0, 0, 0, 0, 0, 0, 0, 0, 0, 0, 0, 0, 0, 0, 0, 0, 0, 0, 0, 0, 0, 0, 0, 0, 0, 0, 0, 0, 0, 0, 0, 0, 0, 0, 0, 0, 0, 0, 0, 0, 0, 0, 0, 0, 0, 0, 0, 0, 0, 0, 0, 0, 0, 0, 0, 0, 0, 0, 0, 0, 0, 0, 0, 0, 0, 0, 0, 0, 0, 0, 0, 0, 0, 0, 0, 0, 0, 0, 0, 0, 0, 0, 0, 0, 0, 0, 0, 0, 0, 0, 0, 0, 0, 0, 0, 0, 0, 0, 0, 0, 0, 0, 0, 0, 0, 0, 0, 0, 0, 0, 0, 0, 0, 0, 0, 0, 0, 0, 0, 0, 0, 0, 0, 0, 0, 0, 0, 0, 0, 0, 0, 0, 0, 0, 0, 0, 0, 0, 0, 0, 0, 0, 0, 0, 0, 0, 0, 0, 0, 0, 0, 0, 0, 0, 0, 0, 0, 0, 0, 0, 0, 0, 0, 0, 0, 0, 0, 0, 0, 0, 0, 0, 0, 0, 0, 0, 0, 0, 0, 0, 0, 0, 0, 0, 0, 0, 0, 0, 0, 0, 0, 0, 0, 0, 0, 0, 0, 0, 0, 0, 0, 0, 0, 0, 0, 0, 0, 0, 0, 0, 0, 0, 0, 0, 0, 0, 0, 0, 0, 0, 0, 0, 0, 0, 0, 0, 0, 0, 0, 0, 0, 0, 0, 0, 0, 0, 0, 0, 0, 0, 0, 0, 0, 0, 0, 0, 0, 0, 0, 0, 0, 0, 0, 0, 0, 0, 0, 0, 0, 0, 0, 0, 0, 0, 0, 0, 0, 0, 0, 0, 0, 0, 0, 0, 0, 0, 0, 0, 0, 0, 0, 0, 0, 0, 0, 0, 0, 0, 0, 0, 0, 0, 0, 0, 0, 0, 0, 0, 0, 0, 0, 0, 0, 0, 0, 0, 0, 0, 0, 0, 0, 0, 0, 0, 0, 0, 0, 0, 0, 0, 0, 0, 0, 0, 0, 0, 0, 0, 0, 0, 0, 0, 0, 0, 0, 0, 0, 0, 0, 0, 0, 0, 0, 0, 0, 0, 0, 0, 0, 0, 0, 0, 0, 0, 0, 0, 0, 0, 0, 0, 0, 0, 0, 0, 0, 0, 0, 0, 0, 0, 0, 0, 0, 0, 0, 0, 0, 0, 0, 0, 0, 0, 0, 0, 0, 0, 0, 0, 0, 0, 0, 0, 0, 0, 0, 0, 0, 0, 0, 0, 0, 0, 0, 0, 0, 0, 0, 0, 0], [1, 1, 1, 1, 1, 1, 0, 0, 0, 0, 0, 0, 0, 0, 0, 0, 0, 0, 0, 0, 0, 0, 0, 0, 0, 0, 0, 0, 0, 0, 0, 0, 0, 0, 0, 0, 0, 0, 0, 0, 0, 0, 0, 0, 0, 0, 0, 0, 0, 0, 0, 0, 0, 0, 0, 0, 0, 0, 0, 0, 0, 0, 0, 0, 0, 0, 0, 0, 0, 0, 0, 0, 0, 0, 0, 0, 0, 0, 0, 0, 0, 0, 0, 0, 0, 0, 0, 0, 0, 0, 0, 0, 0, 0, 0, 0, 0, 0, 0, 0, 0, 0, 0, 0, 0, 0, 0, 0, 0, 0, 0, 0, 0, 0, 0, 0, 0, 0, 0, 0, 0, 0, 0, 0, 0, 0, 0, 0, 0, 0, 0, 0, 0, 0, 0, 0, 0, 0, 0, 0, 0, 0, 0, 0, 0, 0, 0, 0, 0, 0, 0, 0, 0, 0, 0, 0, 0, 0, 0, 0, 0, 0, 0, 0, 0, 0, 0, 0, 0, 0, 0, 0, 0, 0, 0, 0, 0, 0, 0, 0, 0, 0, 0, 0, 0, 0, 0, 0, 0, 0, 0, 0, 0, 0, 0, 0, 0, 0, 0, 0, 0, 0, 0, 0, 0, 0, 0, 0, 0, 0, 0, 0, 0, 0, 0, 0, 0, 0, 0, 0, 0, 0, 0, 0, 0, 0, 0, 0, 0, 0, 0, 0, 0, 0, 0, 0, 0, 0, 0, 0, 0, 0, 0, 0, 0, 0, 0, 0, 0, 0, 0, 0, 0, 0, 0, 0, 0, 0, 0, 0, 0, 0, 0, 0, 0, 0, 0, 0, 0, 0, 0, 0, 0, 0, 0, 0, 0, 0, 0, 0, 0, 0, 0, 0, 0, 0, 0, 0, 0, 0, 0, 0, 0, 0, 0, 0, 0, 0, 0, 0, 0, 0, 0, 0, 0, 0, 0, 0, 0, 0, 0, 0, 0, 0, 0, 0, 0, 0, 0, 0, 0, 0, 0, 0, 0, 0, 0, 0, 0, 0, 0, 0, 0, 0, 0, 0, 0, 0, 0, 0, 0, 0, 0, 0, 0, 0, 0, 0, 0, 0, 0, 0, 0, 0, 0, 0, 0, 0, 0, 0, 0, 0, 0, 0, 0, 0, 0, 0, 0, 0, 0, 0, 0, 0, 0, 0, 0, 0, 0, 0, 0, 0, 0, 0, 0, 0, 0, 0, 0, 0, 0, 0, 0, 0, 0, 0, 0, 0, 0, 0, 0, 0, 0, 0, 0, 0, 0, 0, 0, 0, 0, 0, 0, 0, 0, 0, 0, 0, 0, 0, 0, 0, 0, 0, 0, 0, 0, 0, 0, 0, 0, 0, 0, 0, 0, 0, 0, 0, 0, 0, 0, 0, 0, 0, 0, 0, 0, 0, 0, 0, 0, 0, 0, 0, 0, 0, 0, 0, 0, 0, 0, 0, 0, 0, 0, 0, 0, 0, 0, 0, 0, 0, 0, 0, 0, 0, 0, 0, 0, 0, 0, 0, 0, 0, 0, 0, 0, 0, 0, 0, 0, 0, 0, 0, 0, 0, 0, 0, 0, 0, 0, 0, 0, 0, 0, 0, 0, 0, 0, 0, 0, 0]]},\n",
              " {'input_ids': [[101, 1045, 1005, 2310, 2042, 3403, 2005, 1037, 17662, 12172, 2607, 2026, 2878, 2166, 1012, 102], [101, 2061, 2031, 1045, 999, 102, 0, 0]], 'attention_mask': [[1, 1, 1, 1, 1, 1, 1, 1, 1, 1, 1, 1, 1, 1, 1, 1], [1, 1, 1, 1, 1, 1, 0, 0]]})"
            ]
          },
          "execution_count": 55,
          "metadata": {},
          "output_type": "execute_result"
        }
      ],
      "source": [
        "# Will pad the sequences up to the maximum sequence length\n",
        "model_inputs_1 = tokenizer(sequences, padding=\"longest\")\n",
        "\n",
        "# Will pad the sequences up to the model max length\n",
        "# (512 for BERT or DistilBERT)\n",
        "model_inputs_2 = tokenizer(sequences, padding=\"max_length\")\n",
        "\n",
        "# Will pad the sequences up to the specified max length\n",
        "model_inputs_3 = tokenizer(sequences, padding=\"max_length\", max_length=8)\n",
        "\n",
        "model_inputs_1, model_inputs_2, model_inputs_3"
      ]
    },
    {
      "cell_type": "code",
      "execution_count": 56,
      "metadata": {
        "colab": {
          "base_uri": "https://localhost:8080/"
        },
        "id": "2iJeOMPt9Zcf",
        "outputId": "fa56be40-166f-4894-bb45-d75644500673"
      },
      "outputs": [
        {
          "data": {
            "text/plain": [
              "({'input_ids': tensor([[  101,  1045,  1005,  2310,  2042,  3403,  2005,  1037, 17662, 12172,\n",
              "           2607,  2026,  2878,  2166,  1012,   102],\n",
              "         [  101,  2061,  2031,  1045,   999,   102,     0,     0,     0,     0,\n",
              "              0,     0,     0,     0,     0,     0]]), 'attention_mask': tensor([[1, 1, 1, 1, 1, 1, 1, 1, 1, 1, 1, 1, 1, 1, 1, 1],\n",
              "         [1, 1, 1, 1, 1, 1, 0, 0, 0, 0, 0, 0, 0, 0, 0, 0]])},\n",
              " {'input_ids': <tf.Tensor: shape=(2, 16), dtype=int32, numpy=\n",
              " array([[  101,  1045,  1005,  2310,  2042,  3403,  2005,  1037, 17662,\n",
              "         12172,  2607,  2026,  2878,  2166,  1012,   102],\n",
              "        [  101,  2061,  2031,  1045,   999,   102,     0,     0,     0,\n",
              "             0,     0,     0,     0,     0,     0,     0]], dtype=int32)>, 'attention_mask': <tf.Tensor: shape=(2, 16), dtype=int32, numpy=\n",
              " array([[1, 1, 1, 1, 1, 1, 1, 1, 1, 1, 1, 1, 1, 1, 1, 1],\n",
              "        [1, 1, 1, 1, 1, 1, 0, 0, 0, 0, 0, 0, 0, 0, 0, 0]], dtype=int32)>},\n",
              " {'input_ids': array([[  101,  1045,  1005,  2310,  2042,  3403,  2005,  1037, 17662,\n",
              "         12172,  2607,  2026,  2878,  2166,  1012,   102],\n",
              "        [  101,  2061,  2031,  1045,   999,   102,     0,     0,     0,\n",
              "             0,     0,     0,     0,     0,     0,     0]]), 'attention_mask': array([[1, 1, 1, 1, 1, 1, 1, 1, 1, 1, 1, 1, 1, 1, 1, 1],\n",
              "        [1, 1, 1, 1, 1, 1, 0, 0, 0, 0, 0, 0, 0, 0, 0, 0]])})"
            ]
          },
          "execution_count": 56,
          "metadata": {},
          "output_type": "execute_result"
        }
      ],
      "source": [
        "sequences = [\"I've been waiting for a HuggingFace course my whole life.\", \"So have I!\"]\n",
        "\n",
        "# Returns PyTorch tensors\n",
        "model_inputs_pt = tokenizer(sequences, padding=True, return_tensors=\"pt\")\n",
        "\n",
        "# Returns TensorFlow tensors\n",
        "model_inputs_tf = tokenizer(sequences, padding=True, return_tensors=\"tf\")\n",
        "\n",
        "# Returns NumPy arrays\n",
        "model_inputs_np = tokenizer(sequences, padding=True, return_tensors=\"np\")\n",
        "\n",
        "model_inputs_pt, model_inputs_tf, model_inputs_np"
      ]
    },
    {
      "cell_type": "code",
      "execution_count": 57,
      "metadata": {
        "colab": {
          "base_uri": "https://localhost:8080/"
        },
        "id": "jRPf3Vjp9j3v",
        "outputId": "db8cc6aa-2d72-4ca5-fe3a-6021db138946"
      },
      "outputs": [
        {
          "name": "stdout",
          "output_type": "stream",
          "text": [
            "[101, 1045, 1005, 2310, 2042, 3403, 2005, 1037, 17662, 12172, 2607, 2026, 2878, 2166, 1012, 102]\n",
            "[1045, 1005, 2310, 2042, 3403, 2005, 1037, 17662, 12172, 2607, 2026, 2878, 2166, 1012]\n"
          ]
        }
      ],
      "source": [
        "sequence = \"I've been waiting for a HuggingFace course my whole life.\"\n",
        "\n",
        "model_inputs = tokenizer(sequence)\n",
        "print(model_inputs[\"input_ids\"])\n",
        "\n",
        "tokens = tokenizer.tokenize(sequence)\n",
        "ids = tokenizer.convert_tokens_to_ids(tokens)\n",
        "print(ids)"
      ]
    },
    {
      "cell_type": "code",
      "execution_count": 58,
      "metadata": {
        "colab": {
          "base_uri": "https://localhost:8080/"
        },
        "id": "L1qV1ZuQ9pYm",
        "outputId": "48da75b2-a43c-4dbd-81e5-0500899ea1fe"
      },
      "outputs": [
        {
          "name": "stdout",
          "output_type": "stream",
          "text": [
            "[CLS] i've been waiting for a huggingface course my whole life. [SEP]\n",
            "i've been waiting for a huggingface course my whole life.\n"
          ]
        }
      ],
      "source": [
        "print(tokenizer.decode(model_inputs[\"input_ids\"]))\n",
        "print(tokenizer.decode(ids))"
      ]
    },
    {
      "cell_type": "markdown",
      "metadata": {
        "id": "WOB3-LKa9o3d"
      },
      "source": []
    },
    {
      "cell_type": "code",
      "execution_count": 59,
      "metadata": {
        "colab": {
          "base_uri": "https://localhost:8080/"
        },
        "id": "bkG9NQaN90Hi",
        "outputId": "5e2998b9-a69a-4d3f-bf02-0a59688de8c4"
      },
      "outputs": [
        {
          "data": {
            "text/plain": [
              "SequenceClassifierOutput(loss=None, logits=tensor([[-1.5607,  1.6123],\n",
              "        [-3.6183,  3.9137]], grad_fn=<AddmmBackward0>), hidden_states=None, attentions=None)"
            ]
          },
          "execution_count": 59,
          "metadata": {},
          "output_type": "execute_result"
        }
      ],
      "source": [
        "import torch\n",
        "from transformers import AutoTokenizer, AutoModelForSequenceClassification\n",
        "\n",
        "checkpoint = \"distilbert-base-uncased-finetuned-sst-2-english\"\n",
        "tokenizer = AutoTokenizer.from_pretrained(checkpoint)\n",
        "model = AutoModelForSequenceClassification.from_pretrained(checkpoint)\n",
        "sequences = [\"I've been waiting for a HuggingFace course my whole life.\", \"So have I!\"]\n",
        "\n",
        "tokens = tokenizer(sequences, padding=True, truncation=True, return_tensors=\"pt\")\n",
        "output = model(**tokens)\n",
        "output"
      ]
    },
    {
      "cell_type": "markdown",
      "metadata": {
        "id": "YzMSLm8194s-"
      },
      "source": [
        "Great job following the course up to here! To recap, in this chapter you:\n",
        "\n",
        "Learned the basic building blocks of a Transformer model.\n",
        "Learned what makes up a tokenization pipeline.\n",
        "Saw how to use a Transformer model in practice.\n",
        "Learned how to leverage a tokenizer to convert text to tensors that are understandable by the model.\n",
        "Set up a tokenizer and a model together to get from text to predictions.\n",
        "Learned the limitations of input IDs, and learned about attention masks.\n",
        "Played around with versatile and configurable tokenizer methods."
      ]
    },
    {
      "cell_type": "markdown",
      "metadata": {
        "id": "si3L5PTDNHJM"
      },
      "source": [
        "## 3. Fine-tuning a Pretrained Model"
      ]
    },
    {
      "cell_type": "code",
      "execution_count": 60,
      "metadata": {
        "colab": {
          "base_uri": "https://localhost:8080/"
        },
        "id": "LvcrYAnzNSie",
        "outputId": "ed8d3519-4e15-4cf6-d6e1-5c8041910fb8"
      },
      "outputs": [
        {
          "name": "stderr",
          "output_type": "stream",
          "text": [
            "Some weights of BertForSequenceClassification were not initialized from the model checkpoint at bert-base-uncased and are newly initialized: ['classifier.bias', 'classifier.weight']\n",
            "You should probably TRAIN this model on a down-stream task to be able to use it for predictions and inference.\n",
            "/usr/local/lib/python3.11/dist-packages/transformers/optimization.py:591: FutureWarning: This implementation of AdamW is deprecated and will be removed in a future version. Use the PyTorch implementation torch.optim.AdamW instead, or set `no_deprecation_warning=True` to disable this warning\n",
            "  warnings.warn(\n"
          ]
        }
      ],
      "source": [
        "import torch\n",
        "from transformers import AdamW, AutoTokenizer, AutoModelForSequenceClassification\n",
        "\n",
        "# Same as before\n",
        "checkpoint = \"bert-base-uncased\"\n",
        "tokenizer = AutoTokenizer.from_pretrained(checkpoint)\n",
        "model = AutoModelForSequenceClassification.from_pretrained(checkpoint)\n",
        "sequences = [\n",
        "    \"I've been waiting for a HuggingFace course my whole life.\",\n",
        "    \"This course is amazing!\",\n",
        "]\n",
        "batch = tokenizer(sequences, padding=True, truncation=True, return_tensors=\"pt\")\n",
        "\n",
        "# This is new\n",
        "batch[\"labels\"] = torch.tensor([1, 1])\n",
        "\n",
        "optimizer = AdamW(model.parameters())\n",
        "loss = model(**batch).loss\n",
        "loss.backward()\n",
        "optimizer.step()"
      ]
    },
    {
      "cell_type": "code",
      "execution_count": 61,
      "metadata": {
        "colab": {
          "base_uri": "https://localhost:8080/"
        },
        "id": "A6C9U9tLN6iz",
        "outputId": "dce0a287-b9e9-4f39-e4ed-d8dd179f60e7"
      },
      "outputs": [
        {
          "name": "stdout",
          "output_type": "stream",
          "text": [
            "Collecting datasets\n",
            "  Downloading datasets-3.2.0-py3-none-any.whl.metadata (20 kB)\n",
            "Requirement already satisfied: filelock in /usr/local/lib/python3.11/dist-packages (from datasets) (3.17.0)\n",
            "Requirement already satisfied: numpy>=1.17 in /usr/local/lib/python3.11/dist-packages (from datasets) (1.26.4)\n",
            "Requirement already satisfied: pyarrow>=15.0.0 in /usr/local/lib/python3.11/dist-packages (from datasets) (17.0.0)\n",
            "Collecting dill<0.3.9,>=0.3.0 (from datasets)\n",
            "  Downloading dill-0.3.8-py3-none-any.whl.metadata (10 kB)\n",
            "Requirement already satisfied: pandas in /usr/local/lib/python3.11/dist-packages (from datasets) (2.2.2)\n",
            "Requirement already satisfied: requests>=2.32.2 in /usr/local/lib/python3.11/dist-packages (from datasets) (2.32.3)\n",
            "Requirement already satisfied: tqdm>=4.66.3 in /usr/local/lib/python3.11/dist-packages (from datasets) (4.67.1)\n",
            "Collecting xxhash (from datasets)\n",
            "  Downloading xxhash-3.5.0-cp311-cp311-manylinux_2_17_x86_64.manylinux2014_x86_64.whl.metadata (12 kB)\n",
            "Collecting multiprocess<0.70.17 (from datasets)\n",
            "  Downloading multiprocess-0.70.16-py311-none-any.whl.metadata (7.2 kB)\n",
            "Collecting fsspec<=2024.9.0,>=2023.1.0 (from fsspec[http]<=2024.9.0,>=2023.1.0->datasets)\n",
            "  Downloading fsspec-2024.9.0-py3-none-any.whl.metadata (11 kB)\n",
            "Requirement already satisfied: aiohttp in /usr/local/lib/python3.11/dist-packages (from datasets) (3.11.11)\n",
            "Requirement already satisfied: huggingface-hub>=0.23.0 in /usr/local/lib/python3.11/dist-packages (from datasets) (0.27.1)\n",
            "Requirement already satisfied: packaging in /usr/local/lib/python3.11/dist-packages (from datasets) (24.2)\n",
            "Requirement already satisfied: pyyaml>=5.1 in /usr/local/lib/python3.11/dist-packages (from datasets) (6.0.2)\n",
            "Requirement already satisfied: aiohappyeyeballs>=2.3.0 in /usr/local/lib/python3.11/dist-packages (from aiohttp->datasets) (2.4.4)\n",
            "Requirement already satisfied: aiosignal>=1.1.2 in /usr/local/lib/python3.11/dist-packages (from aiohttp->datasets) (1.3.2)\n",
            "Requirement already satisfied: attrs>=17.3.0 in /usr/local/lib/python3.11/dist-packages (from aiohttp->datasets) (25.1.0)\n",
            "Requirement already satisfied: frozenlist>=1.1.1 in /usr/local/lib/python3.11/dist-packages (from aiohttp->datasets) (1.5.0)\n",
            "Requirement already satisfied: multidict<7.0,>=4.5 in /usr/local/lib/python3.11/dist-packages (from aiohttp->datasets) (6.1.0)\n",
            "Requirement already satisfied: propcache>=0.2.0 in /usr/local/lib/python3.11/dist-packages (from aiohttp->datasets) (0.2.1)\n",
            "Requirement already satisfied: yarl<2.0,>=1.17.0 in /usr/local/lib/python3.11/dist-packages (from aiohttp->datasets) (1.18.3)\n",
            "Requirement already satisfied: typing-extensions>=3.7.4.3 in /usr/local/lib/python3.11/dist-packages (from huggingface-hub>=0.23.0->datasets) (4.12.2)\n",
            "Requirement already satisfied: charset-normalizer<4,>=2 in /usr/local/lib/python3.11/dist-packages (from requests>=2.32.2->datasets) (3.4.1)\n",
            "Requirement already satisfied: idna<4,>=2.5 in /usr/local/lib/python3.11/dist-packages (from requests>=2.32.2->datasets) (3.10)\n",
            "Requirement already satisfied: urllib3<3,>=1.21.1 in /usr/local/lib/python3.11/dist-packages (from requests>=2.32.2->datasets) (2.3.0)\n",
            "Requirement already satisfied: certifi>=2017.4.17 in /usr/local/lib/python3.11/dist-packages (from requests>=2.32.2->datasets) (2024.12.14)\n",
            "Requirement already satisfied: python-dateutil>=2.8.2 in /usr/local/lib/python3.11/dist-packages (from pandas->datasets) (2.8.2)\n",
            "Requirement already satisfied: pytz>=2020.1 in /usr/local/lib/python3.11/dist-packages (from pandas->datasets) (2024.2)\n",
            "Requirement already satisfied: tzdata>=2022.7 in /usr/local/lib/python3.11/dist-packages (from pandas->datasets) (2025.1)\n",
            "Requirement already satisfied: six>=1.5 in /usr/local/lib/python3.11/dist-packages (from python-dateutil>=2.8.2->pandas->datasets) (1.17.0)\n",
            "Downloading datasets-3.2.0-py3-none-any.whl (480 kB)\n",
            "\u001b[2K   \u001b[90m━━━━━━━━━━━━━━━━━━━━━━━━━━━━━━━━━━━━━━━━\u001b[0m \u001b[32m480.6/480.6 kB\u001b[0m \u001b[31m9.7 MB/s\u001b[0m eta \u001b[36m0:00:00\u001b[0m\n",
            "\u001b[?25hDownloading dill-0.3.8-py3-none-any.whl (116 kB)\n",
            "\u001b[2K   \u001b[90m━━━━━━━━━━━━━━━━━━━━━━━━━━━━━━━━━━━━━━━━\u001b[0m \u001b[32m116.3/116.3 kB\u001b[0m \u001b[31m11.8 MB/s\u001b[0m eta \u001b[36m0:00:00\u001b[0m\n",
            "\u001b[?25hDownloading fsspec-2024.9.0-py3-none-any.whl (179 kB)\n",
            "\u001b[2K   \u001b[90m━━━━━━━━━━━━━━━━━━━━━━━━━━━━━━━━━━━━━━━━\u001b[0m \u001b[32m179.3/179.3 kB\u001b[0m \u001b[31m19.9 MB/s\u001b[0m eta \u001b[36m0:00:00\u001b[0m\n",
            "\u001b[?25hDownloading multiprocess-0.70.16-py311-none-any.whl (143 kB)\n",
            "\u001b[2K   \u001b[90m━━━━━━━━━━━━━━━━━━━━━━━━━━━━━━━━━━━━━━━━\u001b[0m \u001b[32m143.5/143.5 kB\u001b[0m \u001b[31m15.7 MB/s\u001b[0m eta \u001b[36m0:00:00\u001b[0m\n",
            "\u001b[?25hDownloading xxhash-3.5.0-cp311-cp311-manylinux_2_17_x86_64.manylinux2014_x86_64.whl (194 kB)\n",
            "\u001b[2K   \u001b[90m━━━━━━━━━━━━━━━━━━━━━━━━━━━━━━━━━━━━━━━━\u001b[0m \u001b[32m194.8/194.8 kB\u001b[0m \u001b[31m19.0 MB/s\u001b[0m eta \u001b[36m0:00:00\u001b[0m\n",
            "\u001b[?25hInstalling collected packages: xxhash, fsspec, dill, multiprocess, datasets\n",
            "  Attempting uninstall: fsspec\n",
            "    Found existing installation: fsspec 2024.10.0\n",
            "    Uninstalling fsspec-2024.10.0:\n",
            "      Successfully uninstalled fsspec-2024.10.0\n",
            "\u001b[31mERROR: pip's dependency resolver does not currently take into account all the packages that are installed. This behaviour is the source of the following dependency conflicts.\n",
            "torch 2.5.1+cu124 requires nvidia-cublas-cu12==12.4.5.8; platform_system == \"Linux\" and platform_machine == \"x86_64\", but you have nvidia-cublas-cu12 12.5.3.2 which is incompatible.\n",
            "torch 2.5.1+cu124 requires nvidia-cuda-cupti-cu12==12.4.127; platform_system == \"Linux\" and platform_machine == \"x86_64\", but you have nvidia-cuda-cupti-cu12 12.5.82 which is incompatible.\n",
            "torch 2.5.1+cu124 requires nvidia-cuda-nvrtc-cu12==12.4.127; platform_system == \"Linux\" and platform_machine == \"x86_64\", but you have nvidia-cuda-nvrtc-cu12 12.5.82 which is incompatible.\n",
            "torch 2.5.1+cu124 requires nvidia-cuda-runtime-cu12==12.4.127; platform_system == \"Linux\" and platform_machine == \"x86_64\", but you have nvidia-cuda-runtime-cu12 12.5.82 which is incompatible.\n",
            "torch 2.5.1+cu124 requires nvidia-cudnn-cu12==9.1.0.70; platform_system == \"Linux\" and platform_machine == \"x86_64\", but you have nvidia-cudnn-cu12 9.3.0.75 which is incompatible.\n",
            "torch 2.5.1+cu124 requires nvidia-cufft-cu12==11.2.1.3; platform_system == \"Linux\" and platform_machine == \"x86_64\", but you have nvidia-cufft-cu12 11.2.3.61 which is incompatible.\n",
            "torch 2.5.1+cu124 requires nvidia-curand-cu12==10.3.5.147; platform_system == \"Linux\" and platform_machine == \"x86_64\", but you have nvidia-curand-cu12 10.3.6.82 which is incompatible.\n",
            "torch 2.5.1+cu124 requires nvidia-cusolver-cu12==11.6.1.9; platform_system == \"Linux\" and platform_machine == \"x86_64\", but you have nvidia-cusolver-cu12 11.6.3.83 which is incompatible.\n",
            "torch 2.5.1+cu124 requires nvidia-cusparse-cu12==12.3.1.170; platform_system == \"Linux\" and platform_machine == \"x86_64\", but you have nvidia-cusparse-cu12 12.5.1.3 which is incompatible.\n",
            "torch 2.5.1+cu124 requires nvidia-nvjitlink-cu12==12.4.127; platform_system == \"Linux\" and platform_machine == \"x86_64\", but you have nvidia-nvjitlink-cu12 12.5.82 which is incompatible.\n",
            "gcsfs 2024.10.0 requires fsspec==2024.10.0, but you have fsspec 2024.9.0 which is incompatible.\u001b[0m\u001b[31m\n",
            "\u001b[0mSuccessfully installed datasets-3.2.0 dill-0.3.8 fsspec-2024.9.0 multiprocess-0.70.16 xxhash-3.5.0\n"
          ]
        }
      ],
      "source": [
        "!pip install datasets\n"
      ]
    },
    {
      "cell_type": "code",
      "execution_count": 62,
      "metadata": {
        "colab": {
          "base_uri": "https://localhost:8080/",
          "height": 484,
          "referenced_widgets": [
            "367cb14f727f43e9977598211386ffcd",
            "ef4e089850484d709ca04a671ae6f789",
            "f35e7524f9154e8193352663fabe78aa",
            "361027a71a874e81a8a9f98bc438be38",
            "efed81d50b39410eb8bc71fc870412cc",
            "543b8187b7eb4a26be31155fa4568e1b",
            "85733e0f42134920adb54755f8b98d06",
            "ca2c0d1e49e3473fb180ad90ea0d136b",
            "a338504b90404e6298b56cf0e005e599",
            "07c261d39059412ab87327829fdf130d",
            "10747f4e91c14ef28b64ad7e22de8851",
            "397e2990863a4e86b1435717760d668f",
            "7eed637c6e7d46ee9c4cf78750cef204",
            "767414e765fb4ae5a23807dd31038709",
            "dbec9e7008dc44d0a98e6132a0b39a0b",
            "96f78c9d64a448339bbe8b1c27ec78cb",
            "b355fd56845448e2bc6ec1594ebc22eb",
            "c8447a6be3924f1d8d2ff0236d26cc40",
            "f937c106c06c4b099947a8155116abdd",
            "30596033577d46caa50051d57700bf83",
            "f9147af0ae5245538e1f6a91b61252aa",
            "1a3fd67a7ff7406a8490f85fa1989e14",
            "fdbb4d68bb1f4e999850269e6f03d8cd",
            "f48ba00691354ded93568c9379829a0e",
            "3103d106023742658958e25693b3033c",
            "2261effc142c427e909c527f821bb4ad",
            "81fd13827a014cb7829a682a0a7fbd9c",
            "ec423fe8272e4dea8632e5c7ff5cef3c",
            "f8d54aee808d4b98ab6be73ae8c82a03",
            "54157e9519924975ba16e314f794c66c",
            "ce76b791172f4ce3aeb74113d634a3ad",
            "2cc4ceecbd874185b058c2711b2306fc",
            "571619e2d00a482aa49fb6095468fb59",
            "2811fc8e4730420781536be4172c99c3",
            "4499681b220d4b8fa233a7c7f930578f",
            "f28473ec8dd340b79df108fa4b0b5ce8",
            "75dba8dd19c24bd9919f73fa3f6b676a",
            "7ee6cee96f8542ecb03f95e3d95ac7ec",
            "d060b36a061748e7a4a2ae3ee958ed62",
            "63bf9da143cf4018b079e4be2065cd97",
            "20f8ef1231c14544991cf373f89972f1",
            "0aed2227bc804d6f96ccf45988b41a93",
            "c41838873237493ea67f16e9813a2a95",
            "382fe3af17f341e2abc801f367651b3c",
            "0fded2a7e0b64230a167b9c75d0edf3e",
            "11a29e2c66264de6953a25a213e41b1b",
            "8a073251eda54c94b4c4d45344f51aeb",
            "4a840de99de14b2798cf5d6cb3568980",
            "5bdc01b1ef42465f990e379072cefd2c",
            "d3a2786d303b4b658c8a87b6c647e92f",
            "24cf54a87aaa4b8dae53e45e8a369e39",
            "cd4bcbd96b354c139eefed30529709ee",
            "4de5b015f1a141bcb81469957bdcc630",
            "f516e6691acf41f89c8f0c1c978337b3",
            "e2fcf406f19743c28b21230cd62ff2e6",
            "8320e8913eb64151a4950b4cb2aa86e6",
            "7c94b781e7df4c47bba88e9324557835",
            "568e69c867fc479b8bf2c9fcd5ca7e12",
            "fddf132c111f4016ab29a8e4b9975034",
            "e49ea8a7454245acbde2bbe64b74477b",
            "6d828634d9e6414798eb3ae64ae51607",
            "346c7af2e8b548f6bb30ebfff2a52fe3",
            "4bb470ae9bc04ee0b9399cbb2711f2dd",
            "aad82e64e2324cfd8ddbe6052b76b9e3",
            "d6c5ac04a3f946a6a872182813b0b87d",
            "d16f0d9776cb4ed1b83c27cbe18d6fb9",
            "3bf01417dc234d33b4fcdbbf25563e9f",
            "be3dedb315e046c3a8ad769219fc9b71",
            "a3567ed2b6a546af8f054c7d86874351",
            "d19147a04e8348799763c3c024d5fd46",
            "2e30fa4e5d63405193f8c785a512248b",
            "9651843d56a44873b4bca62476f1dbe7",
            "efcb2c4795854509a380eefe29ed6ac7",
            "ff6afaeff5c44fa298be9c4ddaace031",
            "737a3677c0e14a78ba794de8c7bec9fb",
            "e9009d1d918146b69466790f365e1694",
            "560cddf66e644c05805e1e7374c600e2"
          ]
        },
        "id": "z0Mymk8INwoz",
        "outputId": "460195de-6bbf-43e4-e353-27eb3e32b75e"
      },
      "outputs": [
        {
          "data": {
            "application/vnd.jupyter.widget-view+json": {
              "model_id": "367cb14f727f43e9977598211386ffcd",
              "version_major": 2,
              "version_minor": 0
            },
            "text/plain": [
              "README.md:   0%|          | 0.00/35.3k [00:00<?, ?B/s]"
            ]
          },
          "metadata": {},
          "output_type": "display_data"
        },
        {
          "data": {
            "application/vnd.jupyter.widget-view+json": {
              "model_id": "397e2990863a4e86b1435717760d668f",
              "version_major": 2,
              "version_minor": 0
            },
            "text/plain": [
              "train-00000-of-00001.parquet:   0%|          | 0.00/649k [00:00<?, ?B/s]"
            ]
          },
          "metadata": {},
          "output_type": "display_data"
        },
        {
          "data": {
            "application/vnd.jupyter.widget-view+json": {
              "model_id": "fdbb4d68bb1f4e999850269e6f03d8cd",
              "version_major": 2,
              "version_minor": 0
            },
            "text/plain": [
              "validation-00000-of-00001.parquet:   0%|          | 0.00/75.7k [00:00<?, ?B/s]"
            ]
          },
          "metadata": {},
          "output_type": "display_data"
        },
        {
          "data": {
            "application/vnd.jupyter.widget-view+json": {
              "model_id": "2811fc8e4730420781536be4172c99c3",
              "version_major": 2,
              "version_minor": 0
            },
            "text/plain": [
              "test-00000-of-00001.parquet:   0%|          | 0.00/308k [00:00<?, ?B/s]"
            ]
          },
          "metadata": {},
          "output_type": "display_data"
        },
        {
          "data": {
            "application/vnd.jupyter.widget-view+json": {
              "model_id": "0fded2a7e0b64230a167b9c75d0edf3e",
              "version_major": 2,
              "version_minor": 0
            },
            "text/plain": [
              "Generating train split:   0%|          | 0/3668 [00:00<?, ? examples/s]"
            ]
          },
          "metadata": {},
          "output_type": "display_data"
        },
        {
          "data": {
            "application/vnd.jupyter.widget-view+json": {
              "model_id": "8320e8913eb64151a4950b4cb2aa86e6",
              "version_major": 2,
              "version_minor": 0
            },
            "text/plain": [
              "Generating validation split:   0%|          | 0/408 [00:00<?, ? examples/s]"
            ]
          },
          "metadata": {},
          "output_type": "display_data"
        },
        {
          "data": {
            "application/vnd.jupyter.widget-view+json": {
              "model_id": "3bf01417dc234d33b4fcdbbf25563e9f",
              "version_major": 2,
              "version_minor": 0
            },
            "text/plain": [
              "Generating test split:   0%|          | 0/1725 [00:00<?, ? examples/s]"
            ]
          },
          "metadata": {},
          "output_type": "display_data"
        },
        {
          "data": {
            "text/plain": [
              "DatasetDict({\n",
              "    train: Dataset({\n",
              "        features: ['sentence1', 'sentence2', 'label', 'idx'],\n",
              "        num_rows: 3668\n",
              "    })\n",
              "    validation: Dataset({\n",
              "        features: ['sentence1', 'sentence2', 'label', 'idx'],\n",
              "        num_rows: 408\n",
              "    })\n",
              "    test: Dataset({\n",
              "        features: ['sentence1', 'sentence2', 'label', 'idx'],\n",
              "        num_rows: 1725\n",
              "    })\n",
              "})"
            ]
          },
          "execution_count": 62,
          "metadata": {},
          "output_type": "execute_result"
        }
      ],
      "source": [
        "from datasets import load_dataset\n",
        "\n",
        "raw_datasets = load_dataset(\"glue\", \"mrpc\")\n",
        "raw_datasets"
      ]
    },
    {
      "cell_type": "code",
      "execution_count": 63,
      "metadata": {
        "colab": {
          "base_uri": "https://localhost:8080/"
        },
        "id": "Xr8G_JXiOnBa",
        "outputId": "cad4303c-baf0-4eeb-aea6-06caa0eba7d1"
      },
      "outputs": [
        {
          "data": {
            "text/plain": [
              "{'sentence1': 'Amrozi accused his brother , whom he called \" the witness \" , of deliberately distorting his evidence .',\n",
              " 'sentence2': 'Referring to him as only \" the witness \" , Amrozi accused his brother of deliberately distorting his evidence .',\n",
              " 'label': 1,\n",
              " 'idx': 0}"
            ]
          },
          "execution_count": 63,
          "metadata": {},
          "output_type": "execute_result"
        }
      ],
      "source": [
        "raw_train_dataset = raw_datasets[\"train\"]\n",
        "raw_train_dataset[0]"
      ]
    },
    {
      "cell_type": "code",
      "execution_count": 64,
      "metadata": {
        "colab": {
          "base_uri": "https://localhost:8080/"
        },
        "id": "YbuWcBTUOskn",
        "outputId": "f321cae1-4bdc-45ee-8bf2-68634232c872"
      },
      "outputs": [
        {
          "data": {
            "text/plain": [
              "{'sentence1': Value(dtype='string', id=None),\n",
              " 'sentence2': Value(dtype='string', id=None),\n",
              " 'label': ClassLabel(names=['not_equivalent', 'equivalent'], id=None),\n",
              " 'idx': Value(dtype='int32', id=None)}"
            ]
          },
          "execution_count": 64,
          "metadata": {},
          "output_type": "execute_result"
        }
      ],
      "source": [
        "raw_train_dataset.features"
      ]
    },
    {
      "cell_type": "code",
      "execution_count": 65,
      "metadata": {
        "id": "wvB2gEFpU-ZJ"
      },
      "outputs": [],
      "source": [
        "from transformers import AutoTokenizer\n",
        "\n",
        "checkpoint = \"bert-base-uncased\"\n",
        "tokenizer = AutoTokenizer.from_pretrained(checkpoint)\n",
        "tokenized_sentences_1 = tokenizer(raw_datasets[\"train\"][\"sentence1\"])\n",
        "tokenized_sentences_2 = tokenizer(raw_datasets[\"train\"][\"sentence2\"])"
      ]
    },
    {
      "cell_type": "code",
      "execution_count": 66,
      "metadata": {
        "colab": {
          "base_uri": "https://localhost:8080/"
        },
        "id": "G_npPEtKVCxW",
        "outputId": "44d7df90-0b62-4e10-98d5-b74f599af83b"
      },
      "outputs": [
        {
          "data": {
            "text/plain": [
              "{'input_ids': [101, 2023, 2003, 1996, 2034, 6251, 1012, 102, 2023, 2003, 1996, 2117, 2028, 1012, 102], 'token_type_ids': [0, 0, 0, 0, 0, 0, 0, 0, 1, 1, 1, 1, 1, 1, 1], 'attention_mask': [1, 1, 1, 1, 1, 1, 1, 1, 1, 1, 1, 1, 1, 1, 1]}"
            ]
          },
          "execution_count": 66,
          "metadata": {},
          "output_type": "execute_result"
        }
      ],
      "source": [
        "inputs = tokenizer(\"This is the first sentence.\", \"This is the second one.\")\n",
        "inputs"
      ]
    },
    {
      "cell_type": "code",
      "execution_count": 67,
      "metadata": {
        "colab": {
          "base_uri": "https://localhost:8080/"
        },
        "id": "lF09bAYXVJja",
        "outputId": "acb3e409-5bb1-4c38-c193-bfed1d5daba9"
      },
      "outputs": [
        {
          "data": {
            "text/plain": [
              "['[CLS]',\n",
              " 'this',\n",
              " 'is',\n",
              " 'the',\n",
              " 'first',\n",
              " 'sentence',\n",
              " '.',\n",
              " '[SEP]',\n",
              " 'this',\n",
              " 'is',\n",
              " 'the',\n",
              " 'second',\n",
              " 'one',\n",
              " '.',\n",
              " '[SEP]']"
            ]
          },
          "execution_count": 67,
          "metadata": {},
          "output_type": "execute_result"
        }
      ],
      "source": [
        "tokenizer.convert_ids_to_tokens(inputs[\"input_ids\"])"
      ]
    },
    {
      "cell_type": "code",
      "execution_count": 68,
      "metadata": {
        "colab": {
          "base_uri": "https://localhost:8080/"
        },
        "id": "oqxzZiSkVQsH",
        "outputId": "a496d3dd-2570-46b9-db65-14f4437026af"
      },
      "outputs": [
        {
          "data": {
            "text/plain": [
              "{101: '[CLS]',\n",
              " 2023: 'this',\n",
              " 2003: 'is',\n",
              " 1996: 'the',\n",
              " 2034: 'first',\n",
              " 6251: 'sentence',\n",
              " 1012: '.',\n",
              " 102: '[SEP]',\n",
              " 2117: 'second',\n",
              " 2028: 'one'}"
            ]
          },
          "execution_count": 68,
          "metadata": {},
          "output_type": "execute_result"
        }
      ],
      "source": [
        "{x:y for x,y in zip(inputs[\"input_ids\"], tokenizer.convert_ids_to_tokens(inputs[\"input_ids\"]))}"
      ]
    },
    {
      "cell_type": "code",
      "execution_count": 69,
      "metadata": {
        "colab": {
          "base_uri": "https://localhost:8080/"
        },
        "id": "385dOOahVypN",
        "outputId": "aefc960e-d053-47dd-82c7-0153c51b8de7"
      },
      "outputs": [
        {
          "data": {
            "text/plain": [
              "torch.Size([3668, 103])"
            ]
          },
          "execution_count": 69,
          "metadata": {},
          "output_type": "execute_result"
        }
      ],
      "source": [
        "tokenized_dataset = tokenizer(\n",
        "    raw_datasets[\"train\"][\"sentence1\"],\n",
        "    raw_datasets[\"train\"][\"sentence2\"],\n",
        "    padding=True,\n",
        "    truncation=True,\n",
        "    return_tensors=\"pt\"\n",
        ")\n",
        "input_ids = tokenized_dataset[\"input_ids\"]\n",
        "input_ids.shape"
      ]
    },
    {
      "cell_type": "markdown",
      "metadata": {
        "id": "PfTRzB4HZOmU"
      },
      "source": [
        "It's best to use the map function with tokenize function to make use of the fact that datasets are in apache arrow format (otherwise we would need to make sure that the dataset fits RAM)."
      ]
    },
    {
      "cell_type": "code",
      "execution_count": 70,
      "metadata": {
        "colab": {
          "base_uri": "https://localhost:8080/",
          "height": 356,
          "referenced_widgets": [
            "40a24f800c7e4b8aa1195b4aa7c4f615",
            "ffc185d4ce2b42e1bee80721020d27af",
            "487c40a9c64342aba12c816346e3b39b",
            "3e571af7a7df46b1b0485572342aec52",
            "92a78e31a27145c394267a5e30d40213",
            "817339760540495fb11c61d25e49144b",
            "9dace4a02ae747e89cf7db1419de980e",
            "699ae9233b07430ca795377cc6a1848a",
            "240e874337a74c8babac8b70e602230a",
            "c073c64caa934cd18ec1d68f3f21fba7",
            "8bf285164c00409fb0ab3b117110954f",
            "d194f3f43cce42faa69bbb91728ddbe6",
            "7ecd8048feff4d4cb876f69076f04ff2",
            "647055122f744cf7aaab6449e84cadaa",
            "ae53ed55c8c94211ac9be5ed770f19df",
            "de800387c8154c1cbbcc82a7a7aefd72",
            "9fbac5bd79a44426957bcb5338fe21bf",
            "c3bf4377b38e44cbbcf1fbd9bba8f5ea",
            "830dffffb7fb4e8c9f4d6f86fca4ebb9",
            "6d37069b7267444aac14dbf5e1108a7d",
            "d41b85f08d82400d93941e678bfec49c",
            "b586d4d81f2b408793de14a6ebf9d7cd",
            "7b58ec6212854addbde37900f591739f",
            "e00aa5c4ac2648dcaf74ee52bd484ce6",
            "84f11fd4c5164bc78b4ed0ea603a9d40",
            "c577bfe96a2a40eb9925e534b274971d",
            "cae4c8168f144a7f921b56b7c8c7de8b",
            "b73de59f72ea43bea9182ced8ba307ef",
            "01b1ec841822442895f57c523912588a",
            "873acdee90f64ba69c86ae242a09905c",
            "86d2ed191f3e434681a7184df170c3e9",
            "88f07e187bc54658a6208565ca6c1251",
            "4122762e48e846648d6c356bd0eefe98"
          ]
        },
        "id": "wM-y3EEhZCr_",
        "outputId": "369e43f0-7fe4-4a6b-db17-8ee03a9d0e69"
      },
      "outputs": [
        {
          "data": {
            "application/vnd.jupyter.widget-view+json": {
              "model_id": "40a24f800c7e4b8aa1195b4aa7c4f615",
              "version_major": 2,
              "version_minor": 0
            },
            "text/plain": [
              "Map:   0%|          | 0/3668 [00:00<?, ? examples/s]"
            ]
          },
          "metadata": {},
          "output_type": "display_data"
        },
        {
          "data": {
            "application/vnd.jupyter.widget-view+json": {
              "model_id": "d194f3f43cce42faa69bbb91728ddbe6",
              "version_major": 2,
              "version_minor": 0
            },
            "text/plain": [
              "Map:   0%|          | 0/408 [00:00<?, ? examples/s]"
            ]
          },
          "metadata": {},
          "output_type": "display_data"
        },
        {
          "data": {
            "application/vnd.jupyter.widget-view+json": {
              "model_id": "7b58ec6212854addbde37900f591739f",
              "version_major": 2,
              "version_minor": 0
            },
            "text/plain": [
              "Map:   0%|          | 0/1725 [00:00<?, ? examples/s]"
            ]
          },
          "metadata": {},
          "output_type": "display_data"
        },
        {
          "data": {
            "text/plain": [
              "DatasetDict({\n",
              "    train: Dataset({\n",
              "        features: ['sentence1', 'sentence2', 'label', 'idx', 'input_ids', 'token_type_ids', 'attention_mask'],\n",
              "        num_rows: 3668\n",
              "    })\n",
              "    validation: Dataset({\n",
              "        features: ['sentence1', 'sentence2', 'label', 'idx', 'input_ids', 'token_type_ids', 'attention_mask'],\n",
              "        num_rows: 408\n",
              "    })\n",
              "    test: Dataset({\n",
              "        features: ['sentence1', 'sentence2', 'label', 'idx', 'input_ids', 'token_type_ids', 'attention_mask'],\n",
              "        num_rows: 1725\n",
              "    })\n",
              "})"
            ]
          },
          "execution_count": 70,
          "metadata": {},
          "output_type": "execute_result"
        }
      ],
      "source": [
        "def tokenize_function(example):\n",
        "    return tokenizer(example[\"sentence1\"], example[\"sentence2\"], truncation=True)\n",
        "\n",
        "tokenized_datasets = raw_datasets.map(tokenize_function, batched=True)\n",
        "tokenized_datasets"
      ]
    },
    {
      "cell_type": "code",
      "execution_count": 71,
      "metadata": {
        "colab": {
          "base_uri": "https://localhost:8080/"
        },
        "id": "QejNZ4qcZI46",
        "outputId": "2a6386f0-2fe4-4088-bfd2-5d353c92dfb0"
      },
      "outputs": [
        {
          "data": {
            "text/plain": [
              "({'sentence1': Value(dtype='string', id=None),\n",
              "  'sentence2': Value(dtype='string', id=None),\n",
              "  'label': ClassLabel(names=['not_equivalent', 'equivalent'], id=None),\n",
              "  'idx': Value(dtype='int32', id=None)},\n",
              " {'sentence1': Value(dtype='string', id=None),\n",
              "  'sentence2': Value(dtype='string', id=None),\n",
              "  'label': ClassLabel(names=['not_equivalent', 'equivalent'], id=None),\n",
              "  'idx': Value(dtype='int32', id=None),\n",
              "  'input_ids': Sequence(feature=Value(dtype='int32', id=None), length=-1, id=None),\n",
              "  'token_type_ids': Sequence(feature=Value(dtype='int8', id=None), length=-1, id=None),\n",
              "  'attention_mask': Sequence(feature=Value(dtype='int8', id=None), length=-1, id=None)})"
            ]
          },
          "execution_count": 71,
          "metadata": {},
          "output_type": "execute_result"
        }
      ],
      "source": [
        "raw_datasets[\"train\"].features, tokenized_datasets[\"train\"].features"
      ]
    },
    {
      "cell_type": "markdown",
      "metadata": {
        "id": "2zbwB5pma4WK"
      },
      "source": [
        "Notice that the tokenization process added new fields to the dataset."
      ]
    },
    {
      "cell_type": "markdown",
      "metadata": {
        "id": "-JEx_N1vdDm4"
      },
      "source": [
        "The function that is responsible for putting together samples inside a batch is called a collate function."
      ]
    },
    {
      "cell_type": "code",
      "execution_count": 72,
      "metadata": {
        "colab": {
          "base_uri": "https://localhost:8080/"
        },
        "id": "vjVb-80JdfKS",
        "outputId": "8415f9d8-2f07-444e-f7d7-5055c7d97bd2"
      },
      "outputs": [
        {
          "data": {
            "text/plain": [
              "DataCollatorWithPadding(tokenizer=BertTokenizerFast(name_or_path='bert-base-uncased', vocab_size=30522, model_max_length=512, is_fast=True, padding_side='right', truncation_side='right', special_tokens={'unk_token': '[UNK]', 'sep_token': '[SEP]', 'pad_token': '[PAD]', 'cls_token': '[CLS]', 'mask_token': '[MASK]'}, clean_up_tokenization_spaces=False, added_tokens_decoder={\n",
              "\t0: AddedToken(\"[PAD]\", rstrip=False, lstrip=False, single_word=False, normalized=False, special=True),\n",
              "\t100: AddedToken(\"[UNK]\", rstrip=False, lstrip=False, single_word=False, normalized=False, special=True),\n",
              "\t101: AddedToken(\"[CLS]\", rstrip=False, lstrip=False, single_word=False, normalized=False, special=True),\n",
              "\t102: AddedToken(\"[SEP]\", rstrip=False, lstrip=False, single_word=False, normalized=False, special=True),\n",
              "\t103: AddedToken(\"[MASK]\", rstrip=False, lstrip=False, single_word=False, normalized=False, special=True),\n",
              "}\n",
              "), padding=True, max_length=None, pad_to_multiple_of=None, return_tensors='pt')"
            ]
          },
          "execution_count": 72,
          "metadata": {},
          "output_type": "execute_result"
        }
      ],
      "source": [
        "from transformers import DataCollatorWithPadding\n",
        "\n",
        "data_collator = DataCollatorWithPadding(tokenizer=tokenizer)\n",
        "data_collator"
      ]
    },
    {
      "cell_type": "code",
      "execution_count": 73,
      "metadata": {
        "colab": {
          "base_uri": "https://localhost:8080/"
        },
        "id": "J0bSrPWGdgbx",
        "outputId": "cb615885-f09e-4a35-f41a-03bf48cd9b46"
      },
      "outputs": [
        {
          "data": {
            "text/plain": [
              "[50, 59, 47, 67, 59, 50, 62, 32]"
            ]
          },
          "execution_count": 73,
          "metadata": {},
          "output_type": "execute_result"
        }
      ],
      "source": [
        "samples = tokenized_datasets[\"train\"][:8]\n",
        "samples = {k: v for k, v in samples.items() if k not in [\"idx\", \"sentence1\", \"sentence2\"]}\n",
        "[len(x) for x in samples[\"input_ids\"]]"
      ]
    },
    {
      "cell_type": "code",
      "execution_count": 74,
      "metadata": {
        "colab": {
          "base_uri": "https://localhost:8080/"
        },
        "id": "d5ZoCV8Kds1P",
        "outputId": "b8555acf-e32d-42e1-9a19-ab29ac740a5d"
      },
      "outputs": [
        {
          "data": {
            "text/plain": [
              "{'input_ids': torch.Size([8, 67]),\n",
              " 'token_type_ids': torch.Size([8, 67]),\n",
              " 'attention_mask': torch.Size([8, 67]),\n",
              " 'labels': torch.Size([8])}"
            ]
          },
          "execution_count": 74,
          "metadata": {},
          "output_type": "execute_result"
        }
      ],
      "source": [
        "batch = data_collator(samples)\n",
        "{k: v.shape for k, v in batch.items()}"
      ]
    },
    {
      "cell_type": "code",
      "execution_count": 75,
      "metadata": {
        "colab": {
          "base_uri": "https://localhost:8080/",
          "height": 49,
          "referenced_widgets": [
            "cfd36df4339d48b8ab87d6a90f50af75",
            "37314794220142cf9415ad90535e39e0",
            "d492857b6df24849bcd8ca830ba1be44",
            "6af7fe5b1acf4ce9a8f017e9adb0f387",
            "3affdd1178ac41a089247476afb0475c",
            "de40ee7490cc417bb1c9008ff0cd3215",
            "e77da712f1bf493daf95826d99d92274",
            "fb041771b3c94ccfbc55366f7bbb3b55",
            "cb42e0f2713846379fd16f3b6e3e115d",
            "1b651cfe557f4f318f9e149984fa8199",
            "6cbe2c860e46468ea7cfd6c9087fca83"
          ]
        },
        "id": "bgVfMai7d6NM",
        "outputId": "5fcc1c01-a73e-4b33-b8f5-0aa617d2d6c3"
      },
      "outputs": [
        {
          "data": {
            "application/vnd.jupyter.widget-view+json": {
              "model_id": "cfd36df4339d48b8ab87d6a90f50af75",
              "version_major": 2,
              "version_minor": 0
            },
            "text/plain": [
              "Map:   0%|          | 0/3668 [00:00<?, ? examples/s]"
            ]
          },
          "metadata": {},
          "output_type": "display_data"
        }
      ],
      "source": [
        "from datasets import load_dataset\n",
        "from transformers import AutoTokenizer, DataCollatorWithPadding\n",
        "\n",
        "raw_datasets = load_dataset(\"glue\", \"mrpc\")\n",
        "checkpoint = \"bert-base-uncased\"\n",
        "tokenizer = AutoTokenizer.from_pretrained(checkpoint)\n",
        "\n",
        "\n",
        "def tokenize_function(example):\n",
        "    return tokenizer(example[\"sentence1\"], example[\"sentence2\"], truncation=True)\n",
        "\n",
        "\n",
        "tokenized_datasets = raw_datasets.map(tokenize_function, batched=True)\n",
        "data_collator = DataCollatorWithPadding(tokenizer=tokenizer)"
      ]
    },
    {
      "cell_type": "code",
      "execution_count": 76,
      "metadata": {
        "id": "oAeqQ7zheC72"
      },
      "outputs": [],
      "source": [
        "from transformers import TrainingArguments\n",
        "\n",
        "training_args = TrainingArguments(\"test-trainer\")"
      ]
    },
    {
      "cell_type": "code",
      "execution_count": 77,
      "metadata": {
        "colab": {
          "base_uri": "https://localhost:8080/"
        },
        "id": "oHOcOz6eeHPH",
        "outputId": "777a62cd-e403-4668-dd5e-4b4d6c152e06"
      },
      "outputs": [
        {
          "name": "stderr",
          "output_type": "stream",
          "text": [
            "Some weights of BertForSequenceClassification were not initialized from the model checkpoint at bert-base-uncased and are newly initialized: ['classifier.bias', 'classifier.weight']\n",
            "You should probably TRAIN this model on a down-stream task to be able to use it for predictions and inference.\n"
          ]
        }
      ],
      "source": [
        "from transformers import AutoModelForSequenceClassification\n",
        "\n",
        "model = AutoModelForSequenceClassification.from_pretrained(checkpoint, num_labels=2)"
      ]
    },
    {
      "cell_type": "code",
      "execution_count": 78,
      "metadata": {
        "colab": {
          "base_uri": "https://localhost:8080/"
        },
        "id": "EkD5qg28eX6Z",
        "outputId": "1cd95fe1-6b03-48d2-ef6a-1278d7970be9"
      },
      "outputs": [
        {
          "name": "stderr",
          "output_type": "stream",
          "text": [
            "<ipython-input-78-f264720bd6ef>:3: FutureWarning: `tokenizer` is deprecated and will be removed in version 5.0.0 for `Trainer.__init__`. Use `processing_class` instead.\n",
            "  trainer = Trainer(\n"
          ]
        }
      ],
      "source": [
        "from transformers import Trainer\n",
        "\n",
        "trainer = Trainer(\n",
        "    model,\n",
        "    training_args,\n",
        "    train_dataset=tokenized_datasets[\"train\"],\n",
        "    eval_dataset=tokenized_datasets[\"validation\"],\n",
        "    data_collator=data_collator, # defaultgs to  DataCollatorWithPadding if not provided\n",
        "    tokenizer=tokenizer,\n",
        ")"
      ]
    },
    {
      "cell_type": "code",
      "execution_count": 80,
      "metadata": {
        "colab": {
          "base_uri": "https://localhost:8080/",
          "height": 345
        },
        "id": "vWLk6-y2efJ3",
        "outputId": "24ff30a1-8bb0-4fb0-cef8-42f2ac9e67bf"
      },
      "outputs": [
        {
          "data": {
            "text/html": [
              "\n",
              "    <div>\n",
              "      \n",
              "      <progress value='501' max='1377' style='width:300px; height:20px; vertical-align: middle;'></progress>\n",
              "      [ 501/1377 01:05 < 01:55, 7.56 it/s, Epoch 1.09/3]\n",
              "    </div>\n",
              "    <table border=\"1\" class=\"dataframe\">\n",
              "  <thead>\n",
              " <tr style=\"text-align: left;\">\n",
              "      <th>Step</th>\n",
              "      <th>Training Loss</th>\n",
              "    </tr>\n",
              "  </thead>\n",
              "  <tbody>\n",
              "  </tbody>\n",
              "</table><p>"
            ],
            "text/plain": [
              "<IPython.core.display.HTML object>"
            ]
          },
          "metadata": {},
          "output_type": "display_data"
        },
        {
          "ename": "Error",
          "evalue": "You must call wandb.init() before wandb.log()",
          "output_type": "error",
          "traceback": [
            "\u001b[0;31m---------------------------------------------------------------------------\u001b[0m",
            "\u001b[0;31mError\u001b[0m                                     Traceback (most recent call last)",
            "\u001b[0;32m<ipython-input-80-3435b262f1ae>\u001b[0m in \u001b[0;36m<cell line: 0>\u001b[0;34m()\u001b[0m\n\u001b[0;32m----> 1\u001b[0;31m \u001b[0mtrainer\u001b[0m\u001b[0;34m.\u001b[0m\u001b[0mtrain\u001b[0m\u001b[0;34m(\u001b[0m\u001b[0;34m)\u001b[0m\u001b[0;34m\u001b[0m\u001b[0;34m\u001b[0m\u001b[0m\n\u001b[0m",
            "\u001b[0;32m/usr/local/lib/python3.11/dist-packages/transformers/trainer.py\u001b[0m in \u001b[0;36mtrain\u001b[0;34m(self, resume_from_checkpoint, trial, ignore_keys_for_eval, **kwargs)\u001b[0m\n\u001b[1;32m   2162\u001b[0m                 \u001b[0mhf_hub_utils\u001b[0m\u001b[0;34m.\u001b[0m\u001b[0menable_progress_bars\u001b[0m\u001b[0;34m(\u001b[0m\u001b[0;34m)\u001b[0m\u001b[0;34m\u001b[0m\u001b[0;34m\u001b[0m\u001b[0m\n\u001b[1;32m   2163\u001b[0m         \u001b[0;32melse\u001b[0m\u001b[0;34m:\u001b[0m\u001b[0;34m\u001b[0m\u001b[0;34m\u001b[0m\u001b[0m\n\u001b[0;32m-> 2164\u001b[0;31m             return inner_training_loop(\n\u001b[0m\u001b[1;32m   2165\u001b[0m                 \u001b[0margs\u001b[0m\u001b[0;34m=\u001b[0m\u001b[0margs\u001b[0m\u001b[0;34m,\u001b[0m\u001b[0;34m\u001b[0m\u001b[0;34m\u001b[0m\u001b[0m\n\u001b[1;32m   2166\u001b[0m                 \u001b[0mresume_from_checkpoint\u001b[0m\u001b[0;34m=\u001b[0m\u001b[0mresume_from_checkpoint\u001b[0m\u001b[0;34m,\u001b[0m\u001b[0;34m\u001b[0m\u001b[0;34m\u001b[0m\u001b[0m\n",
            "\u001b[0;32m/usr/local/lib/python3.11/dist-packages/transformers/trainer.py\u001b[0m in \u001b[0;36m_inner_training_loop\u001b[0;34m(self, batch_size, args, resume_from_checkpoint, trial, ignore_keys_for_eval)\u001b[0m\n\u001b[1;32m   2589\u001b[0m                         \u001b[0mself\u001b[0m\u001b[0;34m.\u001b[0m\u001b[0mstate\u001b[0m\u001b[0;34m.\u001b[0m\u001b[0mepoch\u001b[0m \u001b[0;34m=\u001b[0m \u001b[0mepoch\u001b[0m \u001b[0;34m+\u001b[0m \u001b[0;34m(\u001b[0m\u001b[0mstep\u001b[0m \u001b[0;34m+\u001b[0m \u001b[0;36m1\u001b[0m \u001b[0;34m+\u001b[0m \u001b[0msteps_skipped\u001b[0m\u001b[0;34m)\u001b[0m \u001b[0;34m/\u001b[0m \u001b[0msteps_in_epoch\u001b[0m\u001b[0;34m\u001b[0m\u001b[0;34m\u001b[0m\u001b[0m\n\u001b[1;32m   2590\u001b[0m                         \u001b[0mself\u001b[0m\u001b[0;34m.\u001b[0m\u001b[0mcontrol\u001b[0m \u001b[0;34m=\u001b[0m \u001b[0mself\u001b[0m\u001b[0;34m.\u001b[0m\u001b[0mcallback_handler\u001b[0m\u001b[0;34m.\u001b[0m\u001b[0mon_step_end\u001b[0m\u001b[0;34m(\u001b[0m\u001b[0margs\u001b[0m\u001b[0;34m,\u001b[0m \u001b[0mself\u001b[0m\u001b[0;34m.\u001b[0m\u001b[0mstate\u001b[0m\u001b[0;34m,\u001b[0m \u001b[0mself\u001b[0m\u001b[0;34m.\u001b[0m\u001b[0mcontrol\u001b[0m\u001b[0;34m)\u001b[0m\u001b[0;34m\u001b[0m\u001b[0;34m\u001b[0m\u001b[0m\n\u001b[0;32m-> 2591\u001b[0;31m                         self._maybe_log_save_evaluate(\n\u001b[0m\u001b[1;32m   2592\u001b[0m                             \u001b[0mtr_loss\u001b[0m\u001b[0;34m,\u001b[0m \u001b[0mgrad_norm\u001b[0m\u001b[0;34m,\u001b[0m \u001b[0mmodel\u001b[0m\u001b[0;34m,\u001b[0m \u001b[0mtrial\u001b[0m\u001b[0;34m,\u001b[0m \u001b[0mepoch\u001b[0m\u001b[0;34m,\u001b[0m \u001b[0mignore_keys_for_eval\u001b[0m\u001b[0;34m,\u001b[0m \u001b[0mstart_time\u001b[0m\u001b[0;34m\u001b[0m\u001b[0;34m\u001b[0m\u001b[0m\n\u001b[1;32m   2593\u001b[0m                         )\n",
            "\u001b[0;32m/usr/local/lib/python3.11/dist-packages/transformers/trainer.py\u001b[0m in \u001b[0;36m_maybe_log_save_evaluate\u001b[0;34m(self, tr_loss, grad_norm, model, trial, epoch, ignore_keys_for_eval, start_time)\u001b[0m\n\u001b[1;32m   3043\u001b[0m             \u001b[0mself\u001b[0m\u001b[0;34m.\u001b[0m\u001b[0mstore_flos\u001b[0m\u001b[0;34m(\u001b[0m\u001b[0;34m)\u001b[0m\u001b[0;34m\u001b[0m\u001b[0;34m\u001b[0m\u001b[0m\n\u001b[1;32m   3044\u001b[0m \u001b[0;34m\u001b[0m\u001b[0m\n\u001b[0;32m-> 3045\u001b[0;31m             \u001b[0mself\u001b[0m\u001b[0;34m.\u001b[0m\u001b[0mlog\u001b[0m\u001b[0;34m(\u001b[0m\u001b[0mlogs\u001b[0m\u001b[0;34m,\u001b[0m \u001b[0mstart_time\u001b[0m\u001b[0;34m)\u001b[0m\u001b[0;34m\u001b[0m\u001b[0;34m\u001b[0m\u001b[0m\n\u001b[0m\u001b[1;32m   3046\u001b[0m \u001b[0;34m\u001b[0m\u001b[0m\n\u001b[1;32m   3047\u001b[0m         \u001b[0mmetrics\u001b[0m \u001b[0;34m=\u001b[0m \u001b[0;32mNone\u001b[0m\u001b[0;34m\u001b[0m\u001b[0;34m\u001b[0m\u001b[0m\n",
            "\u001b[0;32m/usr/local/lib/python3.11/dist-packages/transformers/trainer.py\u001b[0m in \u001b[0;36mlog\u001b[0;34m(self, logs, start_time)\u001b[0m\n\u001b[1;32m   3568\u001b[0m         \u001b[0moutput\u001b[0m \u001b[0;34m=\u001b[0m \u001b[0;34m{\u001b[0m\u001b[0;34m**\u001b[0m\u001b[0mlogs\u001b[0m\u001b[0;34m,\u001b[0m \u001b[0;34m**\u001b[0m\u001b[0;34m{\u001b[0m\u001b[0;34m\"step\"\u001b[0m\u001b[0;34m:\u001b[0m \u001b[0mself\u001b[0m\u001b[0;34m.\u001b[0m\u001b[0mstate\u001b[0m\u001b[0;34m.\u001b[0m\u001b[0mglobal_step\u001b[0m\u001b[0;34m}\u001b[0m\u001b[0;34m}\u001b[0m\u001b[0;34m\u001b[0m\u001b[0;34m\u001b[0m\u001b[0m\n\u001b[1;32m   3569\u001b[0m         \u001b[0mself\u001b[0m\u001b[0;34m.\u001b[0m\u001b[0mstate\u001b[0m\u001b[0;34m.\u001b[0m\u001b[0mlog_history\u001b[0m\u001b[0;34m.\u001b[0m\u001b[0mappend\u001b[0m\u001b[0;34m(\u001b[0m\u001b[0moutput\u001b[0m\u001b[0;34m)\u001b[0m\u001b[0;34m\u001b[0m\u001b[0;34m\u001b[0m\u001b[0m\n\u001b[0;32m-> 3570\u001b[0;31m         \u001b[0mself\u001b[0m\u001b[0;34m.\u001b[0m\u001b[0mcontrol\u001b[0m \u001b[0;34m=\u001b[0m \u001b[0mself\u001b[0m\u001b[0;34m.\u001b[0m\u001b[0mcallback_handler\u001b[0m\u001b[0;34m.\u001b[0m\u001b[0mon_log\u001b[0m\u001b[0;34m(\u001b[0m\u001b[0mself\u001b[0m\u001b[0;34m.\u001b[0m\u001b[0margs\u001b[0m\u001b[0;34m,\u001b[0m \u001b[0mself\u001b[0m\u001b[0;34m.\u001b[0m\u001b[0mstate\u001b[0m\u001b[0;34m,\u001b[0m \u001b[0mself\u001b[0m\u001b[0;34m.\u001b[0m\u001b[0mcontrol\u001b[0m\u001b[0;34m,\u001b[0m \u001b[0mlogs\u001b[0m\u001b[0;34m)\u001b[0m\u001b[0;34m\u001b[0m\u001b[0;34m\u001b[0m\u001b[0m\n\u001b[0m\u001b[1;32m   3571\u001b[0m \u001b[0;34m\u001b[0m\u001b[0m\n\u001b[1;32m   3572\u001b[0m     \u001b[0;32mdef\u001b[0m \u001b[0m_prepare_input\u001b[0m\u001b[0;34m(\u001b[0m\u001b[0mself\u001b[0m\u001b[0;34m,\u001b[0m \u001b[0mdata\u001b[0m\u001b[0;34m:\u001b[0m \u001b[0mUnion\u001b[0m\u001b[0;34m[\u001b[0m\u001b[0mtorch\u001b[0m\u001b[0;34m.\u001b[0m\u001b[0mTensor\u001b[0m\u001b[0;34m,\u001b[0m \u001b[0mAny\u001b[0m\u001b[0;34m]\u001b[0m\u001b[0;34m)\u001b[0m \u001b[0;34m->\u001b[0m \u001b[0mUnion\u001b[0m\u001b[0;34m[\u001b[0m\u001b[0mtorch\u001b[0m\u001b[0;34m.\u001b[0m\u001b[0mTensor\u001b[0m\u001b[0;34m,\u001b[0m \u001b[0mAny\u001b[0m\u001b[0;34m]\u001b[0m\u001b[0;34m:\u001b[0m\u001b[0;34m\u001b[0m\u001b[0;34m\u001b[0m\u001b[0m\n",
            "\u001b[0;32m/usr/local/lib/python3.11/dist-packages/transformers/trainer_callback.py\u001b[0m in \u001b[0;36mon_log\u001b[0;34m(self, args, state, control, logs)\u001b[0m\n\u001b[1;32m    510\u001b[0m     \u001b[0;32mdef\u001b[0m \u001b[0mon_log\u001b[0m\u001b[0;34m(\u001b[0m\u001b[0mself\u001b[0m\u001b[0;34m,\u001b[0m \u001b[0margs\u001b[0m\u001b[0;34m:\u001b[0m \u001b[0mTrainingArguments\u001b[0m\u001b[0;34m,\u001b[0m \u001b[0mstate\u001b[0m\u001b[0;34m:\u001b[0m \u001b[0mTrainerState\u001b[0m\u001b[0;34m,\u001b[0m \u001b[0mcontrol\u001b[0m\u001b[0;34m:\u001b[0m \u001b[0mTrainerControl\u001b[0m\u001b[0;34m,\u001b[0m \u001b[0mlogs\u001b[0m\u001b[0;34m)\u001b[0m\u001b[0;34m:\u001b[0m\u001b[0;34m\u001b[0m\u001b[0;34m\u001b[0m\u001b[0m\n\u001b[1;32m    511\u001b[0m         \u001b[0mcontrol\u001b[0m\u001b[0;34m.\u001b[0m\u001b[0mshould_log\u001b[0m \u001b[0;34m=\u001b[0m \u001b[0;32mFalse\u001b[0m\u001b[0;34m\u001b[0m\u001b[0;34m\u001b[0m\u001b[0m\n\u001b[0;32m--> 512\u001b[0;31m         \u001b[0;32mreturn\u001b[0m \u001b[0mself\u001b[0m\u001b[0;34m.\u001b[0m\u001b[0mcall_event\u001b[0m\u001b[0;34m(\u001b[0m\u001b[0;34m\"on_log\"\u001b[0m\u001b[0;34m,\u001b[0m \u001b[0margs\u001b[0m\u001b[0;34m,\u001b[0m \u001b[0mstate\u001b[0m\u001b[0;34m,\u001b[0m \u001b[0mcontrol\u001b[0m\u001b[0;34m,\u001b[0m \u001b[0mlogs\u001b[0m\u001b[0;34m=\u001b[0m\u001b[0mlogs\u001b[0m\u001b[0;34m)\u001b[0m\u001b[0;34m\u001b[0m\u001b[0;34m\u001b[0m\u001b[0m\n\u001b[0m\u001b[1;32m    513\u001b[0m \u001b[0;34m\u001b[0m\u001b[0m\n\u001b[1;32m    514\u001b[0m     \u001b[0;32mdef\u001b[0m \u001b[0mon_prediction_step\u001b[0m\u001b[0;34m(\u001b[0m\u001b[0mself\u001b[0m\u001b[0;34m,\u001b[0m \u001b[0margs\u001b[0m\u001b[0;34m:\u001b[0m \u001b[0mTrainingArguments\u001b[0m\u001b[0;34m,\u001b[0m \u001b[0mstate\u001b[0m\u001b[0;34m:\u001b[0m \u001b[0mTrainerState\u001b[0m\u001b[0;34m,\u001b[0m \u001b[0mcontrol\u001b[0m\u001b[0;34m:\u001b[0m \u001b[0mTrainerControl\u001b[0m\u001b[0;34m)\u001b[0m\u001b[0;34m:\u001b[0m\u001b[0;34m\u001b[0m\u001b[0;34m\u001b[0m\u001b[0m\n",
            "\u001b[0;32m/usr/local/lib/python3.11/dist-packages/transformers/trainer_callback.py\u001b[0m in \u001b[0;36mcall_event\u001b[0;34m(self, event, args, state, control, **kwargs)\u001b[0m\n\u001b[1;32m    517\u001b[0m     \u001b[0;32mdef\u001b[0m \u001b[0mcall_event\u001b[0m\u001b[0;34m(\u001b[0m\u001b[0mself\u001b[0m\u001b[0;34m,\u001b[0m \u001b[0mevent\u001b[0m\u001b[0;34m,\u001b[0m \u001b[0margs\u001b[0m\u001b[0;34m,\u001b[0m \u001b[0mstate\u001b[0m\u001b[0;34m,\u001b[0m \u001b[0mcontrol\u001b[0m\u001b[0;34m,\u001b[0m \u001b[0;34m**\u001b[0m\u001b[0mkwargs\u001b[0m\u001b[0;34m)\u001b[0m\u001b[0;34m:\u001b[0m\u001b[0;34m\u001b[0m\u001b[0;34m\u001b[0m\u001b[0m\n\u001b[1;32m    518\u001b[0m         \u001b[0;32mfor\u001b[0m \u001b[0mcallback\u001b[0m \u001b[0;32min\u001b[0m \u001b[0mself\u001b[0m\u001b[0;34m.\u001b[0m\u001b[0mcallbacks\u001b[0m\u001b[0;34m:\u001b[0m\u001b[0;34m\u001b[0m\u001b[0;34m\u001b[0m\u001b[0m\n\u001b[0;32m--> 519\u001b[0;31m             result = getattr(callback, event)(\n\u001b[0m\u001b[1;32m    520\u001b[0m                 \u001b[0margs\u001b[0m\u001b[0;34m,\u001b[0m\u001b[0;34m\u001b[0m\u001b[0;34m\u001b[0m\u001b[0m\n\u001b[1;32m    521\u001b[0m                 \u001b[0mstate\u001b[0m\u001b[0;34m,\u001b[0m\u001b[0;34m\u001b[0m\u001b[0;34m\u001b[0m\u001b[0m\n",
            "\u001b[0;32m/usr/local/lib/python3.11/dist-packages/transformers/integrations/integration_utils.py\u001b[0m in \u001b[0;36mon_log\u001b[0;34m(self, args, state, control, model, logs, **kwargs)\u001b[0m\n\u001b[1;32m    968\u001b[0m             \u001b[0mnon_scalar_logs\u001b[0m \u001b[0;34m=\u001b[0m \u001b[0;34m{\u001b[0m\u001b[0mk\u001b[0m\u001b[0;34m:\u001b[0m \u001b[0mv\u001b[0m \u001b[0;32mfor\u001b[0m \u001b[0mk\u001b[0m\u001b[0;34m,\u001b[0m \u001b[0mv\u001b[0m \u001b[0;32min\u001b[0m \u001b[0mlogs\u001b[0m\u001b[0;34m.\u001b[0m\u001b[0mitems\u001b[0m\u001b[0;34m(\u001b[0m\u001b[0;34m)\u001b[0m \u001b[0;32mif\u001b[0m \u001b[0mk\u001b[0m \u001b[0;32mnot\u001b[0m \u001b[0;32min\u001b[0m \u001b[0msingle_value_scalars\u001b[0m\u001b[0;34m}\u001b[0m\u001b[0;34m\u001b[0m\u001b[0;34m\u001b[0m\u001b[0m\n\u001b[1;32m    969\u001b[0m             \u001b[0mnon_scalar_logs\u001b[0m \u001b[0;34m=\u001b[0m \u001b[0mrewrite_logs\u001b[0m\u001b[0;34m(\u001b[0m\u001b[0mnon_scalar_logs\u001b[0m\u001b[0;34m)\u001b[0m\u001b[0;34m\u001b[0m\u001b[0;34m\u001b[0m\u001b[0m\n\u001b[0;32m--> 970\u001b[0;31m             \u001b[0mself\u001b[0m\u001b[0;34m.\u001b[0m\u001b[0m_wandb\u001b[0m\u001b[0;34m.\u001b[0m\u001b[0mlog\u001b[0m\u001b[0;34m(\u001b[0m\u001b[0;34m{\u001b[0m\u001b[0;34m**\u001b[0m\u001b[0mnon_scalar_logs\u001b[0m\u001b[0;34m,\u001b[0m \u001b[0;34m\"train/global_step\"\u001b[0m\u001b[0;34m:\u001b[0m \u001b[0mstate\u001b[0m\u001b[0;34m.\u001b[0m\u001b[0mglobal_step\u001b[0m\u001b[0;34m}\u001b[0m\u001b[0;34m)\u001b[0m\u001b[0;34m\u001b[0m\u001b[0;34m\u001b[0m\u001b[0m\n\u001b[0m\u001b[1;32m    971\u001b[0m \u001b[0;34m\u001b[0m\u001b[0m\n\u001b[1;32m    972\u001b[0m     \u001b[0;32mdef\u001b[0m \u001b[0mon_save\u001b[0m\u001b[0;34m(\u001b[0m\u001b[0mself\u001b[0m\u001b[0;34m,\u001b[0m \u001b[0margs\u001b[0m\u001b[0;34m,\u001b[0m \u001b[0mstate\u001b[0m\u001b[0;34m,\u001b[0m \u001b[0mcontrol\u001b[0m\u001b[0;34m,\u001b[0m \u001b[0;34m**\u001b[0m\u001b[0mkwargs\u001b[0m\u001b[0;34m)\u001b[0m\u001b[0;34m:\u001b[0m\u001b[0;34m\u001b[0m\u001b[0;34m\u001b[0m\u001b[0m\n",
            "\u001b[0;32m/usr/local/lib/python3.11/dist-packages/wandb/sdk/lib/preinit.py\u001b[0m in \u001b[0;36mpreinit_wrapper\u001b[0;34m(*args, **kwargs)\u001b[0m\n\u001b[1;32m     34\u001b[0m ) -> Callable:\n\u001b[1;32m     35\u001b[0m     \u001b[0;32mdef\u001b[0m \u001b[0mpreinit_wrapper\u001b[0m\u001b[0;34m(\u001b[0m\u001b[0;34m*\u001b[0m\u001b[0margs\u001b[0m\u001b[0;34m:\u001b[0m \u001b[0mAny\u001b[0m\u001b[0;34m,\u001b[0m \u001b[0;34m**\u001b[0m\u001b[0mkwargs\u001b[0m\u001b[0;34m:\u001b[0m \u001b[0mAny\u001b[0m\u001b[0;34m)\u001b[0m \u001b[0;34m->\u001b[0m \u001b[0mAny\u001b[0m\u001b[0;34m:\u001b[0m\u001b[0;34m\u001b[0m\u001b[0;34m\u001b[0m\u001b[0m\n\u001b[0;32m---> 36\u001b[0;31m         \u001b[0;32mraise\u001b[0m \u001b[0mwandb\u001b[0m\u001b[0;34m.\u001b[0m\u001b[0mError\u001b[0m\u001b[0;34m(\u001b[0m\u001b[0;34mf\"You must call wandb.init() before {name}()\"\u001b[0m\u001b[0;34m)\u001b[0m\u001b[0;34m\u001b[0m\u001b[0;34m\u001b[0m\u001b[0m\n\u001b[0m\u001b[1;32m     37\u001b[0m \u001b[0;34m\u001b[0m\u001b[0m\n\u001b[1;32m     38\u001b[0m     \u001b[0mpreinit_wrapper\u001b[0m\u001b[0;34m.\u001b[0m\u001b[0m__name__\u001b[0m \u001b[0;34m=\u001b[0m \u001b[0mstr\u001b[0m\u001b[0;34m(\u001b[0m\u001b[0mname\u001b[0m\u001b[0;34m)\u001b[0m\u001b[0;34m\u001b[0m\u001b[0;34m\u001b[0m\u001b[0m\n",
            "\u001b[0;31mError\u001b[0m: You must call wandb.init() before wandb.log()"
          ]
        }
      ],
      "source": [
        "trainer.train()"
      ]
    },
    {
      "cell_type": "code",
      "execution_count": null,
      "metadata": {
        "id": "OzebqlTjgbsE"
      },
      "outputs": [],
      "source": [
        "predictions = trainer.predict(tokenized_datasets[\"validation\"])\n",
        "print(predictions.predictions.shape, predictions.label_ids.shape)"
      ]
    },
    {
      "cell_type": "code",
      "execution_count": null,
      "metadata": {
        "id": "fYLOOMj6hJIS"
      },
      "outputs": [],
      "source": [
        "import numpy as np\n",
        "\n",
        "preds = np.argmax(predictions.predictions, axis=-1)"
      ]
    },
    {
      "cell_type": "code",
      "execution_count": null,
      "metadata": {
        "id": "O2_Tm3ozitb_"
      },
      "outputs": [],
      "source": [
        "preds"
      ]
    },
    {
      "cell_type": "code",
      "execution_count": null,
      "metadata": {
        "id": "YxQhMYPbiyvB"
      },
      "outputs": [],
      "source": [
        "!pip install evaluate"
      ]
    },
    {
      "cell_type": "code",
      "execution_count": null,
      "metadata": {
        "id": "5BdTDcKxhS4H"
      },
      "outputs": [],
      "source": [
        "import evaluate\n",
        "\n",
        "metric = evaluate.load(\"glue\", \"mrpc\")\n",
        "metric.compute(predictions=preds, references=predictions.label_ids)"
      ]
    },
    {
      "cell_type": "code",
      "execution_count": null,
      "metadata": {
        "id": "3EPgnnAkhock"
      },
      "outputs": [],
      "source": [
        "def compute_metrics(eval_preds):\n",
        "    metric = evaluate.load(\"glue\", \"mrpc\")\n",
        "    logits, labels = eval_preds\n",
        "    predictions = np.argmax(logits, axis=-1)\n",
        "    return metric.compute(predictions=predictions, references=labels)"
      ]
    },
    {
      "cell_type": "code",
      "execution_count": null,
      "metadata": {
        "id": "sypdD2ryhq6p"
      },
      "outputs": [],
      "source": [
        "training_args = TrainingArguments(\"test-trainer\", evaluation_strategy=\"epoch\")\n",
        "model = AutoModelForSequenceClassification.from_pretrained(checkpoint, num_labels=2)\n",
        "\n",
        "trainer = Trainer(\n",
        "    model,\n",
        "    training_args,\n",
        "    train_dataset=tokenized_datasets[\"train\"],\n",
        "    eval_dataset=tokenized_datasets[\"validation\"],\n",
        "    data_collator=data_collator,\n",
        "    tokenizer=tokenizer,\n",
        "    compute_metrics=compute_metrics,\n",
        ")"
      ]
    },
    {
      "cell_type": "code",
      "execution_count": null,
      "metadata": {
        "id": "pkdP1cwCjwP0"
      },
      "outputs": [],
      "source": [
        "\n",
        "trainer.train()"
      ]
    },
    {
      "cell_type": "markdown",
      "metadata": {
        "id": "6efJ347Jj8oe"
      },
      "source": [
        "Now a full training"
      ]
    },
    {
      "cell_type": "code",
      "execution_count": null,
      "metadata": {
        "id": "b02Kg0DPj982"
      },
      "outputs": [],
      "source": [
        "from datasets import load_dataset\n",
        "from transformers import AutoTokenizer, DataCollatorWithPadding\n",
        "\n",
        "raw_datasets = load_dataset(\"glue\", \"mrpc\")\n",
        "checkpoint = \"bert-base-uncased\"\n",
        "tokenizer = AutoTokenizer.from_pretrained(checkpoint)\n",
        "\n",
        "\n",
        "def tokenize_function(example):\n",
        "    return tokenizer(example[\"sentence1\"], example[\"sentence2\"], truncation=True)\n",
        "\n",
        "\n",
        "tokenized_datasets = raw_datasets.map(tokenize_function, batched=True)\n",
        "data_collator = DataCollatorWithPadding(tokenizer=tokenizer)"
      ]
    },
    {
      "cell_type": "code",
      "execution_count": null,
      "metadata": {
        "id": "VjlIFV63kGoG"
      },
      "outputs": [],
      "source": [
        "tokenized_datasets = tokenized_datasets.remove_columns([\"sentence1\", \"sentence2\", \"idx\"])\n",
        "tokenized_datasets = tokenized_datasets.rename_column(\"label\", \"labels\")\n",
        "tokenized_datasets.set_format(\"torch\")\n",
        "tokenized_datasets[\"train\"].column_names"
      ]
    },
    {
      "cell_type": "code",
      "execution_count": null,
      "metadata": {
        "id": "9XvyE91MkJ1E"
      },
      "outputs": [],
      "source": [
        "from torch.utils.data import DataLoader\n",
        "\n",
        "train_dataloader = DataLoader(\n",
        "    tokenized_datasets[\"train\"], shuffle=True, batch_size=8, collate_fn=data_collator\n",
        ")\n",
        "eval_dataloader = DataLoader(\n",
        "    tokenized_datasets[\"validation\"], batch_size=8, collate_fn=data_collator\n",
        ")"
      ]
    },
    {
      "cell_type": "code",
      "execution_count": null,
      "metadata": {
        "id": "hd55NyvZkMgw"
      },
      "outputs": [],
      "source": [
        "for batch in train_dataloader:\n",
        "    break\n",
        "{k: v.shape for k, v in batch.items()}"
      ]
    },
    {
      "cell_type": "code",
      "execution_count": null,
      "metadata": {
        "id": "iPBhfSOkkTTL"
      },
      "outputs": [],
      "source": [
        "from transformers import AutoModelForSequenceClassification\n",
        "\n",
        "model = AutoModelForSequenceClassification.from_pretrained(checkpoint, num_labels=2)"
      ]
    },
    {
      "cell_type": "code",
      "execution_count": null,
      "metadata": {
        "id": "IfrhUdnSkUmG"
      },
      "outputs": [],
      "source": [
        "outputs = model(**batch)\n",
        "print(outputs.loss, outputs.logits.shape)"
      ]
    },
    {
      "cell_type": "code",
      "execution_count": null,
      "metadata": {
        "id": "nnaGl3MdkajX"
      },
      "outputs": [],
      "source": [
        "from transformers import AdamW\n",
        "\n",
        "optimizer = AdamW(model.parameters(), lr=5e-5)"
      ]
    },
    {
      "cell_type": "code",
      "execution_count": null,
      "metadata": {
        "id": "82MTsQgqkb5Y"
      },
      "outputs": [],
      "source": [
        "from transformers import get_scheduler\n",
        "\n",
        "num_epochs = 3\n",
        "num_training_steps = num_epochs * len(train_dataloader)\n",
        "lr_scheduler = get_scheduler(\n",
        "    \"linear\",\n",
        "    optimizer=optimizer,\n",
        "    num_warmup_steps=0,\n",
        "    num_training_steps=num_training_steps,\n",
        ")\n",
        "print(num_training_steps)"
      ]
    },
    {
      "cell_type": "code",
      "execution_count": null,
      "metadata": {
        "id": "tXc1lJ-skfhW"
      },
      "outputs": [],
      "source": [
        "import torch\n",
        "\n",
        "device = torch.device(\"cuda\") if torch.cuda.is_available() else torch.device(\"cpu\")\n",
        "model.to(device)\n",
        "device"
      ]
    },
    {
      "cell_type": "code",
      "execution_count": null,
      "metadata": {
        "id": "lnOWXUqqkjmk"
      },
      "outputs": [],
      "source": [
        "from tqdm.auto import tqdm\n",
        "\n",
        "progress_bar = tqdm(range(num_training_steps))\n",
        "\n",
        "model.train()\n",
        "for epoch in range(num_epochs):\n",
        "    for batch in train_dataloader:\n",
        "        batch = {k: v.to(device) for k, v in batch.items()}\n",
        "        outputs = model(**batch)\n",
        "        loss = outputs.loss\n",
        "        loss.backward()\n",
        "\n",
        "        optimizer.step()\n",
        "        lr_scheduler.step()\n",
        "        optimizer.zero_grad()\n",
        "        progress_bar.update(1)"
      ]
    },
    {
      "cell_type": "code",
      "execution_count": null,
      "metadata": {
        "id": "qv9I0PiYkmvg"
      },
      "outputs": [],
      "source": [
        "import evaluate\n",
        "\n",
        "metric = evaluate.load(\"glue\", \"mrpc\")\n",
        "model.eval()\n",
        "for batch in eval_dataloader:\n",
        "    batch = {k: v.to(device) for k, v in batch.items()}\n",
        "    with torch.no_grad():\n",
        "        outputs = model(**batch)\n",
        "\n",
        "    logits = outputs.logits\n",
        "    predictions = torch.argmax(logits, dim=-1)\n",
        "    metric.add_batch(predictions=predictions, references=batch[\"labels\"])\n",
        "\n",
        "metric.compute()"
      ]
    },
    {
      "cell_type": "markdown",
      "metadata": {
        "id": "YTnucdcmkwDM"
      },
      "source": [
        "Now with \"accelerate\":"
      ]
    },
    {
      "cell_type": "code",
      "execution_count": null,
      "metadata": {
        "id": "J7UxSjGtkvgu"
      },
      "outputs": [],
      "source": [
        "from transformers import AdamW, AutoModelForSequenceClassification, get_scheduler\n",
        "\n",
        "model = AutoModelForSequenceClassification.from_pretrained(checkpoint, num_labels=2)\n",
        "optimizer = AdamW(model.parameters(), lr=3e-5)\n",
        "\n",
        "device = torch.device(\"cuda\") if torch.cuda.is_available() else torch.device(\"cpu\")\n",
        "model.to(device)\n",
        "\n",
        "num_epochs = 3\n",
        "num_training_steps = num_epochs * len(train_dataloader)\n",
        "lr_scheduler = get_scheduler(\n",
        "    \"linear\",\n",
        "    optimizer=optimizer,\n",
        "    num_warmup_steps=0,\n",
        "    num_training_steps=num_training_steps,\n",
        ")\n",
        "\n",
        "progress_bar = tqdm(range(num_training_steps))\n",
        "\n",
        "model.train()\n",
        "for epoch in range(num_epochs):\n",
        "    for batch in train_dataloader:\n",
        "        batch = {k: v.to(device) for k, v in batch.items()}\n",
        "        outputs = model(**batch)\n",
        "        loss = outputs.loss\n",
        "        loss.backward()\n",
        "\n",
        "        optimizer.step()\n",
        "        lr_scheduler.step()\n",
        "        optimizer.zero_grad()\n",
        "        progress_bar.update(1)"
      ]
    },
    {
      "cell_type": "code",
      "execution_count": null,
      "metadata": {
        "id": "AJ-OOmeJlo08"
      },
      "outputs": [],
      "source": [
        "from accelerate import Accelerator\n",
        "from transformers import AdamW, AutoModelForSequenceClassification, get_scheduler\n",
        "\n",
        "accelerator = Accelerator()\n",
        "\n",
        "model = AutoModelForSequenceClassification.from_pretrained(checkpoint, num_labels=2)\n",
        "optimizer = AdamW(model.parameters(), lr=3e-5)\n",
        "\n",
        "train_dl, eval_dl, model, optimizer = accelerator.prepare(\n",
        "    train_dataloader, eval_dataloader, model, optimizer\n",
        ")\n",
        "\n",
        "num_epochs = 3\n",
        "num_training_steps = num_epochs * len(train_dl)\n",
        "lr_scheduler = get_scheduler(\n",
        "    \"linear\",\n",
        "    optimizer=optimizer,\n",
        "    num_warmup_steps=0,\n",
        "    num_training_steps=num_training_steps,\n",
        ")\n",
        "\n",
        "progress_bar = tqdm(range(num_training_steps))\n",
        "\n",
        "model.train()\n",
        "for epoch in range(num_epochs):\n",
        "    for batch in train_dl:\n",
        "        outputs = model(**batch)\n",
        "        loss = outputs.loss\n",
        "        accelerator.backward(loss)\n",
        "\n",
        "        optimizer.step()\n",
        "        lr_scheduler.step()\n",
        "        optimizer.zero_grad()\n",
        "        progress_bar.update(1)"
      ]
    }
  ],
  "metadata": {
    "accelerator": "GPU",
    "colab": {
      "authorship_tag": "ABX9TyN33iO/22NS8ODDUdhWLwRM",
      "gpuType": "T4",
      "include_colab_link": true,
      "provenance": []
    },
    "kernelspec": {
      "display_name": "sandbox-transformers",
      "language": "python",
      "name": "python3"
    },
    "language_info": {
      "codemirror_mode": {
        "name": "ipython",
        "version": 3
      },
      "file_extension": ".py",
      "mimetype": "text/x-python",
      "name": "python",
      "nbconvert_exporter": "python",
      "pygments_lexer": "ipython3",
      "version": "3.11.9"
    },
    "widgets": {
      "application/vnd.jupyter.widget-state+json": {
        "003d3158eb7e46c3b6bc75eec13b33e4": {
          "model_module": "@jupyter-widgets/controls",
          "model_module_version": "1.5.0",
          "model_name": "HTMLModel",
          "state": {
            "_dom_classes": [],
            "_model_module": "@jupyter-widgets/controls",
            "_model_module_version": "1.5.0",
            "_model_name": "HTMLModel",
            "_view_count": null,
            "_view_module": "@jupyter-widgets/controls",
            "_view_module_version": "1.5.0",
            "_view_name": "HTMLView",
            "description": "",
            "description_tooltip": null,
            "layout": "IPY_MODEL_20b1103d46404849a49afe5ebce0f2a4",
            "placeholder": "​",
            "style": "IPY_MODEL_6b973777c7ee4849a06acbabb61addbf",
            "value": " 899k/899k [00:00&lt;00:00, 11.8MB/s]"
          }
        },
        "017acb3c20cd4b46bf02419fb9646b74": {
          "model_module": "@jupyter-widgets/controls",
          "model_module_version": "1.5.0",
          "model_name": "HTMLModel",
          "state": {
            "_dom_classes": [],
            "_model_module": "@jupyter-widgets/controls",
            "_model_module_version": "1.5.0",
            "_model_name": "HTMLModel",
            "_view_count": null,
            "_view_module": "@jupyter-widgets/controls",
            "_view_module_version": "1.5.0",
            "_view_name": "HTMLView",
            "description": "",
            "description_tooltip": null,
            "layout": "IPY_MODEL_4710e36a274d49e880b3f2af7fc5e875",
            "placeholder": "​",
            "style": "IPY_MODEL_a5b419f179a942a19ad6220a6055c6bd",
            "value": "vocab.json: 100%"
          }
        },
        "01b1ec841822442895f57c523912588a": {
          "model_module": "@jupyter-widgets/controls",
          "model_module_version": "1.5.0",
          "model_name": "DescriptionStyleModel",
          "state": {
            "_model_module": "@jupyter-widgets/controls",
            "_model_module_version": "1.5.0",
            "_model_name": "DescriptionStyleModel",
            "_view_count": null,
            "_view_module": "@jupyter-widgets/base",
            "_view_module_version": "1.2.0",
            "_view_name": "StyleView",
            "description_width": ""
          }
        },
        "025e9eb404704670a99e911ce06fbfcd": {
          "model_module": "@jupyter-widgets/controls",
          "model_module_version": "1.5.0",
          "model_name": "HBoxModel",
          "state": {
            "_dom_classes": [],
            "_model_module": "@jupyter-widgets/controls",
            "_model_module_version": "1.5.0",
            "_model_name": "HBoxModel",
            "_view_count": null,
            "_view_module": "@jupyter-widgets/controls",
            "_view_module_version": "1.5.0",
            "_view_name": "HBoxView",
            "box_style": "",
            "children": [
              "IPY_MODEL_e3218b1195db46e9b5a316f03aeec59e",
              "IPY_MODEL_7ad87a7dd4ac4d11a8c833ca316d2a85",
              "IPY_MODEL_003d3158eb7e46c3b6bc75eec13b33e4"
            ],
            "layout": "IPY_MODEL_429edc31fa95413f8191bbd999481fa9"
          }
        },
        "02b9dfa584184c9298fcc20d132db387": {
          "model_module": "@jupyter-widgets/base",
          "model_module_version": "1.2.0",
          "model_name": "LayoutModel",
          "state": {
            "_model_module": "@jupyter-widgets/base",
            "_model_module_version": "1.2.0",
            "_model_name": "LayoutModel",
            "_view_count": null,
            "_view_module": "@jupyter-widgets/base",
            "_view_module_version": "1.2.0",
            "_view_name": "LayoutView",
            "align_content": null,
            "align_items": null,
            "align_self": null,
            "border": null,
            "bottom": null,
            "display": null,
            "flex": null,
            "flex_flow": null,
            "grid_area": null,
            "grid_auto_columns": null,
            "grid_auto_flow": null,
            "grid_auto_rows": null,
            "grid_column": null,
            "grid_gap": null,
            "grid_row": null,
            "grid_template_areas": null,
            "grid_template_columns": null,
            "grid_template_rows": null,
            "height": null,
            "justify_content": null,
            "justify_items": null,
            "left": null,
            "margin": null,
            "max_height": null,
            "max_width": null,
            "min_height": null,
            "min_width": null,
            "object_fit": null,
            "object_position": null,
            "order": null,
            "overflow": null,
            "overflow_x": null,
            "overflow_y": null,
            "padding": null,
            "right": null,
            "top": null,
            "visibility": null,
            "width": null
          }
        },
        "03450b7321b24c94947c2341b9bac2ff": {
          "model_module": "@jupyter-widgets/controls",
          "model_module_version": "1.5.0",
          "model_name": "DescriptionStyleModel",
          "state": {
            "_model_module": "@jupyter-widgets/controls",
            "_model_module_version": "1.5.0",
            "_model_name": "DescriptionStyleModel",
            "_view_count": null,
            "_view_module": "@jupyter-widgets/base",
            "_view_module_version": "1.2.0",
            "_view_name": "StyleView",
            "description_width": ""
          }
        },
        "040968f8cbc547408b2863deba6e7e38": {
          "model_module": "@jupyter-widgets/base",
          "model_module_version": "1.2.0",
          "model_name": "LayoutModel",
          "state": {
            "_model_module": "@jupyter-widgets/base",
            "_model_module_version": "1.2.0",
            "_model_name": "LayoutModel",
            "_view_count": null,
            "_view_module": "@jupyter-widgets/base",
            "_view_module_version": "1.2.0",
            "_view_name": "LayoutView",
            "align_content": null,
            "align_items": null,
            "align_self": null,
            "border": null,
            "bottom": null,
            "display": null,
            "flex": null,
            "flex_flow": null,
            "grid_area": null,
            "grid_auto_columns": null,
            "grid_auto_flow": null,
            "grid_auto_rows": null,
            "grid_column": null,
            "grid_gap": null,
            "grid_row": null,
            "grid_template_areas": null,
            "grid_template_columns": null,
            "grid_template_rows": null,
            "height": null,
            "justify_content": null,
            "justify_items": null,
            "left": null,
            "margin": null,
            "max_height": null,
            "max_width": null,
            "min_height": null,
            "min_width": null,
            "object_fit": null,
            "object_position": null,
            "order": null,
            "overflow": null,
            "overflow_x": null,
            "overflow_y": null,
            "padding": null,
            "right": null,
            "top": null,
            "visibility": null,
            "width": null
          }
        },
        "0445687f96714d96a6dd71d0444b75ad": {
          "model_module": "@jupyter-widgets/base",
          "model_module_version": "1.2.0",
          "model_name": "LayoutModel",
          "state": {
            "_model_module": "@jupyter-widgets/base",
            "_model_module_version": "1.2.0",
            "_model_name": "LayoutModel",
            "_view_count": null,
            "_view_module": "@jupyter-widgets/base",
            "_view_module_version": "1.2.0",
            "_view_name": "LayoutView",
            "align_content": null,
            "align_items": null,
            "align_self": null,
            "border": null,
            "bottom": null,
            "display": null,
            "flex": null,
            "flex_flow": null,
            "grid_area": null,
            "grid_auto_columns": null,
            "grid_auto_flow": null,
            "grid_auto_rows": null,
            "grid_column": null,
            "grid_gap": null,
            "grid_row": null,
            "grid_template_areas": null,
            "grid_template_columns": null,
            "grid_template_rows": null,
            "height": null,
            "justify_content": null,
            "justify_items": null,
            "left": null,
            "margin": null,
            "max_height": null,
            "max_width": null,
            "min_height": null,
            "min_width": null,
            "object_fit": null,
            "object_position": null,
            "order": null,
            "overflow": null,
            "overflow_x": null,
            "overflow_y": null,
            "padding": null,
            "right": null,
            "top": null,
            "visibility": null,
            "width": null
          }
        },
        "04b8f73f4feb454a88b775ff87558f96": {
          "model_module": "@jupyter-widgets/base",
          "model_module_version": "1.2.0",
          "model_name": "LayoutModel",
          "state": {
            "_model_module": "@jupyter-widgets/base",
            "_model_module_version": "1.2.0",
            "_model_name": "LayoutModel",
            "_view_count": null,
            "_view_module": "@jupyter-widgets/base",
            "_view_module_version": "1.2.0",
            "_view_name": "LayoutView",
            "align_content": null,
            "align_items": null,
            "align_self": null,
            "border": null,
            "bottom": null,
            "display": null,
            "flex": null,
            "flex_flow": null,
            "grid_area": null,
            "grid_auto_columns": null,
            "grid_auto_flow": null,
            "grid_auto_rows": null,
            "grid_column": null,
            "grid_gap": null,
            "grid_row": null,
            "grid_template_areas": null,
            "grid_template_columns": null,
            "grid_template_rows": null,
            "height": null,
            "justify_content": null,
            "justify_items": null,
            "left": null,
            "margin": null,
            "max_height": null,
            "max_width": null,
            "min_height": null,
            "min_width": null,
            "object_fit": null,
            "object_position": null,
            "order": null,
            "overflow": null,
            "overflow_x": null,
            "overflow_y": null,
            "padding": null,
            "right": null,
            "top": null,
            "visibility": null,
            "width": null
          }
        },
        "0597ecfe1dcb4cfcab723c55ec6f35d9": {
          "model_module": "@jupyter-widgets/controls",
          "model_module_version": "1.5.0",
          "model_name": "HTMLModel",
          "state": {
            "_dom_classes": [],
            "_model_module": "@jupyter-widgets/controls",
            "_model_module_version": "1.5.0",
            "_model_name": "HTMLModel",
            "_view_count": null,
            "_view_module": "@jupyter-widgets/controls",
            "_view_module_version": "1.5.0",
            "_view_name": "HTMLView",
            "description": "",
            "description_tooltip": null,
            "layout": "IPY_MODEL_a3cae66eee0d42079dd8d6525d7fd6b0",
            "placeholder": "​",
            "style": "IPY_MODEL_841812bd49264ff18f8a97c58f287647",
            "value": "merges.txt: 100%"
          }
        },
        "05ecf30c88e94cacbc1ae486ad498e39": {
          "model_module": "@jupyter-widgets/base",
          "model_module_version": "1.2.0",
          "model_name": "LayoutModel",
          "state": {
            "_model_module": "@jupyter-widgets/base",
            "_model_module_version": "1.2.0",
            "_model_name": "LayoutModel",
            "_view_count": null,
            "_view_module": "@jupyter-widgets/base",
            "_view_module_version": "1.2.0",
            "_view_name": "LayoutView",
            "align_content": null,
            "align_items": null,
            "align_self": null,
            "border": null,
            "bottom": null,
            "display": null,
            "flex": null,
            "flex_flow": null,
            "grid_area": null,
            "grid_auto_columns": null,
            "grid_auto_flow": null,
            "grid_auto_rows": null,
            "grid_column": null,
            "grid_gap": null,
            "grid_row": null,
            "grid_template_areas": null,
            "grid_template_columns": null,
            "grid_template_rows": null,
            "height": null,
            "justify_content": null,
            "justify_items": null,
            "left": null,
            "margin": null,
            "max_height": null,
            "max_width": null,
            "min_height": null,
            "min_width": null,
            "object_fit": null,
            "object_position": null,
            "order": null,
            "overflow": null,
            "overflow_x": null,
            "overflow_y": null,
            "padding": null,
            "right": null,
            "top": null,
            "visibility": null,
            "width": null
          }
        },
        "07490aca543d48cfb9eeffcbae7e7f76": {
          "model_module": "@jupyter-widgets/controls",
          "model_module_version": "1.5.0",
          "model_name": "HTMLModel",
          "state": {
            "_dom_classes": [],
            "_model_module": "@jupyter-widgets/controls",
            "_model_module_version": "1.5.0",
            "_model_name": "HTMLModel",
            "_view_count": null,
            "_view_module": "@jupyter-widgets/controls",
            "_view_module_version": "1.5.0",
            "_view_name": "HTMLView",
            "description": "",
            "description_tooltip": null,
            "layout": "IPY_MODEL_65ce2169349444839319b177538ebf90",
            "placeholder": "​",
            "style": "IPY_MODEL_bc5c097ba49d48a4a83dd0df7b6a7624",
            "value": " 25.0/25.0 [00:00&lt;00:00, 1.99kB/s]"
          }
        },
        "076e4455e2214572a979ea84c9d2b6f0": {
          "model_module": "@jupyter-widgets/base",
          "model_module_version": "1.2.0",
          "model_name": "LayoutModel",
          "state": {
            "_model_module": "@jupyter-widgets/base",
            "_model_module_version": "1.2.0",
            "_model_name": "LayoutModel",
            "_view_count": null,
            "_view_module": "@jupyter-widgets/base",
            "_view_module_version": "1.2.0",
            "_view_name": "LayoutView",
            "align_content": null,
            "align_items": null,
            "align_self": null,
            "border": null,
            "bottom": null,
            "display": null,
            "flex": null,
            "flex_flow": null,
            "grid_area": null,
            "grid_auto_columns": null,
            "grid_auto_flow": null,
            "grid_auto_rows": null,
            "grid_column": null,
            "grid_gap": null,
            "grid_row": null,
            "grid_template_areas": null,
            "grid_template_columns": null,
            "grid_template_rows": null,
            "height": null,
            "justify_content": null,
            "justify_items": null,
            "left": null,
            "margin": null,
            "max_height": null,
            "max_width": null,
            "min_height": null,
            "min_width": null,
            "object_fit": null,
            "object_position": null,
            "order": null,
            "overflow": null,
            "overflow_x": null,
            "overflow_y": null,
            "padding": null,
            "right": null,
            "top": null,
            "visibility": null,
            "width": null
          }
        },
        "07c261d39059412ab87327829fdf130d": {
          "model_module": "@jupyter-widgets/base",
          "model_module_version": "1.2.0",
          "model_name": "LayoutModel",
          "state": {
            "_model_module": "@jupyter-widgets/base",
            "_model_module_version": "1.2.0",
            "_model_name": "LayoutModel",
            "_view_count": null,
            "_view_module": "@jupyter-widgets/base",
            "_view_module_version": "1.2.0",
            "_view_name": "LayoutView",
            "align_content": null,
            "align_items": null,
            "align_self": null,
            "border": null,
            "bottom": null,
            "display": null,
            "flex": null,
            "flex_flow": null,
            "grid_area": null,
            "grid_auto_columns": null,
            "grid_auto_flow": null,
            "grid_auto_rows": null,
            "grid_column": null,
            "grid_gap": null,
            "grid_row": null,
            "grid_template_areas": null,
            "grid_template_columns": null,
            "grid_template_rows": null,
            "height": null,
            "justify_content": null,
            "justify_items": null,
            "left": null,
            "margin": null,
            "max_height": null,
            "max_width": null,
            "min_height": null,
            "min_width": null,
            "object_fit": null,
            "object_position": null,
            "order": null,
            "overflow": null,
            "overflow_x": null,
            "overflow_y": null,
            "padding": null,
            "right": null,
            "top": null,
            "visibility": null,
            "width": null
          }
        },
        "082d84c2530447f1b85e3ab39d0e5b9c": {
          "model_module": "@jupyter-widgets/controls",
          "model_module_version": "1.5.0",
          "model_name": "DescriptionStyleModel",
          "state": {
            "_model_module": "@jupyter-widgets/controls",
            "_model_module_version": "1.5.0",
            "_model_name": "DescriptionStyleModel",
            "_view_count": null,
            "_view_module": "@jupyter-widgets/base",
            "_view_module_version": "1.2.0",
            "_view_name": "StyleView",
            "description_width": ""
          }
        },
        "090d6b1e9d424bf498501ad76df966ab": {
          "model_module": "@jupyter-widgets/controls",
          "model_module_version": "1.5.0",
          "model_name": "HTMLModel",
          "state": {
            "_dom_classes": [],
            "_model_module": "@jupyter-widgets/controls",
            "_model_module_version": "1.5.0",
            "_model_name": "HTMLModel",
            "_view_count": null,
            "_view_module": "@jupyter-widgets/controls",
            "_view_module_version": "1.5.0",
            "_view_name": "HTMLView",
            "description": "",
            "description_tooltip": null,
            "layout": "IPY_MODEL_dc5b3008dbd44c12ab2a6f3852898a19",
            "placeholder": "​",
            "style": "IPY_MODEL_944640ff71b64f21887c4103f1937797",
            "value": "model.safetensors: 100%"
          }
        },
        "0a19f739eccf4c73b3948a9808ada7c5": {
          "model_module": "@jupyter-widgets/base",
          "model_module_version": "1.2.0",
          "model_name": "LayoutModel",
          "state": {
            "_model_module": "@jupyter-widgets/base",
            "_model_module_version": "1.2.0",
            "_model_name": "LayoutModel",
            "_view_count": null,
            "_view_module": "@jupyter-widgets/base",
            "_view_module_version": "1.2.0",
            "_view_name": "LayoutView",
            "align_content": null,
            "align_items": null,
            "align_self": null,
            "border": null,
            "bottom": null,
            "display": null,
            "flex": null,
            "flex_flow": null,
            "grid_area": null,
            "grid_auto_columns": null,
            "grid_auto_flow": null,
            "grid_auto_rows": null,
            "grid_column": null,
            "grid_gap": null,
            "grid_row": null,
            "grid_template_areas": null,
            "grid_template_columns": null,
            "grid_template_rows": null,
            "height": null,
            "justify_content": null,
            "justify_items": null,
            "left": null,
            "margin": null,
            "max_height": null,
            "max_width": null,
            "min_height": null,
            "min_width": null,
            "object_fit": null,
            "object_position": null,
            "order": null,
            "overflow": null,
            "overflow_x": null,
            "overflow_y": null,
            "padding": null,
            "right": null,
            "top": null,
            "visibility": null,
            "width": null
          }
        },
        "0aa6e4a3d72b4ccb8a9eb9c654917773": {
          "model_module": "@jupyter-widgets/controls",
          "model_module_version": "1.5.0",
          "model_name": "HBoxModel",
          "state": {
            "_dom_classes": [],
            "_model_module": "@jupyter-widgets/controls",
            "_model_module_version": "1.5.0",
            "_model_name": "HBoxModel",
            "_view_count": null,
            "_view_module": "@jupyter-widgets/controls",
            "_view_module_version": "1.5.0",
            "_view_name": "HBoxView",
            "box_style": "",
            "children": [
              "IPY_MODEL_56efe96a469a481281e1320d9f9ca3ea",
              "IPY_MODEL_7216ad22712644998df358e1239b8204",
              "IPY_MODEL_fae9eaf11d514fdfa794e917b46478ba"
            ],
            "layout": "IPY_MODEL_bb8628e37ce3467ebad76110c9031ce1"
          }
        },
        "0aed2227bc804d6f96ccf45988b41a93": {
          "model_module": "@jupyter-widgets/controls",
          "model_module_version": "1.5.0",
          "model_name": "ProgressStyleModel",
          "state": {
            "_model_module": "@jupyter-widgets/controls",
            "_model_module_version": "1.5.0",
            "_model_name": "ProgressStyleModel",
            "_view_count": null,
            "_view_module": "@jupyter-widgets/base",
            "_view_module_version": "1.2.0",
            "_view_name": "StyleView",
            "bar_color": null,
            "description_width": ""
          }
        },
        "0bf925501aba4efd9bf482557bd0fe70": {
          "model_module": "@jupyter-widgets/controls",
          "model_module_version": "1.5.0",
          "model_name": "DescriptionStyleModel",
          "state": {
            "_model_module": "@jupyter-widgets/controls",
            "_model_module_version": "1.5.0",
            "_model_name": "DescriptionStyleModel",
            "_view_count": null,
            "_view_module": "@jupyter-widgets/base",
            "_view_module_version": "1.2.0",
            "_view_name": "StyleView",
            "description_width": ""
          }
        },
        "0cf74b59ffa641468930f832c4a39296": {
          "model_module": "@jupyter-widgets/controls",
          "model_module_version": "1.5.0",
          "model_name": "DescriptionStyleModel",
          "state": {
            "_model_module": "@jupyter-widgets/controls",
            "_model_module_version": "1.5.0",
            "_model_name": "DescriptionStyleModel",
            "_view_count": null,
            "_view_module": "@jupyter-widgets/base",
            "_view_module_version": "1.2.0",
            "_view_name": "StyleView",
            "description_width": ""
          }
        },
        "0d0bdbe42e7340578fac0965a91e05e6": {
          "model_module": "@jupyter-widgets/controls",
          "model_module_version": "1.5.0",
          "model_name": "HBoxModel",
          "state": {
            "_dom_classes": [],
            "_model_module": "@jupyter-widgets/controls",
            "_model_module_version": "1.5.0",
            "_model_name": "HBoxModel",
            "_view_count": null,
            "_view_module": "@jupyter-widgets/controls",
            "_view_module_version": "1.5.0",
            "_view_name": "HBoxView",
            "box_style": "",
            "children": [
              "IPY_MODEL_f42011399f7744059a6ceaf01988ced9",
              "IPY_MODEL_7604d961c8f0423aa53628c41dbcb039",
              "IPY_MODEL_a1a683b5ece2407f9b58297f5b15c959"
            ],
            "layout": "IPY_MODEL_e72ba593aa064bd2a1f4b80dde376667"
          }
        },
        "0d895359c3a34c4189f4d09211220c9b": {
          "model_module": "@jupyter-widgets/controls",
          "model_module_version": "1.5.0",
          "model_name": "FloatProgressModel",
          "state": {
            "_dom_classes": [],
            "_model_module": "@jupyter-widgets/controls",
            "_model_module_version": "1.5.0",
            "_model_name": "FloatProgressModel",
            "_view_count": null,
            "_view_module": "@jupyter-widgets/controls",
            "_view_module_version": "1.5.0",
            "_view_name": "ProgressView",
            "bar_style": "success",
            "description": "",
            "description_tooltip": null,
            "layout": "IPY_MODEL_0445687f96714d96a6dd71d0444b75ad",
            "max": 267832558,
            "min": 0,
            "orientation": "horizontal",
            "style": "IPY_MODEL_c0826b47e7d044059c035d2c133510c3",
            "value": 267832558
          }
        },
        "0f08a9d78a50435dbf22b07dae7c9021": {
          "model_module": "@jupyter-widgets/controls",
          "model_module_version": "1.5.0",
          "model_name": "DescriptionStyleModel",
          "state": {
            "_model_module": "@jupyter-widgets/controls",
            "_model_module_version": "1.5.0",
            "_model_name": "DescriptionStyleModel",
            "_view_count": null,
            "_view_module": "@jupyter-widgets/base",
            "_view_module_version": "1.2.0",
            "_view_name": "StyleView",
            "description_width": ""
          }
        },
        "0fded2a7e0b64230a167b9c75d0edf3e": {
          "model_module": "@jupyter-widgets/controls",
          "model_module_version": "1.5.0",
          "model_name": "HBoxModel",
          "state": {
            "_dom_classes": [],
            "_model_module": "@jupyter-widgets/controls",
            "_model_module_version": "1.5.0",
            "_model_name": "HBoxModel",
            "_view_count": null,
            "_view_module": "@jupyter-widgets/controls",
            "_view_module_version": "1.5.0",
            "_view_name": "HBoxView",
            "box_style": "",
            "children": [
              "IPY_MODEL_11a29e2c66264de6953a25a213e41b1b",
              "IPY_MODEL_8a073251eda54c94b4c4d45344f51aeb",
              "IPY_MODEL_4a840de99de14b2798cf5d6cb3568980"
            ],
            "layout": "IPY_MODEL_5bdc01b1ef42465f990e379072cefd2c"
          }
        },
        "1059ab1c328042b0a190962486cfc727": {
          "model_module": "@jupyter-widgets/base",
          "model_module_version": "1.2.0",
          "model_name": "LayoutModel",
          "state": {
            "_model_module": "@jupyter-widgets/base",
            "_model_module_version": "1.2.0",
            "_model_name": "LayoutModel",
            "_view_count": null,
            "_view_module": "@jupyter-widgets/base",
            "_view_module_version": "1.2.0",
            "_view_name": "LayoutView",
            "align_content": null,
            "align_items": null,
            "align_self": null,
            "border": null,
            "bottom": null,
            "display": null,
            "flex": null,
            "flex_flow": null,
            "grid_area": null,
            "grid_auto_columns": null,
            "grid_auto_flow": null,
            "grid_auto_rows": null,
            "grid_column": null,
            "grid_gap": null,
            "grid_row": null,
            "grid_template_areas": null,
            "grid_template_columns": null,
            "grid_template_rows": null,
            "height": null,
            "justify_content": null,
            "justify_items": null,
            "left": null,
            "margin": null,
            "max_height": null,
            "max_width": null,
            "min_height": null,
            "min_width": null,
            "object_fit": null,
            "object_position": null,
            "order": null,
            "overflow": null,
            "overflow_x": null,
            "overflow_y": null,
            "padding": null,
            "right": null,
            "top": null,
            "visibility": null,
            "width": null
          }
        },
        "10747f4e91c14ef28b64ad7e22de8851": {
          "model_module": "@jupyter-widgets/controls",
          "model_module_version": "1.5.0",
          "model_name": "DescriptionStyleModel",
          "state": {
            "_model_module": "@jupyter-widgets/controls",
            "_model_module_version": "1.5.0",
            "_model_name": "DescriptionStyleModel",
            "_view_count": null,
            "_view_module": "@jupyter-widgets/base",
            "_view_module_version": "1.2.0",
            "_view_name": "StyleView",
            "description_width": ""
          }
        },
        "10d7fb2a2f854f5cba3f06bcec276852": {
          "model_module": "@jupyter-widgets/controls",
          "model_module_version": "1.5.0",
          "model_name": "FloatProgressModel",
          "state": {
            "_dom_classes": [],
            "_model_module": "@jupyter-widgets/controls",
            "_model_module_version": "1.5.0",
            "_model_name": "FloatProgressModel",
            "_view_count": null,
            "_view_module": "@jupyter-widgets/controls",
            "_view_module_version": "1.5.0",
            "_view_name": "ProgressView",
            "bar_style": "success",
            "description": "",
            "description_tooltip": null,
            "layout": "IPY_MODEL_5521f2f7ea5a42d2a558002850b2b952",
            "max": 665,
            "min": 0,
            "orientation": "horizontal",
            "style": "IPY_MODEL_786e0b363b8140459212146e29279e1d",
            "value": 665
          }
        },
        "11a29e2c66264de6953a25a213e41b1b": {
          "model_module": "@jupyter-widgets/controls",
          "model_module_version": "1.5.0",
          "model_name": "HTMLModel",
          "state": {
            "_dom_classes": [],
            "_model_module": "@jupyter-widgets/controls",
            "_model_module_version": "1.5.0",
            "_model_name": "HTMLModel",
            "_view_count": null,
            "_view_module": "@jupyter-widgets/controls",
            "_view_module_version": "1.5.0",
            "_view_name": "HTMLView",
            "description": "",
            "description_tooltip": null,
            "layout": "IPY_MODEL_d3a2786d303b4b658c8a87b6c647e92f",
            "placeholder": "​",
            "style": "IPY_MODEL_24cf54a87aaa4b8dae53e45e8a369e39",
            "value": "Generating train split: 100%"
          }
        },
        "11a563e18bb14fd2be491d29700ad604": {
          "model_module": "@jupyter-widgets/controls",
          "model_module_version": "1.5.0",
          "model_name": "DescriptionStyleModel",
          "state": {
            "_model_module": "@jupyter-widgets/controls",
            "_model_module_version": "1.5.0",
            "_model_name": "DescriptionStyleModel",
            "_view_count": null,
            "_view_module": "@jupyter-widgets/base",
            "_view_module_version": "1.2.0",
            "_view_name": "StyleView",
            "description_width": ""
          }
        },
        "124d9eba19ec49f6b718d50d624eb57d": {
          "model_module": "@jupyter-widgets/controls",
          "model_module_version": "1.5.0",
          "model_name": "HTMLModel",
          "state": {
            "_dom_classes": [],
            "_model_module": "@jupyter-widgets/controls",
            "_model_module_version": "1.5.0",
            "_model_name": "HTMLModel",
            "_view_count": null,
            "_view_module": "@jupyter-widgets/controls",
            "_view_module_version": "1.5.0",
            "_view_name": "HTMLView",
            "description": "",
            "description_tooltip": null,
            "layout": "IPY_MODEL_d0a91865142d40f3a54846235cce6522",
            "placeholder": "​",
            "style": "IPY_MODEL_03450b7321b24c94947c2341b9bac2ff",
            "value": "model.safetensors: 100%"
          }
        },
        "1287e03455ec45a08b4454abc3ec1614": {
          "model_module": "@jupyter-widgets/base",
          "model_module_version": "1.2.0",
          "model_name": "LayoutModel",
          "state": {
            "_model_module": "@jupyter-widgets/base",
            "_model_module_version": "1.2.0",
            "_model_name": "LayoutModel",
            "_view_count": null,
            "_view_module": "@jupyter-widgets/base",
            "_view_module_version": "1.2.0",
            "_view_name": "LayoutView",
            "align_content": null,
            "align_items": null,
            "align_self": null,
            "border": null,
            "bottom": null,
            "display": null,
            "flex": null,
            "flex_flow": null,
            "grid_area": null,
            "grid_auto_columns": null,
            "grid_auto_flow": null,
            "grid_auto_rows": null,
            "grid_column": null,
            "grid_gap": null,
            "grid_row": null,
            "grid_template_areas": null,
            "grid_template_columns": null,
            "grid_template_rows": null,
            "height": null,
            "justify_content": null,
            "justify_items": null,
            "left": null,
            "margin": null,
            "max_height": null,
            "max_width": null,
            "min_height": null,
            "min_width": null,
            "object_fit": null,
            "object_position": null,
            "order": null,
            "overflow": null,
            "overflow_x": null,
            "overflow_y": null,
            "padding": null,
            "right": null,
            "top": null,
            "visibility": null,
            "width": null
          }
        },
        "145713f41c0e4b5bb81913b717a8a1b5": {
          "model_module": "@jupyter-widgets/controls",
          "model_module_version": "1.5.0",
          "model_name": "DescriptionStyleModel",
          "state": {
            "_model_module": "@jupyter-widgets/controls",
            "_model_module_version": "1.5.0",
            "_model_name": "DescriptionStyleModel",
            "_view_count": null,
            "_view_module": "@jupyter-widgets/base",
            "_view_module_version": "1.2.0",
            "_view_name": "StyleView",
            "description_width": ""
          }
        },
        "15451a86a5bc45f2ac730331a7caa8b0": {
          "model_module": "@jupyter-widgets/controls",
          "model_module_version": "1.5.0",
          "model_name": "HTMLModel",
          "state": {
            "_dom_classes": [],
            "_model_module": "@jupyter-widgets/controls",
            "_model_module_version": "1.5.0",
            "_model_name": "HTMLModel",
            "_view_count": null,
            "_view_module": "@jupyter-widgets/controls",
            "_view_module_version": "1.5.0",
            "_view_name": "HTMLView",
            "description": "",
            "description_tooltip": null,
            "layout": "IPY_MODEL_9be1d04d528943abbbe5e24036afb09e",
            "placeholder": "​",
            "style": "IPY_MODEL_0bf925501aba4efd9bf482557bd0fe70",
            "value": " 665/665 [00:00&lt;00:00, 15.0kB/s]"
          }
        },
        "1588029825be42599027db3d7b511cb1": {
          "model_module": "@jupyter-widgets/controls",
          "model_module_version": "1.5.0",
          "model_name": "HTMLModel",
          "state": {
            "_dom_classes": [],
            "_model_module": "@jupyter-widgets/controls",
            "_model_module_version": "1.5.0",
            "_model_name": "HTMLModel",
            "_view_count": null,
            "_view_module": "@jupyter-widgets/controls",
            "_view_module_version": "1.5.0",
            "_view_name": "HTMLView",
            "description": "",
            "description_tooltip": null,
            "layout": "IPY_MODEL_16cf024a2dde4e21909f3c80da9cdc2a",
            "placeholder": "​",
            "style": "IPY_MODEL_6052d687e9b2451e97c358e683c3560d",
            "value": " 1.63G/1.63G [00:18&lt;00:00, 36.8MB/s]"
          }
        },
        "15db18887e214f26a54d5f9ed4d0da40": {
          "model_module": "@jupyter-widgets/controls",
          "model_module_version": "1.5.0",
          "model_name": "FloatProgressModel",
          "state": {
            "_dom_classes": [],
            "_model_module": "@jupyter-widgets/controls",
            "_model_module_version": "1.5.0",
            "_model_name": "FloatProgressModel",
            "_view_count": null,
            "_view_module": "@jupyter-widgets/controls",
            "_view_module_version": "1.5.0",
            "_view_name": "ProgressView",
            "bar_style": "success",
            "description": "",
            "description_tooltip": null,
            "layout": "IPY_MODEL_1b0e34fd7f224a198eb59543f0c76abb",
            "max": 49,
            "min": 0,
            "orientation": "horizontal",
            "style": "IPY_MODEL_481c4eb362464ed8849acc210aad4bef",
            "value": 49
          }
        },
        "16cf024a2dde4e21909f3c80da9cdc2a": {
          "model_module": "@jupyter-widgets/base",
          "model_module_version": "1.2.0",
          "model_name": "LayoutModel",
          "state": {
            "_model_module": "@jupyter-widgets/base",
            "_model_module_version": "1.2.0",
            "_model_name": "LayoutModel",
            "_view_count": null,
            "_view_module": "@jupyter-widgets/base",
            "_view_module_version": "1.2.0",
            "_view_name": "LayoutView",
            "align_content": null,
            "align_items": null,
            "align_self": null,
            "border": null,
            "bottom": null,
            "display": null,
            "flex": null,
            "flex_flow": null,
            "grid_area": null,
            "grid_auto_columns": null,
            "grid_auto_flow": null,
            "grid_auto_rows": null,
            "grid_column": null,
            "grid_gap": null,
            "grid_row": null,
            "grid_template_areas": null,
            "grid_template_columns": null,
            "grid_template_rows": null,
            "height": null,
            "justify_content": null,
            "justify_items": null,
            "left": null,
            "margin": null,
            "max_height": null,
            "max_width": null,
            "min_height": null,
            "min_width": null,
            "object_fit": null,
            "object_position": null,
            "order": null,
            "overflow": null,
            "overflow_x": null,
            "overflow_y": null,
            "padding": null,
            "right": null,
            "top": null,
            "visibility": null,
            "width": null
          }
        },
        "16f3a524e49d40e98c113c8373791c4b": {
          "model_module": "@jupyter-widgets/controls",
          "model_module_version": "1.5.0",
          "model_name": "HTMLModel",
          "state": {
            "_dom_classes": [],
            "_model_module": "@jupyter-widgets/controls",
            "_model_module_version": "1.5.0",
            "_model_name": "HTMLModel",
            "_view_count": null,
            "_view_module": "@jupyter-widgets/controls",
            "_view_module_version": "1.5.0",
            "_view_name": "HTMLView",
            "description": "",
            "description_tooltip": null,
            "layout": "IPY_MODEL_8875eceb1b864795823d5768fbbb5ecd",
            "placeholder": "​",
            "style": "IPY_MODEL_0f08a9d78a50435dbf22b07dae7c9021",
            "value": "config.json: 100%"
          }
        },
        "16fec1adfbdf4cc8947848e1752d4f26": {
          "model_module": "@jupyter-widgets/base",
          "model_module_version": "1.2.0",
          "model_name": "LayoutModel",
          "state": {
            "_model_module": "@jupyter-widgets/base",
            "_model_module_version": "1.2.0",
            "_model_name": "LayoutModel",
            "_view_count": null,
            "_view_module": "@jupyter-widgets/base",
            "_view_module_version": "1.2.0",
            "_view_name": "LayoutView",
            "align_content": null,
            "align_items": null,
            "align_self": null,
            "border": null,
            "bottom": null,
            "display": null,
            "flex": null,
            "flex_flow": null,
            "grid_area": null,
            "grid_auto_columns": null,
            "grid_auto_flow": null,
            "grid_auto_rows": null,
            "grid_column": null,
            "grid_gap": null,
            "grid_row": null,
            "grid_template_areas": null,
            "grid_template_columns": null,
            "grid_template_rows": null,
            "height": null,
            "justify_content": null,
            "justify_items": null,
            "left": null,
            "margin": null,
            "max_height": null,
            "max_width": null,
            "min_height": null,
            "min_width": null,
            "object_fit": null,
            "object_position": null,
            "order": null,
            "overflow": null,
            "overflow_x": null,
            "overflow_y": null,
            "padding": null,
            "right": null,
            "top": null,
            "visibility": null,
            "width": null
          }
        },
        "17c7dea8c42f41388f6a9726a4e1632a": {
          "model_module": "@jupyter-widgets/controls",
          "model_module_version": "1.5.0",
          "model_name": "DescriptionStyleModel",
          "state": {
            "_model_module": "@jupyter-widgets/controls",
            "_model_module_version": "1.5.0",
            "_model_name": "DescriptionStyleModel",
            "_view_count": null,
            "_view_module": "@jupyter-widgets/base",
            "_view_module_version": "1.2.0",
            "_view_name": "StyleView",
            "description_width": ""
          }
        },
        "1886ce1a2166428d8859a2153a20fd08": {
          "model_module": "@jupyter-widgets/controls",
          "model_module_version": "1.5.0",
          "model_name": "ProgressStyleModel",
          "state": {
            "_model_module": "@jupyter-widgets/controls",
            "_model_module_version": "1.5.0",
            "_model_name": "ProgressStyleModel",
            "_view_count": null,
            "_view_module": "@jupyter-widgets/base",
            "_view_module_version": "1.2.0",
            "_view_name": "StyleView",
            "bar_color": null,
            "description_width": ""
          }
        },
        "193d8165d1094515a0f4201f686317ab": {
          "model_module": "@jupyter-widgets/controls",
          "model_module_version": "1.5.0",
          "model_name": "HBoxModel",
          "state": {
            "_dom_classes": [],
            "_model_module": "@jupyter-widgets/controls",
            "_model_module_version": "1.5.0",
            "_model_name": "HBoxModel",
            "_view_count": null,
            "_view_module": "@jupyter-widgets/controls",
            "_view_module_version": "1.5.0",
            "_view_name": "HBoxView",
            "box_style": "",
            "children": [
              "IPY_MODEL_bac30b90347d41cb8f5caa54182cd67f",
              "IPY_MODEL_efc7cde4ce5c481ebe871d38c12fcaa0",
              "IPY_MODEL_52d48346d68a4108b60c7391f4b28ff0"
            ],
            "layout": "IPY_MODEL_458f26ffde36433f8ec135d4dde1ef90"
          }
        },
        "193efcf438a9484892c46e53682a7dcd": {
          "model_module": "@jupyter-widgets/base",
          "model_module_version": "1.2.0",
          "model_name": "LayoutModel",
          "state": {
            "_model_module": "@jupyter-widgets/base",
            "_model_module_version": "1.2.0",
            "_model_name": "LayoutModel",
            "_view_count": null,
            "_view_module": "@jupyter-widgets/base",
            "_view_module_version": "1.2.0",
            "_view_name": "LayoutView",
            "align_content": null,
            "align_items": null,
            "align_self": null,
            "border": null,
            "bottom": null,
            "display": null,
            "flex": null,
            "flex_flow": null,
            "grid_area": null,
            "grid_auto_columns": null,
            "grid_auto_flow": null,
            "grid_auto_rows": null,
            "grid_column": null,
            "grid_gap": null,
            "grid_row": null,
            "grid_template_areas": null,
            "grid_template_columns": null,
            "grid_template_rows": null,
            "height": null,
            "justify_content": null,
            "justify_items": null,
            "left": null,
            "margin": null,
            "max_height": null,
            "max_width": null,
            "min_height": null,
            "min_width": null,
            "object_fit": null,
            "object_position": null,
            "order": null,
            "overflow": null,
            "overflow_x": null,
            "overflow_y": null,
            "padding": null,
            "right": null,
            "top": null,
            "visibility": null,
            "width": null
          }
        },
        "1a3fd67a7ff7406a8490f85fa1989e14": {
          "model_module": "@jupyter-widgets/controls",
          "model_module_version": "1.5.0",
          "model_name": "DescriptionStyleModel",
          "state": {
            "_model_module": "@jupyter-widgets/controls",
            "_model_module_version": "1.5.0",
            "_model_name": "DescriptionStyleModel",
            "_view_count": null,
            "_view_module": "@jupyter-widgets/base",
            "_view_module_version": "1.2.0",
            "_view_name": "StyleView",
            "description_width": ""
          }
        },
        "1a54a56d7a654e2d9fe5c386f29af24a": {
          "model_module": "@jupyter-widgets/controls",
          "model_module_version": "1.5.0",
          "model_name": "DescriptionStyleModel",
          "state": {
            "_model_module": "@jupyter-widgets/controls",
            "_model_module_version": "1.5.0",
            "_model_name": "DescriptionStyleModel",
            "_view_count": null,
            "_view_module": "@jupyter-widgets/base",
            "_view_module_version": "1.2.0",
            "_view_name": "StyleView",
            "description_width": ""
          }
        },
        "1a5535ab81e34a29a4ab23e36f0f9763": {
          "model_module": "@jupyter-widgets/controls",
          "model_module_version": "1.5.0",
          "model_name": "ProgressStyleModel",
          "state": {
            "_model_module": "@jupyter-widgets/controls",
            "_model_module_version": "1.5.0",
            "_model_name": "ProgressStyleModel",
            "_view_count": null,
            "_view_module": "@jupyter-widgets/base",
            "_view_module_version": "1.2.0",
            "_view_name": "StyleView",
            "bar_color": null,
            "description_width": ""
          }
        },
        "1a6c88d2e8424a9c87b671acb77e5849": {
          "model_module": "@jupyter-widgets/controls",
          "model_module_version": "1.5.0",
          "model_name": "DescriptionStyleModel",
          "state": {
            "_model_module": "@jupyter-widgets/controls",
            "_model_module_version": "1.5.0",
            "_model_name": "DescriptionStyleModel",
            "_view_count": null,
            "_view_module": "@jupyter-widgets/base",
            "_view_module_version": "1.2.0",
            "_view_name": "StyleView",
            "description_width": ""
          }
        },
        "1b0e34fd7f224a198eb59543f0c76abb": {
          "model_module": "@jupyter-widgets/base",
          "model_module_version": "1.2.0",
          "model_name": "LayoutModel",
          "state": {
            "_model_module": "@jupyter-widgets/base",
            "_model_module_version": "1.2.0",
            "_model_name": "LayoutModel",
            "_view_count": null,
            "_view_module": "@jupyter-widgets/base",
            "_view_module_version": "1.2.0",
            "_view_name": "LayoutView",
            "align_content": null,
            "align_items": null,
            "align_self": null,
            "border": null,
            "bottom": null,
            "display": null,
            "flex": null,
            "flex_flow": null,
            "grid_area": null,
            "grid_auto_columns": null,
            "grid_auto_flow": null,
            "grid_auto_rows": null,
            "grid_column": null,
            "grid_gap": null,
            "grid_row": null,
            "grid_template_areas": null,
            "grid_template_columns": null,
            "grid_template_rows": null,
            "height": null,
            "justify_content": null,
            "justify_items": null,
            "left": null,
            "margin": null,
            "max_height": null,
            "max_width": null,
            "min_height": null,
            "min_width": null,
            "object_fit": null,
            "object_position": null,
            "order": null,
            "overflow": null,
            "overflow_x": null,
            "overflow_y": null,
            "padding": null,
            "right": null,
            "top": null,
            "visibility": null,
            "width": null
          }
        },
        "1b651cfe557f4f318f9e149984fa8199": {
          "model_module": "@jupyter-widgets/base",
          "model_module_version": "1.2.0",
          "model_name": "LayoutModel",
          "state": {
            "_model_module": "@jupyter-widgets/base",
            "_model_module_version": "1.2.0",
            "_model_name": "LayoutModel",
            "_view_count": null,
            "_view_module": "@jupyter-widgets/base",
            "_view_module_version": "1.2.0",
            "_view_name": "LayoutView",
            "align_content": null,
            "align_items": null,
            "align_self": null,
            "border": null,
            "bottom": null,
            "display": null,
            "flex": null,
            "flex_flow": null,
            "grid_area": null,
            "grid_auto_columns": null,
            "grid_auto_flow": null,
            "grid_auto_rows": null,
            "grid_column": null,
            "grid_gap": null,
            "grid_row": null,
            "grid_template_areas": null,
            "grid_template_columns": null,
            "grid_template_rows": null,
            "height": null,
            "justify_content": null,
            "justify_items": null,
            "left": null,
            "margin": null,
            "max_height": null,
            "max_width": null,
            "min_height": null,
            "min_width": null,
            "object_fit": null,
            "object_position": null,
            "order": null,
            "overflow": null,
            "overflow_x": null,
            "overflow_y": null,
            "padding": null,
            "right": null,
            "top": null,
            "visibility": null,
            "width": null
          }
        },
        "1bd6aa0e215e46e99432551d2c52905d": {
          "model_module": "@jupyter-widgets/base",
          "model_module_version": "1.2.0",
          "model_name": "LayoutModel",
          "state": {
            "_model_module": "@jupyter-widgets/base",
            "_model_module_version": "1.2.0",
            "_model_name": "LayoutModel",
            "_view_count": null,
            "_view_module": "@jupyter-widgets/base",
            "_view_module_version": "1.2.0",
            "_view_name": "LayoutView",
            "align_content": null,
            "align_items": null,
            "align_self": null,
            "border": null,
            "bottom": null,
            "display": null,
            "flex": null,
            "flex_flow": null,
            "grid_area": null,
            "grid_auto_columns": null,
            "grid_auto_flow": null,
            "grid_auto_rows": null,
            "grid_column": null,
            "grid_gap": null,
            "grid_row": null,
            "grid_template_areas": null,
            "grid_template_columns": null,
            "grid_template_rows": null,
            "height": null,
            "justify_content": null,
            "justify_items": null,
            "left": null,
            "margin": null,
            "max_height": null,
            "max_width": null,
            "min_height": null,
            "min_width": null,
            "object_fit": null,
            "object_position": null,
            "order": null,
            "overflow": null,
            "overflow_x": null,
            "overflow_y": null,
            "padding": null,
            "right": null,
            "top": null,
            "visibility": null,
            "width": null
          }
        },
        "1d7c4a9a82a0450884363163527ab612": {
          "model_module": "@jupyter-widgets/base",
          "model_module_version": "1.2.0",
          "model_name": "LayoutModel",
          "state": {
            "_model_module": "@jupyter-widgets/base",
            "_model_module_version": "1.2.0",
            "_model_name": "LayoutModel",
            "_view_count": null,
            "_view_module": "@jupyter-widgets/base",
            "_view_module_version": "1.2.0",
            "_view_name": "LayoutView",
            "align_content": null,
            "align_items": null,
            "align_self": null,
            "border": null,
            "bottom": null,
            "display": null,
            "flex": null,
            "flex_flow": null,
            "grid_area": null,
            "grid_auto_columns": null,
            "grid_auto_flow": null,
            "grid_auto_rows": null,
            "grid_column": null,
            "grid_gap": null,
            "grid_row": null,
            "grid_template_areas": null,
            "grid_template_columns": null,
            "grid_template_rows": null,
            "height": null,
            "justify_content": null,
            "justify_items": null,
            "left": null,
            "margin": null,
            "max_height": null,
            "max_width": null,
            "min_height": null,
            "min_width": null,
            "object_fit": null,
            "object_position": null,
            "order": null,
            "overflow": null,
            "overflow_x": null,
            "overflow_y": null,
            "padding": null,
            "right": null,
            "top": null,
            "visibility": null,
            "width": null
          }
        },
        "1d95730bc4084ce19185009be56e19d0": {
          "model_module": "@jupyter-widgets/base",
          "model_module_version": "1.2.0",
          "model_name": "LayoutModel",
          "state": {
            "_model_module": "@jupyter-widgets/base",
            "_model_module_version": "1.2.0",
            "_model_name": "LayoutModel",
            "_view_count": null,
            "_view_module": "@jupyter-widgets/base",
            "_view_module_version": "1.2.0",
            "_view_name": "LayoutView",
            "align_content": null,
            "align_items": null,
            "align_self": null,
            "border": null,
            "bottom": null,
            "display": null,
            "flex": null,
            "flex_flow": null,
            "grid_area": null,
            "grid_auto_columns": null,
            "grid_auto_flow": null,
            "grid_auto_rows": null,
            "grid_column": null,
            "grid_gap": null,
            "grid_row": null,
            "grid_template_areas": null,
            "grid_template_columns": null,
            "grid_template_rows": null,
            "height": null,
            "justify_content": null,
            "justify_items": null,
            "left": null,
            "margin": null,
            "max_height": null,
            "max_width": null,
            "min_height": null,
            "min_width": null,
            "object_fit": null,
            "object_position": null,
            "order": null,
            "overflow": null,
            "overflow_x": null,
            "overflow_y": null,
            "padding": null,
            "right": null,
            "top": null,
            "visibility": null,
            "width": null
          }
        },
        "1da23be43f684e5e8cce20204188152e": {
          "model_module": "@jupyter-widgets/controls",
          "model_module_version": "1.5.0",
          "model_name": "DescriptionStyleModel",
          "state": {
            "_model_module": "@jupyter-widgets/controls",
            "_model_module_version": "1.5.0",
            "_model_name": "DescriptionStyleModel",
            "_view_count": null,
            "_view_module": "@jupyter-widgets/base",
            "_view_module_version": "1.2.0",
            "_view_name": "StyleView",
            "description_width": ""
          }
        },
        "1e01ff37882740489509ea857d8817f7": {
          "model_module": "@jupyter-widgets/base",
          "model_module_version": "1.2.0",
          "model_name": "LayoutModel",
          "state": {
            "_model_module": "@jupyter-widgets/base",
            "_model_module_version": "1.2.0",
            "_model_name": "LayoutModel",
            "_view_count": null,
            "_view_module": "@jupyter-widgets/base",
            "_view_module_version": "1.2.0",
            "_view_name": "LayoutView",
            "align_content": null,
            "align_items": null,
            "align_self": null,
            "border": null,
            "bottom": null,
            "display": null,
            "flex": null,
            "flex_flow": null,
            "grid_area": null,
            "grid_auto_columns": null,
            "grid_auto_flow": null,
            "grid_auto_rows": null,
            "grid_column": null,
            "grid_gap": null,
            "grid_row": null,
            "grid_template_areas": null,
            "grid_template_columns": null,
            "grid_template_rows": null,
            "height": null,
            "justify_content": null,
            "justify_items": null,
            "left": null,
            "margin": null,
            "max_height": null,
            "max_width": null,
            "min_height": null,
            "min_width": null,
            "object_fit": null,
            "object_position": null,
            "order": null,
            "overflow": null,
            "overflow_x": null,
            "overflow_y": null,
            "padding": null,
            "right": null,
            "top": null,
            "visibility": null,
            "width": null
          }
        },
        "20b1103d46404849a49afe5ebce0f2a4": {
          "model_module": "@jupyter-widgets/base",
          "model_module_version": "1.2.0",
          "model_name": "LayoutModel",
          "state": {
            "_model_module": "@jupyter-widgets/base",
            "_model_module_version": "1.2.0",
            "_model_name": "LayoutModel",
            "_view_count": null,
            "_view_module": "@jupyter-widgets/base",
            "_view_module_version": "1.2.0",
            "_view_name": "LayoutView",
            "align_content": null,
            "align_items": null,
            "align_self": null,
            "border": null,
            "bottom": null,
            "display": null,
            "flex": null,
            "flex_flow": null,
            "grid_area": null,
            "grid_auto_columns": null,
            "grid_auto_flow": null,
            "grid_auto_rows": null,
            "grid_column": null,
            "grid_gap": null,
            "grid_row": null,
            "grid_template_areas": null,
            "grid_template_columns": null,
            "grid_template_rows": null,
            "height": null,
            "justify_content": null,
            "justify_items": null,
            "left": null,
            "margin": null,
            "max_height": null,
            "max_width": null,
            "min_height": null,
            "min_width": null,
            "object_fit": null,
            "object_position": null,
            "order": null,
            "overflow": null,
            "overflow_x": null,
            "overflow_y": null,
            "padding": null,
            "right": null,
            "top": null,
            "visibility": null,
            "width": null
          }
        },
        "20f8ef1231c14544991cf373f89972f1": {
          "model_module": "@jupyter-widgets/base",
          "model_module_version": "1.2.0",
          "model_name": "LayoutModel",
          "state": {
            "_model_module": "@jupyter-widgets/base",
            "_model_module_version": "1.2.0",
            "_model_name": "LayoutModel",
            "_view_count": null,
            "_view_module": "@jupyter-widgets/base",
            "_view_module_version": "1.2.0",
            "_view_name": "LayoutView",
            "align_content": null,
            "align_items": null,
            "align_self": null,
            "border": null,
            "bottom": null,
            "display": null,
            "flex": null,
            "flex_flow": null,
            "grid_area": null,
            "grid_auto_columns": null,
            "grid_auto_flow": null,
            "grid_auto_rows": null,
            "grid_column": null,
            "grid_gap": null,
            "grid_row": null,
            "grid_template_areas": null,
            "grid_template_columns": null,
            "grid_template_rows": null,
            "height": null,
            "justify_content": null,
            "justify_items": null,
            "left": null,
            "margin": null,
            "max_height": null,
            "max_width": null,
            "min_height": null,
            "min_width": null,
            "object_fit": null,
            "object_position": null,
            "order": null,
            "overflow": null,
            "overflow_x": null,
            "overflow_y": null,
            "padding": null,
            "right": null,
            "top": null,
            "visibility": null,
            "width": null
          }
        },
        "2247b28c205245dd9ee9cffc69ab6cef": {
          "model_module": "@jupyter-widgets/base",
          "model_module_version": "1.2.0",
          "model_name": "LayoutModel",
          "state": {
            "_model_module": "@jupyter-widgets/base",
            "_model_module_version": "1.2.0",
            "_model_name": "LayoutModel",
            "_view_count": null,
            "_view_module": "@jupyter-widgets/base",
            "_view_module_version": "1.2.0",
            "_view_name": "LayoutView",
            "align_content": null,
            "align_items": null,
            "align_self": null,
            "border": null,
            "bottom": null,
            "display": null,
            "flex": null,
            "flex_flow": null,
            "grid_area": null,
            "grid_auto_columns": null,
            "grid_auto_flow": null,
            "grid_auto_rows": null,
            "grid_column": null,
            "grid_gap": null,
            "grid_row": null,
            "grid_template_areas": null,
            "grid_template_columns": null,
            "grid_template_rows": null,
            "height": null,
            "justify_content": null,
            "justify_items": null,
            "left": null,
            "margin": null,
            "max_height": null,
            "max_width": null,
            "min_height": null,
            "min_width": null,
            "object_fit": null,
            "object_position": null,
            "order": null,
            "overflow": null,
            "overflow_x": null,
            "overflow_y": null,
            "padding": null,
            "right": null,
            "top": null,
            "visibility": null,
            "width": null
          }
        },
        "2261effc142c427e909c527f821bb4ad": {
          "model_module": "@jupyter-widgets/controls",
          "model_module_version": "1.5.0",
          "model_name": "HTMLModel",
          "state": {
            "_dom_classes": [],
            "_model_module": "@jupyter-widgets/controls",
            "_model_module_version": "1.5.0",
            "_model_name": "HTMLModel",
            "_view_count": null,
            "_view_module": "@jupyter-widgets/controls",
            "_view_module_version": "1.5.0",
            "_view_name": "HTMLView",
            "description": "",
            "description_tooltip": null,
            "layout": "IPY_MODEL_2cc4ceecbd874185b058c2711b2306fc",
            "placeholder": "​",
            "style": "IPY_MODEL_571619e2d00a482aa49fb6095468fb59",
            "value": " 75.7k/75.7k [00:00&lt;00:00, 1.45MB/s]"
          }
        },
        "2304e62caf984747aadaa0589176c8de": {
          "model_module": "@jupyter-widgets/base",
          "model_module_version": "1.2.0",
          "model_name": "LayoutModel",
          "state": {
            "_model_module": "@jupyter-widgets/base",
            "_model_module_version": "1.2.0",
            "_model_name": "LayoutModel",
            "_view_count": null,
            "_view_module": "@jupyter-widgets/base",
            "_view_module_version": "1.2.0",
            "_view_name": "LayoutView",
            "align_content": null,
            "align_items": null,
            "align_self": null,
            "border": null,
            "bottom": null,
            "display": null,
            "flex": null,
            "flex_flow": null,
            "grid_area": null,
            "grid_auto_columns": null,
            "grid_auto_flow": null,
            "grid_auto_rows": null,
            "grid_column": null,
            "grid_gap": null,
            "grid_row": null,
            "grid_template_areas": null,
            "grid_template_columns": null,
            "grid_template_rows": null,
            "height": null,
            "justify_content": null,
            "justify_items": null,
            "left": null,
            "margin": null,
            "max_height": null,
            "max_width": null,
            "min_height": null,
            "min_width": null,
            "object_fit": null,
            "object_position": null,
            "order": null,
            "overflow": null,
            "overflow_x": null,
            "overflow_y": null,
            "padding": null,
            "right": null,
            "top": null,
            "visibility": null,
            "width": null
          }
        },
        "23e4a40b988d493996c61d99d917cd5d": {
          "model_module": "@jupyter-widgets/controls",
          "model_module_version": "1.5.0",
          "model_name": "HTMLModel",
          "state": {
            "_dom_classes": [],
            "_model_module": "@jupyter-widgets/controls",
            "_model_module_version": "1.5.0",
            "_model_name": "HTMLModel",
            "_view_count": null,
            "_view_module": "@jupyter-widgets/controls",
            "_view_module_version": "1.5.0",
            "_view_name": "HTMLView",
            "description": "",
            "description_tooltip": null,
            "layout": "IPY_MODEL_b35e095f93294a638dacec23ee8af075",
            "placeholder": "​",
            "style": "IPY_MODEL_64c2e152324d46079e7b58cc0c4c365a",
            "value": " 268M/268M [00:01&lt;00:00, 217MB/s]"
          }
        },
        "240e874337a74c8babac8b70e602230a": {
          "model_module": "@jupyter-widgets/controls",
          "model_module_version": "1.5.0",
          "model_name": "ProgressStyleModel",
          "state": {
            "_model_module": "@jupyter-widgets/controls",
            "_model_module_version": "1.5.0",
            "_model_name": "ProgressStyleModel",
            "_view_count": null,
            "_view_module": "@jupyter-widgets/base",
            "_view_module_version": "1.2.0",
            "_view_name": "StyleView",
            "bar_color": null,
            "description_width": ""
          }
        },
        "241fa947ff94400daec3d72c99bf4c38": {
          "model_module": "@jupyter-widgets/controls",
          "model_module_version": "1.5.0",
          "model_name": "HBoxModel",
          "state": {
            "_dom_classes": [],
            "_model_module": "@jupyter-widgets/controls",
            "_model_module_version": "1.5.0",
            "_model_name": "HBoxModel",
            "_view_count": null,
            "_view_module": "@jupyter-widgets/controls",
            "_view_module_version": "1.5.0",
            "_view_name": "HBoxView",
            "box_style": "",
            "children": [
              "IPY_MODEL_8f4bd13860ac4412b8a0d378cfb67563",
              "IPY_MODEL_e105debffbbb43059834136e5d46afc4",
              "IPY_MODEL_f6a06fcd2e7c414683d82a7cbb47a331"
            ],
            "layout": "IPY_MODEL_16fec1adfbdf4cc8947848e1752d4f26"
          }
        },
        "247ff32d8c1949beb2aae4c15182c074": {
          "model_module": "@jupyter-widgets/base",
          "model_module_version": "1.2.0",
          "model_name": "LayoutModel",
          "state": {
            "_model_module": "@jupyter-widgets/base",
            "_model_module_version": "1.2.0",
            "_model_name": "LayoutModel",
            "_view_count": null,
            "_view_module": "@jupyter-widgets/base",
            "_view_module_version": "1.2.0",
            "_view_name": "LayoutView",
            "align_content": null,
            "align_items": null,
            "align_self": null,
            "border": null,
            "bottom": null,
            "display": null,
            "flex": null,
            "flex_flow": null,
            "grid_area": null,
            "grid_auto_columns": null,
            "grid_auto_flow": null,
            "grid_auto_rows": null,
            "grid_column": null,
            "grid_gap": null,
            "grid_row": null,
            "grid_template_areas": null,
            "grid_template_columns": null,
            "grid_template_rows": null,
            "height": null,
            "justify_content": null,
            "justify_items": null,
            "left": null,
            "margin": null,
            "max_height": null,
            "max_width": null,
            "min_height": null,
            "min_width": null,
            "object_fit": null,
            "object_position": null,
            "order": null,
            "overflow": null,
            "overflow_x": null,
            "overflow_y": null,
            "padding": null,
            "right": null,
            "top": null,
            "visibility": null,
            "width": null
          }
        },
        "24cf54a87aaa4b8dae53e45e8a369e39": {
          "model_module": "@jupyter-widgets/controls",
          "model_module_version": "1.5.0",
          "model_name": "DescriptionStyleModel",
          "state": {
            "_model_module": "@jupyter-widgets/controls",
            "_model_module_version": "1.5.0",
            "_model_name": "DescriptionStyleModel",
            "_view_count": null,
            "_view_module": "@jupyter-widgets/base",
            "_view_module_version": "1.2.0",
            "_view_name": "StyleView",
            "description_width": ""
          }
        },
        "25e44110ce7f406a90199caec50bc98c": {
          "model_module": "@jupyter-widgets/base",
          "model_module_version": "1.2.0",
          "model_name": "LayoutModel",
          "state": {
            "_model_module": "@jupyter-widgets/base",
            "_model_module_version": "1.2.0",
            "_model_name": "LayoutModel",
            "_view_count": null,
            "_view_module": "@jupyter-widgets/base",
            "_view_module_version": "1.2.0",
            "_view_name": "LayoutView",
            "align_content": null,
            "align_items": null,
            "align_self": null,
            "border": null,
            "bottom": null,
            "display": null,
            "flex": null,
            "flex_flow": null,
            "grid_area": null,
            "grid_auto_columns": null,
            "grid_auto_flow": null,
            "grid_auto_rows": null,
            "grid_column": null,
            "grid_gap": null,
            "grid_row": null,
            "grid_template_areas": null,
            "grid_template_columns": null,
            "grid_template_rows": null,
            "height": null,
            "justify_content": null,
            "justify_items": null,
            "left": null,
            "margin": null,
            "max_height": null,
            "max_width": null,
            "min_height": null,
            "min_width": null,
            "object_fit": null,
            "object_position": null,
            "order": null,
            "overflow": null,
            "overflow_x": null,
            "overflow_y": null,
            "padding": null,
            "right": null,
            "top": null,
            "visibility": null,
            "width": null
          }
        },
        "2811fc8e4730420781536be4172c99c3": {
          "model_module": "@jupyter-widgets/controls",
          "model_module_version": "1.5.0",
          "model_name": "HBoxModel",
          "state": {
            "_dom_classes": [],
            "_model_module": "@jupyter-widgets/controls",
            "_model_module_version": "1.5.0",
            "_model_name": "HBoxModel",
            "_view_count": null,
            "_view_module": "@jupyter-widgets/controls",
            "_view_module_version": "1.5.0",
            "_view_name": "HBoxView",
            "box_style": "",
            "children": [
              "IPY_MODEL_4499681b220d4b8fa233a7c7f930578f",
              "IPY_MODEL_f28473ec8dd340b79df108fa4b0b5ce8",
              "IPY_MODEL_75dba8dd19c24bd9919f73fa3f6b676a"
            ],
            "layout": "IPY_MODEL_7ee6cee96f8542ecb03f95e3d95ac7ec"
          }
        },
        "2878d885213046e2ab938441768e314c": {
          "model_module": "@jupyter-widgets/controls",
          "model_module_version": "1.5.0",
          "model_name": "HTMLModel",
          "state": {
            "_dom_classes": [],
            "_model_module": "@jupyter-widgets/controls",
            "_model_module_version": "1.5.0",
            "_model_name": "HTMLModel",
            "_view_count": null,
            "_view_module": "@jupyter-widgets/controls",
            "_view_module_version": "1.5.0",
            "_view_name": "HTMLView",
            "description": "",
            "description_tooltip": null,
            "layout": "IPY_MODEL_f9caaaa771924a7ca06004567114fdab",
            "placeholder": "​",
            "style": "IPY_MODEL_36dde58163a84509b2ab3bef0b0cade6",
            "value": "vocab.txt: 100%"
          }
        },
        "2a90299d0aa34aa3b1605700f9a96713": {
          "model_module": "@jupyter-widgets/controls",
          "model_module_version": "1.5.0",
          "model_name": "FloatProgressModel",
          "state": {
            "_dom_classes": [],
            "_model_module": "@jupyter-widgets/controls",
            "_model_module_version": "1.5.0",
            "_model_name": "FloatProgressModel",
            "_view_count": null,
            "_view_module": "@jupyter-widgets/controls",
            "_view_module_version": "1.5.0",
            "_view_name": "ProgressView",
            "bar_style": "success",
            "description": "",
            "description_tooltip": null,
            "layout": "IPY_MODEL_2247b28c205245dd9ee9cffc69ab6cef",
            "max": 570,
            "min": 0,
            "orientation": "horizontal",
            "style": "IPY_MODEL_2d6855b8ae53408c947041505f846029",
            "value": 570
          }
        },
        "2a9ca250aef848eface97dc81ef10653": {
          "model_module": "@jupyter-widgets/base",
          "model_module_version": "1.2.0",
          "model_name": "LayoutModel",
          "state": {
            "_model_module": "@jupyter-widgets/base",
            "_model_module_version": "1.2.0",
            "_model_name": "LayoutModel",
            "_view_count": null,
            "_view_module": "@jupyter-widgets/base",
            "_view_module_version": "1.2.0",
            "_view_name": "LayoutView",
            "align_content": null,
            "align_items": null,
            "align_self": null,
            "border": null,
            "bottom": null,
            "display": null,
            "flex": null,
            "flex_flow": null,
            "grid_area": null,
            "grid_auto_columns": null,
            "grid_auto_flow": null,
            "grid_auto_rows": null,
            "grid_column": null,
            "grid_gap": null,
            "grid_row": null,
            "grid_template_areas": null,
            "grid_template_columns": null,
            "grid_template_rows": null,
            "height": null,
            "justify_content": null,
            "justify_items": null,
            "left": null,
            "margin": null,
            "max_height": null,
            "max_width": null,
            "min_height": null,
            "min_width": null,
            "object_fit": null,
            "object_position": null,
            "order": null,
            "overflow": null,
            "overflow_x": null,
            "overflow_y": null,
            "padding": null,
            "right": null,
            "top": null,
            "visibility": null,
            "width": null
          }
        },
        "2bad054cbabc4ca7a7ecb07bf41659ea": {
          "model_module": "@jupyter-widgets/controls",
          "model_module_version": "1.5.0",
          "model_name": "HBoxModel",
          "state": {
            "_dom_classes": [],
            "_model_module": "@jupyter-widgets/controls",
            "_model_module_version": "1.5.0",
            "_model_name": "HBoxModel",
            "_view_count": null,
            "_view_module": "@jupyter-widgets/controls",
            "_view_module_version": "1.5.0",
            "_view_name": "HBoxView",
            "box_style": "",
            "children": [
              "IPY_MODEL_987e2a5874024237bbaa468ec99058e8",
              "IPY_MODEL_3b960119a194489b9cc1bba5e7a32f65",
              "IPY_MODEL_e8e9b2e128ef48ea91f8c4a18d77026f"
            ],
            "layout": "IPY_MODEL_5368da3f285e4a1caefac999061fd39a"
          }
        },
        "2cc4ceecbd874185b058c2711b2306fc": {
          "model_module": "@jupyter-widgets/base",
          "model_module_version": "1.2.0",
          "model_name": "LayoutModel",
          "state": {
            "_model_module": "@jupyter-widgets/base",
            "_model_module_version": "1.2.0",
            "_model_name": "LayoutModel",
            "_view_count": null,
            "_view_module": "@jupyter-widgets/base",
            "_view_module_version": "1.2.0",
            "_view_name": "LayoutView",
            "align_content": null,
            "align_items": null,
            "align_self": null,
            "border": null,
            "bottom": null,
            "display": null,
            "flex": null,
            "flex_flow": null,
            "grid_area": null,
            "grid_auto_columns": null,
            "grid_auto_flow": null,
            "grid_auto_rows": null,
            "grid_column": null,
            "grid_gap": null,
            "grid_row": null,
            "grid_template_areas": null,
            "grid_template_columns": null,
            "grid_template_rows": null,
            "height": null,
            "justify_content": null,
            "justify_items": null,
            "left": null,
            "margin": null,
            "max_height": null,
            "max_width": null,
            "min_height": null,
            "min_width": null,
            "object_fit": null,
            "object_position": null,
            "order": null,
            "overflow": null,
            "overflow_x": null,
            "overflow_y": null,
            "padding": null,
            "right": null,
            "top": null,
            "visibility": null,
            "width": null
          }
        },
        "2d08afee29604e8595a4da563d6d87e6": {
          "model_module": "@jupyter-widgets/controls",
          "model_module_version": "1.5.0",
          "model_name": "FloatProgressModel",
          "state": {
            "_dom_classes": [],
            "_model_module": "@jupyter-widgets/controls",
            "_model_module_version": "1.5.0",
            "_model_name": "FloatProgressModel",
            "_view_count": null,
            "_view_module": "@jupyter-widgets/controls",
            "_view_module_version": "1.5.0",
            "_view_name": "ProgressView",
            "bar_style": "success",
            "description": "",
            "description_tooltip": null,
            "layout": "IPY_MODEL_b8fc50de20584f75958547d4088a2a00",
            "max": 480,
            "min": 0,
            "orientation": "horizontal",
            "style": "IPY_MODEL_c705216c37564e3d9275c4f028a9f826",
            "value": 480
          }
        },
        "2d42d9de3c304c15aefdfad1c75354b3": {
          "model_module": "@jupyter-widgets/base",
          "model_module_version": "1.2.0",
          "model_name": "LayoutModel",
          "state": {
            "_model_module": "@jupyter-widgets/base",
            "_model_module_version": "1.2.0",
            "_model_name": "LayoutModel",
            "_view_count": null,
            "_view_module": "@jupyter-widgets/base",
            "_view_module_version": "1.2.0",
            "_view_name": "LayoutView",
            "align_content": null,
            "align_items": null,
            "align_self": null,
            "border": null,
            "bottom": null,
            "display": null,
            "flex": null,
            "flex_flow": null,
            "grid_area": null,
            "grid_auto_columns": null,
            "grid_auto_flow": null,
            "grid_auto_rows": null,
            "grid_column": null,
            "grid_gap": null,
            "grid_row": null,
            "grid_template_areas": null,
            "grid_template_columns": null,
            "grid_template_rows": null,
            "height": null,
            "justify_content": null,
            "justify_items": null,
            "left": null,
            "margin": null,
            "max_height": null,
            "max_width": null,
            "min_height": null,
            "min_width": null,
            "object_fit": null,
            "object_position": null,
            "order": null,
            "overflow": null,
            "overflow_x": null,
            "overflow_y": null,
            "padding": null,
            "right": null,
            "top": null,
            "visibility": null,
            "width": null
          }
        },
        "2d6855b8ae53408c947041505f846029": {
          "model_module": "@jupyter-widgets/controls",
          "model_module_version": "1.5.0",
          "model_name": "ProgressStyleModel",
          "state": {
            "_model_module": "@jupyter-widgets/controls",
            "_model_module_version": "1.5.0",
            "_model_name": "ProgressStyleModel",
            "_view_count": null,
            "_view_module": "@jupyter-widgets/base",
            "_view_module_version": "1.2.0",
            "_view_name": "StyleView",
            "bar_color": null,
            "description_width": ""
          }
        },
        "2e30fa4e5d63405193f8c785a512248b": {
          "model_module": "@jupyter-widgets/base",
          "model_module_version": "1.2.0",
          "model_name": "LayoutModel",
          "state": {
            "_model_module": "@jupyter-widgets/base",
            "_model_module_version": "1.2.0",
            "_model_name": "LayoutModel",
            "_view_count": null,
            "_view_module": "@jupyter-widgets/base",
            "_view_module_version": "1.2.0",
            "_view_name": "LayoutView",
            "align_content": null,
            "align_items": null,
            "align_self": null,
            "border": null,
            "bottom": null,
            "display": null,
            "flex": null,
            "flex_flow": null,
            "grid_area": null,
            "grid_auto_columns": null,
            "grid_auto_flow": null,
            "grid_auto_rows": null,
            "grid_column": null,
            "grid_gap": null,
            "grid_row": null,
            "grid_template_areas": null,
            "grid_template_columns": null,
            "grid_template_rows": null,
            "height": null,
            "justify_content": null,
            "justify_items": null,
            "left": null,
            "margin": null,
            "max_height": null,
            "max_width": null,
            "min_height": null,
            "min_width": null,
            "object_fit": null,
            "object_position": null,
            "order": null,
            "overflow": null,
            "overflow_x": null,
            "overflow_y": null,
            "padding": null,
            "right": null,
            "top": null,
            "visibility": null,
            "width": null
          }
        },
        "2eb2fe452ab040d3bde000c441a4e185": {
          "model_module": "@jupyter-widgets/controls",
          "model_module_version": "1.5.0",
          "model_name": "DescriptionStyleModel",
          "state": {
            "_model_module": "@jupyter-widgets/controls",
            "_model_module_version": "1.5.0",
            "_model_name": "DescriptionStyleModel",
            "_view_count": null,
            "_view_module": "@jupyter-widgets/base",
            "_view_module_version": "1.2.0",
            "_view_name": "StyleView",
            "description_width": ""
          }
        },
        "300c0511de70440e9abb0c0cf0b17371": {
          "model_module": "@jupyter-widgets/controls",
          "model_module_version": "1.5.0",
          "model_name": "HTMLModel",
          "state": {
            "_dom_classes": [],
            "_model_module": "@jupyter-widgets/controls",
            "_model_module_version": "1.5.0",
            "_model_name": "HTMLModel",
            "_view_count": null,
            "_view_module": "@jupyter-widgets/controls",
            "_view_module_version": "1.5.0",
            "_view_name": "HTMLView",
            "description": "",
            "description_tooltip": null,
            "layout": "IPY_MODEL_8bf14618c3f2419199438fe13b42fd40",
            "placeholder": "​",
            "style": "IPY_MODEL_83b08ea8025b45f6ba7d7a9efc3eeab1",
            "value": " 26.0/26.0 [00:00&lt;00:00, 1.29kB/s]"
          }
        },
        "30596033577d46caa50051d57700bf83": {
          "model_module": "@jupyter-widgets/controls",
          "model_module_version": "1.5.0",
          "model_name": "ProgressStyleModel",
          "state": {
            "_model_module": "@jupyter-widgets/controls",
            "_model_module_version": "1.5.0",
            "_model_name": "ProgressStyleModel",
            "_view_count": null,
            "_view_module": "@jupyter-widgets/base",
            "_view_module_version": "1.2.0",
            "_view_name": "StyleView",
            "bar_color": null,
            "description_width": ""
          }
        },
        "3103d106023742658958e25693b3033c": {
          "model_module": "@jupyter-widgets/controls",
          "model_module_version": "1.5.0",
          "model_name": "FloatProgressModel",
          "state": {
            "_dom_classes": [],
            "_model_module": "@jupyter-widgets/controls",
            "_model_module_version": "1.5.0",
            "_model_name": "FloatProgressModel",
            "_view_count": null,
            "_view_module": "@jupyter-widgets/controls",
            "_view_module_version": "1.5.0",
            "_view_name": "ProgressView",
            "bar_style": "success",
            "description": "",
            "description_tooltip": null,
            "layout": "IPY_MODEL_54157e9519924975ba16e314f794c66c",
            "max": 75678,
            "min": 0,
            "orientation": "horizontal",
            "style": "IPY_MODEL_ce76b791172f4ce3aeb74113d634a3ad",
            "value": 75678
          }
        },
        "31f645d4e3294b72b331d1d87db6f1a5": {
          "model_module": "@jupyter-widgets/controls",
          "model_module_version": "1.5.0",
          "model_name": "DescriptionStyleModel",
          "state": {
            "_model_module": "@jupyter-widgets/controls",
            "_model_module_version": "1.5.0",
            "_model_name": "DescriptionStyleModel",
            "_view_count": null,
            "_view_module": "@jupyter-widgets/base",
            "_view_module_version": "1.2.0",
            "_view_name": "StyleView",
            "description_width": ""
          }
        },
        "32e27e8ea4834e0d9bae284fad6e9fcb": {
          "model_module": "@jupyter-widgets/base",
          "model_module_version": "1.2.0",
          "model_name": "LayoutModel",
          "state": {
            "_model_module": "@jupyter-widgets/base",
            "_model_module_version": "1.2.0",
            "_model_name": "LayoutModel",
            "_view_count": null,
            "_view_module": "@jupyter-widgets/base",
            "_view_module_version": "1.2.0",
            "_view_name": "LayoutView",
            "align_content": null,
            "align_items": null,
            "align_self": null,
            "border": null,
            "bottom": null,
            "display": null,
            "flex": null,
            "flex_flow": null,
            "grid_area": null,
            "grid_auto_columns": null,
            "grid_auto_flow": null,
            "grid_auto_rows": null,
            "grid_column": null,
            "grid_gap": null,
            "grid_row": null,
            "grid_template_areas": null,
            "grid_template_columns": null,
            "grid_template_rows": null,
            "height": null,
            "justify_content": null,
            "justify_items": null,
            "left": null,
            "margin": null,
            "max_height": null,
            "max_width": null,
            "min_height": null,
            "min_width": null,
            "object_fit": null,
            "object_position": null,
            "order": null,
            "overflow": null,
            "overflow_x": null,
            "overflow_y": null,
            "padding": null,
            "right": null,
            "top": null,
            "visibility": null,
            "width": null
          }
        },
        "32eead93771e4969966ae67969b3540b": {
          "model_module": "@jupyter-widgets/base",
          "model_module_version": "1.2.0",
          "model_name": "LayoutModel",
          "state": {
            "_model_module": "@jupyter-widgets/base",
            "_model_module_version": "1.2.0",
            "_model_name": "LayoutModel",
            "_view_count": null,
            "_view_module": "@jupyter-widgets/base",
            "_view_module_version": "1.2.0",
            "_view_name": "LayoutView",
            "align_content": null,
            "align_items": null,
            "align_self": null,
            "border": null,
            "bottom": null,
            "display": null,
            "flex": null,
            "flex_flow": null,
            "grid_area": null,
            "grid_auto_columns": null,
            "grid_auto_flow": null,
            "grid_auto_rows": null,
            "grid_column": null,
            "grid_gap": null,
            "grid_row": null,
            "grid_template_areas": null,
            "grid_template_columns": null,
            "grid_template_rows": null,
            "height": null,
            "justify_content": null,
            "justify_items": null,
            "left": null,
            "margin": null,
            "max_height": null,
            "max_width": null,
            "min_height": null,
            "min_width": null,
            "object_fit": null,
            "object_position": null,
            "order": null,
            "overflow": null,
            "overflow_x": null,
            "overflow_y": null,
            "padding": null,
            "right": null,
            "top": null,
            "visibility": null,
            "width": null
          }
        },
        "3435e45721664269b707ae1b74a50a93": {
          "model_module": "@jupyter-widgets/base",
          "model_module_version": "1.2.0",
          "model_name": "LayoutModel",
          "state": {
            "_model_module": "@jupyter-widgets/base",
            "_model_module_version": "1.2.0",
            "_model_name": "LayoutModel",
            "_view_count": null,
            "_view_module": "@jupyter-widgets/base",
            "_view_module_version": "1.2.0",
            "_view_name": "LayoutView",
            "align_content": null,
            "align_items": null,
            "align_self": null,
            "border": null,
            "bottom": null,
            "display": null,
            "flex": null,
            "flex_flow": null,
            "grid_area": null,
            "grid_auto_columns": null,
            "grid_auto_flow": null,
            "grid_auto_rows": null,
            "grid_column": null,
            "grid_gap": null,
            "grid_row": null,
            "grid_template_areas": null,
            "grid_template_columns": null,
            "grid_template_rows": null,
            "height": null,
            "justify_content": null,
            "justify_items": null,
            "left": null,
            "margin": null,
            "max_height": null,
            "max_width": null,
            "min_height": null,
            "min_width": null,
            "object_fit": null,
            "object_position": null,
            "order": null,
            "overflow": null,
            "overflow_x": null,
            "overflow_y": null,
            "padding": null,
            "right": null,
            "top": null,
            "visibility": null,
            "width": null
          }
        },
        "344b7d1bd5474af9a046a785ce758f44": {
          "model_module": "@jupyter-widgets/controls",
          "model_module_version": "1.5.0",
          "model_name": "FloatProgressModel",
          "state": {
            "_dom_classes": [],
            "_model_module": "@jupyter-widgets/controls",
            "_model_module_version": "1.5.0",
            "_model_name": "FloatProgressModel",
            "_view_count": null,
            "_view_module": "@jupyter-widgets/controls",
            "_view_module_version": "1.5.0",
            "_view_name": "ProgressView",
            "bar_style": "success",
            "description": "",
            "description_tooltip": null,
            "layout": "IPY_MODEL_e8b573eaad4c4babb02fc19d288544f6",
            "max": 213450,
            "min": 0,
            "orientation": "horizontal",
            "style": "IPY_MODEL_bf96b648ed544af68f0c411c54df8960",
            "value": 213450
          }
        },
        "346c7af2e8b548f6bb30ebfff2a52fe3": {
          "model_module": "@jupyter-widgets/controls",
          "model_module_version": "1.5.0",
          "model_name": "DescriptionStyleModel",
          "state": {
            "_model_module": "@jupyter-widgets/controls",
            "_model_module_version": "1.5.0",
            "_model_name": "DescriptionStyleModel",
            "_view_count": null,
            "_view_module": "@jupyter-widgets/base",
            "_view_module_version": "1.2.0",
            "_view_name": "StyleView",
            "description_width": ""
          }
        },
        "351aec4dfe3242d89204104bf54e3c72": {
          "model_module": "@jupyter-widgets/controls",
          "model_module_version": "1.5.0",
          "model_name": "HTMLModel",
          "state": {
            "_dom_classes": [],
            "_model_module": "@jupyter-widgets/controls",
            "_model_module_version": "1.5.0",
            "_model_name": "HTMLModel",
            "_view_count": null,
            "_view_module": "@jupyter-widgets/controls",
            "_view_module_version": "1.5.0",
            "_view_name": "HTMLView",
            "description": "",
            "description_tooltip": null,
            "layout": "IPY_MODEL_c41bf596ede54ff7a9654cbec03ff5b6",
            "placeholder": "​",
            "style": "IPY_MODEL_9545f1b1719c4627b1a17e53273a87f9",
            "value": " 232k/232k [00:00&lt;00:00, 8.24MB/s]"
          }
        },
        "35dd6927ff1d45ba9ca227d9ec5f14ef": {
          "model_module": "@jupyter-widgets/base",
          "model_module_version": "1.2.0",
          "model_name": "LayoutModel",
          "state": {
            "_model_module": "@jupyter-widgets/base",
            "_model_module_version": "1.2.0",
            "_model_name": "LayoutModel",
            "_view_count": null,
            "_view_module": "@jupyter-widgets/base",
            "_view_module_version": "1.2.0",
            "_view_name": "LayoutView",
            "align_content": null,
            "align_items": null,
            "align_self": null,
            "border": null,
            "bottom": null,
            "display": null,
            "flex": null,
            "flex_flow": null,
            "grid_area": null,
            "grid_auto_columns": null,
            "grid_auto_flow": null,
            "grid_auto_rows": null,
            "grid_column": null,
            "grid_gap": null,
            "grid_row": null,
            "grid_template_areas": null,
            "grid_template_columns": null,
            "grid_template_rows": null,
            "height": null,
            "justify_content": null,
            "justify_items": null,
            "left": null,
            "margin": null,
            "max_height": null,
            "max_width": null,
            "min_height": null,
            "min_width": null,
            "object_fit": null,
            "object_position": null,
            "order": null,
            "overflow": null,
            "overflow_x": null,
            "overflow_y": null,
            "padding": null,
            "right": null,
            "top": null,
            "visibility": null,
            "width": null
          }
        },
        "361027a71a874e81a8a9f98bc438be38": {
          "model_module": "@jupyter-widgets/controls",
          "model_module_version": "1.5.0",
          "model_name": "HTMLModel",
          "state": {
            "_dom_classes": [],
            "_model_module": "@jupyter-widgets/controls",
            "_model_module_version": "1.5.0",
            "_model_name": "HTMLModel",
            "_view_count": null,
            "_view_module": "@jupyter-widgets/controls",
            "_view_module_version": "1.5.0",
            "_view_name": "HTMLView",
            "description": "",
            "description_tooltip": null,
            "layout": "IPY_MODEL_07c261d39059412ab87327829fdf130d",
            "placeholder": "​",
            "style": "IPY_MODEL_10747f4e91c14ef28b64ad7e22de8851",
            "value": " 35.3k/35.3k [00:00&lt;00:00, 1.33MB/s]"
          }
        },
        "367cb14f727f43e9977598211386ffcd": {
          "model_module": "@jupyter-widgets/controls",
          "model_module_version": "1.5.0",
          "model_name": "HBoxModel",
          "state": {
            "_dom_classes": [],
            "_model_module": "@jupyter-widgets/controls",
            "_model_module_version": "1.5.0",
            "_model_name": "HBoxModel",
            "_view_count": null,
            "_view_module": "@jupyter-widgets/controls",
            "_view_module_version": "1.5.0",
            "_view_name": "HBoxView",
            "box_style": "",
            "children": [
              "IPY_MODEL_ef4e089850484d709ca04a671ae6f789",
              "IPY_MODEL_f35e7524f9154e8193352663fabe78aa",
              "IPY_MODEL_361027a71a874e81a8a9f98bc438be38"
            ],
            "layout": "IPY_MODEL_efed81d50b39410eb8bc71fc870412cc"
          }
        },
        "36dde58163a84509b2ab3bef0b0cade6": {
          "model_module": "@jupyter-widgets/controls",
          "model_module_version": "1.5.0",
          "model_name": "DescriptionStyleModel",
          "state": {
            "_model_module": "@jupyter-widgets/controls",
            "_model_module_version": "1.5.0",
            "_model_name": "DescriptionStyleModel",
            "_view_count": null,
            "_view_module": "@jupyter-widgets/base",
            "_view_module_version": "1.2.0",
            "_view_name": "StyleView",
            "description_width": ""
          }
        },
        "37314794220142cf9415ad90535e39e0": {
          "model_module": "@jupyter-widgets/controls",
          "model_module_version": "1.5.0",
          "model_name": "HTMLModel",
          "state": {
            "_dom_classes": [],
            "_model_module": "@jupyter-widgets/controls",
            "_model_module_version": "1.5.0",
            "_model_name": "HTMLModel",
            "_view_count": null,
            "_view_module": "@jupyter-widgets/controls",
            "_view_module_version": "1.5.0",
            "_view_name": "HTMLView",
            "description": "",
            "description_tooltip": null,
            "layout": "IPY_MODEL_de40ee7490cc417bb1c9008ff0cd3215",
            "placeholder": "​",
            "style": "IPY_MODEL_e77da712f1bf493daf95826d99d92274",
            "value": "Map: 100%"
          }
        },
        "37a764bf35f6462b8493b8ab6ec1367d": {
          "model_module": "@jupyter-widgets/controls",
          "model_module_version": "1.5.0",
          "model_name": "DescriptionStyleModel",
          "state": {
            "_model_module": "@jupyter-widgets/controls",
            "_model_module_version": "1.5.0",
            "_model_name": "DescriptionStyleModel",
            "_view_count": null,
            "_view_module": "@jupyter-widgets/base",
            "_view_module_version": "1.2.0",
            "_view_name": "StyleView",
            "description_width": ""
          }
        },
        "37e4c05bf05346248160c8ef5ca1ab63": {
          "model_module": "@jupyter-widgets/controls",
          "model_module_version": "1.5.0",
          "model_name": "FloatProgressModel",
          "state": {
            "_dom_classes": [],
            "_model_module": "@jupyter-widgets/controls",
            "_model_module_version": "1.5.0",
            "_model_name": "FloatProgressModel",
            "_view_count": null,
            "_view_module": "@jupyter-widgets/controls",
            "_view_module_version": "1.5.0",
            "_view_name": "ProgressView",
            "bar_style": "success",
            "description": "",
            "description_tooltip": null,
            "layout": "IPY_MODEL_45a66e73de1a4d0e9b24a65040de0f37",
            "max": 231508,
            "min": 0,
            "orientation": "horizontal",
            "style": "IPY_MODEL_577f36b979204a5dae9a42c8d7ee020f",
            "value": 231508
          }
        },
        "382fe3af17f341e2abc801f367651b3c": {
          "model_module": "@jupyter-widgets/controls",
          "model_module_version": "1.5.0",
          "model_name": "DescriptionStyleModel",
          "state": {
            "_model_module": "@jupyter-widgets/controls",
            "_model_module_version": "1.5.0",
            "_model_name": "DescriptionStyleModel",
            "_view_count": null,
            "_view_module": "@jupyter-widgets/base",
            "_view_module_version": "1.2.0",
            "_view_name": "StyleView",
            "description_width": ""
          }
        },
        "38a5d8ea51864657b38e135427846660": {
          "model_module": "@jupyter-widgets/controls",
          "model_module_version": "1.5.0",
          "model_name": "HTMLModel",
          "state": {
            "_dom_classes": [],
            "_model_module": "@jupyter-widgets/controls",
            "_model_module_version": "1.5.0",
            "_model_name": "HTMLModel",
            "_view_count": null,
            "_view_module": "@jupyter-widgets/controls",
            "_view_module_version": "1.5.0",
            "_view_name": "HTMLView",
            "description": "",
            "description_tooltip": null,
            "layout": "IPY_MODEL_f8c51bab51704391bc6ebb55b3a32831",
            "placeholder": "​",
            "style": "IPY_MODEL_846a2ca5a48e42b589fb583a6979cf63",
            "value": "config.json: 100%"
          }
        },
        "38cb49e5f31a46c8a52011915e14fac1": {
          "model_module": "@jupyter-widgets/base",
          "model_module_version": "1.2.0",
          "model_name": "LayoutModel",
          "state": {
            "_model_module": "@jupyter-widgets/base",
            "_model_module_version": "1.2.0",
            "_model_name": "LayoutModel",
            "_view_count": null,
            "_view_module": "@jupyter-widgets/base",
            "_view_module_version": "1.2.0",
            "_view_name": "LayoutView",
            "align_content": null,
            "align_items": null,
            "align_self": null,
            "border": null,
            "bottom": null,
            "display": null,
            "flex": null,
            "flex_flow": null,
            "grid_area": null,
            "grid_auto_columns": null,
            "grid_auto_flow": null,
            "grid_auto_rows": null,
            "grid_column": null,
            "grid_gap": null,
            "grid_row": null,
            "grid_template_areas": null,
            "grid_template_columns": null,
            "grid_template_rows": null,
            "height": null,
            "justify_content": null,
            "justify_items": null,
            "left": null,
            "margin": null,
            "max_height": null,
            "max_width": null,
            "min_height": null,
            "min_width": null,
            "object_fit": null,
            "object_position": null,
            "order": null,
            "overflow": null,
            "overflow_x": null,
            "overflow_y": null,
            "padding": null,
            "right": null,
            "top": null,
            "visibility": null,
            "width": null
          }
        },
        "38e0cbf3a38c40abb597456c0854b7c0": {
          "model_module": "@jupyter-widgets/base",
          "model_module_version": "1.2.0",
          "model_name": "LayoutModel",
          "state": {
            "_model_module": "@jupyter-widgets/base",
            "_model_module_version": "1.2.0",
            "_model_name": "LayoutModel",
            "_view_count": null,
            "_view_module": "@jupyter-widgets/base",
            "_view_module_version": "1.2.0",
            "_view_name": "LayoutView",
            "align_content": null,
            "align_items": null,
            "align_self": null,
            "border": null,
            "bottom": null,
            "display": null,
            "flex": null,
            "flex_flow": null,
            "grid_area": null,
            "grid_auto_columns": null,
            "grid_auto_flow": null,
            "grid_auto_rows": null,
            "grid_column": null,
            "grid_gap": null,
            "grid_row": null,
            "grid_template_areas": null,
            "grid_template_columns": null,
            "grid_template_rows": null,
            "height": null,
            "justify_content": null,
            "justify_items": null,
            "left": null,
            "margin": null,
            "max_height": null,
            "max_width": null,
            "min_height": null,
            "min_width": null,
            "object_fit": null,
            "object_position": null,
            "order": null,
            "overflow": null,
            "overflow_x": null,
            "overflow_y": null,
            "padding": null,
            "right": null,
            "top": null,
            "visibility": null,
            "width": null
          }
        },
        "397e2990863a4e86b1435717760d668f": {
          "model_module": "@jupyter-widgets/controls",
          "model_module_version": "1.5.0",
          "model_name": "HBoxModel",
          "state": {
            "_dom_classes": [],
            "_model_module": "@jupyter-widgets/controls",
            "_model_module_version": "1.5.0",
            "_model_name": "HBoxModel",
            "_view_count": null,
            "_view_module": "@jupyter-widgets/controls",
            "_view_module_version": "1.5.0",
            "_view_name": "HBoxView",
            "box_style": "",
            "children": [
              "IPY_MODEL_7eed637c6e7d46ee9c4cf78750cef204",
              "IPY_MODEL_767414e765fb4ae5a23807dd31038709",
              "IPY_MODEL_dbec9e7008dc44d0a98e6132a0b39a0b"
            ],
            "layout": "IPY_MODEL_96f78c9d64a448339bbe8b1c27ec78cb"
          }
        },
        "3a3f5c48839748fd8480862dd33d63ba": {
          "model_module": "@jupyter-widgets/controls",
          "model_module_version": "1.5.0",
          "model_name": "HBoxModel",
          "state": {
            "_dom_classes": [],
            "_model_module": "@jupyter-widgets/controls",
            "_model_module_version": "1.5.0",
            "_model_name": "HBoxModel",
            "_view_count": null,
            "_view_module": "@jupyter-widgets/controls",
            "_view_module_version": "1.5.0",
            "_view_name": "HBoxView",
            "box_style": "",
            "children": [
              "IPY_MODEL_437673be68614267a8e23cb16ce3bfcc",
              "IPY_MODEL_c2d342fdc7eb44a79eaca662d25a2ada",
              "IPY_MODEL_3ee212878ea04f2d8c0ce809ff0fa29a"
            ],
            "layout": "IPY_MODEL_88ab8699227f4c559fcfd9f8834f3d7a"
          }
        },
        "3affdd1178ac41a089247476afb0475c": {
          "model_module": "@jupyter-widgets/base",
          "model_module_version": "1.2.0",
          "model_name": "LayoutModel",
          "state": {
            "_model_module": "@jupyter-widgets/base",
            "_model_module_version": "1.2.0",
            "_model_name": "LayoutModel",
            "_view_count": null,
            "_view_module": "@jupyter-widgets/base",
            "_view_module_version": "1.2.0",
            "_view_name": "LayoutView",
            "align_content": null,
            "align_items": null,
            "align_self": null,
            "border": null,
            "bottom": null,
            "display": null,
            "flex": null,
            "flex_flow": null,
            "grid_area": null,
            "grid_auto_columns": null,
            "grid_auto_flow": null,
            "grid_auto_rows": null,
            "grid_column": null,
            "grid_gap": null,
            "grid_row": null,
            "grid_template_areas": null,
            "grid_template_columns": null,
            "grid_template_rows": null,
            "height": null,
            "justify_content": null,
            "justify_items": null,
            "left": null,
            "margin": null,
            "max_height": null,
            "max_width": null,
            "min_height": null,
            "min_width": null,
            "object_fit": null,
            "object_position": null,
            "order": null,
            "overflow": null,
            "overflow_x": null,
            "overflow_y": null,
            "padding": null,
            "right": null,
            "top": null,
            "visibility": null,
            "width": null
          }
        },
        "3b960119a194489b9cc1bba5e7a32f65": {
          "model_module": "@jupyter-widgets/controls",
          "model_module_version": "1.5.0",
          "model_name": "FloatProgressModel",
          "state": {
            "_dom_classes": [],
            "_model_module": "@jupyter-widgets/controls",
            "_model_module_version": "1.5.0",
            "_model_name": "FloatProgressModel",
            "_view_count": null,
            "_view_module": "@jupyter-widgets/controls",
            "_view_module_version": "1.5.0",
            "_view_name": "ProgressView",
            "bar_style": "success",
            "description": "",
            "description_tooltip": null,
            "layout": "IPY_MODEL_1bd6aa0e215e46e99432551d2c52905d",
            "max": 435797,
            "min": 0,
            "orientation": "horizontal",
            "style": "IPY_MODEL_b83d33c75e204fe5a14647b5c4f967f4",
            "value": 435797
          }
        },
        "3bc8521c14e148b39bd77a3079a2cbd6": {
          "model_module": "@jupyter-widgets/controls",
          "model_module_version": "1.5.0",
          "model_name": "HTMLModel",
          "state": {
            "_dom_classes": [],
            "_model_module": "@jupyter-widgets/controls",
            "_model_module_version": "1.5.0",
            "_model_name": "HTMLModel",
            "_view_count": null,
            "_view_module": "@jupyter-widgets/controls",
            "_view_module_version": "1.5.0",
            "_view_name": "HTMLView",
            "description": "",
            "description_tooltip": null,
            "layout": "IPY_MODEL_d66bf4cfeda14376a1e421083b6d8c8d",
            "placeholder": "​",
            "style": "IPY_MODEL_c0e03b1659ba4bb2913b8afab055b814",
            "value": " 232k/232k [00:00&lt;00:00, 2.82MB/s]"
          }
        },
        "3bf01417dc234d33b4fcdbbf25563e9f": {
          "model_module": "@jupyter-widgets/controls",
          "model_module_version": "1.5.0",
          "model_name": "HBoxModel",
          "state": {
            "_dom_classes": [],
            "_model_module": "@jupyter-widgets/controls",
            "_model_module_version": "1.5.0",
            "_model_name": "HBoxModel",
            "_view_count": null,
            "_view_module": "@jupyter-widgets/controls",
            "_view_module_version": "1.5.0",
            "_view_name": "HBoxView",
            "box_style": "",
            "children": [
              "IPY_MODEL_be3dedb315e046c3a8ad769219fc9b71",
              "IPY_MODEL_a3567ed2b6a546af8f054c7d86874351",
              "IPY_MODEL_d19147a04e8348799763c3c024d5fd46"
            ],
            "layout": "IPY_MODEL_2e30fa4e5d63405193f8c785a512248b"
          }
        },
        "3d5163b509ca464d9cb5d1d40636d2dc": {
          "model_module": "@jupyter-widgets/controls",
          "model_module_version": "1.5.0",
          "model_name": "HTMLModel",
          "state": {
            "_dom_classes": [],
            "_model_module": "@jupyter-widgets/controls",
            "_model_module_version": "1.5.0",
            "_model_name": "HTMLModel",
            "_view_count": null,
            "_view_module": "@jupyter-widgets/controls",
            "_view_module_version": "1.5.0",
            "_view_name": "HTMLView",
            "description": "",
            "description_tooltip": null,
            "layout": "IPY_MODEL_ab4c019432b04ed39c5b0c9de169dfd5",
            "placeholder": "​",
            "style": "IPY_MODEL_3d757307e5e143c089dfeacd9a5af02b",
            "value": "tokenizer_config.json: 100%"
          }
        },
        "3d757307e5e143c089dfeacd9a5af02b": {
          "model_module": "@jupyter-widgets/controls",
          "model_module_version": "1.5.0",
          "model_name": "DescriptionStyleModel",
          "state": {
            "_model_module": "@jupyter-widgets/controls",
            "_model_module_version": "1.5.0",
            "_model_name": "DescriptionStyleModel",
            "_view_count": null,
            "_view_module": "@jupyter-widgets/base",
            "_view_module_version": "1.2.0",
            "_view_name": "StyleView",
            "description_width": ""
          }
        },
        "3d7737ebdec1489ba93faa90319d7dfa": {
          "model_module": "@jupyter-widgets/base",
          "model_module_version": "1.2.0",
          "model_name": "LayoutModel",
          "state": {
            "_model_module": "@jupyter-widgets/base",
            "_model_module_version": "1.2.0",
            "_model_name": "LayoutModel",
            "_view_count": null,
            "_view_module": "@jupyter-widgets/base",
            "_view_module_version": "1.2.0",
            "_view_name": "LayoutView",
            "align_content": null,
            "align_items": null,
            "align_self": null,
            "border": null,
            "bottom": null,
            "display": null,
            "flex": null,
            "flex_flow": null,
            "grid_area": null,
            "grid_auto_columns": null,
            "grid_auto_flow": null,
            "grid_auto_rows": null,
            "grid_column": null,
            "grid_gap": null,
            "grid_row": null,
            "grid_template_areas": null,
            "grid_template_columns": null,
            "grid_template_rows": null,
            "height": null,
            "justify_content": null,
            "justify_items": null,
            "left": null,
            "margin": null,
            "max_height": null,
            "max_width": null,
            "min_height": null,
            "min_width": null,
            "object_fit": null,
            "object_position": null,
            "order": null,
            "overflow": null,
            "overflow_x": null,
            "overflow_y": null,
            "padding": null,
            "right": null,
            "top": null,
            "visibility": null,
            "width": null
          }
        },
        "3e571af7a7df46b1b0485572342aec52": {
          "model_module": "@jupyter-widgets/controls",
          "model_module_version": "1.5.0",
          "model_name": "HTMLModel",
          "state": {
            "_dom_classes": [],
            "_model_module": "@jupyter-widgets/controls",
            "_model_module_version": "1.5.0",
            "_model_name": "HTMLModel",
            "_view_count": null,
            "_view_module": "@jupyter-widgets/controls",
            "_view_module_version": "1.5.0",
            "_view_name": "HTMLView",
            "description": "",
            "description_tooltip": null,
            "layout": "IPY_MODEL_c073c64caa934cd18ec1d68f3f21fba7",
            "placeholder": "​",
            "style": "IPY_MODEL_8bf285164c00409fb0ab3b117110954f",
            "value": " 3668/3668 [00:00&lt;00:00, 4500.55 examples/s]"
          }
        },
        "3e75c46e9c0b4f7a9927bb84a47a30d7": {
          "model_module": "@jupyter-widgets/base",
          "model_module_version": "1.2.0",
          "model_name": "LayoutModel",
          "state": {
            "_model_module": "@jupyter-widgets/base",
            "_model_module_version": "1.2.0",
            "_model_name": "LayoutModel",
            "_view_count": null,
            "_view_module": "@jupyter-widgets/base",
            "_view_module_version": "1.2.0",
            "_view_name": "LayoutView",
            "align_content": null,
            "align_items": null,
            "align_self": null,
            "border": null,
            "bottom": null,
            "display": null,
            "flex": null,
            "flex_flow": null,
            "grid_area": null,
            "grid_auto_columns": null,
            "grid_auto_flow": null,
            "grid_auto_rows": null,
            "grid_column": null,
            "grid_gap": null,
            "grid_row": null,
            "grid_template_areas": null,
            "grid_template_columns": null,
            "grid_template_rows": null,
            "height": null,
            "justify_content": null,
            "justify_items": null,
            "left": null,
            "margin": null,
            "max_height": null,
            "max_width": null,
            "min_height": null,
            "min_width": null,
            "object_fit": null,
            "object_position": null,
            "order": null,
            "overflow": null,
            "overflow_x": null,
            "overflow_y": null,
            "padding": null,
            "right": null,
            "top": null,
            "visibility": null,
            "width": null
          }
        },
        "3e9d755de3974c8aa5f9bc56483392c4": {
          "model_module": "@jupyter-widgets/controls",
          "model_module_version": "1.5.0",
          "model_name": "ProgressStyleModel",
          "state": {
            "_model_module": "@jupyter-widgets/controls",
            "_model_module_version": "1.5.0",
            "_model_name": "ProgressStyleModel",
            "_view_count": null,
            "_view_module": "@jupyter-widgets/base",
            "_view_module_version": "1.2.0",
            "_view_name": "StyleView",
            "bar_color": null,
            "description_width": ""
          }
        },
        "3eb6cea9a7844dc8b066806d36e5568b": {
          "model_module": "@jupyter-widgets/base",
          "model_module_version": "1.2.0",
          "model_name": "LayoutModel",
          "state": {
            "_model_module": "@jupyter-widgets/base",
            "_model_module_version": "1.2.0",
            "_model_name": "LayoutModel",
            "_view_count": null,
            "_view_module": "@jupyter-widgets/base",
            "_view_module_version": "1.2.0",
            "_view_name": "LayoutView",
            "align_content": null,
            "align_items": null,
            "align_self": null,
            "border": null,
            "bottom": null,
            "display": null,
            "flex": null,
            "flex_flow": null,
            "grid_area": null,
            "grid_auto_columns": null,
            "grid_auto_flow": null,
            "grid_auto_rows": null,
            "grid_column": null,
            "grid_gap": null,
            "grid_row": null,
            "grid_template_areas": null,
            "grid_template_columns": null,
            "grid_template_rows": null,
            "height": null,
            "justify_content": null,
            "justify_items": null,
            "left": null,
            "margin": null,
            "max_height": null,
            "max_width": null,
            "min_height": null,
            "min_width": null,
            "object_fit": null,
            "object_position": null,
            "order": null,
            "overflow": null,
            "overflow_x": null,
            "overflow_y": null,
            "padding": null,
            "right": null,
            "top": null,
            "visibility": null,
            "width": null
          }
        },
        "3eb81a5a326d463bb87e2ed14221e0aa": {
          "model_module": "@jupyter-widgets/controls",
          "model_module_version": "1.5.0",
          "model_name": "HBoxModel",
          "state": {
            "_dom_classes": [],
            "_model_module": "@jupyter-widgets/controls",
            "_model_module_version": "1.5.0",
            "_model_name": "HBoxModel",
            "_view_count": null,
            "_view_module": "@jupyter-widgets/controls",
            "_view_module_version": "1.5.0",
            "_view_name": "HBoxView",
            "box_style": "",
            "children": [
              "IPY_MODEL_e16130b0698f436e89206db9f10f500b",
              "IPY_MODEL_344b7d1bd5474af9a046a785ce758f44",
              "IPY_MODEL_af4b34135dba4958b01bc47c4e49b05e"
            ],
            "layout": "IPY_MODEL_2d42d9de3c304c15aefdfad1c75354b3"
          }
        },
        "3ee212878ea04f2d8c0ce809ff0fa29a": {
          "model_module": "@jupyter-widgets/controls",
          "model_module_version": "1.5.0",
          "model_name": "HTMLModel",
          "state": {
            "_dom_classes": [],
            "_model_module": "@jupyter-widgets/controls",
            "_model_module_version": "1.5.0",
            "_model_name": "HTMLModel",
            "_view_count": null,
            "_view_module": "@jupyter-widgets/controls",
            "_view_module_version": "1.5.0",
            "_view_name": "HTMLView",
            "description": "",
            "description_tooltip": null,
            "layout": "IPY_MODEL_a2a9e04a5ff74c199d322fce52dd07aa",
            "placeholder": "​",
            "style": "IPY_MODEL_8bd8dc3e3e51438db295c862eafb5a51",
            "value": " 124/124 [00:00&lt;00:00, 3.41kB/s]"
          }
        },
        "40a24f800c7e4b8aa1195b4aa7c4f615": {
          "model_module": "@jupyter-widgets/controls",
          "model_module_version": "1.5.0",
          "model_name": "HBoxModel",
          "state": {
            "_dom_classes": [],
            "_model_module": "@jupyter-widgets/controls",
            "_model_module_version": "1.5.0",
            "_model_name": "HBoxModel",
            "_view_count": null,
            "_view_module": "@jupyter-widgets/controls",
            "_view_module_version": "1.5.0",
            "_view_name": "HBoxView",
            "box_style": "",
            "children": [
              "IPY_MODEL_ffc185d4ce2b42e1bee80721020d27af",
              "IPY_MODEL_487c40a9c64342aba12c816346e3b39b",
              "IPY_MODEL_3e571af7a7df46b1b0485572342aec52"
            ],
            "layout": "IPY_MODEL_92a78e31a27145c394267a5e30d40213"
          }
        },
        "4122762e48e846648d6c356bd0eefe98": {
          "model_module": "@jupyter-widgets/controls",
          "model_module_version": "1.5.0",
          "model_name": "DescriptionStyleModel",
          "state": {
            "_model_module": "@jupyter-widgets/controls",
            "_model_module_version": "1.5.0",
            "_model_name": "DescriptionStyleModel",
            "_view_count": null,
            "_view_module": "@jupyter-widgets/base",
            "_view_module_version": "1.2.0",
            "_view_name": "StyleView",
            "description_width": ""
          }
        },
        "415682e6d1aa4a0f93afffa5b8971324": {
          "model_module": "@jupyter-widgets/base",
          "model_module_version": "1.2.0",
          "model_name": "LayoutModel",
          "state": {
            "_model_module": "@jupyter-widgets/base",
            "_model_module_version": "1.2.0",
            "_model_name": "LayoutModel",
            "_view_count": null,
            "_view_module": "@jupyter-widgets/base",
            "_view_module_version": "1.2.0",
            "_view_name": "LayoutView",
            "align_content": null,
            "align_items": null,
            "align_self": null,
            "border": null,
            "bottom": null,
            "display": null,
            "flex": null,
            "flex_flow": null,
            "grid_area": null,
            "grid_auto_columns": null,
            "grid_auto_flow": null,
            "grid_auto_rows": null,
            "grid_column": null,
            "grid_gap": null,
            "grid_row": null,
            "grid_template_areas": null,
            "grid_template_columns": null,
            "grid_template_rows": null,
            "height": null,
            "justify_content": null,
            "justify_items": null,
            "left": null,
            "margin": null,
            "max_height": null,
            "max_width": null,
            "min_height": null,
            "min_width": null,
            "object_fit": null,
            "object_position": null,
            "order": null,
            "overflow": null,
            "overflow_x": null,
            "overflow_y": null,
            "padding": null,
            "right": null,
            "top": null,
            "visibility": null,
            "width": null
          }
        },
        "417e75926bf647c29e409980330be185": {
          "model_module": "@jupyter-widgets/base",
          "model_module_version": "1.2.0",
          "model_name": "LayoutModel",
          "state": {
            "_model_module": "@jupyter-widgets/base",
            "_model_module_version": "1.2.0",
            "_model_name": "LayoutModel",
            "_view_count": null,
            "_view_module": "@jupyter-widgets/base",
            "_view_module_version": "1.2.0",
            "_view_name": "LayoutView",
            "align_content": null,
            "align_items": null,
            "align_self": null,
            "border": null,
            "bottom": null,
            "display": null,
            "flex": null,
            "flex_flow": null,
            "grid_area": null,
            "grid_auto_columns": null,
            "grid_auto_flow": null,
            "grid_auto_rows": null,
            "grid_column": null,
            "grid_gap": null,
            "grid_row": null,
            "grid_template_areas": null,
            "grid_template_columns": null,
            "grid_template_rows": null,
            "height": null,
            "justify_content": null,
            "justify_items": null,
            "left": null,
            "margin": null,
            "max_height": null,
            "max_width": null,
            "min_height": null,
            "min_width": null,
            "object_fit": null,
            "object_position": null,
            "order": null,
            "overflow": null,
            "overflow_x": null,
            "overflow_y": null,
            "padding": null,
            "right": null,
            "top": null,
            "visibility": null,
            "width": null
          }
        },
        "429edc31fa95413f8191bbd999481fa9": {
          "model_module": "@jupyter-widgets/base",
          "model_module_version": "1.2.0",
          "model_name": "LayoutModel",
          "state": {
            "_model_module": "@jupyter-widgets/base",
            "_model_module_version": "1.2.0",
            "_model_name": "LayoutModel",
            "_view_count": null,
            "_view_module": "@jupyter-widgets/base",
            "_view_module_version": "1.2.0",
            "_view_name": "LayoutView",
            "align_content": null,
            "align_items": null,
            "align_self": null,
            "border": null,
            "bottom": null,
            "display": null,
            "flex": null,
            "flex_flow": null,
            "grid_area": null,
            "grid_auto_columns": null,
            "grid_auto_flow": null,
            "grid_auto_rows": null,
            "grid_column": null,
            "grid_gap": null,
            "grid_row": null,
            "grid_template_areas": null,
            "grid_template_columns": null,
            "grid_template_rows": null,
            "height": null,
            "justify_content": null,
            "justify_items": null,
            "left": null,
            "margin": null,
            "max_height": null,
            "max_width": null,
            "min_height": null,
            "min_width": null,
            "object_fit": null,
            "object_position": null,
            "order": null,
            "overflow": null,
            "overflow_x": null,
            "overflow_y": null,
            "padding": null,
            "right": null,
            "top": null,
            "visibility": null,
            "width": null
          }
        },
        "42fcb8f4274f4687877c673eb4921ffd": {
          "model_module": "@jupyter-widgets/controls",
          "model_module_version": "1.5.0",
          "model_name": "ProgressStyleModel",
          "state": {
            "_model_module": "@jupyter-widgets/controls",
            "_model_module_version": "1.5.0",
            "_model_name": "ProgressStyleModel",
            "_view_count": null,
            "_view_module": "@jupyter-widgets/base",
            "_view_module_version": "1.2.0",
            "_view_name": "StyleView",
            "bar_color": null,
            "description_width": ""
          }
        },
        "43415127fd564f249a436d7a611c553a": {
          "model_module": "@jupyter-widgets/base",
          "model_module_version": "1.2.0",
          "model_name": "LayoutModel",
          "state": {
            "_model_module": "@jupyter-widgets/base",
            "_model_module_version": "1.2.0",
            "_model_name": "LayoutModel",
            "_view_count": null,
            "_view_module": "@jupyter-widgets/base",
            "_view_module_version": "1.2.0",
            "_view_name": "LayoutView",
            "align_content": null,
            "align_items": null,
            "align_self": null,
            "border": null,
            "bottom": null,
            "display": null,
            "flex": null,
            "flex_flow": null,
            "grid_area": null,
            "grid_auto_columns": null,
            "grid_auto_flow": null,
            "grid_auto_rows": null,
            "grid_column": null,
            "grid_gap": null,
            "grid_row": null,
            "grid_template_areas": null,
            "grid_template_columns": null,
            "grid_template_rows": null,
            "height": null,
            "justify_content": null,
            "justify_items": null,
            "left": null,
            "margin": null,
            "max_height": null,
            "max_width": null,
            "min_height": null,
            "min_width": null,
            "object_fit": null,
            "object_position": null,
            "order": null,
            "overflow": null,
            "overflow_x": null,
            "overflow_y": null,
            "padding": null,
            "right": null,
            "top": null,
            "visibility": null,
            "width": null
          }
        },
        "437673be68614267a8e23cb16ce3bfcc": {
          "model_module": "@jupyter-widgets/controls",
          "model_module_version": "1.5.0",
          "model_name": "HTMLModel",
          "state": {
            "_dom_classes": [],
            "_model_module": "@jupyter-widgets/controls",
            "_model_module_version": "1.5.0",
            "_model_name": "HTMLModel",
            "_view_count": null,
            "_view_module": "@jupyter-widgets/controls",
            "_view_module_version": "1.5.0",
            "_view_name": "HTMLView",
            "description": "",
            "description_tooltip": null,
            "layout": "IPY_MODEL_df666c85af2f4114b8dd385e76cfea4f",
            "placeholder": "​",
            "style": "IPY_MODEL_a11b712d763242fabea97f91603be2a1",
            "value": "generation_config.json: 100%"
          }
        },
        "4453429d12514b27948cb2767795b06f": {
          "model_module": "@jupyter-widgets/base",
          "model_module_version": "1.2.0",
          "model_name": "LayoutModel",
          "state": {
            "_model_module": "@jupyter-widgets/base",
            "_model_module_version": "1.2.0",
            "_model_name": "LayoutModel",
            "_view_count": null,
            "_view_module": "@jupyter-widgets/base",
            "_view_module_version": "1.2.0",
            "_view_name": "LayoutView",
            "align_content": null,
            "align_items": null,
            "align_self": null,
            "border": null,
            "bottom": null,
            "display": null,
            "flex": null,
            "flex_flow": null,
            "grid_area": null,
            "grid_auto_columns": null,
            "grid_auto_flow": null,
            "grid_auto_rows": null,
            "grid_column": null,
            "grid_gap": null,
            "grid_row": null,
            "grid_template_areas": null,
            "grid_template_columns": null,
            "grid_template_rows": null,
            "height": null,
            "justify_content": null,
            "justify_items": null,
            "left": null,
            "margin": null,
            "max_height": null,
            "max_width": null,
            "min_height": null,
            "min_width": null,
            "object_fit": null,
            "object_position": null,
            "order": null,
            "overflow": null,
            "overflow_x": null,
            "overflow_y": null,
            "padding": null,
            "right": null,
            "top": null,
            "visibility": null,
            "width": null
          }
        },
        "4499681b220d4b8fa233a7c7f930578f": {
          "model_module": "@jupyter-widgets/controls",
          "model_module_version": "1.5.0",
          "model_name": "HTMLModel",
          "state": {
            "_dom_classes": [],
            "_model_module": "@jupyter-widgets/controls",
            "_model_module_version": "1.5.0",
            "_model_name": "HTMLModel",
            "_view_count": null,
            "_view_module": "@jupyter-widgets/controls",
            "_view_module_version": "1.5.0",
            "_view_name": "HTMLView",
            "description": "",
            "description_tooltip": null,
            "layout": "IPY_MODEL_d060b36a061748e7a4a2ae3ee958ed62",
            "placeholder": "​",
            "style": "IPY_MODEL_63bf9da143cf4018b079e4be2065cd97",
            "value": "test-00000-of-00001.parquet: 100%"
          }
        },
        "449b962507e046f58afeef1d1e66e050": {
          "model_module": "@jupyter-widgets/controls",
          "model_module_version": "1.5.0",
          "model_name": "ProgressStyleModel",
          "state": {
            "_model_module": "@jupyter-widgets/controls",
            "_model_module_version": "1.5.0",
            "_model_name": "ProgressStyleModel",
            "_view_count": null,
            "_view_module": "@jupyter-widgets/base",
            "_view_module_version": "1.2.0",
            "_view_name": "StyleView",
            "bar_color": null,
            "description_width": ""
          }
        },
        "456207ec2f144cdb80358a20b8d9f945": {
          "model_module": "@jupyter-widgets/controls",
          "model_module_version": "1.5.0",
          "model_name": "HBoxModel",
          "state": {
            "_dom_classes": [],
            "_model_module": "@jupyter-widgets/controls",
            "_model_module_version": "1.5.0",
            "_model_name": "HBoxModel",
            "_view_count": null,
            "_view_module": "@jupyter-widgets/controls",
            "_view_module_version": "1.5.0",
            "_view_name": "HBoxView",
            "box_style": "",
            "children": [
              "IPY_MODEL_090d6b1e9d424bf498501ad76df966ab",
              "IPY_MODEL_87cbb5ea9b2d48208f1191d22b756544",
              "IPY_MODEL_1588029825be42599027db3d7b511cb1"
            ],
            "layout": "IPY_MODEL_f33225cb8a0a4185bbdded3565c0b026"
          }
        },
        "458f26ffde36433f8ec135d4dde1ef90": {
          "model_module": "@jupyter-widgets/base",
          "model_module_version": "1.2.0",
          "model_name": "LayoutModel",
          "state": {
            "_model_module": "@jupyter-widgets/base",
            "_model_module_version": "1.2.0",
            "_model_name": "LayoutModel",
            "_view_count": null,
            "_view_module": "@jupyter-widgets/base",
            "_view_module_version": "1.2.0",
            "_view_name": "LayoutView",
            "align_content": null,
            "align_items": null,
            "align_self": null,
            "border": null,
            "bottom": null,
            "display": null,
            "flex": null,
            "flex_flow": null,
            "grid_area": null,
            "grid_auto_columns": null,
            "grid_auto_flow": null,
            "grid_auto_rows": null,
            "grid_column": null,
            "grid_gap": null,
            "grid_row": null,
            "grid_template_areas": null,
            "grid_template_columns": null,
            "grid_template_rows": null,
            "height": null,
            "justify_content": null,
            "justify_items": null,
            "left": null,
            "margin": null,
            "max_height": null,
            "max_width": null,
            "min_height": null,
            "min_width": null,
            "object_fit": null,
            "object_position": null,
            "order": null,
            "overflow": null,
            "overflow_x": null,
            "overflow_y": null,
            "padding": null,
            "right": null,
            "top": null,
            "visibility": null,
            "width": null
          }
        },
        "45a66e73de1a4d0e9b24a65040de0f37": {
          "model_module": "@jupyter-widgets/base",
          "model_module_version": "1.2.0",
          "model_name": "LayoutModel",
          "state": {
            "_model_module": "@jupyter-widgets/base",
            "_model_module_version": "1.2.0",
            "_model_name": "LayoutModel",
            "_view_count": null,
            "_view_module": "@jupyter-widgets/base",
            "_view_module_version": "1.2.0",
            "_view_name": "LayoutView",
            "align_content": null,
            "align_items": null,
            "align_self": null,
            "border": null,
            "bottom": null,
            "display": null,
            "flex": null,
            "flex_flow": null,
            "grid_area": null,
            "grid_auto_columns": null,
            "grid_auto_flow": null,
            "grid_auto_rows": null,
            "grid_column": null,
            "grid_gap": null,
            "grid_row": null,
            "grid_template_areas": null,
            "grid_template_columns": null,
            "grid_template_rows": null,
            "height": null,
            "justify_content": null,
            "justify_items": null,
            "left": null,
            "margin": null,
            "max_height": null,
            "max_width": null,
            "min_height": null,
            "min_width": null,
            "object_fit": null,
            "object_position": null,
            "order": null,
            "overflow": null,
            "overflow_x": null,
            "overflow_y": null,
            "padding": null,
            "right": null,
            "top": null,
            "visibility": null,
            "width": null
          }
        },
        "46ae55fc62cc42d8882436949b5ca3c2": {
          "model_module": "@jupyter-widgets/controls",
          "model_module_version": "1.5.0",
          "model_name": "HTMLModel",
          "state": {
            "_dom_classes": [],
            "_model_module": "@jupyter-widgets/controls",
            "_model_module_version": "1.5.0",
            "_model_name": "HTMLModel",
            "_view_count": null,
            "_view_module": "@jupyter-widgets/controls",
            "_view_module_version": "1.5.0",
            "_view_name": "HTMLView",
            "description": "",
            "description_tooltip": null,
            "layout": "IPY_MODEL_7db672f695d2449daf85589592c87878",
            "placeholder": "​",
            "style": "IPY_MODEL_1a54a56d7a654e2d9fe5c386f29af24a",
            "value": " 629/629 [00:00&lt;00:00, 16.9kB/s]"
          }
        },
        "4710e36a274d49e880b3f2af7fc5e875": {
          "model_module": "@jupyter-widgets/base",
          "model_module_version": "1.2.0",
          "model_name": "LayoutModel",
          "state": {
            "_model_module": "@jupyter-widgets/base",
            "_model_module_version": "1.2.0",
            "_model_name": "LayoutModel",
            "_view_count": null,
            "_view_module": "@jupyter-widgets/base",
            "_view_module_version": "1.2.0",
            "_view_name": "LayoutView",
            "align_content": null,
            "align_items": null,
            "align_self": null,
            "border": null,
            "bottom": null,
            "display": null,
            "flex": null,
            "flex_flow": null,
            "grid_area": null,
            "grid_auto_columns": null,
            "grid_auto_flow": null,
            "grid_auto_rows": null,
            "grid_column": null,
            "grid_gap": null,
            "grid_row": null,
            "grid_template_areas": null,
            "grid_template_columns": null,
            "grid_template_rows": null,
            "height": null,
            "justify_content": null,
            "justify_items": null,
            "left": null,
            "margin": null,
            "max_height": null,
            "max_width": null,
            "min_height": null,
            "min_width": null,
            "object_fit": null,
            "object_position": null,
            "order": null,
            "overflow": null,
            "overflow_x": null,
            "overflow_y": null,
            "padding": null,
            "right": null,
            "top": null,
            "visibility": null,
            "width": null
          }
        },
        "4759cc078c244bb4931726e97817c602": {
          "model_module": "@jupyter-widgets/controls",
          "model_module_version": "1.5.0",
          "model_name": "HBoxModel",
          "state": {
            "_dom_classes": [],
            "_model_module": "@jupyter-widgets/controls",
            "_model_module_version": "1.5.0",
            "_model_name": "HBoxModel",
            "_view_count": null,
            "_view_module": "@jupyter-widgets/controls",
            "_view_module_version": "1.5.0",
            "_view_name": "HBoxView",
            "box_style": "",
            "children": [
              "IPY_MODEL_edb86a6b8659432e913c6072e3303b22",
              "IPY_MODEL_6da06155960c4a84bd51f6153f31d294",
              "IPY_MODEL_07490aca543d48cfb9eeffcbae7e7f76"
            ],
            "layout": "IPY_MODEL_9c50fb35ecfc4a1b813367da58e5e10e"
          }
        },
        "47d0bd8474294c5bb554ceb573942076": {
          "model_module": "@jupyter-widgets/controls",
          "model_module_version": "1.5.0",
          "model_name": "ProgressStyleModel",
          "state": {
            "_model_module": "@jupyter-widgets/controls",
            "_model_module_version": "1.5.0",
            "_model_name": "ProgressStyleModel",
            "_view_count": null,
            "_view_module": "@jupyter-widgets/base",
            "_view_module_version": "1.2.0",
            "_view_name": "StyleView",
            "bar_color": null,
            "description_width": ""
          }
        },
        "481c4eb362464ed8849acc210aad4bef": {
          "model_module": "@jupyter-widgets/controls",
          "model_module_version": "1.5.0",
          "model_name": "ProgressStyleModel",
          "state": {
            "_model_module": "@jupyter-widgets/controls",
            "_model_module_version": "1.5.0",
            "_model_name": "ProgressStyleModel",
            "_view_count": null,
            "_view_module": "@jupyter-widgets/base",
            "_view_module_version": "1.2.0",
            "_view_name": "StyleView",
            "bar_color": null,
            "description_width": ""
          }
        },
        "485b2b764860424fb6bce2a2f01904e5": {
          "model_module": "@jupyter-widgets/controls",
          "model_module_version": "1.5.0",
          "model_name": "ProgressStyleModel",
          "state": {
            "_model_module": "@jupyter-widgets/controls",
            "_model_module_version": "1.5.0",
            "_model_name": "ProgressStyleModel",
            "_view_count": null,
            "_view_module": "@jupyter-widgets/base",
            "_view_module_version": "1.2.0",
            "_view_name": "StyleView",
            "bar_color": null,
            "description_width": ""
          }
        },
        "4868bb99c42f4008849753e5ebe67991": {
          "model_module": "@jupyter-widgets/base",
          "model_module_version": "1.2.0",
          "model_name": "LayoutModel",
          "state": {
            "_model_module": "@jupyter-widgets/base",
            "_model_module_version": "1.2.0",
            "_model_name": "LayoutModel",
            "_view_count": null,
            "_view_module": "@jupyter-widgets/base",
            "_view_module_version": "1.2.0",
            "_view_name": "LayoutView",
            "align_content": null,
            "align_items": null,
            "align_self": null,
            "border": null,
            "bottom": null,
            "display": null,
            "flex": null,
            "flex_flow": null,
            "grid_area": null,
            "grid_auto_columns": null,
            "grid_auto_flow": null,
            "grid_auto_rows": null,
            "grid_column": null,
            "grid_gap": null,
            "grid_row": null,
            "grid_template_areas": null,
            "grid_template_columns": null,
            "grid_template_rows": null,
            "height": null,
            "justify_content": null,
            "justify_items": null,
            "left": null,
            "margin": null,
            "max_height": null,
            "max_width": null,
            "min_height": null,
            "min_width": null,
            "object_fit": null,
            "object_position": null,
            "order": null,
            "overflow": null,
            "overflow_x": null,
            "overflow_y": null,
            "padding": null,
            "right": null,
            "top": null,
            "visibility": null,
            "width": null
          }
        },
        "487c40a9c64342aba12c816346e3b39b": {
          "model_module": "@jupyter-widgets/controls",
          "model_module_version": "1.5.0",
          "model_name": "FloatProgressModel",
          "state": {
            "_dom_classes": [],
            "_model_module": "@jupyter-widgets/controls",
            "_model_module_version": "1.5.0",
            "_model_name": "FloatProgressModel",
            "_view_count": null,
            "_view_module": "@jupyter-widgets/controls",
            "_view_module_version": "1.5.0",
            "_view_name": "ProgressView",
            "bar_style": "success",
            "description": "",
            "description_tooltip": null,
            "layout": "IPY_MODEL_699ae9233b07430ca795377cc6a1848a",
            "max": 3668,
            "min": 0,
            "orientation": "horizontal",
            "style": "IPY_MODEL_240e874337a74c8babac8b70e602230a",
            "value": 3668
          }
        },
        "48d48123f959476f9ef468a1d20af223": {
          "model_module": "@jupyter-widgets/base",
          "model_module_version": "1.2.0",
          "model_name": "LayoutModel",
          "state": {
            "_model_module": "@jupyter-widgets/base",
            "_model_module_version": "1.2.0",
            "_model_name": "LayoutModel",
            "_view_count": null,
            "_view_module": "@jupyter-widgets/base",
            "_view_module_version": "1.2.0",
            "_view_name": "LayoutView",
            "align_content": null,
            "align_items": null,
            "align_self": null,
            "border": null,
            "bottom": null,
            "display": null,
            "flex": null,
            "flex_flow": null,
            "grid_area": null,
            "grid_auto_columns": null,
            "grid_auto_flow": null,
            "grid_auto_rows": null,
            "grid_column": null,
            "grid_gap": null,
            "grid_row": null,
            "grid_template_areas": null,
            "grid_template_columns": null,
            "grid_template_rows": null,
            "height": null,
            "justify_content": null,
            "justify_items": null,
            "left": null,
            "margin": null,
            "max_height": null,
            "max_width": null,
            "min_height": null,
            "min_width": null,
            "object_fit": null,
            "object_position": null,
            "order": null,
            "overflow": null,
            "overflow_x": null,
            "overflow_y": null,
            "padding": null,
            "right": null,
            "top": null,
            "visibility": null,
            "width": null
          }
        },
        "4904104b0999423fbd0532f76f17ef1e": {
          "model_module": "@jupyter-widgets/controls",
          "model_module_version": "1.5.0",
          "model_name": "HTMLModel",
          "state": {
            "_dom_classes": [],
            "_model_module": "@jupyter-widgets/controls",
            "_model_module_version": "1.5.0",
            "_model_name": "HTMLModel",
            "_view_count": null,
            "_view_module": "@jupyter-widgets/controls",
            "_view_module_version": "1.5.0",
            "_view_name": "HTMLView",
            "description": "",
            "description_tooltip": null,
            "layout": "IPY_MODEL_4453429d12514b27948cb2767795b06f",
            "placeholder": "​",
            "style": "IPY_MODEL_11a563e18bb14fd2be491d29700ad604",
            "value": " 570/570 [00:00&lt;00:00, 41.1kB/s]"
          }
        },
        "4a840de99de14b2798cf5d6cb3568980": {
          "model_module": "@jupyter-widgets/controls",
          "model_module_version": "1.5.0",
          "model_name": "HTMLModel",
          "state": {
            "_dom_classes": [],
            "_model_module": "@jupyter-widgets/controls",
            "_model_module_version": "1.5.0",
            "_model_name": "HTMLModel",
            "_view_count": null,
            "_view_module": "@jupyter-widgets/controls",
            "_view_module_version": "1.5.0",
            "_view_name": "HTMLView",
            "description": "",
            "description_tooltip": null,
            "layout": "IPY_MODEL_f516e6691acf41f89c8f0c1c978337b3",
            "placeholder": "​",
            "style": "IPY_MODEL_e2fcf406f19743c28b21230cd62ff2e6",
            "value": " 3668/3668 [00:00&lt;00:00, 6245.22 examples/s]"
          }
        },
        "4bb470ae9bc04ee0b9399cbb2711f2dd": {
          "model_module": "@jupyter-widgets/base",
          "model_module_version": "1.2.0",
          "model_name": "LayoutModel",
          "state": {
            "_model_module": "@jupyter-widgets/base",
            "_model_module_version": "1.2.0",
            "_model_name": "LayoutModel",
            "_view_count": null,
            "_view_module": "@jupyter-widgets/base",
            "_view_module_version": "1.2.0",
            "_view_name": "LayoutView",
            "align_content": null,
            "align_items": null,
            "align_self": null,
            "border": null,
            "bottom": null,
            "display": null,
            "flex": null,
            "flex_flow": null,
            "grid_area": null,
            "grid_auto_columns": null,
            "grid_auto_flow": null,
            "grid_auto_rows": null,
            "grid_column": null,
            "grid_gap": null,
            "grid_row": null,
            "grid_template_areas": null,
            "grid_template_columns": null,
            "grid_template_rows": null,
            "height": null,
            "justify_content": null,
            "justify_items": null,
            "left": null,
            "margin": null,
            "max_height": null,
            "max_width": null,
            "min_height": null,
            "min_width": null,
            "object_fit": null,
            "object_position": null,
            "order": null,
            "overflow": null,
            "overflow_x": null,
            "overflow_y": null,
            "padding": null,
            "right": null,
            "top": null,
            "visibility": null,
            "width": null
          }
        },
        "4d884bc0281841bbbf6264da390118d6": {
          "model_module": "@jupyter-widgets/controls",
          "model_module_version": "1.5.0",
          "model_name": "HTMLModel",
          "state": {
            "_dom_classes": [],
            "_model_module": "@jupyter-widgets/controls",
            "_model_module_version": "1.5.0",
            "_model_name": "HTMLModel",
            "_view_count": null,
            "_view_module": "@jupyter-widgets/controls",
            "_view_module_version": "1.5.0",
            "_view_name": "HTMLView",
            "description": "",
            "description_tooltip": null,
            "layout": "IPY_MODEL_1d95730bc4084ce19185009be56e19d0",
            "placeholder": "​",
            "style": "IPY_MODEL_f4876507c3644139b3806fbf02f46ebd",
            "value": " 1.36M/1.36M [00:00&lt;00:00, 5.20MB/s]"
          }
        },
        "4de5b015f1a141bcb81469957bdcc630": {
          "model_module": "@jupyter-widgets/controls",
          "model_module_version": "1.5.0",
          "model_name": "ProgressStyleModel",
          "state": {
            "_model_module": "@jupyter-widgets/controls",
            "_model_module_version": "1.5.0",
            "_model_name": "ProgressStyleModel",
            "_view_count": null,
            "_view_module": "@jupyter-widgets/base",
            "_view_module_version": "1.2.0",
            "_view_name": "StyleView",
            "bar_color": null,
            "description_width": ""
          }
        },
        "4ea86371cffb4dec9f6c0a72fc4c6415": {
          "model_module": "@jupyter-widgets/controls",
          "model_module_version": "1.5.0",
          "model_name": "FloatProgressModel",
          "state": {
            "_dom_classes": [],
            "_model_module": "@jupyter-widgets/controls",
            "_model_module_version": "1.5.0",
            "_model_name": "FloatProgressModel",
            "_view_count": null,
            "_view_module": "@jupyter-widgets/controls",
            "_view_module_version": "1.5.0",
            "_view_name": "ProgressView",
            "bar_style": "success",
            "description": "",
            "description_tooltip": null,
            "layout": "IPY_MODEL_32e27e8ea4834e0d9bae284fad6e9fcb",
            "max": 231508,
            "min": 0,
            "orientation": "horizontal",
            "style": "IPY_MODEL_c09b55be87b648f6a49b446a12ac4247",
            "value": 231508
          }
        },
        "4fca92ff73db4e2e8b2d398142045ec9": {
          "model_module": "@jupyter-widgets/base",
          "model_module_version": "1.2.0",
          "model_name": "LayoutModel",
          "state": {
            "_model_module": "@jupyter-widgets/base",
            "_model_module_version": "1.2.0",
            "_model_name": "LayoutModel",
            "_view_count": null,
            "_view_module": "@jupyter-widgets/base",
            "_view_module_version": "1.2.0",
            "_view_name": "LayoutView",
            "align_content": null,
            "align_items": null,
            "align_self": null,
            "border": null,
            "bottom": null,
            "display": null,
            "flex": null,
            "flex_flow": null,
            "grid_area": null,
            "grid_auto_columns": null,
            "grid_auto_flow": null,
            "grid_auto_rows": null,
            "grid_column": null,
            "grid_gap": null,
            "grid_row": null,
            "grid_template_areas": null,
            "grid_template_columns": null,
            "grid_template_rows": null,
            "height": null,
            "justify_content": null,
            "justify_items": null,
            "left": null,
            "margin": null,
            "max_height": null,
            "max_width": null,
            "min_height": null,
            "min_width": null,
            "object_fit": null,
            "object_position": null,
            "order": null,
            "overflow": null,
            "overflow_x": null,
            "overflow_y": null,
            "padding": null,
            "right": null,
            "top": null,
            "visibility": null,
            "width": null
          }
        },
        "50794f0dedb84a45ab13d4b2d67aaf70": {
          "model_module": "@jupyter-widgets/controls",
          "model_module_version": "1.5.0",
          "model_name": "HBoxModel",
          "state": {
            "_dom_classes": [],
            "_model_module": "@jupyter-widgets/controls",
            "_model_module_version": "1.5.0",
            "_model_name": "HBoxModel",
            "_view_count": null,
            "_view_module": "@jupyter-widgets/controls",
            "_view_module_version": "1.5.0",
            "_view_name": "HBoxView",
            "box_style": "",
            "children": [
              "IPY_MODEL_e37d89d394a1478eba734047be8675a1",
              "IPY_MODEL_9cb92575e70f4803b2c430e2de4b4e89",
              "IPY_MODEL_4d884bc0281841bbbf6264da390118d6"
            ],
            "layout": "IPY_MODEL_96596ed5a65b4f26846408bd783919c9"
          }
        },
        "52d48346d68a4108b60c7391f4b28ff0": {
          "model_module": "@jupyter-widgets/controls",
          "model_module_version": "1.5.0",
          "model_name": "HTMLModel",
          "state": {
            "_dom_classes": [],
            "_model_module": "@jupyter-widgets/controls",
            "_model_module_version": "1.5.0",
            "_model_name": "HTMLModel",
            "_view_count": null,
            "_view_module": "@jupyter-widgets/controls",
            "_view_module_version": "1.5.0",
            "_view_name": "HTMLView",
            "description": "",
            "description_tooltip": null,
            "layout": "IPY_MODEL_c7b6741984644fec90c7b3db973a5661",
            "placeholder": "​",
            "style": "IPY_MODEL_5987c795fb524a18a965d72728dc0194",
            "value": " 1.36M/1.36M [00:00&lt;00:00, 16.6MB/s]"
          }
        },
        "5368da3f285e4a1caefac999061fd39a": {
          "model_module": "@jupyter-widgets/base",
          "model_module_version": "1.2.0",
          "model_name": "LayoutModel",
          "state": {
            "_model_module": "@jupyter-widgets/base",
            "_model_module_version": "1.2.0",
            "_model_name": "LayoutModel",
            "_view_count": null,
            "_view_module": "@jupyter-widgets/base",
            "_view_module_version": "1.2.0",
            "_view_name": "LayoutView",
            "align_content": null,
            "align_items": null,
            "align_self": null,
            "border": null,
            "bottom": null,
            "display": null,
            "flex": null,
            "flex_flow": null,
            "grid_area": null,
            "grid_auto_columns": null,
            "grid_auto_flow": null,
            "grid_auto_rows": null,
            "grid_column": null,
            "grid_gap": null,
            "grid_row": null,
            "grid_template_areas": null,
            "grid_template_columns": null,
            "grid_template_rows": null,
            "height": null,
            "justify_content": null,
            "justify_items": null,
            "left": null,
            "margin": null,
            "max_height": null,
            "max_width": null,
            "min_height": null,
            "min_width": null,
            "object_fit": null,
            "object_position": null,
            "order": null,
            "overflow": null,
            "overflow_x": null,
            "overflow_y": null,
            "padding": null,
            "right": null,
            "top": null,
            "visibility": null,
            "width": null
          }
        },
        "54157e9519924975ba16e314f794c66c": {
          "model_module": "@jupyter-widgets/base",
          "model_module_version": "1.2.0",
          "model_name": "LayoutModel",
          "state": {
            "_model_module": "@jupyter-widgets/base",
            "_model_module_version": "1.2.0",
            "_model_name": "LayoutModel",
            "_view_count": null,
            "_view_module": "@jupyter-widgets/base",
            "_view_module_version": "1.2.0",
            "_view_name": "LayoutView",
            "align_content": null,
            "align_items": null,
            "align_self": null,
            "border": null,
            "bottom": null,
            "display": null,
            "flex": null,
            "flex_flow": null,
            "grid_area": null,
            "grid_auto_columns": null,
            "grid_auto_flow": null,
            "grid_auto_rows": null,
            "grid_column": null,
            "grid_gap": null,
            "grid_row": null,
            "grid_template_areas": null,
            "grid_template_columns": null,
            "grid_template_rows": null,
            "height": null,
            "justify_content": null,
            "justify_items": null,
            "left": null,
            "margin": null,
            "max_height": null,
            "max_width": null,
            "min_height": null,
            "min_width": null,
            "object_fit": null,
            "object_position": null,
            "order": null,
            "overflow": null,
            "overflow_x": null,
            "overflow_y": null,
            "padding": null,
            "right": null,
            "top": null,
            "visibility": null,
            "width": null
          }
        },
        "543b8187b7eb4a26be31155fa4568e1b": {
          "model_module": "@jupyter-widgets/base",
          "model_module_version": "1.2.0",
          "model_name": "LayoutModel",
          "state": {
            "_model_module": "@jupyter-widgets/base",
            "_model_module_version": "1.2.0",
            "_model_name": "LayoutModel",
            "_view_count": null,
            "_view_module": "@jupyter-widgets/base",
            "_view_module_version": "1.2.0",
            "_view_name": "LayoutView",
            "align_content": null,
            "align_items": null,
            "align_self": null,
            "border": null,
            "bottom": null,
            "display": null,
            "flex": null,
            "flex_flow": null,
            "grid_area": null,
            "grid_auto_columns": null,
            "grid_auto_flow": null,
            "grid_auto_rows": null,
            "grid_column": null,
            "grid_gap": null,
            "grid_row": null,
            "grid_template_areas": null,
            "grid_template_columns": null,
            "grid_template_rows": null,
            "height": null,
            "justify_content": null,
            "justify_items": null,
            "left": null,
            "margin": null,
            "max_height": null,
            "max_width": null,
            "min_height": null,
            "min_width": null,
            "object_fit": null,
            "object_position": null,
            "order": null,
            "overflow": null,
            "overflow_x": null,
            "overflow_y": null,
            "padding": null,
            "right": null,
            "top": null,
            "visibility": null,
            "width": null
          }
        },
        "5521f2f7ea5a42d2a558002850b2b952": {
          "model_module": "@jupyter-widgets/base",
          "model_module_version": "1.2.0",
          "model_name": "LayoutModel",
          "state": {
            "_model_module": "@jupyter-widgets/base",
            "_model_module_version": "1.2.0",
            "_model_name": "LayoutModel",
            "_view_count": null,
            "_view_module": "@jupyter-widgets/base",
            "_view_module_version": "1.2.0",
            "_view_name": "LayoutView",
            "align_content": null,
            "align_items": null,
            "align_self": null,
            "border": null,
            "bottom": null,
            "display": null,
            "flex": null,
            "flex_flow": null,
            "grid_area": null,
            "grid_auto_columns": null,
            "grid_auto_flow": null,
            "grid_auto_rows": null,
            "grid_column": null,
            "grid_gap": null,
            "grid_row": null,
            "grid_template_areas": null,
            "grid_template_columns": null,
            "grid_template_rows": null,
            "height": null,
            "justify_content": null,
            "justify_items": null,
            "left": null,
            "margin": null,
            "max_height": null,
            "max_width": null,
            "min_height": null,
            "min_width": null,
            "object_fit": null,
            "object_position": null,
            "order": null,
            "overflow": null,
            "overflow_x": null,
            "overflow_y": null,
            "padding": null,
            "right": null,
            "top": null,
            "visibility": null,
            "width": null
          }
        },
        "560cddf66e644c05805e1e7374c600e2": {
          "model_module": "@jupyter-widgets/controls",
          "model_module_version": "1.5.0",
          "model_name": "DescriptionStyleModel",
          "state": {
            "_model_module": "@jupyter-widgets/controls",
            "_model_module_version": "1.5.0",
            "_model_name": "DescriptionStyleModel",
            "_view_count": null,
            "_view_module": "@jupyter-widgets/base",
            "_view_module_version": "1.2.0",
            "_view_name": "StyleView",
            "description_width": ""
          }
        },
        "568e69c867fc479b8bf2c9fcd5ca7e12": {
          "model_module": "@jupyter-widgets/controls",
          "model_module_version": "1.5.0",
          "model_name": "FloatProgressModel",
          "state": {
            "_dom_classes": [],
            "_model_module": "@jupyter-widgets/controls",
            "_model_module_version": "1.5.0",
            "_model_name": "FloatProgressModel",
            "_view_count": null,
            "_view_module": "@jupyter-widgets/controls",
            "_view_module_version": "1.5.0",
            "_view_name": "ProgressView",
            "bar_style": "success",
            "description": "",
            "description_tooltip": null,
            "layout": "IPY_MODEL_4bb470ae9bc04ee0b9399cbb2711f2dd",
            "max": 408,
            "min": 0,
            "orientation": "horizontal",
            "style": "IPY_MODEL_aad82e64e2324cfd8ddbe6052b76b9e3",
            "value": 408
          }
        },
        "56efe96a469a481281e1320d9f9ca3ea": {
          "model_module": "@jupyter-widgets/controls",
          "model_module_version": "1.5.0",
          "model_name": "HTMLModel",
          "state": {
            "_dom_classes": [],
            "_model_module": "@jupyter-widgets/controls",
            "_model_module_version": "1.5.0",
            "_model_name": "HTMLModel",
            "_view_count": null,
            "_view_module": "@jupyter-widgets/controls",
            "_view_module_version": "1.5.0",
            "_view_name": "HTMLView",
            "description": "",
            "description_tooltip": null,
            "layout": "IPY_MODEL_415682e6d1aa4a0f93afffa5b8971324",
            "placeholder": "​",
            "style": "IPY_MODEL_ebfb3ebdf0164995b1c2f35d5f4de23f",
            "value": "config.json: 100%"
          }
        },
        "571619e2d00a482aa49fb6095468fb59": {
          "model_module": "@jupyter-widgets/controls",
          "model_module_version": "1.5.0",
          "model_name": "DescriptionStyleModel",
          "state": {
            "_model_module": "@jupyter-widgets/controls",
            "_model_module_version": "1.5.0",
            "_model_name": "DescriptionStyleModel",
            "_view_count": null,
            "_view_module": "@jupyter-widgets/base",
            "_view_module_version": "1.2.0",
            "_view_name": "StyleView",
            "description_width": ""
          }
        },
        "577f36b979204a5dae9a42c8d7ee020f": {
          "model_module": "@jupyter-widgets/controls",
          "model_module_version": "1.5.0",
          "model_name": "ProgressStyleModel",
          "state": {
            "_model_module": "@jupyter-widgets/controls",
            "_model_module_version": "1.5.0",
            "_model_name": "ProgressStyleModel",
            "_view_count": null,
            "_view_module": "@jupyter-widgets/base",
            "_view_module_version": "1.2.0",
            "_view_name": "StyleView",
            "bar_color": null,
            "description_width": ""
          }
        },
        "5987c795fb524a18a965d72728dc0194": {
          "model_module": "@jupyter-widgets/controls",
          "model_module_version": "1.5.0",
          "model_name": "DescriptionStyleModel",
          "state": {
            "_model_module": "@jupyter-widgets/controls",
            "_model_module_version": "1.5.0",
            "_model_name": "DescriptionStyleModel",
            "_view_count": null,
            "_view_module": "@jupyter-widgets/base",
            "_view_module_version": "1.2.0",
            "_view_name": "StyleView",
            "description_width": ""
          }
        },
        "5b4cd3150b9d412e8b915c99c1fb02e9": {
          "model_module": "@jupyter-widgets/controls",
          "model_module_version": "1.5.0",
          "model_name": "FloatProgressModel",
          "state": {
            "_dom_classes": [],
            "_model_module": "@jupyter-widgets/controls",
            "_model_module_version": "1.5.0",
            "_model_name": "FloatProgressModel",
            "_view_count": null,
            "_view_module": "@jupyter-widgets/controls",
            "_view_module_version": "1.5.0",
            "_view_name": "ProgressView",
            "bar_style": "success",
            "description": "",
            "description_tooltip": null,
            "layout": "IPY_MODEL_02b9dfa584184c9298fcc20d132db387",
            "max": 456318,
            "min": 0,
            "orientation": "horizontal",
            "style": "IPY_MODEL_47d0bd8474294c5bb554ceb573942076",
            "value": 456318
          }
        },
        "5bdc01b1ef42465f990e379072cefd2c": {
          "model_module": "@jupyter-widgets/base",
          "model_module_version": "1.2.0",
          "model_name": "LayoutModel",
          "state": {
            "_model_module": "@jupyter-widgets/base",
            "_model_module_version": "1.2.0",
            "_model_name": "LayoutModel",
            "_view_count": null,
            "_view_module": "@jupyter-widgets/base",
            "_view_module_version": "1.2.0",
            "_view_name": "LayoutView",
            "align_content": null,
            "align_items": null,
            "align_self": null,
            "border": null,
            "bottom": null,
            "display": null,
            "flex": null,
            "flex_flow": null,
            "grid_area": null,
            "grid_auto_columns": null,
            "grid_auto_flow": null,
            "grid_auto_rows": null,
            "grid_column": null,
            "grid_gap": null,
            "grid_row": null,
            "grid_template_areas": null,
            "grid_template_columns": null,
            "grid_template_rows": null,
            "height": null,
            "justify_content": null,
            "justify_items": null,
            "left": null,
            "margin": null,
            "max_height": null,
            "max_width": null,
            "min_height": null,
            "min_width": null,
            "object_fit": null,
            "object_position": null,
            "order": null,
            "overflow": null,
            "overflow_x": null,
            "overflow_y": null,
            "padding": null,
            "right": null,
            "top": null,
            "visibility": null,
            "width": null
          }
        },
        "5c1cede4afe44ec6b38f78d116f3b950": {
          "model_module": "@jupyter-widgets/base",
          "model_module_version": "1.2.0",
          "model_name": "LayoutModel",
          "state": {
            "_model_module": "@jupyter-widgets/base",
            "_model_module_version": "1.2.0",
            "_model_name": "LayoutModel",
            "_view_count": null,
            "_view_module": "@jupyter-widgets/base",
            "_view_module_version": "1.2.0",
            "_view_name": "LayoutView",
            "align_content": null,
            "align_items": null,
            "align_self": null,
            "border": null,
            "bottom": null,
            "display": null,
            "flex": null,
            "flex_flow": null,
            "grid_area": null,
            "grid_auto_columns": null,
            "grid_auto_flow": null,
            "grid_auto_rows": null,
            "grid_column": null,
            "grid_gap": null,
            "grid_row": null,
            "grid_template_areas": null,
            "grid_template_columns": null,
            "grid_template_rows": null,
            "height": null,
            "justify_content": null,
            "justify_items": null,
            "left": null,
            "margin": null,
            "max_height": null,
            "max_width": null,
            "min_height": null,
            "min_width": null,
            "object_fit": null,
            "object_position": null,
            "order": null,
            "overflow": null,
            "overflow_x": null,
            "overflow_y": null,
            "padding": null,
            "right": null,
            "top": null,
            "visibility": null,
            "width": null
          }
        },
        "5cdaf8bade5f48ef937c9b34efe8d44a": {
          "model_module": "@jupyter-widgets/base",
          "model_module_version": "1.2.0",
          "model_name": "LayoutModel",
          "state": {
            "_model_module": "@jupyter-widgets/base",
            "_model_module_version": "1.2.0",
            "_model_name": "LayoutModel",
            "_view_count": null,
            "_view_module": "@jupyter-widgets/base",
            "_view_module_version": "1.2.0",
            "_view_name": "LayoutView",
            "align_content": null,
            "align_items": null,
            "align_self": null,
            "border": null,
            "bottom": null,
            "display": null,
            "flex": null,
            "flex_flow": null,
            "grid_area": null,
            "grid_auto_columns": null,
            "grid_auto_flow": null,
            "grid_auto_rows": null,
            "grid_column": null,
            "grid_gap": null,
            "grid_row": null,
            "grid_template_areas": null,
            "grid_template_columns": null,
            "grid_template_rows": null,
            "height": null,
            "justify_content": null,
            "justify_items": null,
            "left": null,
            "margin": null,
            "max_height": null,
            "max_width": null,
            "min_height": null,
            "min_width": null,
            "object_fit": null,
            "object_position": null,
            "order": null,
            "overflow": null,
            "overflow_x": null,
            "overflow_y": null,
            "padding": null,
            "right": null,
            "top": null,
            "visibility": null,
            "width": null
          }
        },
        "5e76b3fc4953404abe4ce3232661fcfc": {
          "model_module": "@jupyter-widgets/base",
          "model_module_version": "1.2.0",
          "model_name": "LayoutModel",
          "state": {
            "_model_module": "@jupyter-widgets/base",
            "_model_module_version": "1.2.0",
            "_model_name": "LayoutModel",
            "_view_count": null,
            "_view_module": "@jupyter-widgets/base",
            "_view_module_version": "1.2.0",
            "_view_name": "LayoutView",
            "align_content": null,
            "align_items": null,
            "align_self": null,
            "border": null,
            "bottom": null,
            "display": null,
            "flex": null,
            "flex_flow": null,
            "grid_area": null,
            "grid_auto_columns": null,
            "grid_auto_flow": null,
            "grid_auto_rows": null,
            "grid_column": null,
            "grid_gap": null,
            "grid_row": null,
            "grid_template_areas": null,
            "grid_template_columns": null,
            "grid_template_rows": null,
            "height": null,
            "justify_content": null,
            "justify_items": null,
            "left": null,
            "margin": null,
            "max_height": null,
            "max_width": null,
            "min_height": null,
            "min_width": null,
            "object_fit": null,
            "object_position": null,
            "order": null,
            "overflow": null,
            "overflow_x": null,
            "overflow_y": null,
            "padding": null,
            "right": null,
            "top": null,
            "visibility": null,
            "width": null
          }
        },
        "5fcc073c88994693a80594ed8df3833c": {
          "model_module": "@jupyter-widgets/controls",
          "model_module_version": "1.5.0",
          "model_name": "DescriptionStyleModel",
          "state": {
            "_model_module": "@jupyter-widgets/controls",
            "_model_module_version": "1.5.0",
            "_model_name": "DescriptionStyleModel",
            "_view_count": null,
            "_view_module": "@jupyter-widgets/base",
            "_view_module_version": "1.2.0",
            "_view_name": "StyleView",
            "description_width": ""
          }
        },
        "6052d687e9b2451e97c358e683c3560d": {
          "model_module": "@jupyter-widgets/controls",
          "model_module_version": "1.5.0",
          "model_name": "DescriptionStyleModel",
          "state": {
            "_model_module": "@jupyter-widgets/controls",
            "_model_module_version": "1.5.0",
            "_model_name": "DescriptionStyleModel",
            "_view_count": null,
            "_view_module": "@jupyter-widgets/base",
            "_view_module_version": "1.2.0",
            "_view_name": "StyleView",
            "description_width": ""
          }
        },
        "631164089e4043f5a7e0008b5a635bd6": {
          "model_module": "@jupyter-widgets/base",
          "model_module_version": "1.2.0",
          "model_name": "LayoutModel",
          "state": {
            "_model_module": "@jupyter-widgets/base",
            "_model_module_version": "1.2.0",
            "_model_name": "LayoutModel",
            "_view_count": null,
            "_view_module": "@jupyter-widgets/base",
            "_view_module_version": "1.2.0",
            "_view_name": "LayoutView",
            "align_content": null,
            "align_items": null,
            "align_self": null,
            "border": null,
            "bottom": null,
            "display": null,
            "flex": null,
            "flex_flow": null,
            "grid_area": null,
            "grid_auto_columns": null,
            "grid_auto_flow": null,
            "grid_auto_rows": null,
            "grid_column": null,
            "grid_gap": null,
            "grid_row": null,
            "grid_template_areas": null,
            "grid_template_columns": null,
            "grid_template_rows": null,
            "height": null,
            "justify_content": null,
            "justify_items": null,
            "left": null,
            "margin": null,
            "max_height": null,
            "max_width": null,
            "min_height": null,
            "min_width": null,
            "object_fit": null,
            "object_position": null,
            "order": null,
            "overflow": null,
            "overflow_x": null,
            "overflow_y": null,
            "padding": null,
            "right": null,
            "top": null,
            "visibility": null,
            "width": null
          }
        },
        "6366b8ca9c05449bbe63349cf5e7ddda": {
          "model_module": "@jupyter-widgets/controls",
          "model_module_version": "1.5.0",
          "model_name": "FloatProgressModel",
          "state": {
            "_dom_classes": [],
            "_model_module": "@jupyter-widgets/controls",
            "_model_module_version": "1.5.0",
            "_model_name": "FloatProgressModel",
            "_view_count": null,
            "_view_module": "@jupyter-widgets/controls",
            "_view_module_version": "1.5.0",
            "_view_name": "ProgressView",
            "bar_style": "success",
            "description": "",
            "description_tooltip": null,
            "layout": "IPY_MODEL_a18257086b0343db89c6dd7e8baa6000",
            "max": 26,
            "min": 0,
            "orientation": "horizontal",
            "style": "IPY_MODEL_b02826b6c9f0420fa862404c1709d018",
            "value": 26
          }
        },
        "63bf9da143cf4018b079e4be2065cd97": {
          "model_module": "@jupyter-widgets/controls",
          "model_module_version": "1.5.0",
          "model_name": "DescriptionStyleModel",
          "state": {
            "_model_module": "@jupyter-widgets/controls",
            "_model_module_version": "1.5.0",
            "_model_name": "DescriptionStyleModel",
            "_view_count": null,
            "_view_module": "@jupyter-widgets/base",
            "_view_module_version": "1.2.0",
            "_view_name": "StyleView",
            "description_width": ""
          }
        },
        "642c66e452024307aa6ef8cfc475e4a3": {
          "model_module": "@jupyter-widgets/controls",
          "model_module_version": "1.5.0",
          "model_name": "ProgressStyleModel",
          "state": {
            "_model_module": "@jupyter-widgets/controls",
            "_model_module_version": "1.5.0",
            "_model_name": "ProgressStyleModel",
            "_view_count": null,
            "_view_module": "@jupyter-widgets/base",
            "_view_module_version": "1.2.0",
            "_view_name": "StyleView",
            "bar_color": null,
            "description_width": ""
          }
        },
        "647055122f744cf7aaab6449e84cadaa": {
          "model_module": "@jupyter-widgets/controls",
          "model_module_version": "1.5.0",
          "model_name": "FloatProgressModel",
          "state": {
            "_dom_classes": [],
            "_model_module": "@jupyter-widgets/controls",
            "_model_module_version": "1.5.0",
            "_model_name": "FloatProgressModel",
            "_view_count": null,
            "_view_module": "@jupyter-widgets/controls",
            "_view_module_version": "1.5.0",
            "_view_name": "ProgressView",
            "bar_style": "success",
            "description": "",
            "description_tooltip": null,
            "layout": "IPY_MODEL_830dffffb7fb4e8c9f4d6f86fca4ebb9",
            "max": 408,
            "min": 0,
            "orientation": "horizontal",
            "style": "IPY_MODEL_6d37069b7267444aac14dbf5e1108a7d",
            "value": 408
          }
        },
        "64790cb37bf4499ba69ae509ef8b4177": {
          "model_module": "@jupyter-widgets/controls",
          "model_module_version": "1.5.0",
          "model_name": "FloatProgressModel",
          "state": {
            "_dom_classes": [],
            "_model_module": "@jupyter-widgets/controls",
            "_model_module_version": "1.5.0",
            "_model_name": "FloatProgressModel",
            "_view_count": null,
            "_view_module": "@jupyter-widgets/controls",
            "_view_module_version": "1.5.0",
            "_view_name": "ProgressView",
            "bar_style": "success",
            "description": "",
            "description_tooltip": null,
            "layout": "IPY_MODEL_f8c11a790e2348ae8376301b7b35dc3b",
            "max": 1154,
            "min": 0,
            "orientation": "horizontal",
            "style": "IPY_MODEL_d021a8a075264cd6832cae1898491fae",
            "value": 1154
          }
        },
        "649833f7f8cf4b6e8a8745741f5252ad": {
          "model_module": "@jupyter-widgets/base",
          "model_module_version": "1.2.0",
          "model_name": "LayoutModel",
          "state": {
            "_model_module": "@jupyter-widgets/base",
            "_model_module_version": "1.2.0",
            "_model_name": "LayoutModel",
            "_view_count": null,
            "_view_module": "@jupyter-widgets/base",
            "_view_module_version": "1.2.0",
            "_view_name": "LayoutView",
            "align_content": null,
            "align_items": null,
            "align_self": null,
            "border": null,
            "bottom": null,
            "display": null,
            "flex": null,
            "flex_flow": null,
            "grid_area": null,
            "grid_auto_columns": null,
            "grid_auto_flow": null,
            "grid_auto_rows": null,
            "grid_column": null,
            "grid_gap": null,
            "grid_row": null,
            "grid_template_areas": null,
            "grid_template_columns": null,
            "grid_template_rows": null,
            "height": null,
            "justify_content": null,
            "justify_items": null,
            "left": null,
            "margin": null,
            "max_height": null,
            "max_width": null,
            "min_height": null,
            "min_width": null,
            "object_fit": null,
            "object_position": null,
            "order": null,
            "overflow": null,
            "overflow_x": null,
            "overflow_y": null,
            "padding": null,
            "right": null,
            "top": null,
            "visibility": null,
            "width": null
          }
        },
        "64c2e152324d46079e7b58cc0c4c365a": {
          "model_module": "@jupyter-widgets/controls",
          "model_module_version": "1.5.0",
          "model_name": "DescriptionStyleModel",
          "state": {
            "_model_module": "@jupyter-widgets/controls",
            "_model_module_version": "1.5.0",
            "_model_name": "DescriptionStyleModel",
            "_view_count": null,
            "_view_module": "@jupyter-widgets/base",
            "_view_module_version": "1.2.0",
            "_view_name": "StyleView",
            "description_width": ""
          }
        },
        "64f50a8958d94cf6834007f7d1216f2e": {
          "model_module": "@jupyter-widgets/controls",
          "model_module_version": "1.5.0",
          "model_name": "HBoxModel",
          "state": {
            "_dom_classes": [],
            "_model_module": "@jupyter-widgets/controls",
            "_model_module_version": "1.5.0",
            "_model_name": "HBoxModel",
            "_view_count": null,
            "_view_module": "@jupyter-widgets/controls",
            "_view_module_version": "1.5.0",
            "_view_name": "HBoxView",
            "box_style": "",
            "children": [
              "IPY_MODEL_124d9eba19ec49f6b718d50d624eb57d",
              "IPY_MODEL_d90c92a761d94129ac73b53abd43d5a7",
              "IPY_MODEL_b099285041b942e1aa6b6ff22928447d"
            ],
            "layout": "IPY_MODEL_cb9427db3c1d43478072aad88e3fdd20"
          }
        },
        "65ce2169349444839319b177538ebf90": {
          "model_module": "@jupyter-widgets/base",
          "model_module_version": "1.2.0",
          "model_name": "LayoutModel",
          "state": {
            "_model_module": "@jupyter-widgets/base",
            "_model_module_version": "1.2.0",
            "_model_name": "LayoutModel",
            "_view_count": null,
            "_view_module": "@jupyter-widgets/base",
            "_view_module_version": "1.2.0",
            "_view_name": "LayoutView",
            "align_content": null,
            "align_items": null,
            "align_self": null,
            "border": null,
            "bottom": null,
            "display": null,
            "flex": null,
            "flex_flow": null,
            "grid_area": null,
            "grid_auto_columns": null,
            "grid_auto_flow": null,
            "grid_auto_rows": null,
            "grid_column": null,
            "grid_gap": null,
            "grid_row": null,
            "grid_template_areas": null,
            "grid_template_columns": null,
            "grid_template_rows": null,
            "height": null,
            "justify_content": null,
            "justify_items": null,
            "left": null,
            "margin": null,
            "max_height": null,
            "max_width": null,
            "min_height": null,
            "min_width": null,
            "object_fit": null,
            "object_position": null,
            "order": null,
            "overflow": null,
            "overflow_x": null,
            "overflow_y": null,
            "padding": null,
            "right": null,
            "top": null,
            "visibility": null,
            "width": null
          }
        },
        "665d8aedf32c455eae62032415895ec6": {
          "model_module": "@jupyter-widgets/controls",
          "model_module_version": "1.5.0",
          "model_name": "DescriptionStyleModel",
          "state": {
            "_model_module": "@jupyter-widgets/controls",
            "_model_module_version": "1.5.0",
            "_model_name": "DescriptionStyleModel",
            "_view_count": null,
            "_view_module": "@jupyter-widgets/base",
            "_view_module_version": "1.2.0",
            "_view_name": "StyleView",
            "description_width": ""
          }
        },
        "671ea80530a84ebeb968de32694b4952": {
          "model_module": "@jupyter-widgets/base",
          "model_module_version": "1.2.0",
          "model_name": "LayoutModel",
          "state": {
            "_model_module": "@jupyter-widgets/base",
            "_model_module_version": "1.2.0",
            "_model_name": "LayoutModel",
            "_view_count": null,
            "_view_module": "@jupyter-widgets/base",
            "_view_module_version": "1.2.0",
            "_view_name": "LayoutView",
            "align_content": null,
            "align_items": null,
            "align_self": null,
            "border": null,
            "bottom": null,
            "display": null,
            "flex": null,
            "flex_flow": null,
            "grid_area": null,
            "grid_auto_columns": null,
            "grid_auto_flow": null,
            "grid_auto_rows": null,
            "grid_column": null,
            "grid_gap": null,
            "grid_row": null,
            "grid_template_areas": null,
            "grid_template_columns": null,
            "grid_template_rows": null,
            "height": null,
            "justify_content": null,
            "justify_items": null,
            "left": null,
            "margin": null,
            "max_height": null,
            "max_width": null,
            "min_height": null,
            "min_width": null,
            "object_fit": null,
            "object_position": null,
            "order": null,
            "overflow": null,
            "overflow_x": null,
            "overflow_y": null,
            "padding": null,
            "right": null,
            "top": null,
            "visibility": null,
            "width": null
          }
        },
        "699ae9233b07430ca795377cc6a1848a": {
          "model_module": "@jupyter-widgets/base",
          "model_module_version": "1.2.0",
          "model_name": "LayoutModel",
          "state": {
            "_model_module": "@jupyter-widgets/base",
            "_model_module_version": "1.2.0",
            "_model_name": "LayoutModel",
            "_view_count": null,
            "_view_module": "@jupyter-widgets/base",
            "_view_module_version": "1.2.0",
            "_view_name": "LayoutView",
            "align_content": null,
            "align_items": null,
            "align_self": null,
            "border": null,
            "bottom": null,
            "display": null,
            "flex": null,
            "flex_flow": null,
            "grid_area": null,
            "grid_auto_columns": null,
            "grid_auto_flow": null,
            "grid_auto_rows": null,
            "grid_column": null,
            "grid_gap": null,
            "grid_row": null,
            "grid_template_areas": null,
            "grid_template_columns": null,
            "grid_template_rows": null,
            "height": null,
            "justify_content": null,
            "justify_items": null,
            "left": null,
            "margin": null,
            "max_height": null,
            "max_width": null,
            "min_height": null,
            "min_width": null,
            "object_fit": null,
            "object_position": null,
            "order": null,
            "overflow": null,
            "overflow_x": null,
            "overflow_y": null,
            "padding": null,
            "right": null,
            "top": null,
            "visibility": null,
            "width": null
          }
        },
        "69e629e19dbf40e19e1fb1a5119b271b": {
          "model_module": "@jupyter-widgets/base",
          "model_module_version": "1.2.0",
          "model_name": "LayoutModel",
          "state": {
            "_model_module": "@jupyter-widgets/base",
            "_model_module_version": "1.2.0",
            "_model_name": "LayoutModel",
            "_view_count": null,
            "_view_module": "@jupyter-widgets/base",
            "_view_module_version": "1.2.0",
            "_view_name": "LayoutView",
            "align_content": null,
            "align_items": null,
            "align_self": null,
            "border": null,
            "bottom": null,
            "display": null,
            "flex": null,
            "flex_flow": null,
            "grid_area": null,
            "grid_auto_columns": null,
            "grid_auto_flow": null,
            "grid_auto_rows": null,
            "grid_column": null,
            "grid_gap": null,
            "grid_row": null,
            "grid_template_areas": null,
            "grid_template_columns": null,
            "grid_template_rows": null,
            "height": null,
            "justify_content": null,
            "justify_items": null,
            "left": null,
            "margin": null,
            "max_height": null,
            "max_width": null,
            "min_height": null,
            "min_width": null,
            "object_fit": null,
            "object_position": null,
            "order": null,
            "overflow": null,
            "overflow_x": null,
            "overflow_y": null,
            "padding": null,
            "right": null,
            "top": null,
            "visibility": null,
            "width": null
          }
        },
        "6a1a6c3e64434aab92a414ae39410827": {
          "model_module": "@jupyter-widgets/controls",
          "model_module_version": "1.5.0",
          "model_name": "HTMLModel",
          "state": {
            "_dom_classes": [],
            "_model_module": "@jupyter-widgets/controls",
            "_model_module_version": "1.5.0",
            "_model_name": "HTMLModel",
            "_view_count": null,
            "_view_module": "@jupyter-widgets/controls",
            "_view_module_version": "1.5.0",
            "_view_name": "HTMLView",
            "description": "",
            "description_tooltip": null,
            "layout": "IPY_MODEL_ff67235c800a4b1d93f3648ac164efdd",
            "placeholder": "​",
            "style": "IPY_MODEL_c11b779f2bef4513b5946a7cb3071f2e",
            "value": " 49.0/49.0 [00:00&lt;00:00, 2.86kB/s]"
          }
        },
        "6aeff0ffb89547baaab9d585fead64cd": {
          "model_module": "@jupyter-widgets/controls",
          "model_module_version": "1.5.0",
          "model_name": "DescriptionStyleModel",
          "state": {
            "_model_module": "@jupyter-widgets/controls",
            "_model_module_version": "1.5.0",
            "_model_name": "DescriptionStyleModel",
            "_view_count": null,
            "_view_module": "@jupyter-widgets/base",
            "_view_module_version": "1.2.0",
            "_view_name": "StyleView",
            "description_width": ""
          }
        },
        "6af7fe5b1acf4ce9a8f017e9adb0f387": {
          "model_module": "@jupyter-widgets/controls",
          "model_module_version": "1.5.0",
          "model_name": "HTMLModel",
          "state": {
            "_dom_classes": [],
            "_model_module": "@jupyter-widgets/controls",
            "_model_module_version": "1.5.0",
            "_model_name": "HTMLModel",
            "_view_count": null,
            "_view_module": "@jupyter-widgets/controls",
            "_view_module_version": "1.5.0",
            "_view_name": "HTMLView",
            "description": "",
            "description_tooltip": null,
            "layout": "IPY_MODEL_1b651cfe557f4f318f9e149984fa8199",
            "placeholder": "​",
            "style": "IPY_MODEL_6cbe2c860e46468ea7cfd6c9087fca83",
            "value": " 3668/3668 [00:00&lt;00:00, 4837.69 examples/s]"
          }
        },
        "6b29ab8f730c47f1b24cd1f1dc3e6bad": {
          "model_module": "@jupyter-widgets/base",
          "model_module_version": "1.2.0",
          "model_name": "LayoutModel",
          "state": {
            "_model_module": "@jupyter-widgets/base",
            "_model_module_version": "1.2.0",
            "_model_name": "LayoutModel",
            "_view_count": null,
            "_view_module": "@jupyter-widgets/base",
            "_view_module_version": "1.2.0",
            "_view_name": "LayoutView",
            "align_content": null,
            "align_items": null,
            "align_self": null,
            "border": null,
            "bottom": null,
            "display": null,
            "flex": null,
            "flex_flow": null,
            "grid_area": null,
            "grid_auto_columns": null,
            "grid_auto_flow": null,
            "grid_auto_rows": null,
            "grid_column": null,
            "grid_gap": null,
            "grid_row": null,
            "grid_template_areas": null,
            "grid_template_columns": null,
            "grid_template_rows": null,
            "height": null,
            "justify_content": null,
            "justify_items": null,
            "left": null,
            "margin": null,
            "max_height": null,
            "max_width": null,
            "min_height": null,
            "min_width": null,
            "object_fit": null,
            "object_position": null,
            "order": null,
            "overflow": null,
            "overflow_x": null,
            "overflow_y": null,
            "padding": null,
            "right": null,
            "top": null,
            "visibility": null,
            "width": null
          }
        },
        "6b973777c7ee4849a06acbabb61addbf": {
          "model_module": "@jupyter-widgets/controls",
          "model_module_version": "1.5.0",
          "model_name": "DescriptionStyleModel",
          "state": {
            "_model_module": "@jupyter-widgets/controls",
            "_model_module_version": "1.5.0",
            "_model_name": "DescriptionStyleModel",
            "_view_count": null,
            "_view_module": "@jupyter-widgets/base",
            "_view_module_version": "1.2.0",
            "_view_name": "StyleView",
            "description_width": ""
          }
        },
        "6caa028fe401469ab573e4fc5f2b99e4": {
          "model_module": "@jupyter-widgets/controls",
          "model_module_version": "1.5.0",
          "model_name": "HBoxModel",
          "state": {
            "_dom_classes": [],
            "_model_module": "@jupyter-widgets/controls",
            "_model_module_version": "1.5.0",
            "_model_name": "HBoxModel",
            "_view_count": null,
            "_view_module": "@jupyter-widgets/controls",
            "_view_module_version": "1.5.0",
            "_view_name": "HBoxView",
            "box_style": "",
            "children": [
              "IPY_MODEL_d95bd72e1eb441cf85e56b4c171fd123",
              "IPY_MODEL_cf60954a7e324a3286e99d1c4b0b24a3",
              "IPY_MODEL_8011f19f7ef14839aa551c406d102920"
            ],
            "layout": "IPY_MODEL_671ea80530a84ebeb968de32694b4952"
          }
        },
        "6cbe2c860e46468ea7cfd6c9087fca83": {
          "model_module": "@jupyter-widgets/controls",
          "model_module_version": "1.5.0",
          "model_name": "DescriptionStyleModel",
          "state": {
            "_model_module": "@jupyter-widgets/controls",
            "_model_module_version": "1.5.0",
            "_model_name": "DescriptionStyleModel",
            "_view_count": null,
            "_view_module": "@jupyter-widgets/base",
            "_view_module_version": "1.2.0",
            "_view_name": "StyleView",
            "description_width": ""
          }
        },
        "6d37069b7267444aac14dbf5e1108a7d": {
          "model_module": "@jupyter-widgets/controls",
          "model_module_version": "1.5.0",
          "model_name": "ProgressStyleModel",
          "state": {
            "_model_module": "@jupyter-widgets/controls",
            "_model_module_version": "1.5.0",
            "_model_name": "ProgressStyleModel",
            "_view_count": null,
            "_view_module": "@jupyter-widgets/base",
            "_view_module_version": "1.2.0",
            "_view_name": "StyleView",
            "bar_color": null,
            "description_width": ""
          }
        },
        "6d828634d9e6414798eb3ae64ae51607": {
          "model_module": "@jupyter-widgets/base",
          "model_module_version": "1.2.0",
          "model_name": "LayoutModel",
          "state": {
            "_model_module": "@jupyter-widgets/base",
            "_model_module_version": "1.2.0",
            "_model_name": "LayoutModel",
            "_view_count": null,
            "_view_module": "@jupyter-widgets/base",
            "_view_module_version": "1.2.0",
            "_view_name": "LayoutView",
            "align_content": null,
            "align_items": null,
            "align_self": null,
            "border": null,
            "bottom": null,
            "display": null,
            "flex": null,
            "flex_flow": null,
            "grid_area": null,
            "grid_auto_columns": null,
            "grid_auto_flow": null,
            "grid_auto_rows": null,
            "grid_column": null,
            "grid_gap": null,
            "grid_row": null,
            "grid_template_areas": null,
            "grid_template_columns": null,
            "grid_template_rows": null,
            "height": null,
            "justify_content": null,
            "justify_items": null,
            "left": null,
            "margin": null,
            "max_height": null,
            "max_width": null,
            "min_height": null,
            "min_width": null,
            "object_fit": null,
            "object_position": null,
            "order": null,
            "overflow": null,
            "overflow_x": null,
            "overflow_y": null,
            "padding": null,
            "right": null,
            "top": null,
            "visibility": null,
            "width": null
          }
        },
        "6da06155960c4a84bd51f6153f31d294": {
          "model_module": "@jupyter-widgets/controls",
          "model_module_version": "1.5.0",
          "model_name": "FloatProgressModel",
          "state": {
            "_dom_classes": [],
            "_model_module": "@jupyter-widgets/controls",
            "_model_module_version": "1.5.0",
            "_model_name": "FloatProgressModel",
            "_view_count": null,
            "_view_module": "@jupyter-widgets/controls",
            "_view_module_version": "1.5.0",
            "_view_name": "ProgressView",
            "bar_style": "success",
            "description": "",
            "description_tooltip": null,
            "layout": "IPY_MODEL_d6db8bcb1ca84a489a5cc764813ad3b7",
            "max": 25,
            "min": 0,
            "orientation": "horizontal",
            "style": "IPY_MODEL_a7684953c09b448ba91a8753f9e94d83",
            "value": 25
          }
        },
        "6ef307e2b3074916b0082655f11e8256": {
          "model_module": "@jupyter-widgets/controls",
          "model_module_version": "1.5.0",
          "model_name": "DescriptionStyleModel",
          "state": {
            "_model_module": "@jupyter-widgets/controls",
            "_model_module_version": "1.5.0",
            "_model_name": "DescriptionStyleModel",
            "_view_count": null,
            "_view_module": "@jupyter-widgets/base",
            "_view_module_version": "1.2.0",
            "_view_name": "StyleView",
            "description_width": ""
          }
        },
        "6fa0bf577d9d4396a0fa7a0fd4439a51": {
          "model_module": "@jupyter-widgets/controls",
          "model_module_version": "1.5.0",
          "model_name": "HTMLModel",
          "state": {
            "_dom_classes": [],
            "_model_module": "@jupyter-widgets/controls",
            "_model_module_version": "1.5.0",
            "_model_name": "HTMLModel",
            "_view_count": null,
            "_view_module": "@jupyter-widgets/controls",
            "_view_module_version": "1.5.0",
            "_view_name": "HTMLView",
            "description": "",
            "description_tooltip": null,
            "layout": "IPY_MODEL_1d7c4a9a82a0450884363163527ab612",
            "placeholder": "​",
            "style": "IPY_MODEL_a92dc7a373b448e69aa081a580989944",
            "value": " 26.0/26.0 [00:00&lt;00:00, 636B/s]"
          }
        },
        "6fe77aabbf1844fd905b1bba455e6098": {
          "model_module": "@jupyter-widgets/controls",
          "model_module_version": "1.5.0",
          "model_name": "HTMLModel",
          "state": {
            "_dom_classes": [],
            "_model_module": "@jupyter-widgets/controls",
            "_model_module_version": "1.5.0",
            "_model_name": "HTMLModel",
            "_view_count": null,
            "_view_module": "@jupyter-widgets/controls",
            "_view_module_version": "1.5.0",
            "_view_name": "HTMLView",
            "description": "",
            "description_tooltip": null,
            "layout": "IPY_MODEL_3d7737ebdec1489ba93faa90319d7dfa",
            "placeholder": "​",
            "style": "IPY_MODEL_7f6baecf3ef94af4b9c611258d887abf",
            "value": " 456k/456k [00:00&lt;00:00, 8.46MB/s]"
          }
        },
        "71f6be46b1c841399afd125469af50f9": {
          "model_module": "@jupyter-widgets/controls",
          "model_module_version": "1.5.0",
          "model_name": "DescriptionStyleModel",
          "state": {
            "_model_module": "@jupyter-widgets/controls",
            "_model_module_version": "1.5.0",
            "_model_name": "DescriptionStyleModel",
            "_view_count": null,
            "_view_module": "@jupyter-widgets/base",
            "_view_module_version": "1.2.0",
            "_view_name": "StyleView",
            "description_width": ""
          }
        },
        "7216ad22712644998df358e1239b8204": {
          "model_module": "@jupyter-widgets/controls",
          "model_module_version": "1.5.0",
          "model_name": "FloatProgressModel",
          "state": {
            "_dom_classes": [],
            "_model_module": "@jupyter-widgets/controls",
            "_model_module_version": "1.5.0",
            "_model_name": "FloatProgressModel",
            "_view_count": null,
            "_view_module": "@jupyter-widgets/controls",
            "_view_module_version": "1.5.0",
            "_view_name": "ProgressView",
            "bar_style": "success",
            "description": "",
            "description_tooltip": null,
            "layout": "IPY_MODEL_0a19f739eccf4c73b3948a9808ada7c5",
            "max": 629,
            "min": 0,
            "orientation": "horizontal",
            "style": "IPY_MODEL_1886ce1a2166428d8859a2153a20fd08",
            "value": 629
          }
        },
        "731eca3b9bfa4d5b90e352006738a37f": {
          "model_module": "@jupyter-widgets/controls",
          "model_module_version": "1.5.0",
          "model_name": "FloatProgressModel",
          "state": {
            "_dom_classes": [],
            "_model_module": "@jupyter-widgets/controls",
            "_model_module_version": "1.5.0",
            "_model_name": "FloatProgressModel",
            "_view_count": null,
            "_view_module": "@jupyter-widgets/controls",
            "_view_module_version": "1.5.0",
            "_view_name": "ProgressView",
            "bar_style": "success",
            "description": "",
            "description_tooltip": null,
            "layout": "IPY_MODEL_a47c97359f064c50820a9df0603d864b",
            "max": 629,
            "min": 0,
            "orientation": "horizontal",
            "style": "IPY_MODEL_baadce1ba11c45ec94e70b29a7535260",
            "value": 629
          }
        },
        "737a3677c0e14a78ba794de8c7bec9fb": {
          "model_module": "@jupyter-widgets/controls",
          "model_module_version": "1.5.0",
          "model_name": "ProgressStyleModel",
          "state": {
            "_model_module": "@jupyter-widgets/controls",
            "_model_module_version": "1.5.0",
            "_model_name": "ProgressStyleModel",
            "_view_count": null,
            "_view_module": "@jupyter-widgets/base",
            "_view_module_version": "1.2.0",
            "_view_name": "StyleView",
            "bar_color": null,
            "description_width": ""
          }
        },
        "73afa8d0b4c24295afc8ce0db89c9e71": {
          "model_module": "@jupyter-widgets/controls",
          "model_module_version": "1.5.0",
          "model_name": "HTMLModel",
          "state": {
            "_dom_classes": [],
            "_model_module": "@jupyter-widgets/controls",
            "_model_module_version": "1.5.0",
            "_model_name": "HTMLModel",
            "_view_count": null,
            "_view_module": "@jupyter-widgets/controls",
            "_view_module_version": "1.5.0",
            "_view_name": "HTMLView",
            "description": "",
            "description_tooltip": null,
            "layout": "IPY_MODEL_fb1162539d9842eaad2ba10aa9af12bb",
            "placeholder": "​",
            "style": "IPY_MODEL_c51354a2e990483589503887f771bb6d",
            "value": " 1.04M/1.04M [00:00&lt;00:00, 11.6MB/s]"
          }
        },
        "7552ef5c191c489682cf4be74c9001d6": {
          "model_module": "@jupyter-widgets/controls",
          "model_module_version": "1.5.0",
          "model_name": "HBoxModel",
          "state": {
            "_dom_classes": [],
            "_model_module": "@jupyter-widgets/controls",
            "_model_module_version": "1.5.0",
            "_model_name": "HBoxModel",
            "_view_count": null,
            "_view_module": "@jupyter-widgets/controls",
            "_view_module_version": "1.5.0",
            "_view_name": "HBoxView",
            "box_style": "",
            "children": [
              "IPY_MODEL_0597ecfe1dcb4cfcab723c55ec6f35d9",
              "IPY_MODEL_5b4cd3150b9d412e8b915c99c1fb02e9",
              "IPY_MODEL_6fe77aabbf1844fd905b1bba455e6098"
            ],
            "layout": "IPY_MODEL_a0d34a1a204245fda5bad65150cb376a"
          }
        },
        "75dba8dd19c24bd9919f73fa3f6b676a": {
          "model_module": "@jupyter-widgets/controls",
          "model_module_version": "1.5.0",
          "model_name": "HTMLModel",
          "state": {
            "_dom_classes": [],
            "_model_module": "@jupyter-widgets/controls",
            "_model_module_version": "1.5.0",
            "_model_name": "HTMLModel",
            "_view_count": null,
            "_view_module": "@jupyter-widgets/controls",
            "_view_module_version": "1.5.0",
            "_view_name": "HTMLView",
            "description": "",
            "description_tooltip": null,
            "layout": "IPY_MODEL_c41838873237493ea67f16e9813a2a95",
            "placeholder": "​",
            "style": "IPY_MODEL_382fe3af17f341e2abc801f367651b3c",
            "value": " 308k/308k [00:00&lt;00:00, 8.24MB/s]"
          }
        },
        "7604d961c8f0423aa53628c41dbcb039": {
          "model_module": "@jupyter-widgets/controls",
          "model_module_version": "1.5.0",
          "model_name": "FloatProgressModel",
          "state": {
            "_dom_classes": [],
            "_model_module": "@jupyter-widgets/controls",
            "_model_module_version": "1.5.0",
            "_model_name": "FloatProgressModel",
            "_view_count": null,
            "_view_module": "@jupyter-widgets/controls",
            "_view_module_version": "1.5.0",
            "_view_name": "ProgressView",
            "bar_style": "success",
            "description": "",
            "description_tooltip": null,
            "layout": "IPY_MODEL_1287e03455ec45a08b4454abc3ec1614",
            "max": 48,
            "min": 0,
            "orientation": "horizontal",
            "style": "IPY_MODEL_42fcb8f4274f4687877c673eb4921ffd",
            "value": 48
          }
        },
        "762ab39e17774d9e9a18bb2a23f13751": {
          "model_module": "@jupyter-widgets/controls",
          "model_module_version": "1.5.0",
          "model_name": "HTMLModel",
          "state": {
            "_dom_classes": [],
            "_model_module": "@jupyter-widgets/controls",
            "_model_module_version": "1.5.0",
            "_model_name": "HTMLModel",
            "_view_count": null,
            "_view_module": "@jupyter-widgets/controls",
            "_view_module_version": "1.5.0",
            "_view_name": "HTMLView",
            "description": "",
            "description_tooltip": null,
            "layout": "IPY_MODEL_c66ff1000f634786aa95fa028693f4e9",
            "placeholder": "​",
            "style": "IPY_MODEL_0cf74b59ffa641468930f832c4a39296",
            "value": "tokenizer_config.json: 100%"
          }
        },
        "767414e765fb4ae5a23807dd31038709": {
          "model_module": "@jupyter-widgets/controls",
          "model_module_version": "1.5.0",
          "model_name": "FloatProgressModel",
          "state": {
            "_dom_classes": [],
            "_model_module": "@jupyter-widgets/controls",
            "_model_module_version": "1.5.0",
            "_model_name": "FloatProgressModel",
            "_view_count": null,
            "_view_module": "@jupyter-widgets/controls",
            "_view_module_version": "1.5.0",
            "_view_name": "ProgressView",
            "bar_style": "success",
            "description": "",
            "description_tooltip": null,
            "layout": "IPY_MODEL_f937c106c06c4b099947a8155116abdd",
            "max": 649281,
            "min": 0,
            "orientation": "horizontal",
            "style": "IPY_MODEL_30596033577d46caa50051d57700bf83",
            "value": 649281
          }
        },
        "786e0b363b8140459212146e29279e1d": {
          "model_module": "@jupyter-widgets/controls",
          "model_module_version": "1.5.0",
          "model_name": "ProgressStyleModel",
          "state": {
            "_model_module": "@jupyter-widgets/controls",
            "_model_module_version": "1.5.0",
            "_model_name": "ProgressStyleModel",
            "_view_count": null,
            "_view_module": "@jupyter-widgets/base",
            "_view_module_version": "1.2.0",
            "_view_name": "StyleView",
            "bar_color": null,
            "description_width": ""
          }
        },
        "7963ba5443f1425f919aed3badfab4e5": {
          "model_module": "@jupyter-widgets/base",
          "model_module_version": "1.2.0",
          "model_name": "LayoutModel",
          "state": {
            "_model_module": "@jupyter-widgets/base",
            "_model_module_version": "1.2.0",
            "_model_name": "LayoutModel",
            "_view_count": null,
            "_view_module": "@jupyter-widgets/base",
            "_view_module_version": "1.2.0",
            "_view_name": "LayoutView",
            "align_content": null,
            "align_items": null,
            "align_self": null,
            "border": null,
            "bottom": null,
            "display": null,
            "flex": null,
            "flex_flow": null,
            "grid_area": null,
            "grid_auto_columns": null,
            "grid_auto_flow": null,
            "grid_auto_rows": null,
            "grid_column": null,
            "grid_gap": null,
            "grid_row": null,
            "grid_template_areas": null,
            "grid_template_columns": null,
            "grid_template_rows": null,
            "height": null,
            "justify_content": null,
            "justify_items": null,
            "left": null,
            "margin": null,
            "max_height": null,
            "max_width": null,
            "min_height": null,
            "min_width": null,
            "object_fit": null,
            "object_position": null,
            "order": null,
            "overflow": null,
            "overflow_x": null,
            "overflow_y": null,
            "padding": null,
            "right": null,
            "top": null,
            "visibility": null,
            "width": null
          }
        },
        "7a2a139a584f4481ba805df892a2644f": {
          "model_module": "@jupyter-widgets/controls",
          "model_module_version": "1.5.0",
          "model_name": "HTMLModel",
          "state": {
            "_dom_classes": [],
            "_model_module": "@jupyter-widgets/controls",
            "_model_module_version": "1.5.0",
            "_model_name": "HTMLModel",
            "_view_count": null,
            "_view_module": "@jupyter-widgets/controls",
            "_view_module_version": "1.5.0",
            "_view_name": "HTMLView",
            "description": "",
            "description_tooltip": null,
            "layout": "IPY_MODEL_35dd6927ff1d45ba9ca227d9ec5f14ef",
            "placeholder": "​",
            "style": "IPY_MODEL_b2e135f5d467438cb7ab9edabd6aba73",
            "value": "model.safetensors: 100%"
          }
        },
        "7ad87a7dd4ac4d11a8c833ca316d2a85": {
          "model_module": "@jupyter-widgets/controls",
          "model_module_version": "1.5.0",
          "model_name": "FloatProgressModel",
          "state": {
            "_dom_classes": [],
            "_model_module": "@jupyter-widgets/controls",
            "_model_module_version": "1.5.0",
            "_model_name": "FloatProgressModel",
            "_view_count": null,
            "_view_module": "@jupyter-widgets/controls",
            "_view_module_version": "1.5.0",
            "_view_name": "ProgressView",
            "bar_style": "success",
            "description": "",
            "description_tooltip": null,
            "layout": "IPY_MODEL_ac3003579a954a5aa746e39cad4cd60e",
            "max": 898822,
            "min": 0,
            "orientation": "horizontal",
            "style": "IPY_MODEL_449b962507e046f58afeef1d1e66e050",
            "value": 898822
          }
        },
        "7b58ec6212854addbde37900f591739f": {
          "model_module": "@jupyter-widgets/controls",
          "model_module_version": "1.5.0",
          "model_name": "HBoxModel",
          "state": {
            "_dom_classes": [],
            "_model_module": "@jupyter-widgets/controls",
            "_model_module_version": "1.5.0",
            "_model_name": "HBoxModel",
            "_view_count": null,
            "_view_module": "@jupyter-widgets/controls",
            "_view_module_version": "1.5.0",
            "_view_name": "HBoxView",
            "box_style": "",
            "children": [
              "IPY_MODEL_e00aa5c4ac2648dcaf74ee52bd484ce6",
              "IPY_MODEL_84f11fd4c5164bc78b4ed0ea603a9d40",
              "IPY_MODEL_c577bfe96a2a40eb9925e534b274971d"
            ],
            "layout": "IPY_MODEL_cae4c8168f144a7f921b56b7c8c7de8b"
          }
        },
        "7c46da16aaf3459abb3f55267e8fa074": {
          "model_module": "@jupyter-widgets/controls",
          "model_module_version": "1.5.0",
          "model_name": "ProgressStyleModel",
          "state": {
            "_model_module": "@jupyter-widgets/controls",
            "_model_module_version": "1.5.0",
            "_model_name": "ProgressStyleModel",
            "_view_count": null,
            "_view_module": "@jupyter-widgets/base",
            "_view_module_version": "1.2.0",
            "_view_name": "StyleView",
            "bar_color": null,
            "description_width": ""
          }
        },
        "7c94b781e7df4c47bba88e9324557835": {
          "model_module": "@jupyter-widgets/controls",
          "model_module_version": "1.5.0",
          "model_name": "HTMLModel",
          "state": {
            "_dom_classes": [],
            "_model_module": "@jupyter-widgets/controls",
            "_model_module_version": "1.5.0",
            "_model_name": "HTMLModel",
            "_view_count": null,
            "_view_module": "@jupyter-widgets/controls",
            "_view_module_version": "1.5.0",
            "_view_name": "HTMLView",
            "description": "",
            "description_tooltip": null,
            "layout": "IPY_MODEL_6d828634d9e6414798eb3ae64ae51607",
            "placeholder": "​",
            "style": "IPY_MODEL_346c7af2e8b548f6bb30ebfff2a52fe3",
            "value": "Generating validation split: 100%"
          }
        },
        "7d347a8f64f2428ca4729520feb809c2": {
          "model_module": "@jupyter-widgets/controls",
          "model_module_version": "1.5.0",
          "model_name": "DescriptionStyleModel",
          "state": {
            "_model_module": "@jupyter-widgets/controls",
            "_model_module_version": "1.5.0",
            "_model_name": "DescriptionStyleModel",
            "_view_count": null,
            "_view_module": "@jupyter-widgets/base",
            "_view_module_version": "1.2.0",
            "_view_name": "StyleView",
            "description_width": ""
          }
        },
        "7db672f695d2449daf85589592c87878": {
          "model_module": "@jupyter-widgets/base",
          "model_module_version": "1.2.0",
          "model_name": "LayoutModel",
          "state": {
            "_model_module": "@jupyter-widgets/base",
            "_model_module_version": "1.2.0",
            "_model_name": "LayoutModel",
            "_view_count": null,
            "_view_module": "@jupyter-widgets/base",
            "_view_module_version": "1.2.0",
            "_view_name": "LayoutView",
            "align_content": null,
            "align_items": null,
            "align_self": null,
            "border": null,
            "bottom": null,
            "display": null,
            "flex": null,
            "flex_flow": null,
            "grid_area": null,
            "grid_auto_columns": null,
            "grid_auto_flow": null,
            "grid_auto_rows": null,
            "grid_column": null,
            "grid_gap": null,
            "grid_row": null,
            "grid_template_areas": null,
            "grid_template_columns": null,
            "grid_template_rows": null,
            "height": null,
            "justify_content": null,
            "justify_items": null,
            "left": null,
            "margin": null,
            "max_height": null,
            "max_width": null,
            "min_height": null,
            "min_width": null,
            "object_fit": null,
            "object_position": null,
            "order": null,
            "overflow": null,
            "overflow_x": null,
            "overflow_y": null,
            "padding": null,
            "right": null,
            "top": null,
            "visibility": null,
            "width": null
          }
        },
        "7ecd8048feff4d4cb876f69076f04ff2": {
          "model_module": "@jupyter-widgets/controls",
          "model_module_version": "1.5.0",
          "model_name": "HTMLModel",
          "state": {
            "_dom_classes": [],
            "_model_module": "@jupyter-widgets/controls",
            "_model_module_version": "1.5.0",
            "_model_name": "HTMLModel",
            "_view_count": null,
            "_view_module": "@jupyter-widgets/controls",
            "_view_module_version": "1.5.0",
            "_view_name": "HTMLView",
            "description": "",
            "description_tooltip": null,
            "layout": "IPY_MODEL_9fbac5bd79a44426957bcb5338fe21bf",
            "placeholder": "​",
            "style": "IPY_MODEL_c3bf4377b38e44cbbcf1fbd9bba8f5ea",
            "value": "Map: 100%"
          }
        },
        "7ee6cee96f8542ecb03f95e3d95ac7ec": {
          "model_module": "@jupyter-widgets/base",
          "model_module_version": "1.2.0",
          "model_name": "LayoutModel",
          "state": {
            "_model_module": "@jupyter-widgets/base",
            "_model_module_version": "1.2.0",
            "_model_name": "LayoutModel",
            "_view_count": null,
            "_view_module": "@jupyter-widgets/base",
            "_view_module_version": "1.2.0",
            "_view_name": "LayoutView",
            "align_content": null,
            "align_items": null,
            "align_self": null,
            "border": null,
            "bottom": null,
            "display": null,
            "flex": null,
            "flex_flow": null,
            "grid_area": null,
            "grid_auto_columns": null,
            "grid_auto_flow": null,
            "grid_auto_rows": null,
            "grid_column": null,
            "grid_gap": null,
            "grid_row": null,
            "grid_template_areas": null,
            "grid_template_columns": null,
            "grid_template_rows": null,
            "height": null,
            "justify_content": null,
            "justify_items": null,
            "left": null,
            "margin": null,
            "max_height": null,
            "max_width": null,
            "min_height": null,
            "min_width": null,
            "object_fit": null,
            "object_position": null,
            "order": null,
            "overflow": null,
            "overflow_x": null,
            "overflow_y": null,
            "padding": null,
            "right": null,
            "top": null,
            "visibility": null,
            "width": null
          }
        },
        "7eed637c6e7d46ee9c4cf78750cef204": {
          "model_module": "@jupyter-widgets/controls",
          "model_module_version": "1.5.0",
          "model_name": "HTMLModel",
          "state": {
            "_dom_classes": [],
            "_model_module": "@jupyter-widgets/controls",
            "_model_module_version": "1.5.0",
            "_model_name": "HTMLModel",
            "_view_count": null,
            "_view_module": "@jupyter-widgets/controls",
            "_view_module_version": "1.5.0",
            "_view_name": "HTMLView",
            "description": "",
            "description_tooltip": null,
            "layout": "IPY_MODEL_b355fd56845448e2bc6ec1594ebc22eb",
            "placeholder": "​",
            "style": "IPY_MODEL_c8447a6be3924f1d8d2ff0236d26cc40",
            "value": "train-00000-of-00001.parquet: 100%"
          }
        },
        "7f6baecf3ef94af4b9c611258d887abf": {
          "model_module": "@jupyter-widgets/controls",
          "model_module_version": "1.5.0",
          "model_name": "DescriptionStyleModel",
          "state": {
            "_model_module": "@jupyter-widgets/controls",
            "_model_module_version": "1.5.0",
            "_model_name": "DescriptionStyleModel",
            "_view_count": null,
            "_view_module": "@jupyter-widgets/base",
            "_view_module_version": "1.2.0",
            "_view_name": "StyleView",
            "description_width": ""
          }
        },
        "8011f19f7ef14839aa551c406d102920": {
          "model_module": "@jupyter-widgets/controls",
          "model_module_version": "1.5.0",
          "model_name": "HTMLModel",
          "state": {
            "_dom_classes": [],
            "_model_module": "@jupyter-widgets/controls",
            "_model_module_version": "1.5.0",
            "_model_name": "HTMLModel",
            "_view_count": null,
            "_view_module": "@jupyter-widgets/controls",
            "_view_module_version": "1.5.0",
            "_view_name": "HTMLView",
            "description": "",
            "description_tooltip": null,
            "layout": "IPY_MODEL_aa5d7e52169b4f1096367759c0683811",
            "placeholder": "​",
            "style": "IPY_MODEL_d088a51480ee487b82bcfc143459c981",
            "value": " 899k/899k [00:00&lt;00:00, 46.0MB/s]"
          }
        },
        "8039b108a2ed4d668c777c8b849577f2": {
          "model_module": "@jupyter-widgets/base",
          "model_module_version": "1.2.0",
          "model_name": "LayoutModel",
          "state": {
            "_model_module": "@jupyter-widgets/base",
            "_model_module_version": "1.2.0",
            "_model_name": "LayoutModel",
            "_view_count": null,
            "_view_module": "@jupyter-widgets/base",
            "_view_module_version": "1.2.0",
            "_view_name": "LayoutView",
            "align_content": null,
            "align_items": null,
            "align_self": null,
            "border": null,
            "bottom": null,
            "display": null,
            "flex": null,
            "flex_flow": null,
            "grid_area": null,
            "grid_auto_columns": null,
            "grid_auto_flow": null,
            "grid_auto_rows": null,
            "grid_column": null,
            "grid_gap": null,
            "grid_row": null,
            "grid_template_areas": null,
            "grid_template_columns": null,
            "grid_template_rows": null,
            "height": null,
            "justify_content": null,
            "justify_items": null,
            "left": null,
            "margin": null,
            "max_height": null,
            "max_width": null,
            "min_height": null,
            "min_width": null,
            "object_fit": null,
            "object_position": null,
            "order": null,
            "overflow": null,
            "overflow_x": null,
            "overflow_y": null,
            "padding": null,
            "right": null,
            "top": null,
            "visibility": null,
            "width": null
          }
        },
        "817339760540495fb11c61d25e49144b": {
          "model_module": "@jupyter-widgets/base",
          "model_module_version": "1.2.0",
          "model_name": "LayoutModel",
          "state": {
            "_model_module": "@jupyter-widgets/base",
            "_model_module_version": "1.2.0",
            "_model_name": "LayoutModel",
            "_view_count": null,
            "_view_module": "@jupyter-widgets/base",
            "_view_module_version": "1.2.0",
            "_view_name": "LayoutView",
            "align_content": null,
            "align_items": null,
            "align_self": null,
            "border": null,
            "bottom": null,
            "display": null,
            "flex": null,
            "flex_flow": null,
            "grid_area": null,
            "grid_auto_columns": null,
            "grid_auto_flow": null,
            "grid_auto_rows": null,
            "grid_column": null,
            "grid_gap": null,
            "grid_row": null,
            "grid_template_areas": null,
            "grid_template_columns": null,
            "grid_template_rows": null,
            "height": null,
            "justify_content": null,
            "justify_items": null,
            "left": null,
            "margin": null,
            "max_height": null,
            "max_width": null,
            "min_height": null,
            "min_width": null,
            "object_fit": null,
            "object_position": null,
            "order": null,
            "overflow": null,
            "overflow_x": null,
            "overflow_y": null,
            "padding": null,
            "right": null,
            "top": null,
            "visibility": null,
            "width": null
          }
        },
        "819fa2ee132544df8f738c748f90a432": {
          "model_module": "@jupyter-widgets/base",
          "model_module_version": "1.2.0",
          "model_name": "LayoutModel",
          "state": {
            "_model_module": "@jupyter-widgets/base",
            "_model_module_version": "1.2.0",
            "_model_name": "LayoutModel",
            "_view_count": null,
            "_view_module": "@jupyter-widgets/base",
            "_view_module_version": "1.2.0",
            "_view_name": "LayoutView",
            "align_content": null,
            "align_items": null,
            "align_self": null,
            "border": null,
            "bottom": null,
            "display": null,
            "flex": null,
            "flex_flow": null,
            "grid_area": null,
            "grid_auto_columns": null,
            "grid_auto_flow": null,
            "grid_auto_rows": null,
            "grid_column": null,
            "grid_gap": null,
            "grid_row": null,
            "grid_template_areas": null,
            "grid_template_columns": null,
            "grid_template_rows": null,
            "height": null,
            "justify_content": null,
            "justify_items": null,
            "left": null,
            "margin": null,
            "max_height": null,
            "max_width": null,
            "min_height": null,
            "min_width": null,
            "object_fit": null,
            "object_position": null,
            "order": null,
            "overflow": null,
            "overflow_x": null,
            "overflow_y": null,
            "padding": null,
            "right": null,
            "top": null,
            "visibility": null,
            "width": null
          }
        },
        "81fd13827a014cb7829a682a0a7fbd9c": {
          "model_module": "@jupyter-widgets/base",
          "model_module_version": "1.2.0",
          "model_name": "LayoutModel",
          "state": {
            "_model_module": "@jupyter-widgets/base",
            "_model_module_version": "1.2.0",
            "_model_name": "LayoutModel",
            "_view_count": null,
            "_view_module": "@jupyter-widgets/base",
            "_view_module_version": "1.2.0",
            "_view_name": "LayoutView",
            "align_content": null,
            "align_items": null,
            "align_self": null,
            "border": null,
            "bottom": null,
            "display": null,
            "flex": null,
            "flex_flow": null,
            "grid_area": null,
            "grid_auto_columns": null,
            "grid_auto_flow": null,
            "grid_auto_rows": null,
            "grid_column": null,
            "grid_gap": null,
            "grid_row": null,
            "grid_template_areas": null,
            "grid_template_columns": null,
            "grid_template_rows": null,
            "height": null,
            "justify_content": null,
            "justify_items": null,
            "left": null,
            "margin": null,
            "max_height": null,
            "max_width": null,
            "min_height": null,
            "min_width": null,
            "object_fit": null,
            "object_position": null,
            "order": null,
            "overflow": null,
            "overflow_x": null,
            "overflow_y": null,
            "padding": null,
            "right": null,
            "top": null,
            "visibility": null,
            "width": null
          }
        },
        "830dffffb7fb4e8c9f4d6f86fca4ebb9": {
          "model_module": "@jupyter-widgets/base",
          "model_module_version": "1.2.0",
          "model_name": "LayoutModel",
          "state": {
            "_model_module": "@jupyter-widgets/base",
            "_model_module_version": "1.2.0",
            "_model_name": "LayoutModel",
            "_view_count": null,
            "_view_module": "@jupyter-widgets/base",
            "_view_module_version": "1.2.0",
            "_view_name": "LayoutView",
            "align_content": null,
            "align_items": null,
            "align_self": null,
            "border": null,
            "bottom": null,
            "display": null,
            "flex": null,
            "flex_flow": null,
            "grid_area": null,
            "grid_auto_columns": null,
            "grid_auto_flow": null,
            "grid_auto_rows": null,
            "grid_column": null,
            "grid_gap": null,
            "grid_row": null,
            "grid_template_areas": null,
            "grid_template_columns": null,
            "grid_template_rows": null,
            "height": null,
            "justify_content": null,
            "justify_items": null,
            "left": null,
            "margin": null,
            "max_height": null,
            "max_width": null,
            "min_height": null,
            "min_width": null,
            "object_fit": null,
            "object_position": null,
            "order": null,
            "overflow": null,
            "overflow_x": null,
            "overflow_y": null,
            "padding": null,
            "right": null,
            "top": null,
            "visibility": null,
            "width": null
          }
        },
        "8320e8913eb64151a4950b4cb2aa86e6": {
          "model_module": "@jupyter-widgets/controls",
          "model_module_version": "1.5.0",
          "model_name": "HBoxModel",
          "state": {
            "_dom_classes": [],
            "_model_module": "@jupyter-widgets/controls",
            "_model_module_version": "1.5.0",
            "_model_name": "HBoxModel",
            "_view_count": null,
            "_view_module": "@jupyter-widgets/controls",
            "_view_module_version": "1.5.0",
            "_view_name": "HBoxView",
            "box_style": "",
            "children": [
              "IPY_MODEL_7c94b781e7df4c47bba88e9324557835",
              "IPY_MODEL_568e69c867fc479b8bf2c9fcd5ca7e12",
              "IPY_MODEL_fddf132c111f4016ab29a8e4b9975034"
            ],
            "layout": "IPY_MODEL_e49ea8a7454245acbde2bbe64b74477b"
          }
        },
        "83b08ea8025b45f6ba7d7a9efc3eeab1": {
          "model_module": "@jupyter-widgets/controls",
          "model_module_version": "1.5.0",
          "model_name": "DescriptionStyleModel",
          "state": {
            "_model_module": "@jupyter-widgets/controls",
            "_model_module_version": "1.5.0",
            "_model_name": "DescriptionStyleModel",
            "_view_count": null,
            "_view_module": "@jupyter-widgets/base",
            "_view_module_version": "1.2.0",
            "_view_name": "StyleView",
            "description_width": ""
          }
        },
        "841812bd49264ff18f8a97c58f287647": {
          "model_module": "@jupyter-widgets/controls",
          "model_module_version": "1.5.0",
          "model_name": "DescriptionStyleModel",
          "state": {
            "_model_module": "@jupyter-widgets/controls",
            "_model_module_version": "1.5.0",
            "_model_name": "DescriptionStyleModel",
            "_view_count": null,
            "_view_module": "@jupyter-widgets/base",
            "_view_module_version": "1.2.0",
            "_view_name": "StyleView",
            "description_width": ""
          }
        },
        "846a2ca5a48e42b589fb583a6979cf63": {
          "model_module": "@jupyter-widgets/controls",
          "model_module_version": "1.5.0",
          "model_name": "DescriptionStyleModel",
          "state": {
            "_model_module": "@jupyter-widgets/controls",
            "_model_module_version": "1.5.0",
            "_model_name": "DescriptionStyleModel",
            "_view_count": null,
            "_view_module": "@jupyter-widgets/base",
            "_view_module_version": "1.2.0",
            "_view_name": "StyleView",
            "description_width": ""
          }
        },
        "84f11fd4c5164bc78b4ed0ea603a9d40": {
          "model_module": "@jupyter-widgets/controls",
          "model_module_version": "1.5.0",
          "model_name": "FloatProgressModel",
          "state": {
            "_dom_classes": [],
            "_model_module": "@jupyter-widgets/controls",
            "_model_module_version": "1.5.0",
            "_model_name": "FloatProgressModel",
            "_view_count": null,
            "_view_module": "@jupyter-widgets/controls",
            "_view_module_version": "1.5.0",
            "_view_name": "ProgressView",
            "bar_style": "success",
            "description": "",
            "description_tooltip": null,
            "layout": "IPY_MODEL_873acdee90f64ba69c86ae242a09905c",
            "max": 1725,
            "min": 0,
            "orientation": "horizontal",
            "style": "IPY_MODEL_86d2ed191f3e434681a7184df170c3e9",
            "value": 1725
          }
        },
        "85089b9dd89b450191601ac0bcda20a9": {
          "model_module": "@jupyter-widgets/controls",
          "model_module_version": "1.5.0",
          "model_name": "DescriptionStyleModel",
          "state": {
            "_model_module": "@jupyter-widgets/controls",
            "_model_module_version": "1.5.0",
            "_model_name": "DescriptionStyleModel",
            "_view_count": null,
            "_view_module": "@jupyter-widgets/base",
            "_view_module_version": "1.2.0",
            "_view_name": "StyleView",
            "description_width": ""
          }
        },
        "85733e0f42134920adb54755f8b98d06": {
          "model_module": "@jupyter-widgets/controls",
          "model_module_version": "1.5.0",
          "model_name": "DescriptionStyleModel",
          "state": {
            "_model_module": "@jupyter-widgets/controls",
            "_model_module_version": "1.5.0",
            "_model_name": "DescriptionStyleModel",
            "_view_count": null,
            "_view_module": "@jupyter-widgets/base",
            "_view_module_version": "1.2.0",
            "_view_name": "StyleView",
            "description_width": ""
          }
        },
        "86d2ed191f3e434681a7184df170c3e9": {
          "model_module": "@jupyter-widgets/controls",
          "model_module_version": "1.5.0",
          "model_name": "ProgressStyleModel",
          "state": {
            "_model_module": "@jupyter-widgets/controls",
            "_model_module_version": "1.5.0",
            "_model_name": "ProgressStyleModel",
            "_view_count": null,
            "_view_module": "@jupyter-widgets/base",
            "_view_module_version": "1.2.0",
            "_view_name": "StyleView",
            "bar_color": null,
            "description_width": ""
          }
        },
        "873acdee90f64ba69c86ae242a09905c": {
          "model_module": "@jupyter-widgets/base",
          "model_module_version": "1.2.0",
          "model_name": "LayoutModel",
          "state": {
            "_model_module": "@jupyter-widgets/base",
            "_model_module_version": "1.2.0",
            "_model_name": "LayoutModel",
            "_view_count": null,
            "_view_module": "@jupyter-widgets/base",
            "_view_module_version": "1.2.0",
            "_view_name": "LayoutView",
            "align_content": null,
            "align_items": null,
            "align_self": null,
            "border": null,
            "bottom": null,
            "display": null,
            "flex": null,
            "flex_flow": null,
            "grid_area": null,
            "grid_auto_columns": null,
            "grid_auto_flow": null,
            "grid_auto_rows": null,
            "grid_column": null,
            "grid_gap": null,
            "grid_row": null,
            "grid_template_areas": null,
            "grid_template_columns": null,
            "grid_template_rows": null,
            "height": null,
            "justify_content": null,
            "justify_items": null,
            "left": null,
            "margin": null,
            "max_height": null,
            "max_width": null,
            "min_height": null,
            "min_width": null,
            "object_fit": null,
            "object_position": null,
            "order": null,
            "overflow": null,
            "overflow_x": null,
            "overflow_y": null,
            "padding": null,
            "right": null,
            "top": null,
            "visibility": null,
            "width": null
          }
        },
        "87cbb5ea9b2d48208f1191d22b756544": {
          "model_module": "@jupyter-widgets/controls",
          "model_module_version": "1.5.0",
          "model_name": "FloatProgressModel",
          "state": {
            "_dom_classes": [],
            "_model_module": "@jupyter-widgets/controls",
            "_model_module_version": "1.5.0",
            "_model_name": "FloatProgressModel",
            "_view_count": null,
            "_view_module": "@jupyter-widgets/controls",
            "_view_module_version": "1.5.0",
            "_view_name": "ProgressView",
            "bar_style": "success",
            "description": "",
            "description_tooltip": null,
            "layout": "IPY_MODEL_247ff32d8c1949beb2aae4c15182c074",
            "max": 1629437147,
            "min": 0,
            "orientation": "horizontal",
            "style": "IPY_MODEL_3e9d755de3974c8aa5f9bc56483392c4",
            "value": 1629437147
          }
        },
        "87d29a6708134631ae4dbde555c1eaa5": {
          "model_module": "@jupyter-widgets/base",
          "model_module_version": "1.2.0",
          "model_name": "LayoutModel",
          "state": {
            "_model_module": "@jupyter-widgets/base",
            "_model_module_version": "1.2.0",
            "_model_name": "LayoutModel",
            "_view_count": null,
            "_view_module": "@jupyter-widgets/base",
            "_view_module_version": "1.2.0",
            "_view_name": "LayoutView",
            "align_content": null,
            "align_items": null,
            "align_self": null,
            "border": null,
            "bottom": null,
            "display": null,
            "flex": null,
            "flex_flow": null,
            "grid_area": null,
            "grid_auto_columns": null,
            "grid_auto_flow": null,
            "grid_auto_rows": null,
            "grid_column": null,
            "grid_gap": null,
            "grid_row": null,
            "grid_template_areas": null,
            "grid_template_columns": null,
            "grid_template_rows": null,
            "height": null,
            "justify_content": null,
            "justify_items": null,
            "left": null,
            "margin": null,
            "max_height": null,
            "max_width": null,
            "min_height": null,
            "min_width": null,
            "object_fit": null,
            "object_position": null,
            "order": null,
            "overflow": null,
            "overflow_x": null,
            "overflow_y": null,
            "padding": null,
            "right": null,
            "top": null,
            "visibility": null,
            "width": null
          }
        },
        "8875eceb1b864795823d5768fbbb5ecd": {
          "model_module": "@jupyter-widgets/base",
          "model_module_version": "1.2.0",
          "model_name": "LayoutModel",
          "state": {
            "_model_module": "@jupyter-widgets/base",
            "_model_module_version": "1.2.0",
            "_model_name": "LayoutModel",
            "_view_count": null,
            "_view_module": "@jupyter-widgets/base",
            "_view_module_version": "1.2.0",
            "_view_name": "LayoutView",
            "align_content": null,
            "align_items": null,
            "align_self": null,
            "border": null,
            "bottom": null,
            "display": null,
            "flex": null,
            "flex_flow": null,
            "grid_area": null,
            "grid_auto_columns": null,
            "grid_auto_flow": null,
            "grid_auto_rows": null,
            "grid_column": null,
            "grid_gap": null,
            "grid_row": null,
            "grid_template_areas": null,
            "grid_template_columns": null,
            "grid_template_rows": null,
            "height": null,
            "justify_content": null,
            "justify_items": null,
            "left": null,
            "margin": null,
            "max_height": null,
            "max_width": null,
            "min_height": null,
            "min_width": null,
            "object_fit": null,
            "object_position": null,
            "order": null,
            "overflow": null,
            "overflow_x": null,
            "overflow_y": null,
            "padding": null,
            "right": null,
            "top": null,
            "visibility": null,
            "width": null
          }
        },
        "88ab8699227f4c559fcfd9f8834f3d7a": {
          "model_module": "@jupyter-widgets/base",
          "model_module_version": "1.2.0",
          "model_name": "LayoutModel",
          "state": {
            "_model_module": "@jupyter-widgets/base",
            "_model_module_version": "1.2.0",
            "_model_name": "LayoutModel",
            "_view_count": null,
            "_view_module": "@jupyter-widgets/base",
            "_view_module_version": "1.2.0",
            "_view_name": "LayoutView",
            "align_content": null,
            "align_items": null,
            "align_self": null,
            "border": null,
            "bottom": null,
            "display": null,
            "flex": null,
            "flex_flow": null,
            "grid_area": null,
            "grid_auto_columns": null,
            "grid_auto_flow": null,
            "grid_auto_rows": null,
            "grid_column": null,
            "grid_gap": null,
            "grid_row": null,
            "grid_template_areas": null,
            "grid_template_columns": null,
            "grid_template_rows": null,
            "height": null,
            "justify_content": null,
            "justify_items": null,
            "left": null,
            "margin": null,
            "max_height": null,
            "max_width": null,
            "min_height": null,
            "min_width": null,
            "object_fit": null,
            "object_position": null,
            "order": null,
            "overflow": null,
            "overflow_x": null,
            "overflow_y": null,
            "padding": null,
            "right": null,
            "top": null,
            "visibility": null,
            "width": null
          }
        },
        "88f07e187bc54658a6208565ca6c1251": {
          "model_module": "@jupyter-widgets/base",
          "model_module_version": "1.2.0",
          "model_name": "LayoutModel",
          "state": {
            "_model_module": "@jupyter-widgets/base",
            "_model_module_version": "1.2.0",
            "_model_name": "LayoutModel",
            "_view_count": null,
            "_view_module": "@jupyter-widgets/base",
            "_view_module_version": "1.2.0",
            "_view_name": "LayoutView",
            "align_content": null,
            "align_items": null,
            "align_self": null,
            "border": null,
            "bottom": null,
            "display": null,
            "flex": null,
            "flex_flow": null,
            "grid_area": null,
            "grid_auto_columns": null,
            "grid_auto_flow": null,
            "grid_auto_rows": null,
            "grid_column": null,
            "grid_gap": null,
            "grid_row": null,
            "grid_template_areas": null,
            "grid_template_columns": null,
            "grid_template_rows": null,
            "height": null,
            "justify_content": null,
            "justify_items": null,
            "left": null,
            "margin": null,
            "max_height": null,
            "max_width": null,
            "min_height": null,
            "min_width": null,
            "object_fit": null,
            "object_position": null,
            "order": null,
            "overflow": null,
            "overflow_x": null,
            "overflow_y": null,
            "padding": null,
            "right": null,
            "top": null,
            "visibility": null,
            "width": null
          }
        },
        "8a0419ba21ef49378c1d82ba1aab4ad5": {
          "model_module": "@jupyter-widgets/controls",
          "model_module_version": "1.5.0",
          "model_name": "HBoxModel",
          "state": {
            "_dom_classes": [],
            "_model_module": "@jupyter-widgets/controls",
            "_model_module_version": "1.5.0",
            "_model_name": "HBoxModel",
            "_view_count": null,
            "_view_module": "@jupyter-widgets/controls",
            "_view_module_version": "1.5.0",
            "_view_name": "HBoxView",
            "box_style": "",
            "children": [
              "IPY_MODEL_017acb3c20cd4b46bf02419fb9646b74",
              "IPY_MODEL_d882c4d019b04a2daf30485819a0ad71",
              "IPY_MODEL_73afa8d0b4c24295afc8ce0db89c9e71"
            ],
            "layout": "IPY_MODEL_a0d9d6560621491d90b527630d82e337"
          }
        },
        "8a073251eda54c94b4c4d45344f51aeb": {
          "model_module": "@jupyter-widgets/controls",
          "model_module_version": "1.5.0",
          "model_name": "FloatProgressModel",
          "state": {
            "_dom_classes": [],
            "_model_module": "@jupyter-widgets/controls",
            "_model_module_version": "1.5.0",
            "_model_name": "FloatProgressModel",
            "_view_count": null,
            "_view_module": "@jupyter-widgets/controls",
            "_view_module_version": "1.5.0",
            "_view_name": "ProgressView",
            "bar_style": "success",
            "description": "",
            "description_tooltip": null,
            "layout": "IPY_MODEL_cd4bcbd96b354c139eefed30529709ee",
            "max": 3668,
            "min": 0,
            "orientation": "horizontal",
            "style": "IPY_MODEL_4de5b015f1a141bcb81469957bdcc630",
            "value": 3668
          }
        },
        "8a74ea8153a3486688f09103e9795a2d": {
          "model_module": "@jupyter-widgets/base",
          "model_module_version": "1.2.0",
          "model_name": "LayoutModel",
          "state": {
            "_model_module": "@jupyter-widgets/base",
            "_model_module_version": "1.2.0",
            "_model_name": "LayoutModel",
            "_view_count": null,
            "_view_module": "@jupyter-widgets/base",
            "_view_module_version": "1.2.0",
            "_view_name": "LayoutView",
            "align_content": null,
            "align_items": null,
            "align_self": null,
            "border": null,
            "bottom": null,
            "display": null,
            "flex": null,
            "flex_flow": null,
            "grid_area": null,
            "grid_auto_columns": null,
            "grid_auto_flow": null,
            "grid_auto_rows": null,
            "grid_column": null,
            "grid_gap": null,
            "grid_row": null,
            "grid_template_areas": null,
            "grid_template_columns": null,
            "grid_template_rows": null,
            "height": null,
            "justify_content": null,
            "justify_items": null,
            "left": null,
            "margin": null,
            "max_height": null,
            "max_width": null,
            "min_height": null,
            "min_width": null,
            "object_fit": null,
            "object_position": null,
            "order": null,
            "overflow": null,
            "overflow_x": null,
            "overflow_y": null,
            "padding": null,
            "right": null,
            "top": null,
            "visibility": null,
            "width": null
          }
        },
        "8bd31efa049b4dffba8415a48c1e40e1": {
          "model_module": "@jupyter-widgets/base",
          "model_module_version": "1.2.0",
          "model_name": "LayoutModel",
          "state": {
            "_model_module": "@jupyter-widgets/base",
            "_model_module_version": "1.2.0",
            "_model_name": "LayoutModel",
            "_view_count": null,
            "_view_module": "@jupyter-widgets/base",
            "_view_module_version": "1.2.0",
            "_view_name": "LayoutView",
            "align_content": null,
            "align_items": null,
            "align_self": null,
            "border": null,
            "bottom": null,
            "display": null,
            "flex": null,
            "flex_flow": null,
            "grid_area": null,
            "grid_auto_columns": null,
            "grid_auto_flow": null,
            "grid_auto_rows": null,
            "grid_column": null,
            "grid_gap": null,
            "grid_row": null,
            "grid_template_areas": null,
            "grid_template_columns": null,
            "grid_template_rows": null,
            "height": null,
            "justify_content": null,
            "justify_items": null,
            "left": null,
            "margin": null,
            "max_height": null,
            "max_width": null,
            "min_height": null,
            "min_width": null,
            "object_fit": null,
            "object_position": null,
            "order": null,
            "overflow": null,
            "overflow_x": null,
            "overflow_y": null,
            "padding": null,
            "right": null,
            "top": null,
            "visibility": null,
            "width": null
          }
        },
        "8bd8dc3e3e51438db295c862eafb5a51": {
          "model_module": "@jupyter-widgets/controls",
          "model_module_version": "1.5.0",
          "model_name": "DescriptionStyleModel",
          "state": {
            "_model_module": "@jupyter-widgets/controls",
            "_model_module_version": "1.5.0",
            "_model_name": "DescriptionStyleModel",
            "_view_count": null,
            "_view_module": "@jupyter-widgets/base",
            "_view_module_version": "1.2.0",
            "_view_name": "StyleView",
            "description_width": ""
          }
        },
        "8be259c16dd54c41bf9ba7d175ba3dad": {
          "model_module": "@jupyter-widgets/controls",
          "model_module_version": "1.5.0",
          "model_name": "DescriptionStyleModel",
          "state": {
            "_model_module": "@jupyter-widgets/controls",
            "_model_module_version": "1.5.0",
            "_model_name": "DescriptionStyleModel",
            "_view_count": null,
            "_view_module": "@jupyter-widgets/base",
            "_view_module_version": "1.2.0",
            "_view_name": "StyleView",
            "description_width": ""
          }
        },
        "8bf14618c3f2419199438fe13b42fd40": {
          "model_module": "@jupyter-widgets/base",
          "model_module_version": "1.2.0",
          "model_name": "LayoutModel",
          "state": {
            "_model_module": "@jupyter-widgets/base",
            "_model_module_version": "1.2.0",
            "_model_name": "LayoutModel",
            "_view_count": null,
            "_view_module": "@jupyter-widgets/base",
            "_view_module_version": "1.2.0",
            "_view_name": "LayoutView",
            "align_content": null,
            "align_items": null,
            "align_self": null,
            "border": null,
            "bottom": null,
            "display": null,
            "flex": null,
            "flex_flow": null,
            "grid_area": null,
            "grid_auto_columns": null,
            "grid_auto_flow": null,
            "grid_auto_rows": null,
            "grid_column": null,
            "grid_gap": null,
            "grid_row": null,
            "grid_template_areas": null,
            "grid_template_columns": null,
            "grid_template_rows": null,
            "height": null,
            "justify_content": null,
            "justify_items": null,
            "left": null,
            "margin": null,
            "max_height": null,
            "max_width": null,
            "min_height": null,
            "min_width": null,
            "object_fit": null,
            "object_position": null,
            "order": null,
            "overflow": null,
            "overflow_x": null,
            "overflow_y": null,
            "padding": null,
            "right": null,
            "top": null,
            "visibility": null,
            "width": null
          }
        },
        "8bf285164c00409fb0ab3b117110954f": {
          "model_module": "@jupyter-widgets/controls",
          "model_module_version": "1.5.0",
          "model_name": "DescriptionStyleModel",
          "state": {
            "_model_module": "@jupyter-widgets/controls",
            "_model_module_version": "1.5.0",
            "_model_name": "DescriptionStyleModel",
            "_view_count": null,
            "_view_module": "@jupyter-widgets/base",
            "_view_module_version": "1.2.0",
            "_view_name": "StyleView",
            "description_width": ""
          }
        },
        "8cacb448a57a4406981b6694a020ee0e": {
          "model_module": "@jupyter-widgets/controls",
          "model_module_version": "1.5.0",
          "model_name": "ProgressStyleModel",
          "state": {
            "_model_module": "@jupyter-widgets/controls",
            "_model_module_version": "1.5.0",
            "_model_name": "ProgressStyleModel",
            "_view_count": null,
            "_view_module": "@jupyter-widgets/base",
            "_view_module_version": "1.2.0",
            "_view_name": "StyleView",
            "bar_color": null,
            "description_width": ""
          }
        },
        "8dc5fe28a1344dffb0eb94d1f6831d5d": {
          "model_module": "@jupyter-widgets/controls",
          "model_module_version": "1.5.0",
          "model_name": "HTMLModel",
          "state": {
            "_dom_classes": [],
            "_model_module": "@jupyter-widgets/controls",
            "_model_module_version": "1.5.0",
            "_model_name": "HTMLModel",
            "_view_count": null,
            "_view_module": "@jupyter-widgets/controls",
            "_view_module_version": "1.5.0",
            "_view_name": "HTMLView",
            "description": "",
            "description_tooltip": null,
            "layout": "IPY_MODEL_c4c753d900724c3a9954aea98da837a3",
            "placeholder": "​",
            "style": "IPY_MODEL_d3f517eafe644747b54a9279541e761c",
            "value": "config.json: 100%"
          }
        },
        "8f4bd13860ac4412b8a0d378cfb67563": {
          "model_module": "@jupyter-widgets/controls",
          "model_module_version": "1.5.0",
          "model_name": "HTMLModel",
          "state": {
            "_dom_classes": [],
            "_model_module": "@jupyter-widgets/controls",
            "_model_module_version": "1.5.0",
            "_model_name": "HTMLModel",
            "_view_count": null,
            "_view_module": "@jupyter-widgets/controls",
            "_view_module_version": "1.5.0",
            "_view_name": "HTMLView",
            "description": "",
            "description_tooltip": null,
            "layout": "IPY_MODEL_c555d841d29c4343b65bf6239fe4f4de",
            "placeholder": "​",
            "style": "IPY_MODEL_fe31be53f19040f49cc9d3479d4d8101",
            "value": "model.safetensors: 100%"
          }
        },
        "90ce105df74c44c3a552719cf2412d0a": {
          "model_module": "@jupyter-widgets/controls",
          "model_module_version": "1.5.0",
          "model_name": "ProgressStyleModel",
          "state": {
            "_model_module": "@jupyter-widgets/controls",
            "_model_module_version": "1.5.0",
            "_model_name": "ProgressStyleModel",
            "_view_count": null,
            "_view_module": "@jupyter-widgets/base",
            "_view_module_version": "1.2.0",
            "_view_name": "StyleView",
            "bar_color": null,
            "description_width": ""
          }
        },
        "912c2f7a086540ef9b5eda29e594d3ca": {
          "model_module": "@jupyter-widgets/controls",
          "model_module_version": "1.5.0",
          "model_name": "HBoxModel",
          "state": {
            "_dom_classes": [],
            "_model_module": "@jupyter-widgets/controls",
            "_model_module_version": "1.5.0",
            "_model_name": "HBoxModel",
            "_view_count": null,
            "_view_module": "@jupyter-widgets/controls",
            "_view_module_version": "1.5.0",
            "_view_name": "HBoxView",
            "box_style": "",
            "children": [
              "IPY_MODEL_eabf640c7ecf41d4b0ea08996ddfa1de",
              "IPY_MODEL_2d08afee29604e8595a4da563d6d87e6",
              "IPY_MODEL_adde69997b9b40a6bb08b155fc17b1aa"
            ],
            "layout": "IPY_MODEL_631164089e4043f5a7e0008b5a635bd6"
          }
        },
        "91d03108a6634960a5168804afec223b": {
          "model_module": "@jupyter-widgets/controls",
          "model_module_version": "1.5.0",
          "model_name": "DescriptionStyleModel",
          "state": {
            "_model_module": "@jupyter-widgets/controls",
            "_model_module_version": "1.5.0",
            "_model_name": "DescriptionStyleModel",
            "_view_count": null,
            "_view_module": "@jupyter-widgets/base",
            "_view_module_version": "1.2.0",
            "_view_name": "StyleView",
            "description_width": ""
          }
        },
        "9203d9acf1f54eecbe447dc7c2020e1e": {
          "model_module": "@jupyter-widgets/controls",
          "model_module_version": "1.5.0",
          "model_name": "HBoxModel",
          "state": {
            "_dom_classes": [],
            "_model_module": "@jupyter-widgets/controls",
            "_model_module_version": "1.5.0",
            "_model_name": "HBoxModel",
            "_view_count": null,
            "_view_module": "@jupyter-widgets/controls",
            "_view_module_version": "1.5.0",
            "_view_name": "HBoxView",
            "box_style": "",
            "children": [
              "IPY_MODEL_e24fffe7a2a34d11b611b97984f451bf",
              "IPY_MODEL_64790cb37bf4499ba69ae509ef8b4177",
              "IPY_MODEL_aa5941a51c234831a4e98ee89204b72a"
            ],
            "layout": "IPY_MODEL_2a9ca250aef848eface97dc81ef10653"
          }
        },
        "9273da5caa1e4ed3984d5e8c04ed0797": {
          "model_module": "@jupyter-widgets/controls",
          "model_module_version": "1.5.0",
          "model_name": "HTMLModel",
          "state": {
            "_dom_classes": [],
            "_model_module": "@jupyter-widgets/controls",
            "_model_module_version": "1.5.0",
            "_model_name": "HTMLModel",
            "_view_count": null,
            "_view_module": "@jupyter-widgets/controls",
            "_view_module_version": "1.5.0",
            "_view_name": "HTMLView",
            "description": "",
            "description_tooltip": null,
            "layout": "IPY_MODEL_e79b88eda179468fac6a66b07e42e160",
            "placeholder": "​",
            "style": "IPY_MODEL_d54a069659e744a1bf755201bb43a6b9",
            "value": "model.safetensors: 100%"
          }
        },
        "92a78e31a27145c394267a5e30d40213": {
          "model_module": "@jupyter-widgets/base",
          "model_module_version": "1.2.0",
          "model_name": "LayoutModel",
          "state": {
            "_model_module": "@jupyter-widgets/base",
            "_model_module_version": "1.2.0",
            "_model_name": "LayoutModel",
            "_view_count": null,
            "_view_module": "@jupyter-widgets/base",
            "_view_module_version": "1.2.0",
            "_view_name": "LayoutView",
            "align_content": null,
            "align_items": null,
            "align_self": null,
            "border": null,
            "bottom": null,
            "display": null,
            "flex": null,
            "flex_flow": null,
            "grid_area": null,
            "grid_auto_columns": null,
            "grid_auto_flow": null,
            "grid_auto_rows": null,
            "grid_column": null,
            "grid_gap": null,
            "grid_row": null,
            "grid_template_areas": null,
            "grid_template_columns": null,
            "grid_template_rows": null,
            "height": null,
            "justify_content": null,
            "justify_items": null,
            "left": null,
            "margin": null,
            "max_height": null,
            "max_width": null,
            "min_height": null,
            "min_width": null,
            "object_fit": null,
            "object_position": null,
            "order": null,
            "overflow": null,
            "overflow_x": null,
            "overflow_y": null,
            "padding": null,
            "right": null,
            "top": null,
            "visibility": null,
            "width": null
          }
        },
        "943dd82236564ac18a448760f9949f0c": {
          "model_module": "@jupyter-widgets/base",
          "model_module_version": "1.2.0",
          "model_name": "LayoutModel",
          "state": {
            "_model_module": "@jupyter-widgets/base",
            "_model_module_version": "1.2.0",
            "_model_name": "LayoutModel",
            "_view_count": null,
            "_view_module": "@jupyter-widgets/base",
            "_view_module_version": "1.2.0",
            "_view_name": "LayoutView",
            "align_content": null,
            "align_items": null,
            "align_self": null,
            "border": null,
            "bottom": null,
            "display": null,
            "flex": null,
            "flex_flow": null,
            "grid_area": null,
            "grid_auto_columns": null,
            "grid_auto_flow": null,
            "grid_auto_rows": null,
            "grid_column": null,
            "grid_gap": null,
            "grid_row": null,
            "grid_template_areas": null,
            "grid_template_columns": null,
            "grid_template_rows": null,
            "height": null,
            "justify_content": null,
            "justify_items": null,
            "left": null,
            "margin": null,
            "max_height": null,
            "max_width": null,
            "min_height": null,
            "min_width": null,
            "object_fit": null,
            "object_position": null,
            "order": null,
            "overflow": null,
            "overflow_x": null,
            "overflow_y": null,
            "padding": null,
            "right": null,
            "top": null,
            "visibility": null,
            "width": null
          }
        },
        "944640ff71b64f21887c4103f1937797": {
          "model_module": "@jupyter-widgets/controls",
          "model_module_version": "1.5.0",
          "model_name": "DescriptionStyleModel",
          "state": {
            "_model_module": "@jupyter-widgets/controls",
            "_model_module_version": "1.5.0",
            "_model_name": "DescriptionStyleModel",
            "_view_count": null,
            "_view_module": "@jupyter-widgets/base",
            "_view_module_version": "1.2.0",
            "_view_name": "StyleView",
            "description_width": ""
          }
        },
        "948706cbcf03410fa492d377924585e4": {
          "model_module": "@jupyter-widgets/controls",
          "model_module_version": "1.5.0",
          "model_name": "HTMLModel",
          "state": {
            "_dom_classes": [],
            "_model_module": "@jupyter-widgets/controls",
            "_model_module_version": "1.5.0",
            "_model_name": "HTMLModel",
            "_view_count": null,
            "_view_module": "@jupyter-widgets/controls",
            "_view_module_version": "1.5.0",
            "_view_name": "HTMLView",
            "description": "",
            "description_tooltip": null,
            "layout": "IPY_MODEL_b1333ee82adb4842a91c94aecca37fb3",
            "placeholder": "​",
            "style": "IPY_MODEL_5fcc073c88994693a80594ed8df3833c",
            "value": " 436M/436M [00:02&lt;00:00, 210MB/s]"
          }
        },
        "9545f1b1719c4627b1a17e53273a87f9": {
          "model_module": "@jupyter-widgets/controls",
          "model_module_version": "1.5.0",
          "model_name": "DescriptionStyleModel",
          "state": {
            "_model_module": "@jupyter-widgets/controls",
            "_model_module_version": "1.5.0",
            "_model_name": "DescriptionStyleModel",
            "_view_count": null,
            "_view_module": "@jupyter-widgets/base",
            "_view_module_version": "1.2.0",
            "_view_name": "StyleView",
            "description_width": ""
          }
        },
        "95c1018aa2a44c2b8dcc0095f3155367": {
          "model_module": "@jupyter-widgets/controls",
          "model_module_version": "1.5.0",
          "model_name": "HBoxModel",
          "state": {
            "_dom_classes": [],
            "_model_module": "@jupyter-widgets/controls",
            "_model_module_version": "1.5.0",
            "_model_name": "HBoxModel",
            "_view_count": null,
            "_view_module": "@jupyter-widgets/controls",
            "_view_module_version": "1.5.0",
            "_view_name": "HBoxView",
            "box_style": "",
            "children": [
              "IPY_MODEL_762ab39e17774d9e9a18bb2a23f13751",
              "IPY_MODEL_15db18887e214f26a54d5f9ed4d0da40",
              "IPY_MODEL_6a1a6c3e64434aab92a414ae39410827"
            ],
            "layout": "IPY_MODEL_c71bddc9ca2b44d2a9a92f98d144009a"
          }
        },
        "9646ab82f9df49adbc0a3e85b86fdf77": {
          "model_module": "@jupyter-widgets/controls",
          "model_module_version": "1.5.0",
          "model_name": "HBoxModel",
          "state": {
            "_dom_classes": [],
            "_model_module": "@jupyter-widgets/controls",
            "_model_module_version": "1.5.0",
            "_model_name": "HBoxModel",
            "_view_count": null,
            "_view_module": "@jupyter-widgets/controls",
            "_view_module_version": "1.5.0",
            "_view_name": "HBoxView",
            "box_style": "",
            "children": [
              "IPY_MODEL_2878d885213046e2ab938441768e314c",
              "IPY_MODEL_4ea86371cffb4dec9f6c0a72fc4c6415",
              "IPY_MODEL_3bc8521c14e148b39bd77a3079a2cbd6"
            ],
            "layout": "IPY_MODEL_05ecf30c88e94cacbc1ae486ad498e39"
          }
        },
        "9651843d56a44873b4bca62476f1dbe7": {
          "model_module": "@jupyter-widgets/base",
          "model_module_version": "1.2.0",
          "model_name": "LayoutModel",
          "state": {
            "_model_module": "@jupyter-widgets/base",
            "_model_module_version": "1.2.0",
            "_model_name": "LayoutModel",
            "_view_count": null,
            "_view_module": "@jupyter-widgets/base",
            "_view_module_version": "1.2.0",
            "_view_name": "LayoutView",
            "align_content": null,
            "align_items": null,
            "align_self": null,
            "border": null,
            "bottom": null,
            "display": null,
            "flex": null,
            "flex_flow": null,
            "grid_area": null,
            "grid_auto_columns": null,
            "grid_auto_flow": null,
            "grid_auto_rows": null,
            "grid_column": null,
            "grid_gap": null,
            "grid_row": null,
            "grid_template_areas": null,
            "grid_template_columns": null,
            "grid_template_rows": null,
            "height": null,
            "justify_content": null,
            "justify_items": null,
            "left": null,
            "margin": null,
            "max_height": null,
            "max_width": null,
            "min_height": null,
            "min_width": null,
            "object_fit": null,
            "object_position": null,
            "order": null,
            "overflow": null,
            "overflow_x": null,
            "overflow_y": null,
            "padding": null,
            "right": null,
            "top": null,
            "visibility": null,
            "width": null
          }
        },
        "96596ed5a65b4f26846408bd783919c9": {
          "model_module": "@jupyter-widgets/base",
          "model_module_version": "1.2.0",
          "model_name": "LayoutModel",
          "state": {
            "_model_module": "@jupyter-widgets/base",
            "_model_module_version": "1.2.0",
            "_model_name": "LayoutModel",
            "_view_count": null,
            "_view_module": "@jupyter-widgets/base",
            "_view_module_version": "1.2.0",
            "_view_name": "LayoutView",
            "align_content": null,
            "align_items": null,
            "align_self": null,
            "border": null,
            "bottom": null,
            "display": null,
            "flex": null,
            "flex_flow": null,
            "grid_area": null,
            "grid_auto_columns": null,
            "grid_auto_flow": null,
            "grid_auto_rows": null,
            "grid_column": null,
            "grid_gap": null,
            "grid_row": null,
            "grid_template_areas": null,
            "grid_template_columns": null,
            "grid_template_rows": null,
            "height": null,
            "justify_content": null,
            "justify_items": null,
            "left": null,
            "margin": null,
            "max_height": null,
            "max_width": null,
            "min_height": null,
            "min_width": null,
            "object_fit": null,
            "object_position": null,
            "order": null,
            "overflow": null,
            "overflow_x": null,
            "overflow_y": null,
            "padding": null,
            "right": null,
            "top": null,
            "visibility": null,
            "width": null
          }
        },
        "96f78c9d64a448339bbe8b1c27ec78cb": {
          "model_module": "@jupyter-widgets/base",
          "model_module_version": "1.2.0",
          "model_name": "LayoutModel",
          "state": {
            "_model_module": "@jupyter-widgets/base",
            "_model_module_version": "1.2.0",
            "_model_name": "LayoutModel",
            "_view_count": null,
            "_view_module": "@jupyter-widgets/base",
            "_view_module_version": "1.2.0",
            "_view_name": "LayoutView",
            "align_content": null,
            "align_items": null,
            "align_self": null,
            "border": null,
            "bottom": null,
            "display": null,
            "flex": null,
            "flex_flow": null,
            "grid_area": null,
            "grid_auto_columns": null,
            "grid_auto_flow": null,
            "grid_auto_rows": null,
            "grid_column": null,
            "grid_gap": null,
            "grid_row": null,
            "grid_template_areas": null,
            "grid_template_columns": null,
            "grid_template_rows": null,
            "height": null,
            "justify_content": null,
            "justify_items": null,
            "left": null,
            "margin": null,
            "max_height": null,
            "max_width": null,
            "min_height": null,
            "min_width": null,
            "object_fit": null,
            "object_position": null,
            "order": null,
            "overflow": null,
            "overflow_x": null,
            "overflow_y": null,
            "padding": null,
            "right": null,
            "top": null,
            "visibility": null,
            "width": null
          }
        },
        "972d4b18cdba4a438fee9d9511a58999": {
          "model_module": "@jupyter-widgets/controls",
          "model_module_version": "1.5.0",
          "model_name": "DescriptionStyleModel",
          "state": {
            "_model_module": "@jupyter-widgets/controls",
            "_model_module_version": "1.5.0",
            "_model_name": "DescriptionStyleModel",
            "_view_count": null,
            "_view_module": "@jupyter-widgets/base",
            "_view_module_version": "1.2.0",
            "_view_name": "StyleView",
            "description_width": ""
          }
        },
        "987e2a5874024237bbaa468ec99058e8": {
          "model_module": "@jupyter-widgets/controls",
          "model_module_version": "1.5.0",
          "model_name": "HTMLModel",
          "state": {
            "_dom_classes": [],
            "_model_module": "@jupyter-widgets/controls",
            "_model_module_version": "1.5.0",
            "_model_name": "HTMLModel",
            "_view_count": null,
            "_view_module": "@jupyter-widgets/controls",
            "_view_module_version": "1.5.0",
            "_view_name": "HTMLView",
            "description": "",
            "description_tooltip": null,
            "layout": "IPY_MODEL_2304e62caf984747aadaa0589176c8de",
            "placeholder": "​",
            "style": "IPY_MODEL_2eb2fe452ab040d3bde000c441a4e185",
            "value": "tokenizer.json: 100%"
          }
        },
        "9a862db58a754984aa95e23822cff218": {
          "model_module": "@jupyter-widgets/controls",
          "model_module_version": "1.5.0",
          "model_name": "HBoxModel",
          "state": {
            "_dom_classes": [],
            "_model_module": "@jupyter-widgets/controls",
            "_model_module_version": "1.5.0",
            "_model_name": "HBoxModel",
            "_view_count": null,
            "_view_module": "@jupyter-widgets/controls",
            "_view_module_version": "1.5.0",
            "_view_name": "HBoxView",
            "box_style": "",
            "children": [
              "IPY_MODEL_c3a67d112dd041419f8f287c5a935ce7",
              "IPY_MODEL_37e4c05bf05346248160c8ef5ca1ab63",
              "IPY_MODEL_351aec4dfe3242d89204104bf54e3c72"
            ],
            "layout": "IPY_MODEL_debf64a8b776492d9be7e9f73769d6aa"
          }
        },
        "9be1d04d528943abbbe5e24036afb09e": {
          "model_module": "@jupyter-widgets/base",
          "model_module_version": "1.2.0",
          "model_name": "LayoutModel",
          "state": {
            "_model_module": "@jupyter-widgets/base",
            "_model_module_version": "1.2.0",
            "_model_name": "LayoutModel",
            "_view_count": null,
            "_view_module": "@jupyter-widgets/base",
            "_view_module_version": "1.2.0",
            "_view_name": "LayoutView",
            "align_content": null,
            "align_items": null,
            "align_self": null,
            "border": null,
            "bottom": null,
            "display": null,
            "flex": null,
            "flex_flow": null,
            "grid_area": null,
            "grid_auto_columns": null,
            "grid_auto_flow": null,
            "grid_auto_rows": null,
            "grid_column": null,
            "grid_gap": null,
            "grid_row": null,
            "grid_template_areas": null,
            "grid_template_columns": null,
            "grid_template_rows": null,
            "height": null,
            "justify_content": null,
            "justify_items": null,
            "left": null,
            "margin": null,
            "max_height": null,
            "max_width": null,
            "min_height": null,
            "min_width": null,
            "object_fit": null,
            "object_position": null,
            "order": null,
            "overflow": null,
            "overflow_x": null,
            "overflow_y": null,
            "padding": null,
            "right": null,
            "top": null,
            "visibility": null,
            "width": null
          }
        },
        "9c50fb35ecfc4a1b813367da58e5e10e": {
          "model_module": "@jupyter-widgets/base",
          "model_module_version": "1.2.0",
          "model_name": "LayoutModel",
          "state": {
            "_model_module": "@jupyter-widgets/base",
            "_model_module_version": "1.2.0",
            "_model_name": "LayoutModel",
            "_view_count": null,
            "_view_module": "@jupyter-widgets/base",
            "_view_module_version": "1.2.0",
            "_view_name": "LayoutView",
            "align_content": null,
            "align_items": null,
            "align_self": null,
            "border": null,
            "bottom": null,
            "display": null,
            "flex": null,
            "flex_flow": null,
            "grid_area": null,
            "grid_auto_columns": null,
            "grid_auto_flow": null,
            "grid_auto_rows": null,
            "grid_column": null,
            "grid_gap": null,
            "grid_row": null,
            "grid_template_areas": null,
            "grid_template_columns": null,
            "grid_template_rows": null,
            "height": null,
            "justify_content": null,
            "justify_items": null,
            "left": null,
            "margin": null,
            "max_height": null,
            "max_width": null,
            "min_height": null,
            "min_width": null,
            "object_fit": null,
            "object_position": null,
            "order": null,
            "overflow": null,
            "overflow_x": null,
            "overflow_y": null,
            "padding": null,
            "right": null,
            "top": null,
            "visibility": null,
            "width": null
          }
        },
        "9c8f936fa94a4bf787380ccf9148ee33": {
          "model_module": "@jupyter-widgets/controls",
          "model_module_version": "1.5.0",
          "model_name": "HBoxModel",
          "state": {
            "_dom_classes": [],
            "_model_module": "@jupyter-widgets/controls",
            "_model_module_version": "1.5.0",
            "_model_name": "HBoxModel",
            "_view_count": null,
            "_view_module": "@jupyter-widgets/controls",
            "_view_module_version": "1.5.0",
            "_view_name": "HBoxView",
            "box_style": "",
            "children": [
              "IPY_MODEL_7a2a139a584f4481ba805df892a2644f",
              "IPY_MODEL_0d895359c3a34c4189f4d09211220c9b",
              "IPY_MODEL_e2060029b0a64680a1f2727f208a9afa"
            ],
            "layout": "IPY_MODEL_3eb6cea9a7844dc8b066806d36e5568b"
          }
        },
        "9cb92575e70f4803b2c430e2de4b4e89": {
          "model_module": "@jupyter-widgets/controls",
          "model_module_version": "1.5.0",
          "model_name": "FloatProgressModel",
          "state": {
            "_dom_classes": [],
            "_model_module": "@jupyter-widgets/controls",
            "_model_module_version": "1.5.0",
            "_model_name": "FloatProgressModel",
            "_view_count": null,
            "_view_module": "@jupyter-widgets/controls",
            "_view_module_version": "1.5.0",
            "_view_name": "ProgressView",
            "bar_style": "success",
            "description": "",
            "description_tooltip": null,
            "layout": "IPY_MODEL_040968f8cbc547408b2863deba6e7e38",
            "max": 1355863,
            "min": 0,
            "orientation": "horizontal",
            "style": "IPY_MODEL_bf63e3129c7f4ad786df9de8f48bf6d4",
            "value": 1355863
          }
        },
        "9dace4a02ae747e89cf7db1419de980e": {
          "model_module": "@jupyter-widgets/controls",
          "model_module_version": "1.5.0",
          "model_name": "DescriptionStyleModel",
          "state": {
            "_model_module": "@jupyter-widgets/controls",
            "_model_module_version": "1.5.0",
            "_model_name": "DescriptionStyleModel",
            "_view_count": null,
            "_view_module": "@jupyter-widgets/base",
            "_view_module_version": "1.2.0",
            "_view_name": "StyleView",
            "description_width": ""
          }
        },
        "9fbac5bd79a44426957bcb5338fe21bf": {
          "model_module": "@jupyter-widgets/base",
          "model_module_version": "1.2.0",
          "model_name": "LayoutModel",
          "state": {
            "_model_module": "@jupyter-widgets/base",
            "_model_module_version": "1.2.0",
            "_model_name": "LayoutModel",
            "_view_count": null,
            "_view_module": "@jupyter-widgets/base",
            "_view_module_version": "1.2.0",
            "_view_name": "LayoutView",
            "align_content": null,
            "align_items": null,
            "align_self": null,
            "border": null,
            "bottom": null,
            "display": null,
            "flex": null,
            "flex_flow": null,
            "grid_area": null,
            "grid_auto_columns": null,
            "grid_auto_flow": null,
            "grid_auto_rows": null,
            "grid_column": null,
            "grid_gap": null,
            "grid_row": null,
            "grid_template_areas": null,
            "grid_template_columns": null,
            "grid_template_rows": null,
            "height": null,
            "justify_content": null,
            "justify_items": null,
            "left": null,
            "margin": null,
            "max_height": null,
            "max_width": null,
            "min_height": null,
            "min_width": null,
            "object_fit": null,
            "object_position": null,
            "order": null,
            "overflow": null,
            "overflow_x": null,
            "overflow_y": null,
            "padding": null,
            "right": null,
            "top": null,
            "visibility": null,
            "width": null
          }
        },
        "a01b894df71645969845c922340184fc": {
          "model_module": "@jupyter-widgets/controls",
          "model_module_version": "1.5.0",
          "model_name": "DescriptionStyleModel",
          "state": {
            "_model_module": "@jupyter-widgets/controls",
            "_model_module_version": "1.5.0",
            "_model_name": "DescriptionStyleModel",
            "_view_count": null,
            "_view_module": "@jupyter-widgets/base",
            "_view_module_version": "1.2.0",
            "_view_name": "StyleView",
            "description_width": ""
          }
        },
        "a085a545384b46ada56bfe966a41aafc": {
          "model_module": "@jupyter-widgets/base",
          "model_module_version": "1.2.0",
          "model_name": "LayoutModel",
          "state": {
            "_model_module": "@jupyter-widgets/base",
            "_model_module_version": "1.2.0",
            "_model_name": "LayoutModel",
            "_view_count": null,
            "_view_module": "@jupyter-widgets/base",
            "_view_module_version": "1.2.0",
            "_view_name": "LayoutView",
            "align_content": null,
            "align_items": null,
            "align_self": null,
            "border": null,
            "bottom": null,
            "display": null,
            "flex": null,
            "flex_flow": null,
            "grid_area": null,
            "grid_auto_columns": null,
            "grid_auto_flow": null,
            "grid_auto_rows": null,
            "grid_column": null,
            "grid_gap": null,
            "grid_row": null,
            "grid_template_areas": null,
            "grid_template_columns": null,
            "grid_template_rows": null,
            "height": null,
            "justify_content": null,
            "justify_items": null,
            "left": null,
            "margin": null,
            "max_height": null,
            "max_width": null,
            "min_height": null,
            "min_width": null,
            "object_fit": null,
            "object_position": null,
            "order": null,
            "overflow": null,
            "overflow_x": null,
            "overflow_y": null,
            "padding": null,
            "right": null,
            "top": null,
            "visibility": null,
            "width": null
          }
        },
        "a0d34a1a204245fda5bad65150cb376a": {
          "model_module": "@jupyter-widgets/base",
          "model_module_version": "1.2.0",
          "model_name": "LayoutModel",
          "state": {
            "_model_module": "@jupyter-widgets/base",
            "_model_module_version": "1.2.0",
            "_model_name": "LayoutModel",
            "_view_count": null,
            "_view_module": "@jupyter-widgets/base",
            "_view_module_version": "1.2.0",
            "_view_name": "LayoutView",
            "align_content": null,
            "align_items": null,
            "align_self": null,
            "border": null,
            "bottom": null,
            "display": null,
            "flex": null,
            "flex_flow": null,
            "grid_area": null,
            "grid_auto_columns": null,
            "grid_auto_flow": null,
            "grid_auto_rows": null,
            "grid_column": null,
            "grid_gap": null,
            "grid_row": null,
            "grid_template_areas": null,
            "grid_template_columns": null,
            "grid_template_rows": null,
            "height": null,
            "justify_content": null,
            "justify_items": null,
            "left": null,
            "margin": null,
            "max_height": null,
            "max_width": null,
            "min_height": null,
            "min_width": null,
            "object_fit": null,
            "object_position": null,
            "order": null,
            "overflow": null,
            "overflow_x": null,
            "overflow_y": null,
            "padding": null,
            "right": null,
            "top": null,
            "visibility": null,
            "width": null
          }
        },
        "a0d9d6560621491d90b527630d82e337": {
          "model_module": "@jupyter-widgets/base",
          "model_module_version": "1.2.0",
          "model_name": "LayoutModel",
          "state": {
            "_model_module": "@jupyter-widgets/base",
            "_model_module_version": "1.2.0",
            "_model_name": "LayoutModel",
            "_view_count": null,
            "_view_module": "@jupyter-widgets/base",
            "_view_module_version": "1.2.0",
            "_view_name": "LayoutView",
            "align_content": null,
            "align_items": null,
            "align_self": null,
            "border": null,
            "bottom": null,
            "display": null,
            "flex": null,
            "flex_flow": null,
            "grid_area": null,
            "grid_auto_columns": null,
            "grid_auto_flow": null,
            "grid_auto_rows": null,
            "grid_column": null,
            "grid_gap": null,
            "grid_row": null,
            "grid_template_areas": null,
            "grid_template_columns": null,
            "grid_template_rows": null,
            "height": null,
            "justify_content": null,
            "justify_items": null,
            "left": null,
            "margin": null,
            "max_height": null,
            "max_width": null,
            "min_height": null,
            "min_width": null,
            "object_fit": null,
            "object_position": null,
            "order": null,
            "overflow": null,
            "overflow_x": null,
            "overflow_y": null,
            "padding": null,
            "right": null,
            "top": null,
            "visibility": null,
            "width": null
          }
        },
        "a11b712d763242fabea97f91603be2a1": {
          "model_module": "@jupyter-widgets/controls",
          "model_module_version": "1.5.0",
          "model_name": "DescriptionStyleModel",
          "state": {
            "_model_module": "@jupyter-widgets/controls",
            "_model_module_version": "1.5.0",
            "_model_name": "DescriptionStyleModel",
            "_view_count": null,
            "_view_module": "@jupyter-widgets/base",
            "_view_module_version": "1.2.0",
            "_view_name": "StyleView",
            "description_width": ""
          }
        },
        "a18257086b0343db89c6dd7e8baa6000": {
          "model_module": "@jupyter-widgets/base",
          "model_module_version": "1.2.0",
          "model_name": "LayoutModel",
          "state": {
            "_model_module": "@jupyter-widgets/base",
            "_model_module_version": "1.2.0",
            "_model_name": "LayoutModel",
            "_view_count": null,
            "_view_module": "@jupyter-widgets/base",
            "_view_module_version": "1.2.0",
            "_view_name": "LayoutView",
            "align_content": null,
            "align_items": null,
            "align_self": null,
            "border": null,
            "bottom": null,
            "display": null,
            "flex": null,
            "flex_flow": null,
            "grid_area": null,
            "grid_auto_columns": null,
            "grid_auto_flow": null,
            "grid_auto_rows": null,
            "grid_column": null,
            "grid_gap": null,
            "grid_row": null,
            "grid_template_areas": null,
            "grid_template_columns": null,
            "grid_template_rows": null,
            "height": null,
            "justify_content": null,
            "justify_items": null,
            "left": null,
            "margin": null,
            "max_height": null,
            "max_width": null,
            "min_height": null,
            "min_width": null,
            "object_fit": null,
            "object_position": null,
            "order": null,
            "overflow": null,
            "overflow_x": null,
            "overflow_y": null,
            "padding": null,
            "right": null,
            "top": null,
            "visibility": null,
            "width": null
          }
        },
        "a1a683b5ece2407f9b58297f5b15c959": {
          "model_module": "@jupyter-widgets/controls",
          "model_module_version": "1.5.0",
          "model_name": "HTMLModel",
          "state": {
            "_dom_classes": [],
            "_model_module": "@jupyter-widgets/controls",
            "_model_module_version": "1.5.0",
            "_model_name": "HTMLModel",
            "_view_count": null,
            "_view_module": "@jupyter-widgets/controls",
            "_view_module_version": "1.5.0",
            "_view_name": "HTMLView",
            "description": "",
            "description_tooltip": null,
            "layout": "IPY_MODEL_fea4d8a9ad374c81a2fcd623bd642e49",
            "placeholder": "​",
            "style": "IPY_MODEL_ca762b8197cf40eca6edd33852d49436",
            "value": " 48.0/48.0 [00:00&lt;00:00, 993B/s]"
          }
        },
        "a2a9e04a5ff74c199d322fce52dd07aa": {
          "model_module": "@jupyter-widgets/base",
          "model_module_version": "1.2.0",
          "model_name": "LayoutModel",
          "state": {
            "_model_module": "@jupyter-widgets/base",
            "_model_module_version": "1.2.0",
            "_model_name": "LayoutModel",
            "_view_count": null,
            "_view_module": "@jupyter-widgets/base",
            "_view_module_version": "1.2.0",
            "_view_name": "LayoutView",
            "align_content": null,
            "align_items": null,
            "align_self": null,
            "border": null,
            "bottom": null,
            "display": null,
            "flex": null,
            "flex_flow": null,
            "grid_area": null,
            "grid_auto_columns": null,
            "grid_auto_flow": null,
            "grid_auto_rows": null,
            "grid_column": null,
            "grid_gap": null,
            "grid_row": null,
            "grid_template_areas": null,
            "grid_template_columns": null,
            "grid_template_rows": null,
            "height": null,
            "justify_content": null,
            "justify_items": null,
            "left": null,
            "margin": null,
            "max_height": null,
            "max_width": null,
            "min_height": null,
            "min_width": null,
            "object_fit": null,
            "object_position": null,
            "order": null,
            "overflow": null,
            "overflow_x": null,
            "overflow_y": null,
            "padding": null,
            "right": null,
            "top": null,
            "visibility": null,
            "width": null
          }
        },
        "a338504b90404e6298b56cf0e005e599": {
          "model_module": "@jupyter-widgets/controls",
          "model_module_version": "1.5.0",
          "model_name": "ProgressStyleModel",
          "state": {
            "_model_module": "@jupyter-widgets/controls",
            "_model_module_version": "1.5.0",
            "_model_name": "ProgressStyleModel",
            "_view_count": null,
            "_view_module": "@jupyter-widgets/base",
            "_view_module_version": "1.2.0",
            "_view_name": "StyleView",
            "bar_color": null,
            "description_width": ""
          }
        },
        "a3567ed2b6a546af8f054c7d86874351": {
          "model_module": "@jupyter-widgets/controls",
          "model_module_version": "1.5.0",
          "model_name": "FloatProgressModel",
          "state": {
            "_dom_classes": [],
            "_model_module": "@jupyter-widgets/controls",
            "_model_module_version": "1.5.0",
            "_model_name": "FloatProgressModel",
            "_view_count": null,
            "_view_module": "@jupyter-widgets/controls",
            "_view_module_version": "1.5.0",
            "_view_name": "ProgressView",
            "bar_style": "success",
            "description": "",
            "description_tooltip": null,
            "layout": "IPY_MODEL_ff6afaeff5c44fa298be9c4ddaace031",
            "max": 1725,
            "min": 0,
            "orientation": "horizontal",
            "style": "IPY_MODEL_737a3677c0e14a78ba794de8c7bec9fb",
            "value": 1725
          }
        },
        "a38a8a1b1d6b4205bc5a7a725bd1f8ce": {
          "model_module": "@jupyter-widgets/base",
          "model_module_version": "1.2.0",
          "model_name": "LayoutModel",
          "state": {
            "_model_module": "@jupyter-widgets/base",
            "_model_module_version": "1.2.0",
            "_model_name": "LayoutModel",
            "_view_count": null,
            "_view_module": "@jupyter-widgets/base",
            "_view_module_version": "1.2.0",
            "_view_name": "LayoutView",
            "align_content": null,
            "align_items": null,
            "align_self": null,
            "border": null,
            "bottom": null,
            "display": null,
            "flex": null,
            "flex_flow": null,
            "grid_area": null,
            "grid_auto_columns": null,
            "grid_auto_flow": null,
            "grid_auto_rows": null,
            "grid_column": null,
            "grid_gap": null,
            "grid_row": null,
            "grid_template_areas": null,
            "grid_template_columns": null,
            "grid_template_rows": null,
            "height": null,
            "justify_content": null,
            "justify_items": null,
            "left": null,
            "margin": null,
            "max_height": null,
            "max_width": null,
            "min_height": null,
            "min_width": null,
            "object_fit": null,
            "object_position": null,
            "order": null,
            "overflow": null,
            "overflow_x": null,
            "overflow_y": null,
            "padding": null,
            "right": null,
            "top": null,
            "visibility": null,
            "width": null
          }
        },
        "a3cae66eee0d42079dd8d6525d7fd6b0": {
          "model_module": "@jupyter-widgets/base",
          "model_module_version": "1.2.0",
          "model_name": "LayoutModel",
          "state": {
            "_model_module": "@jupyter-widgets/base",
            "_model_module_version": "1.2.0",
            "_model_name": "LayoutModel",
            "_view_count": null,
            "_view_module": "@jupyter-widgets/base",
            "_view_module_version": "1.2.0",
            "_view_name": "LayoutView",
            "align_content": null,
            "align_items": null,
            "align_self": null,
            "border": null,
            "bottom": null,
            "display": null,
            "flex": null,
            "flex_flow": null,
            "grid_area": null,
            "grid_auto_columns": null,
            "grid_auto_flow": null,
            "grid_auto_rows": null,
            "grid_column": null,
            "grid_gap": null,
            "grid_row": null,
            "grid_template_areas": null,
            "grid_template_columns": null,
            "grid_template_rows": null,
            "height": null,
            "justify_content": null,
            "justify_items": null,
            "left": null,
            "margin": null,
            "max_height": null,
            "max_width": null,
            "min_height": null,
            "min_width": null,
            "object_fit": null,
            "object_position": null,
            "order": null,
            "overflow": null,
            "overflow_x": null,
            "overflow_y": null,
            "padding": null,
            "right": null,
            "top": null,
            "visibility": null,
            "width": null
          }
        },
        "a3e37a715463470abc795db3ec9ae72e": {
          "model_module": "@jupyter-widgets/controls",
          "model_module_version": "1.5.0",
          "model_name": "HBoxModel",
          "state": {
            "_dom_classes": [],
            "_model_module": "@jupyter-widgets/controls",
            "_model_module_version": "1.5.0",
            "_model_name": "HBoxModel",
            "_view_count": null,
            "_view_module": "@jupyter-widgets/controls",
            "_view_module_version": "1.5.0",
            "_view_name": "HBoxView",
            "box_style": "",
            "children": [
              "IPY_MODEL_38a5d8ea51864657b38e135427846660",
              "IPY_MODEL_731eca3b9bfa4d5b90e352006738a37f",
              "IPY_MODEL_46ae55fc62cc42d8882436949b5ca3c2"
            ],
            "layout": "IPY_MODEL_819fa2ee132544df8f738c748f90a432"
          }
        },
        "a47c97359f064c50820a9df0603d864b": {
          "model_module": "@jupyter-widgets/base",
          "model_module_version": "1.2.0",
          "model_name": "LayoutModel",
          "state": {
            "_model_module": "@jupyter-widgets/base",
            "_model_module_version": "1.2.0",
            "_model_name": "LayoutModel",
            "_view_count": null,
            "_view_module": "@jupyter-widgets/base",
            "_view_module_version": "1.2.0",
            "_view_name": "LayoutView",
            "align_content": null,
            "align_items": null,
            "align_self": null,
            "border": null,
            "bottom": null,
            "display": null,
            "flex": null,
            "flex_flow": null,
            "grid_area": null,
            "grid_auto_columns": null,
            "grid_auto_flow": null,
            "grid_auto_rows": null,
            "grid_column": null,
            "grid_gap": null,
            "grid_row": null,
            "grid_template_areas": null,
            "grid_template_columns": null,
            "grid_template_rows": null,
            "height": null,
            "justify_content": null,
            "justify_items": null,
            "left": null,
            "margin": null,
            "max_height": null,
            "max_width": null,
            "min_height": null,
            "min_width": null,
            "object_fit": null,
            "object_position": null,
            "order": null,
            "overflow": null,
            "overflow_x": null,
            "overflow_y": null,
            "padding": null,
            "right": null,
            "top": null,
            "visibility": null,
            "width": null
          }
        },
        "a5b419f179a942a19ad6220a6055c6bd": {
          "model_module": "@jupyter-widgets/controls",
          "model_module_version": "1.5.0",
          "model_name": "DescriptionStyleModel",
          "state": {
            "_model_module": "@jupyter-widgets/controls",
            "_model_module_version": "1.5.0",
            "_model_name": "DescriptionStyleModel",
            "_view_count": null,
            "_view_module": "@jupyter-widgets/base",
            "_view_module_version": "1.2.0",
            "_view_name": "StyleView",
            "description_width": ""
          }
        },
        "a62f5ef7453344cc9a16083380608f74": {
          "model_module": "@jupyter-widgets/controls",
          "model_module_version": "1.5.0",
          "model_name": "HTMLModel",
          "state": {
            "_dom_classes": [],
            "_model_module": "@jupyter-widgets/controls",
            "_model_module_version": "1.5.0",
            "_model_name": "HTMLModel",
            "_view_count": null,
            "_view_module": "@jupyter-widgets/controls",
            "_view_module_version": "1.5.0",
            "_view_name": "HTMLView",
            "description": "",
            "description_tooltip": null,
            "layout": "IPY_MODEL_c5b20fc186bd4614a9966af4e30bef76",
            "placeholder": "​",
            "style": "IPY_MODEL_d33237acd6304ce2be65703b1d05f6cf",
            "value": " 456k/456k [00:00&lt;00:00, 3.49MB/s]"
          }
        },
        "a717ec70d2144a998c6f662821460474": {
          "model_module": "@jupyter-widgets/controls",
          "model_module_version": "1.5.0",
          "model_name": "DescriptionStyleModel",
          "state": {
            "_model_module": "@jupyter-widgets/controls",
            "_model_module_version": "1.5.0",
            "_model_name": "DescriptionStyleModel",
            "_view_count": null,
            "_view_module": "@jupyter-widgets/base",
            "_view_module_version": "1.2.0",
            "_view_name": "StyleView",
            "description_width": ""
          }
        },
        "a7684953c09b448ba91a8753f9e94d83": {
          "model_module": "@jupyter-widgets/controls",
          "model_module_version": "1.5.0",
          "model_name": "ProgressStyleModel",
          "state": {
            "_model_module": "@jupyter-widgets/controls",
            "_model_module_version": "1.5.0",
            "_model_name": "ProgressStyleModel",
            "_view_count": null,
            "_view_module": "@jupyter-widgets/base",
            "_view_module_version": "1.2.0",
            "_view_name": "StyleView",
            "bar_color": null,
            "description_width": ""
          }
        },
        "a7742b9aca8245629bf68aabbb6520b1": {
          "model_module": "@jupyter-widgets/controls",
          "model_module_version": "1.5.0",
          "model_name": "ProgressStyleModel",
          "state": {
            "_model_module": "@jupyter-widgets/controls",
            "_model_module_version": "1.5.0",
            "_model_name": "ProgressStyleModel",
            "_view_count": null,
            "_view_module": "@jupyter-widgets/base",
            "_view_module_version": "1.2.0",
            "_view_name": "StyleView",
            "bar_color": null,
            "description_width": ""
          }
        },
        "a92dc7a373b448e69aa081a580989944": {
          "model_module": "@jupyter-widgets/controls",
          "model_module_version": "1.5.0",
          "model_name": "DescriptionStyleModel",
          "state": {
            "_model_module": "@jupyter-widgets/controls",
            "_model_module_version": "1.5.0",
            "_model_name": "DescriptionStyleModel",
            "_view_count": null,
            "_view_module": "@jupyter-widgets/base",
            "_view_module_version": "1.2.0",
            "_view_name": "StyleView",
            "description_width": ""
          }
        },
        "a9ba1b17eff04a24a816c18d4ed23c04": {
          "model_module": "@jupyter-widgets/controls",
          "model_module_version": "1.5.0",
          "model_name": "HBoxModel",
          "state": {
            "_dom_classes": [],
            "_model_module": "@jupyter-widgets/controls",
            "_model_module_version": "1.5.0",
            "_model_name": "HBoxModel",
            "_view_count": null,
            "_view_module": "@jupyter-widgets/controls",
            "_view_module_version": "1.5.0",
            "_view_name": "HBoxView",
            "box_style": "",
            "children": [
              "IPY_MODEL_8dc5fe28a1344dffb0eb94d1f6831d5d",
              "IPY_MODEL_2a90299d0aa34aa3b1605700f9a96713",
              "IPY_MODEL_4904104b0999423fbd0532f76f17ef1e"
            ],
            "layout": "IPY_MODEL_f8e1447a36ce4554b2eba72bb7c8870c"
          }
        },
        "aa5941a51c234831a4e98ee89204b72a": {
          "model_module": "@jupyter-widgets/controls",
          "model_module_version": "1.5.0",
          "model_name": "HTMLModel",
          "state": {
            "_dom_classes": [],
            "_model_module": "@jupyter-widgets/controls",
            "_model_module_version": "1.5.0",
            "_model_name": "HTMLModel",
            "_view_count": null,
            "_view_module": "@jupyter-widgets/controls",
            "_view_module_version": "1.5.0",
            "_view_name": "HTMLView",
            "description": "",
            "description_tooltip": null,
            "layout": "IPY_MODEL_43415127fd564f249a436d7a611c553a",
            "placeholder": "​",
            "style": "IPY_MODEL_71f6be46b1c841399afd125469af50f9",
            "value": " 1.15k/1.15k [00:00&lt;00:00, 82.0kB/s]"
          }
        },
        "aa5d7e52169b4f1096367759c0683811": {
          "model_module": "@jupyter-widgets/base",
          "model_module_version": "1.2.0",
          "model_name": "LayoutModel",
          "state": {
            "_model_module": "@jupyter-widgets/base",
            "_model_module_version": "1.2.0",
            "_model_name": "LayoutModel",
            "_view_count": null,
            "_view_module": "@jupyter-widgets/base",
            "_view_module_version": "1.2.0",
            "_view_name": "LayoutView",
            "align_content": null,
            "align_items": null,
            "align_self": null,
            "border": null,
            "bottom": null,
            "display": null,
            "flex": null,
            "flex_flow": null,
            "grid_area": null,
            "grid_auto_columns": null,
            "grid_auto_flow": null,
            "grid_auto_rows": null,
            "grid_column": null,
            "grid_gap": null,
            "grid_row": null,
            "grid_template_areas": null,
            "grid_template_columns": null,
            "grid_template_rows": null,
            "height": null,
            "justify_content": null,
            "justify_items": null,
            "left": null,
            "margin": null,
            "max_height": null,
            "max_width": null,
            "min_height": null,
            "min_width": null,
            "object_fit": null,
            "object_position": null,
            "order": null,
            "overflow": null,
            "overflow_x": null,
            "overflow_y": null,
            "padding": null,
            "right": null,
            "top": null,
            "visibility": null,
            "width": null
          }
        },
        "aad82e64e2324cfd8ddbe6052b76b9e3": {
          "model_module": "@jupyter-widgets/controls",
          "model_module_version": "1.5.0",
          "model_name": "ProgressStyleModel",
          "state": {
            "_model_module": "@jupyter-widgets/controls",
            "_model_module_version": "1.5.0",
            "_model_name": "ProgressStyleModel",
            "_view_count": null,
            "_view_module": "@jupyter-widgets/base",
            "_view_module_version": "1.2.0",
            "_view_name": "StyleView",
            "bar_color": null,
            "description_width": ""
          }
        },
        "ab4c019432b04ed39c5b0c9de169dfd5": {
          "model_module": "@jupyter-widgets/base",
          "model_module_version": "1.2.0",
          "model_name": "LayoutModel",
          "state": {
            "_model_module": "@jupyter-widgets/base",
            "_model_module_version": "1.2.0",
            "_model_name": "LayoutModel",
            "_view_count": null,
            "_view_module": "@jupyter-widgets/base",
            "_view_module_version": "1.2.0",
            "_view_name": "LayoutView",
            "align_content": null,
            "align_items": null,
            "align_self": null,
            "border": null,
            "bottom": null,
            "display": null,
            "flex": null,
            "flex_flow": null,
            "grid_area": null,
            "grid_auto_columns": null,
            "grid_auto_flow": null,
            "grid_auto_rows": null,
            "grid_column": null,
            "grid_gap": null,
            "grid_row": null,
            "grid_template_areas": null,
            "grid_template_columns": null,
            "grid_template_rows": null,
            "height": null,
            "justify_content": null,
            "justify_items": null,
            "left": null,
            "margin": null,
            "max_height": null,
            "max_width": null,
            "min_height": null,
            "min_width": null,
            "object_fit": null,
            "object_position": null,
            "order": null,
            "overflow": null,
            "overflow_x": null,
            "overflow_y": null,
            "padding": null,
            "right": null,
            "top": null,
            "visibility": null,
            "width": null
          }
        },
        "ac3003579a954a5aa746e39cad4cd60e": {
          "model_module": "@jupyter-widgets/base",
          "model_module_version": "1.2.0",
          "model_name": "LayoutModel",
          "state": {
            "_model_module": "@jupyter-widgets/base",
            "_model_module_version": "1.2.0",
            "_model_name": "LayoutModel",
            "_view_count": null,
            "_view_module": "@jupyter-widgets/base",
            "_view_module_version": "1.2.0",
            "_view_name": "LayoutView",
            "align_content": null,
            "align_items": null,
            "align_self": null,
            "border": null,
            "bottom": null,
            "display": null,
            "flex": null,
            "flex_flow": null,
            "grid_area": null,
            "grid_auto_columns": null,
            "grid_auto_flow": null,
            "grid_auto_rows": null,
            "grid_column": null,
            "grid_gap": null,
            "grid_row": null,
            "grid_template_areas": null,
            "grid_template_columns": null,
            "grid_template_rows": null,
            "height": null,
            "justify_content": null,
            "justify_items": null,
            "left": null,
            "margin": null,
            "max_height": null,
            "max_width": null,
            "min_height": null,
            "min_width": null,
            "object_fit": null,
            "object_position": null,
            "order": null,
            "overflow": null,
            "overflow_x": null,
            "overflow_y": null,
            "padding": null,
            "right": null,
            "top": null,
            "visibility": null,
            "width": null
          }
        },
        "adde69997b9b40a6bb08b155fc17b1aa": {
          "model_module": "@jupyter-widgets/controls",
          "model_module_version": "1.5.0",
          "model_name": "HTMLModel",
          "state": {
            "_dom_classes": [],
            "_model_module": "@jupyter-widgets/controls",
            "_model_module_version": "1.5.0",
            "_model_name": "HTMLModel",
            "_view_count": null,
            "_view_module": "@jupyter-widgets/controls",
            "_view_module_version": "1.5.0",
            "_view_name": "HTMLView",
            "description": "",
            "description_tooltip": null,
            "layout": "IPY_MODEL_32eead93771e4969966ae67969b3540b",
            "placeholder": "​",
            "style": "IPY_MODEL_a01b894df71645969845c922340184fc",
            "value": " 480/480 [00:00&lt;00:00, 9.25kB/s]"
          }
        },
        "ae53ed55c8c94211ac9be5ed770f19df": {
          "model_module": "@jupyter-widgets/controls",
          "model_module_version": "1.5.0",
          "model_name": "HTMLModel",
          "state": {
            "_dom_classes": [],
            "_model_module": "@jupyter-widgets/controls",
            "_model_module_version": "1.5.0",
            "_model_name": "HTMLModel",
            "_view_count": null,
            "_view_module": "@jupyter-widgets/controls",
            "_view_module_version": "1.5.0",
            "_view_name": "HTMLView",
            "description": "",
            "description_tooltip": null,
            "layout": "IPY_MODEL_d41b85f08d82400d93941e678bfec49c",
            "placeholder": "​",
            "style": "IPY_MODEL_b586d4d81f2b408793de14a6ebf9d7cd",
            "value": " 408/408 [00:00&lt;00:00, 3706.97 examples/s]"
          }
        },
        "af4b34135dba4958b01bc47c4e49b05e": {
          "model_module": "@jupyter-widgets/controls",
          "model_module_version": "1.5.0",
          "model_name": "HTMLModel",
          "state": {
            "_dom_classes": [],
            "_model_module": "@jupyter-widgets/controls",
            "_model_module_version": "1.5.0",
            "_model_name": "HTMLModel",
            "_view_count": null,
            "_view_module": "@jupyter-widgets/controls",
            "_view_module_version": "1.5.0",
            "_view_name": "HTMLView",
            "description": "",
            "description_tooltip": null,
            "layout": "IPY_MODEL_076e4455e2214572a979ea84c9d2b6f0",
            "placeholder": "​",
            "style": "IPY_MODEL_145713f41c0e4b5bb81913b717a8a1b5",
            "value": " 213k/213k [00:00&lt;00:00, 9.77MB/s]"
          }
        },
        "af579cae53e74c96896cf2e6723f6908": {
          "model_module": "@jupyter-widgets/controls",
          "model_module_version": "1.5.0",
          "model_name": "FloatProgressModel",
          "state": {
            "_dom_classes": [],
            "_model_module": "@jupyter-widgets/controls",
            "_model_module_version": "1.5.0",
            "_model_name": "FloatProgressModel",
            "_view_count": null,
            "_view_module": "@jupyter-widgets/controls",
            "_view_module_version": "1.5.0",
            "_view_name": "ProgressView",
            "bar_style": "success",
            "description": "",
            "description_tooltip": null,
            "layout": "IPY_MODEL_5e76b3fc4953404abe4ce3232661fcfc",
            "max": 267832558,
            "min": 0,
            "orientation": "horizontal",
            "style": "IPY_MODEL_7c46da16aaf3459abb3f55267e8fa074",
            "value": 267832558
          }
        },
        "afe21ed86a2e40b08ee6a8c62de01c1c": {
          "model_module": "@jupyter-widgets/controls",
          "model_module_version": "1.5.0",
          "model_name": "HBoxModel",
          "state": {
            "_dom_classes": [],
            "_model_module": "@jupyter-widgets/controls",
            "_model_module_version": "1.5.0",
            "_model_name": "HBoxModel",
            "_view_count": null,
            "_view_module": "@jupyter-widgets/controls",
            "_view_module_version": "1.5.0",
            "_view_name": "HBoxView",
            "box_style": "",
            "children": [
              "IPY_MODEL_e12b02e3fc894d939527b84ea1113270",
              "IPY_MODEL_e0d8368327f8404a96a3c4a824b2d41e",
              "IPY_MODEL_a62f5ef7453344cc9a16083380608f74"
            ],
            "layout": "IPY_MODEL_38e0cbf3a38c40abb597456c0854b7c0"
          }
        },
        "b02826b6c9f0420fa862404c1709d018": {
          "model_module": "@jupyter-widgets/controls",
          "model_module_version": "1.5.0",
          "model_name": "ProgressStyleModel",
          "state": {
            "_model_module": "@jupyter-widgets/controls",
            "_model_module_version": "1.5.0",
            "_model_name": "ProgressStyleModel",
            "_view_count": null,
            "_view_module": "@jupyter-widgets/base",
            "_view_module_version": "1.2.0",
            "_view_name": "StyleView",
            "bar_color": null,
            "description_width": ""
          }
        },
        "b0666b7e781547199e080390743fd862": {
          "model_module": "@jupyter-widgets/controls",
          "model_module_version": "1.5.0",
          "model_name": "HTMLModel",
          "state": {
            "_dom_classes": [],
            "_model_module": "@jupyter-widgets/controls",
            "_model_module_version": "1.5.0",
            "_model_name": "HTMLModel",
            "_view_count": null,
            "_view_module": "@jupyter-widgets/controls",
            "_view_module_version": "1.5.0",
            "_view_name": "HTMLView",
            "description": "",
            "description_tooltip": null,
            "layout": "IPY_MODEL_38cb49e5f31a46c8a52011915e14fac1",
            "placeholder": "​",
            "style": "IPY_MODEL_8be259c16dd54c41bf9ba7d175ba3dad",
            "value": " 48.0/48.0 [00:00&lt;00:00, 3.47kB/s]"
          }
        },
        "b099285041b942e1aa6b6ff22928447d": {
          "model_module": "@jupyter-widgets/controls",
          "model_module_version": "1.5.0",
          "model_name": "HTMLModel",
          "state": {
            "_dom_classes": [],
            "_model_module": "@jupyter-widgets/controls",
            "_model_module_version": "1.5.0",
            "_model_name": "HTMLModel",
            "_view_count": null,
            "_view_module": "@jupyter-widgets/controls",
            "_view_module_version": "1.5.0",
            "_view_name": "HTMLView",
            "description": "",
            "description_tooltip": null,
            "layout": "IPY_MODEL_cd9559aad92449cab7124d5fbc9da4a7",
            "placeholder": "​",
            "style": "IPY_MODEL_665d8aedf32c455eae62032415895ec6",
            "value": " 548M/548M [00:05&lt;00:00, 93.5MB/s]"
          }
        },
        "b1333ee82adb4842a91c94aecca37fb3": {
          "model_module": "@jupyter-widgets/base",
          "model_module_version": "1.2.0",
          "model_name": "LayoutModel",
          "state": {
            "_model_module": "@jupyter-widgets/base",
            "_model_module_version": "1.2.0",
            "_model_name": "LayoutModel",
            "_view_count": null,
            "_view_module": "@jupyter-widgets/base",
            "_view_module_version": "1.2.0",
            "_view_name": "LayoutView",
            "align_content": null,
            "align_items": null,
            "align_self": null,
            "border": null,
            "bottom": null,
            "display": null,
            "flex": null,
            "flex_flow": null,
            "grid_area": null,
            "grid_auto_columns": null,
            "grid_auto_flow": null,
            "grid_auto_rows": null,
            "grid_column": null,
            "grid_gap": null,
            "grid_row": null,
            "grid_template_areas": null,
            "grid_template_columns": null,
            "grid_template_rows": null,
            "height": null,
            "justify_content": null,
            "justify_items": null,
            "left": null,
            "margin": null,
            "max_height": null,
            "max_width": null,
            "min_height": null,
            "min_width": null,
            "object_fit": null,
            "object_position": null,
            "order": null,
            "overflow": null,
            "overflow_x": null,
            "overflow_y": null,
            "padding": null,
            "right": null,
            "top": null,
            "visibility": null,
            "width": null
          }
        },
        "b2e135f5d467438cb7ab9edabd6aba73": {
          "model_module": "@jupyter-widgets/controls",
          "model_module_version": "1.5.0",
          "model_name": "DescriptionStyleModel",
          "state": {
            "_model_module": "@jupyter-widgets/controls",
            "_model_module_version": "1.5.0",
            "_model_name": "DescriptionStyleModel",
            "_view_count": null,
            "_view_module": "@jupyter-widgets/base",
            "_view_module_version": "1.2.0",
            "_view_name": "StyleView",
            "description_width": ""
          }
        },
        "b355fd56845448e2bc6ec1594ebc22eb": {
          "model_module": "@jupyter-widgets/base",
          "model_module_version": "1.2.0",
          "model_name": "LayoutModel",
          "state": {
            "_model_module": "@jupyter-widgets/base",
            "_model_module_version": "1.2.0",
            "_model_name": "LayoutModel",
            "_view_count": null,
            "_view_module": "@jupyter-widgets/base",
            "_view_module_version": "1.2.0",
            "_view_name": "LayoutView",
            "align_content": null,
            "align_items": null,
            "align_self": null,
            "border": null,
            "bottom": null,
            "display": null,
            "flex": null,
            "flex_flow": null,
            "grid_area": null,
            "grid_auto_columns": null,
            "grid_auto_flow": null,
            "grid_auto_rows": null,
            "grid_column": null,
            "grid_gap": null,
            "grid_row": null,
            "grid_template_areas": null,
            "grid_template_columns": null,
            "grid_template_rows": null,
            "height": null,
            "justify_content": null,
            "justify_items": null,
            "left": null,
            "margin": null,
            "max_height": null,
            "max_width": null,
            "min_height": null,
            "min_width": null,
            "object_fit": null,
            "object_position": null,
            "order": null,
            "overflow": null,
            "overflow_x": null,
            "overflow_y": null,
            "padding": null,
            "right": null,
            "top": null,
            "visibility": null,
            "width": null
          }
        },
        "b35e095f93294a638dacec23ee8af075": {
          "model_module": "@jupyter-widgets/base",
          "model_module_version": "1.2.0",
          "model_name": "LayoutModel",
          "state": {
            "_model_module": "@jupyter-widgets/base",
            "_model_module_version": "1.2.0",
            "_model_name": "LayoutModel",
            "_view_count": null,
            "_view_module": "@jupyter-widgets/base",
            "_view_module_version": "1.2.0",
            "_view_name": "LayoutView",
            "align_content": null,
            "align_items": null,
            "align_self": null,
            "border": null,
            "bottom": null,
            "display": null,
            "flex": null,
            "flex_flow": null,
            "grid_area": null,
            "grid_auto_columns": null,
            "grid_auto_flow": null,
            "grid_auto_rows": null,
            "grid_column": null,
            "grid_gap": null,
            "grid_row": null,
            "grid_template_areas": null,
            "grid_template_columns": null,
            "grid_template_rows": null,
            "height": null,
            "justify_content": null,
            "justify_items": null,
            "left": null,
            "margin": null,
            "max_height": null,
            "max_width": null,
            "min_height": null,
            "min_width": null,
            "object_fit": null,
            "object_position": null,
            "order": null,
            "overflow": null,
            "overflow_x": null,
            "overflow_y": null,
            "padding": null,
            "right": null,
            "top": null,
            "visibility": null,
            "width": null
          }
        },
        "b4e1c0e7f3b642ddb4e3b76ab58d7846": {
          "model_module": "@jupyter-widgets/controls",
          "model_module_version": "1.5.0",
          "model_name": "HTMLModel",
          "state": {
            "_dom_classes": [],
            "_model_module": "@jupyter-widgets/controls",
            "_model_module_version": "1.5.0",
            "_model_name": "HTMLModel",
            "_view_count": null,
            "_view_module": "@jupyter-widgets/controls",
            "_view_module_version": "1.5.0",
            "_view_name": "HTMLView",
            "description": "",
            "description_tooltip": null,
            "layout": "IPY_MODEL_87d29a6708134631ae4dbde555c1eaa5",
            "placeholder": "​",
            "style": "IPY_MODEL_1da23be43f684e5e8cce20204188152e",
            "value": "tokenizer_config.json: 100%"
          }
        },
        "b586d4d81f2b408793de14a6ebf9d7cd": {
          "model_module": "@jupyter-widgets/controls",
          "model_module_version": "1.5.0",
          "model_name": "DescriptionStyleModel",
          "state": {
            "_model_module": "@jupyter-widgets/controls",
            "_model_module_version": "1.5.0",
            "_model_name": "DescriptionStyleModel",
            "_view_count": null,
            "_view_module": "@jupyter-widgets/base",
            "_view_module_version": "1.2.0",
            "_view_name": "StyleView",
            "description_width": ""
          }
        },
        "b73de59f72ea43bea9182ced8ba307ef": {
          "model_module": "@jupyter-widgets/base",
          "model_module_version": "1.2.0",
          "model_name": "LayoutModel",
          "state": {
            "_model_module": "@jupyter-widgets/base",
            "_model_module_version": "1.2.0",
            "_model_name": "LayoutModel",
            "_view_count": null,
            "_view_module": "@jupyter-widgets/base",
            "_view_module_version": "1.2.0",
            "_view_name": "LayoutView",
            "align_content": null,
            "align_items": null,
            "align_self": null,
            "border": null,
            "bottom": null,
            "display": null,
            "flex": null,
            "flex_flow": null,
            "grid_area": null,
            "grid_auto_columns": null,
            "grid_auto_flow": null,
            "grid_auto_rows": null,
            "grid_column": null,
            "grid_gap": null,
            "grid_row": null,
            "grid_template_areas": null,
            "grid_template_columns": null,
            "grid_template_rows": null,
            "height": null,
            "justify_content": null,
            "justify_items": null,
            "left": null,
            "margin": null,
            "max_height": null,
            "max_width": null,
            "min_height": null,
            "min_width": null,
            "object_fit": null,
            "object_position": null,
            "order": null,
            "overflow": null,
            "overflow_x": null,
            "overflow_y": null,
            "padding": null,
            "right": null,
            "top": null,
            "visibility": null,
            "width": null
          }
        },
        "b83d33c75e204fe5a14647b5c4f967f4": {
          "model_module": "@jupyter-widgets/controls",
          "model_module_version": "1.5.0",
          "model_name": "ProgressStyleModel",
          "state": {
            "_model_module": "@jupyter-widgets/controls",
            "_model_module_version": "1.5.0",
            "_model_name": "ProgressStyleModel",
            "_view_count": null,
            "_view_module": "@jupyter-widgets/base",
            "_view_module_version": "1.2.0",
            "_view_name": "StyleView",
            "bar_color": null,
            "description_width": ""
          }
        },
        "b885cb431f3843caa016d8a6c63b0e44": {
          "model_module": "@jupyter-widgets/controls",
          "model_module_version": "1.5.0",
          "model_name": "FloatProgressModel",
          "state": {
            "_dom_classes": [],
            "_model_module": "@jupyter-widgets/controls",
            "_model_module_version": "1.5.0",
            "_model_name": "FloatProgressModel",
            "_view_count": null,
            "_view_module": "@jupyter-widgets/controls",
            "_view_module_version": "1.5.0",
            "_view_name": "ProgressView",
            "bar_style": "success",
            "description": "",
            "description_tooltip": null,
            "layout": "IPY_MODEL_6b29ab8f730c47f1b24cd1f1dc3e6bad",
            "max": 435755784,
            "min": 0,
            "orientation": "horizontal",
            "style": "IPY_MODEL_8cacb448a57a4406981b6694a020ee0e",
            "value": 435755784
          }
        },
        "b8fc50de20584f75958547d4088a2a00": {
          "model_module": "@jupyter-widgets/base",
          "model_module_version": "1.2.0",
          "model_name": "LayoutModel",
          "state": {
            "_model_module": "@jupyter-widgets/base",
            "_model_module_version": "1.2.0",
            "_model_name": "LayoutModel",
            "_view_count": null,
            "_view_module": "@jupyter-widgets/base",
            "_view_module_version": "1.2.0",
            "_view_name": "LayoutView",
            "align_content": null,
            "align_items": null,
            "align_self": null,
            "border": null,
            "bottom": null,
            "display": null,
            "flex": null,
            "flex_flow": null,
            "grid_area": null,
            "grid_auto_columns": null,
            "grid_auto_flow": null,
            "grid_auto_rows": null,
            "grid_column": null,
            "grid_gap": null,
            "grid_row": null,
            "grid_template_areas": null,
            "grid_template_columns": null,
            "grid_template_rows": null,
            "height": null,
            "justify_content": null,
            "justify_items": null,
            "left": null,
            "margin": null,
            "max_height": null,
            "max_width": null,
            "min_height": null,
            "min_width": null,
            "object_fit": null,
            "object_position": null,
            "order": null,
            "overflow": null,
            "overflow_x": null,
            "overflow_y": null,
            "padding": null,
            "right": null,
            "top": null,
            "visibility": null,
            "width": null
          }
        },
        "ba7cdca797194720af03177f7aec5eba": {
          "model_module": "@jupyter-widgets/controls",
          "model_module_version": "1.5.0",
          "model_name": "DescriptionStyleModel",
          "state": {
            "_model_module": "@jupyter-widgets/controls",
            "_model_module_version": "1.5.0",
            "_model_name": "DescriptionStyleModel",
            "_view_count": null,
            "_view_module": "@jupyter-widgets/base",
            "_view_module_version": "1.2.0",
            "_view_name": "StyleView",
            "description_width": ""
          }
        },
        "baadce1ba11c45ec94e70b29a7535260": {
          "model_module": "@jupyter-widgets/controls",
          "model_module_version": "1.5.0",
          "model_name": "ProgressStyleModel",
          "state": {
            "_model_module": "@jupyter-widgets/controls",
            "_model_module_version": "1.5.0",
            "_model_name": "ProgressStyleModel",
            "_view_count": null,
            "_view_module": "@jupyter-widgets/base",
            "_view_module_version": "1.2.0",
            "_view_name": "StyleView",
            "bar_color": null,
            "description_width": ""
          }
        },
        "bac30b90347d41cb8f5caa54182cd67f": {
          "model_module": "@jupyter-widgets/controls",
          "model_module_version": "1.5.0",
          "model_name": "HTMLModel",
          "state": {
            "_dom_classes": [],
            "_model_module": "@jupyter-widgets/controls",
            "_model_module_version": "1.5.0",
            "_model_name": "HTMLModel",
            "_view_count": null,
            "_view_module": "@jupyter-widgets/controls",
            "_view_module_version": "1.5.0",
            "_view_name": "HTMLView",
            "description": "",
            "description_tooltip": null,
            "layout": "IPY_MODEL_1e01ff37882740489509ea857d8817f7",
            "placeholder": "​",
            "style": "IPY_MODEL_c683f5c6fba040b2b9cb2223a1533cab",
            "value": "tokenizer.json: 100%"
          }
        },
        "bb8628e37ce3467ebad76110c9031ce1": {
          "model_module": "@jupyter-widgets/base",
          "model_module_version": "1.2.0",
          "model_name": "LayoutModel",
          "state": {
            "_model_module": "@jupyter-widgets/base",
            "_model_module_version": "1.2.0",
            "_model_name": "LayoutModel",
            "_view_count": null,
            "_view_module": "@jupyter-widgets/base",
            "_view_module_version": "1.2.0",
            "_view_name": "LayoutView",
            "align_content": null,
            "align_items": null,
            "align_self": null,
            "border": null,
            "bottom": null,
            "display": null,
            "flex": null,
            "flex_flow": null,
            "grid_area": null,
            "grid_auto_columns": null,
            "grid_auto_flow": null,
            "grid_auto_rows": null,
            "grid_column": null,
            "grid_gap": null,
            "grid_row": null,
            "grid_template_areas": null,
            "grid_template_columns": null,
            "grid_template_rows": null,
            "height": null,
            "justify_content": null,
            "justify_items": null,
            "left": null,
            "margin": null,
            "max_height": null,
            "max_width": null,
            "min_height": null,
            "min_width": null,
            "object_fit": null,
            "object_position": null,
            "order": null,
            "overflow": null,
            "overflow_x": null,
            "overflow_y": null,
            "padding": null,
            "right": null,
            "top": null,
            "visibility": null,
            "width": null
          }
        },
        "bc5c097ba49d48a4a83dd0df7b6a7624": {
          "model_module": "@jupyter-widgets/controls",
          "model_module_version": "1.5.0",
          "model_name": "DescriptionStyleModel",
          "state": {
            "_model_module": "@jupyter-widgets/controls",
            "_model_module_version": "1.5.0",
            "_model_name": "DescriptionStyleModel",
            "_view_count": null,
            "_view_module": "@jupyter-widgets/base",
            "_view_module_version": "1.2.0",
            "_view_name": "StyleView",
            "description_width": ""
          }
        },
        "bc6ed053f6e344648ad0d703c8e76a77": {
          "model_module": "@jupyter-widgets/controls",
          "model_module_version": "1.5.0",
          "model_name": "HBoxModel",
          "state": {
            "_dom_classes": [],
            "_model_module": "@jupyter-widgets/controls",
            "_model_module_version": "1.5.0",
            "_model_name": "HBoxModel",
            "_view_count": null,
            "_view_module": "@jupyter-widgets/controls",
            "_view_module_version": "1.5.0",
            "_view_name": "HBoxView",
            "box_style": "",
            "children": [
              "IPY_MODEL_c76116ba7c2746b6a0b534fb8dca7622",
              "IPY_MODEL_e5c9290df605489b8b766b7891fa2cbc",
              "IPY_MODEL_300c0511de70440e9abb0c0cf0b17371"
            ],
            "layout": "IPY_MODEL_48d48123f959476f9ef468a1d20af223"
          }
        },
        "bc94672b792e42e8baec2919d0a36c80": {
          "model_module": "@jupyter-widgets/base",
          "model_module_version": "1.2.0",
          "model_name": "LayoutModel",
          "state": {
            "_model_module": "@jupyter-widgets/base",
            "_model_module_version": "1.2.0",
            "_model_name": "LayoutModel",
            "_view_count": null,
            "_view_module": "@jupyter-widgets/base",
            "_view_module_version": "1.2.0",
            "_view_name": "LayoutView",
            "align_content": null,
            "align_items": null,
            "align_self": null,
            "border": null,
            "bottom": null,
            "display": null,
            "flex": null,
            "flex_flow": null,
            "grid_area": null,
            "grid_auto_columns": null,
            "grid_auto_flow": null,
            "grid_auto_rows": null,
            "grid_column": null,
            "grid_gap": null,
            "grid_row": null,
            "grid_template_areas": null,
            "grid_template_columns": null,
            "grid_template_rows": null,
            "height": null,
            "justify_content": null,
            "justify_items": null,
            "left": null,
            "margin": null,
            "max_height": null,
            "max_width": null,
            "min_height": null,
            "min_width": null,
            "object_fit": null,
            "object_position": null,
            "order": null,
            "overflow": null,
            "overflow_x": null,
            "overflow_y": null,
            "padding": null,
            "right": null,
            "top": null,
            "visibility": null,
            "width": null
          }
        },
        "be3dedb315e046c3a8ad769219fc9b71": {
          "model_module": "@jupyter-widgets/controls",
          "model_module_version": "1.5.0",
          "model_name": "HTMLModel",
          "state": {
            "_dom_classes": [],
            "_model_module": "@jupyter-widgets/controls",
            "_model_module_version": "1.5.0",
            "_model_name": "HTMLModel",
            "_view_count": null,
            "_view_module": "@jupyter-widgets/controls",
            "_view_module_version": "1.5.0",
            "_view_name": "HTMLView",
            "description": "",
            "description_tooltip": null,
            "layout": "IPY_MODEL_9651843d56a44873b4bca62476f1dbe7",
            "placeholder": "​",
            "style": "IPY_MODEL_efcb2c4795854509a380eefe29ed6ac7",
            "value": "Generating test split: 100%"
          }
        },
        "bf63e3129c7f4ad786df9de8f48bf6d4": {
          "model_module": "@jupyter-widgets/controls",
          "model_module_version": "1.5.0",
          "model_name": "ProgressStyleModel",
          "state": {
            "_model_module": "@jupyter-widgets/controls",
            "_model_module_version": "1.5.0",
            "_model_name": "ProgressStyleModel",
            "_view_count": null,
            "_view_module": "@jupyter-widgets/base",
            "_view_module_version": "1.2.0",
            "_view_name": "StyleView",
            "bar_color": null,
            "description_width": ""
          }
        },
        "bf6bfcbfe62043ebb4e34f376a9132c9": {
          "model_module": "@jupyter-widgets/controls",
          "model_module_version": "1.5.0",
          "model_name": "DescriptionStyleModel",
          "state": {
            "_model_module": "@jupyter-widgets/controls",
            "_model_module_version": "1.5.0",
            "_model_name": "DescriptionStyleModel",
            "_view_count": null,
            "_view_module": "@jupyter-widgets/base",
            "_view_module_version": "1.2.0",
            "_view_name": "StyleView",
            "description_width": ""
          }
        },
        "bf96b648ed544af68f0c411c54df8960": {
          "model_module": "@jupyter-widgets/controls",
          "model_module_version": "1.5.0",
          "model_name": "ProgressStyleModel",
          "state": {
            "_model_module": "@jupyter-widgets/controls",
            "_model_module_version": "1.5.0",
            "_model_name": "ProgressStyleModel",
            "_view_count": null,
            "_view_module": "@jupyter-widgets/base",
            "_view_module_version": "1.2.0",
            "_view_name": "StyleView",
            "bar_color": null,
            "description_width": ""
          }
        },
        "c073c64caa934cd18ec1d68f3f21fba7": {
          "model_module": "@jupyter-widgets/base",
          "model_module_version": "1.2.0",
          "model_name": "LayoutModel",
          "state": {
            "_model_module": "@jupyter-widgets/base",
            "_model_module_version": "1.2.0",
            "_model_name": "LayoutModel",
            "_view_count": null,
            "_view_module": "@jupyter-widgets/base",
            "_view_module_version": "1.2.0",
            "_view_name": "LayoutView",
            "align_content": null,
            "align_items": null,
            "align_self": null,
            "border": null,
            "bottom": null,
            "display": null,
            "flex": null,
            "flex_flow": null,
            "grid_area": null,
            "grid_auto_columns": null,
            "grid_auto_flow": null,
            "grid_auto_rows": null,
            "grid_column": null,
            "grid_gap": null,
            "grid_row": null,
            "grid_template_areas": null,
            "grid_template_columns": null,
            "grid_template_rows": null,
            "height": null,
            "justify_content": null,
            "justify_items": null,
            "left": null,
            "margin": null,
            "max_height": null,
            "max_width": null,
            "min_height": null,
            "min_width": null,
            "object_fit": null,
            "object_position": null,
            "order": null,
            "overflow": null,
            "overflow_x": null,
            "overflow_y": null,
            "padding": null,
            "right": null,
            "top": null,
            "visibility": null,
            "width": null
          }
        },
        "c0826b47e7d044059c035d2c133510c3": {
          "model_module": "@jupyter-widgets/controls",
          "model_module_version": "1.5.0",
          "model_name": "ProgressStyleModel",
          "state": {
            "_model_module": "@jupyter-widgets/controls",
            "_model_module_version": "1.5.0",
            "_model_name": "ProgressStyleModel",
            "_view_count": null,
            "_view_module": "@jupyter-widgets/base",
            "_view_module_version": "1.2.0",
            "_view_name": "StyleView",
            "bar_color": null,
            "description_width": ""
          }
        },
        "c09b55be87b648f6a49b446a12ac4247": {
          "model_module": "@jupyter-widgets/controls",
          "model_module_version": "1.5.0",
          "model_name": "ProgressStyleModel",
          "state": {
            "_model_module": "@jupyter-widgets/controls",
            "_model_module_version": "1.5.0",
            "_model_name": "ProgressStyleModel",
            "_view_count": null,
            "_view_module": "@jupyter-widgets/base",
            "_view_module_version": "1.2.0",
            "_view_name": "StyleView",
            "bar_color": null,
            "description_width": ""
          }
        },
        "c0e03b1659ba4bb2913b8afab055b814": {
          "model_module": "@jupyter-widgets/controls",
          "model_module_version": "1.5.0",
          "model_name": "DescriptionStyleModel",
          "state": {
            "_model_module": "@jupyter-widgets/controls",
            "_model_module_version": "1.5.0",
            "_model_name": "DescriptionStyleModel",
            "_view_count": null,
            "_view_module": "@jupyter-widgets/base",
            "_view_module_version": "1.2.0",
            "_view_name": "StyleView",
            "description_width": ""
          }
        },
        "c11b779f2bef4513b5946a7cb3071f2e": {
          "model_module": "@jupyter-widgets/controls",
          "model_module_version": "1.5.0",
          "model_name": "DescriptionStyleModel",
          "state": {
            "_model_module": "@jupyter-widgets/controls",
            "_model_module_version": "1.5.0",
            "_model_name": "DescriptionStyleModel",
            "_view_count": null,
            "_view_module": "@jupyter-widgets/base",
            "_view_module_version": "1.2.0",
            "_view_name": "StyleView",
            "description_width": ""
          }
        },
        "c2b1cf6126f24d28921cfadc42481aaa": {
          "model_module": "@jupyter-widgets/controls",
          "model_module_version": "1.5.0",
          "model_name": "HBoxModel",
          "state": {
            "_dom_classes": [],
            "_model_module": "@jupyter-widgets/controls",
            "_model_module_version": "1.5.0",
            "_model_name": "HBoxModel",
            "_view_count": null,
            "_view_module": "@jupyter-widgets/controls",
            "_view_module_version": "1.5.0",
            "_view_name": "HBoxView",
            "box_style": "",
            "children": [
              "IPY_MODEL_b4e1c0e7f3b642ddb4e3b76ab58d7846",
              "IPY_MODEL_6366b8ca9c05449bbe63349cf5e7ddda",
              "IPY_MODEL_6fa0bf577d9d4396a0fa7a0fd4439a51"
            ],
            "layout": "IPY_MODEL_5cdaf8bade5f48ef937c9b34efe8d44a"
          }
        },
        "c2d342fdc7eb44a79eaca662d25a2ada": {
          "model_module": "@jupyter-widgets/controls",
          "model_module_version": "1.5.0",
          "model_name": "FloatProgressModel",
          "state": {
            "_dom_classes": [],
            "_model_module": "@jupyter-widgets/controls",
            "_model_module_version": "1.5.0",
            "_model_name": "FloatProgressModel",
            "_view_count": null,
            "_view_module": "@jupyter-widgets/controls",
            "_view_module_version": "1.5.0",
            "_view_name": "ProgressView",
            "bar_style": "success",
            "description": "",
            "description_tooltip": null,
            "layout": "IPY_MODEL_ec83033f8caa4ea0841080ce51002861",
            "max": 124,
            "min": 0,
            "orientation": "horizontal",
            "style": "IPY_MODEL_de7c0899ba0c46fda7a008fbe45b349f",
            "value": 124
          }
        },
        "c3a67d112dd041419f8f287c5a935ce7": {
          "model_module": "@jupyter-widgets/controls",
          "model_module_version": "1.5.0",
          "model_name": "HTMLModel",
          "state": {
            "_dom_classes": [],
            "_model_module": "@jupyter-widgets/controls",
            "_model_module_version": "1.5.0",
            "_model_name": "HTMLModel",
            "_view_count": null,
            "_view_module": "@jupyter-widgets/controls",
            "_view_module_version": "1.5.0",
            "_view_name": "HTMLView",
            "description": "",
            "description_tooltip": null,
            "layout": "IPY_MODEL_193efcf438a9484892c46e53682a7dcd",
            "placeholder": "​",
            "style": "IPY_MODEL_972d4b18cdba4a438fee9d9511a58999",
            "value": "vocab.txt: 100%"
          }
        },
        "c3bf4377b38e44cbbcf1fbd9bba8f5ea": {
          "model_module": "@jupyter-widgets/controls",
          "model_module_version": "1.5.0",
          "model_name": "DescriptionStyleModel",
          "state": {
            "_model_module": "@jupyter-widgets/controls",
            "_model_module_version": "1.5.0",
            "_model_name": "DescriptionStyleModel",
            "_view_count": null,
            "_view_module": "@jupyter-widgets/base",
            "_view_module_version": "1.2.0",
            "_view_name": "StyleView",
            "description_width": ""
          }
        },
        "c41838873237493ea67f16e9813a2a95": {
          "model_module": "@jupyter-widgets/base",
          "model_module_version": "1.2.0",
          "model_name": "LayoutModel",
          "state": {
            "_model_module": "@jupyter-widgets/base",
            "_model_module_version": "1.2.0",
            "_model_name": "LayoutModel",
            "_view_count": null,
            "_view_module": "@jupyter-widgets/base",
            "_view_module_version": "1.2.0",
            "_view_name": "LayoutView",
            "align_content": null,
            "align_items": null,
            "align_self": null,
            "border": null,
            "bottom": null,
            "display": null,
            "flex": null,
            "flex_flow": null,
            "grid_area": null,
            "grid_auto_columns": null,
            "grid_auto_flow": null,
            "grid_auto_rows": null,
            "grid_column": null,
            "grid_gap": null,
            "grid_row": null,
            "grid_template_areas": null,
            "grid_template_columns": null,
            "grid_template_rows": null,
            "height": null,
            "justify_content": null,
            "justify_items": null,
            "left": null,
            "margin": null,
            "max_height": null,
            "max_width": null,
            "min_height": null,
            "min_width": null,
            "object_fit": null,
            "object_position": null,
            "order": null,
            "overflow": null,
            "overflow_x": null,
            "overflow_y": null,
            "padding": null,
            "right": null,
            "top": null,
            "visibility": null,
            "width": null
          }
        },
        "c41bf596ede54ff7a9654cbec03ff5b6": {
          "model_module": "@jupyter-widgets/base",
          "model_module_version": "1.2.0",
          "model_name": "LayoutModel",
          "state": {
            "_model_module": "@jupyter-widgets/base",
            "_model_module_version": "1.2.0",
            "_model_name": "LayoutModel",
            "_view_count": null,
            "_view_module": "@jupyter-widgets/base",
            "_view_module_version": "1.2.0",
            "_view_name": "LayoutView",
            "align_content": null,
            "align_items": null,
            "align_self": null,
            "border": null,
            "bottom": null,
            "display": null,
            "flex": null,
            "flex_flow": null,
            "grid_area": null,
            "grid_auto_columns": null,
            "grid_auto_flow": null,
            "grid_auto_rows": null,
            "grid_column": null,
            "grid_gap": null,
            "grid_row": null,
            "grid_template_areas": null,
            "grid_template_columns": null,
            "grid_template_rows": null,
            "height": null,
            "justify_content": null,
            "justify_items": null,
            "left": null,
            "margin": null,
            "max_height": null,
            "max_width": null,
            "min_height": null,
            "min_width": null,
            "object_fit": null,
            "object_position": null,
            "order": null,
            "overflow": null,
            "overflow_x": null,
            "overflow_y": null,
            "padding": null,
            "right": null,
            "top": null,
            "visibility": null,
            "width": null
          }
        },
        "c47ba22420764852a2cdd0913b8f7165": {
          "model_module": "@jupyter-widgets/controls",
          "model_module_version": "1.5.0",
          "model_name": "HBoxModel",
          "state": {
            "_dom_classes": [],
            "_model_module": "@jupyter-widgets/controls",
            "_model_module_version": "1.5.0",
            "_model_name": "HBoxModel",
            "_view_count": null,
            "_view_module": "@jupyter-widgets/controls",
            "_view_module_version": "1.5.0",
            "_view_name": "HBoxView",
            "box_style": "",
            "children": [
              "IPY_MODEL_9273da5caa1e4ed3984d5e8c04ed0797",
              "IPY_MODEL_b885cb431f3843caa016d8a6c63b0e44",
              "IPY_MODEL_948706cbcf03410fa492d377924585e4"
            ],
            "layout": "IPY_MODEL_04b8f73f4feb454a88b775ff87558f96"
          }
        },
        "c4c753d900724c3a9954aea98da837a3": {
          "model_module": "@jupyter-widgets/base",
          "model_module_version": "1.2.0",
          "model_name": "LayoutModel",
          "state": {
            "_model_module": "@jupyter-widgets/base",
            "_model_module_version": "1.2.0",
            "_model_name": "LayoutModel",
            "_view_count": null,
            "_view_module": "@jupyter-widgets/base",
            "_view_module_version": "1.2.0",
            "_view_name": "LayoutView",
            "align_content": null,
            "align_items": null,
            "align_self": null,
            "border": null,
            "bottom": null,
            "display": null,
            "flex": null,
            "flex_flow": null,
            "grid_area": null,
            "grid_auto_columns": null,
            "grid_auto_flow": null,
            "grid_auto_rows": null,
            "grid_column": null,
            "grid_gap": null,
            "grid_row": null,
            "grid_template_areas": null,
            "grid_template_columns": null,
            "grid_template_rows": null,
            "height": null,
            "justify_content": null,
            "justify_items": null,
            "left": null,
            "margin": null,
            "max_height": null,
            "max_width": null,
            "min_height": null,
            "min_width": null,
            "object_fit": null,
            "object_position": null,
            "order": null,
            "overflow": null,
            "overflow_x": null,
            "overflow_y": null,
            "padding": null,
            "right": null,
            "top": null,
            "visibility": null,
            "width": null
          }
        },
        "c51354a2e990483589503887f771bb6d": {
          "model_module": "@jupyter-widgets/controls",
          "model_module_version": "1.5.0",
          "model_name": "DescriptionStyleModel",
          "state": {
            "_model_module": "@jupyter-widgets/controls",
            "_model_module_version": "1.5.0",
            "_model_name": "DescriptionStyleModel",
            "_view_count": null,
            "_view_module": "@jupyter-widgets/base",
            "_view_module_version": "1.2.0",
            "_view_name": "StyleView",
            "description_width": ""
          }
        },
        "c531c43ca88445c5bf5aed428d9f3803": {
          "model_module": "@jupyter-widgets/controls",
          "model_module_version": "1.5.0",
          "model_name": "ProgressStyleModel",
          "state": {
            "_model_module": "@jupyter-widgets/controls",
            "_model_module_version": "1.5.0",
            "_model_name": "ProgressStyleModel",
            "_view_count": null,
            "_view_module": "@jupyter-widgets/base",
            "_view_module_version": "1.2.0",
            "_view_name": "StyleView",
            "bar_color": null,
            "description_width": ""
          }
        },
        "c555d841d29c4343b65bf6239fe4f4de": {
          "model_module": "@jupyter-widgets/base",
          "model_module_version": "1.2.0",
          "model_name": "LayoutModel",
          "state": {
            "_model_module": "@jupyter-widgets/base",
            "_model_module_version": "1.2.0",
            "_model_name": "LayoutModel",
            "_view_count": null,
            "_view_module": "@jupyter-widgets/base",
            "_view_module_version": "1.2.0",
            "_view_name": "LayoutView",
            "align_content": null,
            "align_items": null,
            "align_self": null,
            "border": null,
            "bottom": null,
            "display": null,
            "flex": null,
            "flex_flow": null,
            "grid_area": null,
            "grid_auto_columns": null,
            "grid_auto_flow": null,
            "grid_auto_rows": null,
            "grid_column": null,
            "grid_gap": null,
            "grid_row": null,
            "grid_template_areas": null,
            "grid_template_columns": null,
            "grid_template_rows": null,
            "height": null,
            "justify_content": null,
            "justify_items": null,
            "left": null,
            "margin": null,
            "max_height": null,
            "max_width": null,
            "min_height": null,
            "min_width": null,
            "object_fit": null,
            "object_position": null,
            "order": null,
            "overflow": null,
            "overflow_x": null,
            "overflow_y": null,
            "padding": null,
            "right": null,
            "top": null,
            "visibility": null,
            "width": null
          }
        },
        "c577bfe96a2a40eb9925e534b274971d": {
          "model_module": "@jupyter-widgets/controls",
          "model_module_version": "1.5.0",
          "model_name": "HTMLModel",
          "state": {
            "_dom_classes": [],
            "_model_module": "@jupyter-widgets/controls",
            "_model_module_version": "1.5.0",
            "_model_name": "HTMLModel",
            "_view_count": null,
            "_view_module": "@jupyter-widgets/controls",
            "_view_module_version": "1.5.0",
            "_view_name": "HTMLView",
            "description": "",
            "description_tooltip": null,
            "layout": "IPY_MODEL_88f07e187bc54658a6208565ca6c1251",
            "placeholder": "​",
            "style": "IPY_MODEL_4122762e48e846648d6c356bd0eefe98",
            "value": " 1725/1725 [00:00&lt;00:00, 4377.62 examples/s]"
          }
        },
        "c5b20fc186bd4614a9966af4e30bef76": {
          "model_module": "@jupyter-widgets/base",
          "model_module_version": "1.2.0",
          "model_name": "LayoutModel",
          "state": {
            "_model_module": "@jupyter-widgets/base",
            "_model_module_version": "1.2.0",
            "_model_name": "LayoutModel",
            "_view_count": null,
            "_view_module": "@jupyter-widgets/base",
            "_view_module_version": "1.2.0",
            "_view_name": "LayoutView",
            "align_content": null,
            "align_items": null,
            "align_self": null,
            "border": null,
            "bottom": null,
            "display": null,
            "flex": null,
            "flex_flow": null,
            "grid_area": null,
            "grid_auto_columns": null,
            "grid_auto_flow": null,
            "grid_auto_rows": null,
            "grid_column": null,
            "grid_gap": null,
            "grid_row": null,
            "grid_template_areas": null,
            "grid_template_columns": null,
            "grid_template_rows": null,
            "height": null,
            "justify_content": null,
            "justify_items": null,
            "left": null,
            "margin": null,
            "max_height": null,
            "max_width": null,
            "min_height": null,
            "min_width": null,
            "object_fit": null,
            "object_position": null,
            "order": null,
            "overflow": null,
            "overflow_x": null,
            "overflow_y": null,
            "padding": null,
            "right": null,
            "top": null,
            "visibility": null,
            "width": null
          }
        },
        "c66ff1000f634786aa95fa028693f4e9": {
          "model_module": "@jupyter-widgets/base",
          "model_module_version": "1.2.0",
          "model_name": "LayoutModel",
          "state": {
            "_model_module": "@jupyter-widgets/base",
            "_model_module_version": "1.2.0",
            "_model_name": "LayoutModel",
            "_view_count": null,
            "_view_module": "@jupyter-widgets/base",
            "_view_module_version": "1.2.0",
            "_view_name": "LayoutView",
            "align_content": null,
            "align_items": null,
            "align_self": null,
            "border": null,
            "bottom": null,
            "display": null,
            "flex": null,
            "flex_flow": null,
            "grid_area": null,
            "grid_auto_columns": null,
            "grid_auto_flow": null,
            "grid_auto_rows": null,
            "grid_column": null,
            "grid_gap": null,
            "grid_row": null,
            "grid_template_areas": null,
            "grid_template_columns": null,
            "grid_template_rows": null,
            "height": null,
            "justify_content": null,
            "justify_items": null,
            "left": null,
            "margin": null,
            "max_height": null,
            "max_width": null,
            "min_height": null,
            "min_width": null,
            "object_fit": null,
            "object_position": null,
            "order": null,
            "overflow": null,
            "overflow_x": null,
            "overflow_y": null,
            "padding": null,
            "right": null,
            "top": null,
            "visibility": null,
            "width": null
          }
        },
        "c683f5c6fba040b2b9cb2223a1533cab": {
          "model_module": "@jupyter-widgets/controls",
          "model_module_version": "1.5.0",
          "model_name": "DescriptionStyleModel",
          "state": {
            "_model_module": "@jupyter-widgets/controls",
            "_model_module_version": "1.5.0",
            "_model_name": "DescriptionStyleModel",
            "_view_count": null,
            "_view_module": "@jupyter-widgets/base",
            "_view_module_version": "1.2.0",
            "_view_name": "StyleView",
            "description_width": ""
          }
        },
        "c705216c37564e3d9275c4f028a9f826": {
          "model_module": "@jupyter-widgets/controls",
          "model_module_version": "1.5.0",
          "model_name": "ProgressStyleModel",
          "state": {
            "_model_module": "@jupyter-widgets/controls",
            "_model_module_version": "1.5.0",
            "_model_name": "ProgressStyleModel",
            "_view_count": null,
            "_view_module": "@jupyter-widgets/base",
            "_view_module_version": "1.2.0",
            "_view_name": "StyleView",
            "bar_color": null,
            "description_width": ""
          }
        },
        "c71bddc9ca2b44d2a9a92f98d144009a": {
          "model_module": "@jupyter-widgets/base",
          "model_module_version": "1.2.0",
          "model_name": "LayoutModel",
          "state": {
            "_model_module": "@jupyter-widgets/base",
            "_model_module_version": "1.2.0",
            "_model_name": "LayoutModel",
            "_view_count": null,
            "_view_module": "@jupyter-widgets/base",
            "_view_module_version": "1.2.0",
            "_view_name": "LayoutView",
            "align_content": null,
            "align_items": null,
            "align_self": null,
            "border": null,
            "bottom": null,
            "display": null,
            "flex": null,
            "flex_flow": null,
            "grid_area": null,
            "grid_auto_columns": null,
            "grid_auto_flow": null,
            "grid_auto_rows": null,
            "grid_column": null,
            "grid_gap": null,
            "grid_row": null,
            "grid_template_areas": null,
            "grid_template_columns": null,
            "grid_template_rows": null,
            "height": null,
            "justify_content": null,
            "justify_items": null,
            "left": null,
            "margin": null,
            "max_height": null,
            "max_width": null,
            "min_height": null,
            "min_width": null,
            "object_fit": null,
            "object_position": null,
            "order": null,
            "overflow": null,
            "overflow_x": null,
            "overflow_y": null,
            "padding": null,
            "right": null,
            "top": null,
            "visibility": null,
            "width": null
          }
        },
        "c76116ba7c2746b6a0b534fb8dca7622": {
          "model_module": "@jupyter-widgets/controls",
          "model_module_version": "1.5.0",
          "model_name": "HTMLModel",
          "state": {
            "_dom_classes": [],
            "_model_module": "@jupyter-widgets/controls",
            "_model_module_version": "1.5.0",
            "_model_name": "HTMLModel",
            "_view_count": null,
            "_view_module": "@jupyter-widgets/controls",
            "_view_module_version": "1.5.0",
            "_view_name": "HTMLView",
            "description": "",
            "description_tooltip": null,
            "layout": "IPY_MODEL_8bd31efa049b4dffba8415a48c1e40e1",
            "placeholder": "​",
            "style": "IPY_MODEL_85089b9dd89b450191601ac0bcda20a9",
            "value": "tokenizer_config.json: 100%"
          }
        },
        "c7b6741984644fec90c7b3db973a5661": {
          "model_module": "@jupyter-widgets/base",
          "model_module_version": "1.2.0",
          "model_name": "LayoutModel",
          "state": {
            "_model_module": "@jupyter-widgets/base",
            "_model_module_version": "1.2.0",
            "_model_name": "LayoutModel",
            "_view_count": null,
            "_view_module": "@jupyter-widgets/base",
            "_view_module_version": "1.2.0",
            "_view_name": "LayoutView",
            "align_content": null,
            "align_items": null,
            "align_self": null,
            "border": null,
            "bottom": null,
            "display": null,
            "flex": null,
            "flex_flow": null,
            "grid_area": null,
            "grid_auto_columns": null,
            "grid_auto_flow": null,
            "grid_auto_rows": null,
            "grid_column": null,
            "grid_gap": null,
            "grid_row": null,
            "grid_template_areas": null,
            "grid_template_columns": null,
            "grid_template_rows": null,
            "height": null,
            "justify_content": null,
            "justify_items": null,
            "left": null,
            "margin": null,
            "max_height": null,
            "max_width": null,
            "min_height": null,
            "min_width": null,
            "object_fit": null,
            "object_position": null,
            "order": null,
            "overflow": null,
            "overflow_x": null,
            "overflow_y": null,
            "padding": null,
            "right": null,
            "top": null,
            "visibility": null,
            "width": null
          }
        },
        "c8447a6be3924f1d8d2ff0236d26cc40": {
          "model_module": "@jupyter-widgets/controls",
          "model_module_version": "1.5.0",
          "model_name": "DescriptionStyleModel",
          "state": {
            "_model_module": "@jupyter-widgets/controls",
            "_model_module_version": "1.5.0",
            "_model_name": "DescriptionStyleModel",
            "_view_count": null,
            "_view_module": "@jupyter-widgets/base",
            "_view_module_version": "1.2.0",
            "_view_name": "StyleView",
            "description_width": ""
          }
        },
        "ca2c0d1e49e3473fb180ad90ea0d136b": {
          "model_module": "@jupyter-widgets/base",
          "model_module_version": "1.2.0",
          "model_name": "LayoutModel",
          "state": {
            "_model_module": "@jupyter-widgets/base",
            "_model_module_version": "1.2.0",
            "_model_name": "LayoutModel",
            "_view_count": null,
            "_view_module": "@jupyter-widgets/base",
            "_view_module_version": "1.2.0",
            "_view_name": "LayoutView",
            "align_content": null,
            "align_items": null,
            "align_self": null,
            "border": null,
            "bottom": null,
            "display": null,
            "flex": null,
            "flex_flow": null,
            "grid_area": null,
            "grid_auto_columns": null,
            "grid_auto_flow": null,
            "grid_auto_rows": null,
            "grid_column": null,
            "grid_gap": null,
            "grid_row": null,
            "grid_template_areas": null,
            "grid_template_columns": null,
            "grid_template_rows": null,
            "height": null,
            "justify_content": null,
            "justify_items": null,
            "left": null,
            "margin": null,
            "max_height": null,
            "max_width": null,
            "min_height": null,
            "min_width": null,
            "object_fit": null,
            "object_position": null,
            "order": null,
            "overflow": null,
            "overflow_x": null,
            "overflow_y": null,
            "padding": null,
            "right": null,
            "top": null,
            "visibility": null,
            "width": null
          }
        },
        "ca762b8197cf40eca6edd33852d49436": {
          "model_module": "@jupyter-widgets/controls",
          "model_module_version": "1.5.0",
          "model_name": "DescriptionStyleModel",
          "state": {
            "_model_module": "@jupyter-widgets/controls",
            "_model_module_version": "1.5.0",
            "_model_name": "DescriptionStyleModel",
            "_view_count": null,
            "_view_module": "@jupyter-widgets/base",
            "_view_module_version": "1.2.0",
            "_view_name": "StyleView",
            "description_width": ""
          }
        },
        "cae4c8168f144a7f921b56b7c8c7de8b": {
          "model_module": "@jupyter-widgets/base",
          "model_module_version": "1.2.0",
          "model_name": "LayoutModel",
          "state": {
            "_model_module": "@jupyter-widgets/base",
            "_model_module_version": "1.2.0",
            "_model_name": "LayoutModel",
            "_view_count": null,
            "_view_module": "@jupyter-widgets/base",
            "_view_module_version": "1.2.0",
            "_view_name": "LayoutView",
            "align_content": null,
            "align_items": null,
            "align_self": null,
            "border": null,
            "bottom": null,
            "display": null,
            "flex": null,
            "flex_flow": null,
            "grid_area": null,
            "grid_auto_columns": null,
            "grid_auto_flow": null,
            "grid_auto_rows": null,
            "grid_column": null,
            "grid_gap": null,
            "grid_row": null,
            "grid_template_areas": null,
            "grid_template_columns": null,
            "grid_template_rows": null,
            "height": null,
            "justify_content": null,
            "justify_items": null,
            "left": null,
            "margin": null,
            "max_height": null,
            "max_width": null,
            "min_height": null,
            "min_width": null,
            "object_fit": null,
            "object_position": null,
            "order": null,
            "overflow": null,
            "overflow_x": null,
            "overflow_y": null,
            "padding": null,
            "right": null,
            "top": null,
            "visibility": null,
            "width": null
          }
        },
        "cb42e0f2713846379fd16f3b6e3e115d": {
          "model_module": "@jupyter-widgets/controls",
          "model_module_version": "1.5.0",
          "model_name": "ProgressStyleModel",
          "state": {
            "_model_module": "@jupyter-widgets/controls",
            "_model_module_version": "1.5.0",
            "_model_name": "ProgressStyleModel",
            "_view_count": null,
            "_view_module": "@jupyter-widgets/base",
            "_view_module_version": "1.2.0",
            "_view_name": "StyleView",
            "bar_color": null,
            "description_width": ""
          }
        },
        "cb9427db3c1d43478072aad88e3fdd20": {
          "model_module": "@jupyter-widgets/base",
          "model_module_version": "1.2.0",
          "model_name": "LayoutModel",
          "state": {
            "_model_module": "@jupyter-widgets/base",
            "_model_module_version": "1.2.0",
            "_model_name": "LayoutModel",
            "_view_count": null,
            "_view_module": "@jupyter-widgets/base",
            "_view_module_version": "1.2.0",
            "_view_name": "LayoutView",
            "align_content": null,
            "align_items": null,
            "align_self": null,
            "border": null,
            "bottom": null,
            "display": null,
            "flex": null,
            "flex_flow": null,
            "grid_area": null,
            "grid_auto_columns": null,
            "grid_auto_flow": null,
            "grid_auto_rows": null,
            "grid_column": null,
            "grid_gap": null,
            "grid_row": null,
            "grid_template_areas": null,
            "grid_template_columns": null,
            "grid_template_rows": null,
            "height": null,
            "justify_content": null,
            "justify_items": null,
            "left": null,
            "margin": null,
            "max_height": null,
            "max_width": null,
            "min_height": null,
            "min_width": null,
            "object_fit": null,
            "object_position": null,
            "order": null,
            "overflow": null,
            "overflow_x": null,
            "overflow_y": null,
            "padding": null,
            "right": null,
            "top": null,
            "visibility": null,
            "width": null
          }
        },
        "cc066e391a9c49f9969e3324df962d92": {
          "model_module": "@jupyter-widgets/controls",
          "model_module_version": "1.5.0",
          "model_name": "ProgressStyleModel",
          "state": {
            "_model_module": "@jupyter-widgets/controls",
            "_model_module_version": "1.5.0",
            "_model_name": "ProgressStyleModel",
            "_view_count": null,
            "_view_module": "@jupyter-widgets/base",
            "_view_module_version": "1.2.0",
            "_view_name": "StyleView",
            "bar_color": null,
            "description_width": ""
          }
        },
        "cd4bcbd96b354c139eefed30529709ee": {
          "model_module": "@jupyter-widgets/base",
          "model_module_version": "1.2.0",
          "model_name": "LayoutModel",
          "state": {
            "_model_module": "@jupyter-widgets/base",
            "_model_module_version": "1.2.0",
            "_model_name": "LayoutModel",
            "_view_count": null,
            "_view_module": "@jupyter-widgets/base",
            "_view_module_version": "1.2.0",
            "_view_name": "LayoutView",
            "align_content": null,
            "align_items": null,
            "align_self": null,
            "border": null,
            "bottom": null,
            "display": null,
            "flex": null,
            "flex_flow": null,
            "grid_area": null,
            "grid_auto_columns": null,
            "grid_auto_flow": null,
            "grid_auto_rows": null,
            "grid_column": null,
            "grid_gap": null,
            "grid_row": null,
            "grid_template_areas": null,
            "grid_template_columns": null,
            "grid_template_rows": null,
            "height": null,
            "justify_content": null,
            "justify_items": null,
            "left": null,
            "margin": null,
            "max_height": null,
            "max_width": null,
            "min_height": null,
            "min_width": null,
            "object_fit": null,
            "object_position": null,
            "order": null,
            "overflow": null,
            "overflow_x": null,
            "overflow_y": null,
            "padding": null,
            "right": null,
            "top": null,
            "visibility": null,
            "width": null
          }
        },
        "cd9559aad92449cab7124d5fbc9da4a7": {
          "model_module": "@jupyter-widgets/base",
          "model_module_version": "1.2.0",
          "model_name": "LayoutModel",
          "state": {
            "_model_module": "@jupyter-widgets/base",
            "_model_module_version": "1.2.0",
            "_model_name": "LayoutModel",
            "_view_count": null,
            "_view_module": "@jupyter-widgets/base",
            "_view_module_version": "1.2.0",
            "_view_name": "LayoutView",
            "align_content": null,
            "align_items": null,
            "align_self": null,
            "border": null,
            "bottom": null,
            "display": null,
            "flex": null,
            "flex_flow": null,
            "grid_area": null,
            "grid_auto_columns": null,
            "grid_auto_flow": null,
            "grid_auto_rows": null,
            "grid_column": null,
            "grid_gap": null,
            "grid_row": null,
            "grid_template_areas": null,
            "grid_template_columns": null,
            "grid_template_rows": null,
            "height": null,
            "justify_content": null,
            "justify_items": null,
            "left": null,
            "margin": null,
            "max_height": null,
            "max_width": null,
            "min_height": null,
            "min_width": null,
            "object_fit": null,
            "object_position": null,
            "order": null,
            "overflow": null,
            "overflow_x": null,
            "overflow_y": null,
            "padding": null,
            "right": null,
            "top": null,
            "visibility": null,
            "width": null
          }
        },
        "ce76b791172f4ce3aeb74113d634a3ad": {
          "model_module": "@jupyter-widgets/controls",
          "model_module_version": "1.5.0",
          "model_name": "ProgressStyleModel",
          "state": {
            "_model_module": "@jupyter-widgets/controls",
            "_model_module_version": "1.5.0",
            "_model_name": "ProgressStyleModel",
            "_view_count": null,
            "_view_module": "@jupyter-widgets/base",
            "_view_module_version": "1.2.0",
            "_view_name": "StyleView",
            "bar_color": null,
            "description_width": ""
          }
        },
        "cf60954a7e324a3286e99d1c4b0b24a3": {
          "model_module": "@jupyter-widgets/controls",
          "model_module_version": "1.5.0",
          "model_name": "FloatProgressModel",
          "state": {
            "_dom_classes": [],
            "_model_module": "@jupyter-widgets/controls",
            "_model_module_version": "1.5.0",
            "_model_name": "FloatProgressModel",
            "_view_count": null,
            "_view_module": "@jupyter-widgets/controls",
            "_view_module_version": "1.5.0",
            "_view_name": "ProgressView",
            "bar_style": "success",
            "description": "",
            "description_tooltip": null,
            "layout": "IPY_MODEL_7963ba5443f1425f919aed3badfab4e5",
            "max": 898823,
            "min": 0,
            "orientation": "horizontal",
            "style": "IPY_MODEL_1a5535ab81e34a29a4ab23e36f0f9763",
            "value": 898823
          }
        },
        "cfd36df4339d48b8ab87d6a90f50af75": {
          "model_module": "@jupyter-widgets/controls",
          "model_module_version": "1.5.0",
          "model_name": "HBoxModel",
          "state": {
            "_dom_classes": [],
            "_model_module": "@jupyter-widgets/controls",
            "_model_module_version": "1.5.0",
            "_model_name": "HBoxModel",
            "_view_count": null,
            "_view_module": "@jupyter-widgets/controls",
            "_view_module_version": "1.5.0",
            "_view_name": "HBoxView",
            "box_style": "",
            "children": [
              "IPY_MODEL_37314794220142cf9415ad90535e39e0",
              "IPY_MODEL_d492857b6df24849bcd8ca830ba1be44",
              "IPY_MODEL_6af7fe5b1acf4ce9a8f017e9adb0f387"
            ],
            "layout": "IPY_MODEL_3affdd1178ac41a089247476afb0475c"
          }
        },
        "d021a8a075264cd6832cae1898491fae": {
          "model_module": "@jupyter-widgets/controls",
          "model_module_version": "1.5.0",
          "model_name": "ProgressStyleModel",
          "state": {
            "_model_module": "@jupyter-widgets/controls",
            "_model_module_version": "1.5.0",
            "_model_name": "ProgressStyleModel",
            "_view_count": null,
            "_view_module": "@jupyter-widgets/base",
            "_view_module_version": "1.2.0",
            "_view_name": "StyleView",
            "bar_color": null,
            "description_width": ""
          }
        },
        "d060b36a061748e7a4a2ae3ee958ed62": {
          "model_module": "@jupyter-widgets/base",
          "model_module_version": "1.2.0",
          "model_name": "LayoutModel",
          "state": {
            "_model_module": "@jupyter-widgets/base",
            "_model_module_version": "1.2.0",
            "_model_name": "LayoutModel",
            "_view_count": null,
            "_view_module": "@jupyter-widgets/base",
            "_view_module_version": "1.2.0",
            "_view_name": "LayoutView",
            "align_content": null,
            "align_items": null,
            "align_self": null,
            "border": null,
            "bottom": null,
            "display": null,
            "flex": null,
            "flex_flow": null,
            "grid_area": null,
            "grid_auto_columns": null,
            "grid_auto_flow": null,
            "grid_auto_rows": null,
            "grid_column": null,
            "grid_gap": null,
            "grid_row": null,
            "grid_template_areas": null,
            "grid_template_columns": null,
            "grid_template_rows": null,
            "height": null,
            "justify_content": null,
            "justify_items": null,
            "left": null,
            "margin": null,
            "max_height": null,
            "max_width": null,
            "min_height": null,
            "min_width": null,
            "object_fit": null,
            "object_position": null,
            "order": null,
            "overflow": null,
            "overflow_x": null,
            "overflow_y": null,
            "padding": null,
            "right": null,
            "top": null,
            "visibility": null,
            "width": null
          }
        },
        "d088a51480ee487b82bcfc143459c981": {
          "model_module": "@jupyter-widgets/controls",
          "model_module_version": "1.5.0",
          "model_name": "DescriptionStyleModel",
          "state": {
            "_model_module": "@jupyter-widgets/controls",
            "_model_module_version": "1.5.0",
            "_model_name": "DescriptionStyleModel",
            "_view_count": null,
            "_view_module": "@jupyter-widgets/base",
            "_view_module_version": "1.2.0",
            "_view_name": "StyleView",
            "description_width": ""
          }
        },
        "d0a91865142d40f3a54846235cce6522": {
          "model_module": "@jupyter-widgets/base",
          "model_module_version": "1.2.0",
          "model_name": "LayoutModel",
          "state": {
            "_model_module": "@jupyter-widgets/base",
            "_model_module_version": "1.2.0",
            "_model_name": "LayoutModel",
            "_view_count": null,
            "_view_module": "@jupyter-widgets/base",
            "_view_module_version": "1.2.0",
            "_view_name": "LayoutView",
            "align_content": null,
            "align_items": null,
            "align_self": null,
            "border": null,
            "bottom": null,
            "display": null,
            "flex": null,
            "flex_flow": null,
            "grid_area": null,
            "grid_auto_columns": null,
            "grid_auto_flow": null,
            "grid_auto_rows": null,
            "grid_column": null,
            "grid_gap": null,
            "grid_row": null,
            "grid_template_areas": null,
            "grid_template_columns": null,
            "grid_template_rows": null,
            "height": null,
            "justify_content": null,
            "justify_items": null,
            "left": null,
            "margin": null,
            "max_height": null,
            "max_width": null,
            "min_height": null,
            "min_width": null,
            "object_fit": null,
            "object_position": null,
            "order": null,
            "overflow": null,
            "overflow_x": null,
            "overflow_y": null,
            "padding": null,
            "right": null,
            "top": null,
            "visibility": null,
            "width": null
          }
        },
        "d15f514308ea47e48b06c025d77c1254": {
          "model_module": "@jupyter-widgets/base",
          "model_module_version": "1.2.0",
          "model_name": "LayoutModel",
          "state": {
            "_model_module": "@jupyter-widgets/base",
            "_model_module_version": "1.2.0",
            "_model_name": "LayoutModel",
            "_view_count": null,
            "_view_module": "@jupyter-widgets/base",
            "_view_module_version": "1.2.0",
            "_view_name": "LayoutView",
            "align_content": null,
            "align_items": null,
            "align_self": null,
            "border": null,
            "bottom": null,
            "display": null,
            "flex": null,
            "flex_flow": null,
            "grid_area": null,
            "grid_auto_columns": null,
            "grid_auto_flow": null,
            "grid_auto_rows": null,
            "grid_column": null,
            "grid_gap": null,
            "grid_row": null,
            "grid_template_areas": null,
            "grid_template_columns": null,
            "grid_template_rows": null,
            "height": null,
            "justify_content": null,
            "justify_items": null,
            "left": null,
            "margin": null,
            "max_height": null,
            "max_width": null,
            "min_height": null,
            "min_width": null,
            "object_fit": null,
            "object_position": null,
            "order": null,
            "overflow": null,
            "overflow_x": null,
            "overflow_y": null,
            "padding": null,
            "right": null,
            "top": null,
            "visibility": null,
            "width": null
          }
        },
        "d168f80e54ad4f7d8866b6ce4551c31c": {
          "model_module": "@jupyter-widgets/base",
          "model_module_version": "1.2.0",
          "model_name": "LayoutModel",
          "state": {
            "_model_module": "@jupyter-widgets/base",
            "_model_module_version": "1.2.0",
            "_model_name": "LayoutModel",
            "_view_count": null,
            "_view_module": "@jupyter-widgets/base",
            "_view_module_version": "1.2.0",
            "_view_name": "LayoutView",
            "align_content": null,
            "align_items": null,
            "align_self": null,
            "border": null,
            "bottom": null,
            "display": null,
            "flex": null,
            "flex_flow": null,
            "grid_area": null,
            "grid_auto_columns": null,
            "grid_auto_flow": null,
            "grid_auto_rows": null,
            "grid_column": null,
            "grid_gap": null,
            "grid_row": null,
            "grid_template_areas": null,
            "grid_template_columns": null,
            "grid_template_rows": null,
            "height": null,
            "justify_content": null,
            "justify_items": null,
            "left": null,
            "margin": null,
            "max_height": null,
            "max_width": null,
            "min_height": null,
            "min_width": null,
            "object_fit": null,
            "object_position": null,
            "order": null,
            "overflow": null,
            "overflow_x": null,
            "overflow_y": null,
            "padding": null,
            "right": null,
            "top": null,
            "visibility": null,
            "width": null
          }
        },
        "d16f0d9776cb4ed1b83c27cbe18d6fb9": {
          "model_module": "@jupyter-widgets/controls",
          "model_module_version": "1.5.0",
          "model_name": "DescriptionStyleModel",
          "state": {
            "_model_module": "@jupyter-widgets/controls",
            "_model_module_version": "1.5.0",
            "_model_name": "DescriptionStyleModel",
            "_view_count": null,
            "_view_module": "@jupyter-widgets/base",
            "_view_module_version": "1.2.0",
            "_view_name": "StyleView",
            "description_width": ""
          }
        },
        "d19147a04e8348799763c3c024d5fd46": {
          "model_module": "@jupyter-widgets/controls",
          "model_module_version": "1.5.0",
          "model_name": "HTMLModel",
          "state": {
            "_dom_classes": [],
            "_model_module": "@jupyter-widgets/controls",
            "_model_module_version": "1.5.0",
            "_model_name": "HTMLModel",
            "_view_count": null,
            "_view_module": "@jupyter-widgets/controls",
            "_view_module_version": "1.5.0",
            "_view_name": "HTMLView",
            "description": "",
            "description_tooltip": null,
            "layout": "IPY_MODEL_e9009d1d918146b69466790f365e1694",
            "placeholder": "​",
            "style": "IPY_MODEL_560cddf66e644c05805e1e7374c600e2",
            "value": " 1725/1725 [00:00&lt;00:00, 43888.38 examples/s]"
          }
        },
        "d194f3f43cce42faa69bbb91728ddbe6": {
          "model_module": "@jupyter-widgets/controls",
          "model_module_version": "1.5.0",
          "model_name": "HBoxModel",
          "state": {
            "_dom_classes": [],
            "_model_module": "@jupyter-widgets/controls",
            "_model_module_version": "1.5.0",
            "_model_name": "HBoxModel",
            "_view_count": null,
            "_view_module": "@jupyter-widgets/controls",
            "_view_module_version": "1.5.0",
            "_view_name": "HBoxView",
            "box_style": "",
            "children": [
              "IPY_MODEL_7ecd8048feff4d4cb876f69076f04ff2",
              "IPY_MODEL_647055122f744cf7aaab6449e84cadaa",
              "IPY_MODEL_ae53ed55c8c94211ac9be5ed770f19df"
            ],
            "layout": "IPY_MODEL_de800387c8154c1cbbcc82a7a7aefd72"
          }
        },
        "d33237acd6304ce2be65703b1d05f6cf": {
          "model_module": "@jupyter-widgets/controls",
          "model_module_version": "1.5.0",
          "model_name": "DescriptionStyleModel",
          "state": {
            "_model_module": "@jupyter-widgets/controls",
            "_model_module_version": "1.5.0",
            "_model_name": "DescriptionStyleModel",
            "_view_count": null,
            "_view_module": "@jupyter-widgets/base",
            "_view_module_version": "1.2.0",
            "_view_name": "StyleView",
            "description_width": ""
          }
        },
        "d3a2786d303b4b658c8a87b6c647e92f": {
          "model_module": "@jupyter-widgets/base",
          "model_module_version": "1.2.0",
          "model_name": "LayoutModel",
          "state": {
            "_model_module": "@jupyter-widgets/base",
            "_model_module_version": "1.2.0",
            "_model_name": "LayoutModel",
            "_view_count": null,
            "_view_module": "@jupyter-widgets/base",
            "_view_module_version": "1.2.0",
            "_view_name": "LayoutView",
            "align_content": null,
            "align_items": null,
            "align_self": null,
            "border": null,
            "bottom": null,
            "display": null,
            "flex": null,
            "flex_flow": null,
            "grid_area": null,
            "grid_auto_columns": null,
            "grid_auto_flow": null,
            "grid_auto_rows": null,
            "grid_column": null,
            "grid_gap": null,
            "grid_row": null,
            "grid_template_areas": null,
            "grid_template_columns": null,
            "grid_template_rows": null,
            "height": null,
            "justify_content": null,
            "justify_items": null,
            "left": null,
            "margin": null,
            "max_height": null,
            "max_width": null,
            "min_height": null,
            "min_width": null,
            "object_fit": null,
            "object_position": null,
            "order": null,
            "overflow": null,
            "overflow_x": null,
            "overflow_y": null,
            "padding": null,
            "right": null,
            "top": null,
            "visibility": null,
            "width": null
          }
        },
        "d3f517eafe644747b54a9279541e761c": {
          "model_module": "@jupyter-widgets/controls",
          "model_module_version": "1.5.0",
          "model_name": "DescriptionStyleModel",
          "state": {
            "_model_module": "@jupyter-widgets/controls",
            "_model_module_version": "1.5.0",
            "_model_name": "DescriptionStyleModel",
            "_view_count": null,
            "_view_module": "@jupyter-widgets/base",
            "_view_module_version": "1.2.0",
            "_view_name": "StyleView",
            "description_width": ""
          }
        },
        "d41b85f08d82400d93941e678bfec49c": {
          "model_module": "@jupyter-widgets/base",
          "model_module_version": "1.2.0",
          "model_name": "LayoutModel",
          "state": {
            "_model_module": "@jupyter-widgets/base",
            "_model_module_version": "1.2.0",
            "_model_name": "LayoutModel",
            "_view_count": null,
            "_view_module": "@jupyter-widgets/base",
            "_view_module_version": "1.2.0",
            "_view_name": "LayoutView",
            "align_content": null,
            "align_items": null,
            "align_self": null,
            "border": null,
            "bottom": null,
            "display": null,
            "flex": null,
            "flex_flow": null,
            "grid_area": null,
            "grid_auto_columns": null,
            "grid_auto_flow": null,
            "grid_auto_rows": null,
            "grid_column": null,
            "grid_gap": null,
            "grid_row": null,
            "grid_template_areas": null,
            "grid_template_columns": null,
            "grid_template_rows": null,
            "height": null,
            "justify_content": null,
            "justify_items": null,
            "left": null,
            "margin": null,
            "max_height": null,
            "max_width": null,
            "min_height": null,
            "min_width": null,
            "object_fit": null,
            "object_position": null,
            "order": null,
            "overflow": null,
            "overflow_x": null,
            "overflow_y": null,
            "padding": null,
            "right": null,
            "top": null,
            "visibility": null,
            "width": null
          }
        },
        "d492857b6df24849bcd8ca830ba1be44": {
          "model_module": "@jupyter-widgets/controls",
          "model_module_version": "1.5.0",
          "model_name": "FloatProgressModel",
          "state": {
            "_dom_classes": [],
            "_model_module": "@jupyter-widgets/controls",
            "_model_module_version": "1.5.0",
            "_model_name": "FloatProgressModel",
            "_view_count": null,
            "_view_module": "@jupyter-widgets/controls",
            "_view_module_version": "1.5.0",
            "_view_name": "ProgressView",
            "bar_style": "success",
            "description": "",
            "description_tooltip": null,
            "layout": "IPY_MODEL_fb041771b3c94ccfbc55366f7bbb3b55",
            "max": 3668,
            "min": 0,
            "orientation": "horizontal",
            "style": "IPY_MODEL_cb42e0f2713846379fd16f3b6e3e115d",
            "value": 3668
          }
        },
        "d54a069659e744a1bf755201bb43a6b9": {
          "model_module": "@jupyter-widgets/controls",
          "model_module_version": "1.5.0",
          "model_name": "DescriptionStyleModel",
          "state": {
            "_model_module": "@jupyter-widgets/controls",
            "_model_module_version": "1.5.0",
            "_model_name": "DescriptionStyleModel",
            "_view_count": null,
            "_view_module": "@jupyter-widgets/base",
            "_view_module_version": "1.2.0",
            "_view_name": "StyleView",
            "description_width": ""
          }
        },
        "d66bf4cfeda14376a1e421083b6d8c8d": {
          "model_module": "@jupyter-widgets/base",
          "model_module_version": "1.2.0",
          "model_name": "LayoutModel",
          "state": {
            "_model_module": "@jupyter-widgets/base",
            "_model_module_version": "1.2.0",
            "_model_name": "LayoutModel",
            "_view_count": null,
            "_view_module": "@jupyter-widgets/base",
            "_view_module_version": "1.2.0",
            "_view_name": "LayoutView",
            "align_content": null,
            "align_items": null,
            "align_self": null,
            "border": null,
            "bottom": null,
            "display": null,
            "flex": null,
            "flex_flow": null,
            "grid_area": null,
            "grid_auto_columns": null,
            "grid_auto_flow": null,
            "grid_auto_rows": null,
            "grid_column": null,
            "grid_gap": null,
            "grid_row": null,
            "grid_template_areas": null,
            "grid_template_columns": null,
            "grid_template_rows": null,
            "height": null,
            "justify_content": null,
            "justify_items": null,
            "left": null,
            "margin": null,
            "max_height": null,
            "max_width": null,
            "min_height": null,
            "min_width": null,
            "object_fit": null,
            "object_position": null,
            "order": null,
            "overflow": null,
            "overflow_x": null,
            "overflow_y": null,
            "padding": null,
            "right": null,
            "top": null,
            "visibility": null,
            "width": null
          }
        },
        "d6c5ac04a3f946a6a872182813b0b87d": {
          "model_module": "@jupyter-widgets/base",
          "model_module_version": "1.2.0",
          "model_name": "LayoutModel",
          "state": {
            "_model_module": "@jupyter-widgets/base",
            "_model_module_version": "1.2.0",
            "_model_name": "LayoutModel",
            "_view_count": null,
            "_view_module": "@jupyter-widgets/base",
            "_view_module_version": "1.2.0",
            "_view_name": "LayoutView",
            "align_content": null,
            "align_items": null,
            "align_self": null,
            "border": null,
            "bottom": null,
            "display": null,
            "flex": null,
            "flex_flow": null,
            "grid_area": null,
            "grid_auto_columns": null,
            "grid_auto_flow": null,
            "grid_auto_rows": null,
            "grid_column": null,
            "grid_gap": null,
            "grid_row": null,
            "grid_template_areas": null,
            "grid_template_columns": null,
            "grid_template_rows": null,
            "height": null,
            "justify_content": null,
            "justify_items": null,
            "left": null,
            "margin": null,
            "max_height": null,
            "max_width": null,
            "min_height": null,
            "min_width": null,
            "object_fit": null,
            "object_position": null,
            "order": null,
            "overflow": null,
            "overflow_x": null,
            "overflow_y": null,
            "padding": null,
            "right": null,
            "top": null,
            "visibility": null,
            "width": null
          }
        },
        "d6db8bcb1ca84a489a5cc764813ad3b7": {
          "model_module": "@jupyter-widgets/base",
          "model_module_version": "1.2.0",
          "model_name": "LayoutModel",
          "state": {
            "_model_module": "@jupyter-widgets/base",
            "_model_module_version": "1.2.0",
            "_model_name": "LayoutModel",
            "_view_count": null,
            "_view_module": "@jupyter-widgets/base",
            "_view_module_version": "1.2.0",
            "_view_name": "LayoutView",
            "align_content": null,
            "align_items": null,
            "align_self": null,
            "border": null,
            "bottom": null,
            "display": null,
            "flex": null,
            "flex_flow": null,
            "grid_area": null,
            "grid_auto_columns": null,
            "grid_auto_flow": null,
            "grid_auto_rows": null,
            "grid_column": null,
            "grid_gap": null,
            "grid_row": null,
            "grid_template_areas": null,
            "grid_template_columns": null,
            "grid_template_rows": null,
            "height": null,
            "justify_content": null,
            "justify_items": null,
            "left": null,
            "margin": null,
            "max_height": null,
            "max_width": null,
            "min_height": null,
            "min_width": null,
            "object_fit": null,
            "object_position": null,
            "order": null,
            "overflow": null,
            "overflow_x": null,
            "overflow_y": null,
            "padding": null,
            "right": null,
            "top": null,
            "visibility": null,
            "width": null
          }
        },
        "d882c4d019b04a2daf30485819a0ad71": {
          "model_module": "@jupyter-widgets/controls",
          "model_module_version": "1.5.0",
          "model_name": "FloatProgressModel",
          "state": {
            "_dom_classes": [],
            "_model_module": "@jupyter-widgets/controls",
            "_model_module_version": "1.5.0",
            "_model_name": "FloatProgressModel",
            "_view_count": null,
            "_view_module": "@jupyter-widgets/controls",
            "_view_module_version": "1.5.0",
            "_view_name": "ProgressView",
            "bar_style": "success",
            "description": "",
            "description_tooltip": null,
            "layout": "IPY_MODEL_417e75926bf647c29e409980330be185",
            "max": 1042301,
            "min": 0,
            "orientation": "horizontal",
            "style": "IPY_MODEL_90ce105df74c44c3a552719cf2412d0a",
            "value": 1042301
          }
        },
        "d90c92a761d94129ac73b53abd43d5a7": {
          "model_module": "@jupyter-widgets/controls",
          "model_module_version": "1.5.0",
          "model_name": "FloatProgressModel",
          "state": {
            "_dom_classes": [],
            "_model_module": "@jupyter-widgets/controls",
            "_model_module_version": "1.5.0",
            "_model_name": "FloatProgressModel",
            "_view_count": null,
            "_view_module": "@jupyter-widgets/controls",
            "_view_module_version": "1.5.0",
            "_view_name": "ProgressView",
            "bar_style": "success",
            "description": "",
            "description_tooltip": null,
            "layout": "IPY_MODEL_69e629e19dbf40e19e1fb1a5119b271b",
            "max": 548105171,
            "min": 0,
            "orientation": "horizontal",
            "style": "IPY_MODEL_cc066e391a9c49f9969e3324df962d92",
            "value": 548105171
          }
        },
        "d95bd72e1eb441cf85e56b4c171fd123": {
          "model_module": "@jupyter-widgets/controls",
          "model_module_version": "1.5.0",
          "model_name": "HTMLModel",
          "state": {
            "_dom_classes": [],
            "_model_module": "@jupyter-widgets/controls",
            "_model_module_version": "1.5.0",
            "_model_name": "HTMLModel",
            "_view_count": null,
            "_view_module": "@jupyter-widgets/controls",
            "_view_module_version": "1.5.0",
            "_view_name": "HTMLView",
            "description": "",
            "description_tooltip": null,
            "layout": "IPY_MODEL_649833f7f8cf4b6e8a8745741f5252ad",
            "placeholder": "​",
            "style": "IPY_MODEL_f672e45549324dec9fdfc779db73d0f4",
            "value": "vocab.json: 100%"
          }
        },
        "dbec9e7008dc44d0a98e6132a0b39a0b": {
          "model_module": "@jupyter-widgets/controls",
          "model_module_version": "1.5.0",
          "model_name": "HTMLModel",
          "state": {
            "_dom_classes": [],
            "_model_module": "@jupyter-widgets/controls",
            "_model_module_version": "1.5.0",
            "_model_name": "HTMLModel",
            "_view_count": null,
            "_view_module": "@jupyter-widgets/controls",
            "_view_module_version": "1.5.0",
            "_view_name": "HTMLView",
            "description": "",
            "description_tooltip": null,
            "layout": "IPY_MODEL_f9147af0ae5245538e1f6a91b61252aa",
            "placeholder": "​",
            "style": "IPY_MODEL_1a3fd67a7ff7406a8490f85fa1989e14",
            "value": " 649k/649k [00:00&lt;00:00, 3.65MB/s]"
          }
        },
        "dc5b3008dbd44c12ab2a6f3852898a19": {
          "model_module": "@jupyter-widgets/base",
          "model_module_version": "1.2.0",
          "model_name": "LayoutModel",
          "state": {
            "_model_module": "@jupyter-widgets/base",
            "_model_module_version": "1.2.0",
            "_model_name": "LayoutModel",
            "_view_count": null,
            "_view_module": "@jupyter-widgets/base",
            "_view_module_version": "1.2.0",
            "_view_name": "LayoutView",
            "align_content": null,
            "align_items": null,
            "align_self": null,
            "border": null,
            "bottom": null,
            "display": null,
            "flex": null,
            "flex_flow": null,
            "grid_area": null,
            "grid_auto_columns": null,
            "grid_auto_flow": null,
            "grid_auto_rows": null,
            "grid_column": null,
            "grid_gap": null,
            "grid_row": null,
            "grid_template_areas": null,
            "grid_template_columns": null,
            "grid_template_rows": null,
            "height": null,
            "justify_content": null,
            "justify_items": null,
            "left": null,
            "margin": null,
            "max_height": null,
            "max_width": null,
            "min_height": null,
            "min_width": null,
            "object_fit": null,
            "object_position": null,
            "order": null,
            "overflow": null,
            "overflow_x": null,
            "overflow_y": null,
            "padding": null,
            "right": null,
            "top": null,
            "visibility": null,
            "width": null
          }
        },
        "de40ee7490cc417bb1c9008ff0cd3215": {
          "model_module": "@jupyter-widgets/base",
          "model_module_version": "1.2.0",
          "model_name": "LayoutModel",
          "state": {
            "_model_module": "@jupyter-widgets/base",
            "_model_module_version": "1.2.0",
            "_model_name": "LayoutModel",
            "_view_count": null,
            "_view_module": "@jupyter-widgets/base",
            "_view_module_version": "1.2.0",
            "_view_name": "LayoutView",
            "align_content": null,
            "align_items": null,
            "align_self": null,
            "border": null,
            "bottom": null,
            "display": null,
            "flex": null,
            "flex_flow": null,
            "grid_area": null,
            "grid_auto_columns": null,
            "grid_auto_flow": null,
            "grid_auto_rows": null,
            "grid_column": null,
            "grid_gap": null,
            "grid_row": null,
            "grid_template_areas": null,
            "grid_template_columns": null,
            "grid_template_rows": null,
            "height": null,
            "justify_content": null,
            "justify_items": null,
            "left": null,
            "margin": null,
            "max_height": null,
            "max_width": null,
            "min_height": null,
            "min_width": null,
            "object_fit": null,
            "object_position": null,
            "order": null,
            "overflow": null,
            "overflow_x": null,
            "overflow_y": null,
            "padding": null,
            "right": null,
            "top": null,
            "visibility": null,
            "width": null
          }
        },
        "de7c0899ba0c46fda7a008fbe45b349f": {
          "model_module": "@jupyter-widgets/controls",
          "model_module_version": "1.5.0",
          "model_name": "ProgressStyleModel",
          "state": {
            "_model_module": "@jupyter-widgets/controls",
            "_model_module_version": "1.5.0",
            "_model_name": "ProgressStyleModel",
            "_view_count": null,
            "_view_module": "@jupyter-widgets/base",
            "_view_module_version": "1.2.0",
            "_view_name": "StyleView",
            "bar_color": null,
            "description_width": ""
          }
        },
        "de800387c8154c1cbbcc82a7a7aefd72": {
          "model_module": "@jupyter-widgets/base",
          "model_module_version": "1.2.0",
          "model_name": "LayoutModel",
          "state": {
            "_model_module": "@jupyter-widgets/base",
            "_model_module_version": "1.2.0",
            "_model_name": "LayoutModel",
            "_view_count": null,
            "_view_module": "@jupyter-widgets/base",
            "_view_module_version": "1.2.0",
            "_view_name": "LayoutView",
            "align_content": null,
            "align_items": null,
            "align_self": null,
            "border": null,
            "bottom": null,
            "display": null,
            "flex": null,
            "flex_flow": null,
            "grid_area": null,
            "grid_auto_columns": null,
            "grid_auto_flow": null,
            "grid_auto_rows": null,
            "grid_column": null,
            "grid_gap": null,
            "grid_row": null,
            "grid_template_areas": null,
            "grid_template_columns": null,
            "grid_template_rows": null,
            "height": null,
            "justify_content": null,
            "justify_items": null,
            "left": null,
            "margin": null,
            "max_height": null,
            "max_width": null,
            "min_height": null,
            "min_width": null,
            "object_fit": null,
            "object_position": null,
            "order": null,
            "overflow": null,
            "overflow_x": null,
            "overflow_y": null,
            "padding": null,
            "right": null,
            "top": null,
            "visibility": null,
            "width": null
          }
        },
        "debf64a8b776492d9be7e9f73769d6aa": {
          "model_module": "@jupyter-widgets/base",
          "model_module_version": "1.2.0",
          "model_name": "LayoutModel",
          "state": {
            "_model_module": "@jupyter-widgets/base",
            "_model_module_version": "1.2.0",
            "_model_name": "LayoutModel",
            "_view_count": null,
            "_view_module": "@jupyter-widgets/base",
            "_view_module_version": "1.2.0",
            "_view_name": "LayoutView",
            "align_content": null,
            "align_items": null,
            "align_self": null,
            "border": null,
            "bottom": null,
            "display": null,
            "flex": null,
            "flex_flow": null,
            "grid_area": null,
            "grid_auto_columns": null,
            "grid_auto_flow": null,
            "grid_auto_rows": null,
            "grid_column": null,
            "grid_gap": null,
            "grid_row": null,
            "grid_template_areas": null,
            "grid_template_columns": null,
            "grid_template_rows": null,
            "height": null,
            "justify_content": null,
            "justify_items": null,
            "left": null,
            "margin": null,
            "max_height": null,
            "max_width": null,
            "min_height": null,
            "min_width": null,
            "object_fit": null,
            "object_position": null,
            "order": null,
            "overflow": null,
            "overflow_x": null,
            "overflow_y": null,
            "padding": null,
            "right": null,
            "top": null,
            "visibility": null,
            "width": null
          }
        },
        "df666c85af2f4114b8dd385e76cfea4f": {
          "model_module": "@jupyter-widgets/base",
          "model_module_version": "1.2.0",
          "model_name": "LayoutModel",
          "state": {
            "_model_module": "@jupyter-widgets/base",
            "_model_module_version": "1.2.0",
            "_model_name": "LayoutModel",
            "_view_count": null,
            "_view_module": "@jupyter-widgets/base",
            "_view_module_version": "1.2.0",
            "_view_name": "LayoutView",
            "align_content": null,
            "align_items": null,
            "align_self": null,
            "border": null,
            "bottom": null,
            "display": null,
            "flex": null,
            "flex_flow": null,
            "grid_area": null,
            "grid_auto_columns": null,
            "grid_auto_flow": null,
            "grid_auto_rows": null,
            "grid_column": null,
            "grid_gap": null,
            "grid_row": null,
            "grid_template_areas": null,
            "grid_template_columns": null,
            "grid_template_rows": null,
            "height": null,
            "justify_content": null,
            "justify_items": null,
            "left": null,
            "margin": null,
            "max_height": null,
            "max_width": null,
            "min_height": null,
            "min_width": null,
            "object_fit": null,
            "object_position": null,
            "order": null,
            "overflow": null,
            "overflow_x": null,
            "overflow_y": null,
            "padding": null,
            "right": null,
            "top": null,
            "visibility": null,
            "width": null
          }
        },
        "e00aa5c4ac2648dcaf74ee52bd484ce6": {
          "model_module": "@jupyter-widgets/controls",
          "model_module_version": "1.5.0",
          "model_name": "HTMLModel",
          "state": {
            "_dom_classes": [],
            "_model_module": "@jupyter-widgets/controls",
            "_model_module_version": "1.5.0",
            "_model_name": "HTMLModel",
            "_view_count": null,
            "_view_module": "@jupyter-widgets/controls",
            "_view_module_version": "1.5.0",
            "_view_name": "HTMLView",
            "description": "",
            "description_tooltip": null,
            "layout": "IPY_MODEL_b73de59f72ea43bea9182ced8ba307ef",
            "placeholder": "​",
            "style": "IPY_MODEL_01b1ec841822442895f57c523912588a",
            "value": "Map: 100%"
          }
        },
        "e0d8368327f8404a96a3c4a824b2d41e": {
          "model_module": "@jupyter-widgets/controls",
          "model_module_version": "1.5.0",
          "model_name": "FloatProgressModel",
          "state": {
            "_dom_classes": [],
            "_model_module": "@jupyter-widgets/controls",
            "_model_module_version": "1.5.0",
            "_model_name": "FloatProgressModel",
            "_view_count": null,
            "_view_module": "@jupyter-widgets/controls",
            "_view_module_version": "1.5.0",
            "_view_name": "ProgressView",
            "bar_style": "success",
            "description": "",
            "description_tooltip": null,
            "layout": "IPY_MODEL_f7fa3717cc8744a782201e1eaa2e3b89",
            "max": 456318,
            "min": 0,
            "orientation": "horizontal",
            "style": "IPY_MODEL_485b2b764860424fb6bce2a2f01904e5",
            "value": 456318
          }
        },
        "e105debffbbb43059834136e5d46afc4": {
          "model_module": "@jupyter-widgets/controls",
          "model_module_version": "1.5.0",
          "model_name": "FloatProgressModel",
          "state": {
            "_dom_classes": [],
            "_model_module": "@jupyter-widgets/controls",
            "_model_module_version": "1.5.0",
            "_model_name": "FloatProgressModel",
            "_view_count": null,
            "_view_module": "@jupyter-widgets/controls",
            "_view_module_version": "1.5.0",
            "_view_name": "ProgressView",
            "bar_style": "success",
            "description": "",
            "description_tooltip": null,
            "layout": "IPY_MODEL_25e44110ce7f406a90199caec50bc98c",
            "max": 331055963,
            "min": 0,
            "orientation": "horizontal",
            "style": "IPY_MODEL_a7742b9aca8245629bf68aabbb6520b1",
            "value": 331055963
          }
        },
        "e12b02e3fc894d939527b84ea1113270": {
          "model_module": "@jupyter-widgets/controls",
          "model_module_version": "1.5.0",
          "model_name": "HTMLModel",
          "state": {
            "_dom_classes": [],
            "_model_module": "@jupyter-widgets/controls",
            "_model_module_version": "1.5.0",
            "_model_name": "HTMLModel",
            "_view_count": null,
            "_view_module": "@jupyter-widgets/controls",
            "_view_module_version": "1.5.0",
            "_view_name": "HTMLView",
            "description": "",
            "description_tooltip": null,
            "layout": "IPY_MODEL_1059ab1c328042b0a190962486cfc727",
            "placeholder": "​",
            "style": "IPY_MODEL_ba7cdca797194720af03177f7aec5eba",
            "value": "merges.txt: 100%"
          }
        },
        "e16130b0698f436e89206db9f10f500b": {
          "model_module": "@jupyter-widgets/controls",
          "model_module_version": "1.5.0",
          "model_name": "HTMLModel",
          "state": {
            "_dom_classes": [],
            "_model_module": "@jupyter-widgets/controls",
            "_model_module_version": "1.5.0",
            "_model_name": "HTMLModel",
            "_view_count": null,
            "_view_module": "@jupyter-widgets/controls",
            "_view_module_version": "1.5.0",
            "_view_name": "HTMLView",
            "description": "",
            "description_tooltip": null,
            "layout": "IPY_MODEL_ea6ab806206943ccb257bd05b170b32d",
            "placeholder": "​",
            "style": "IPY_MODEL_6ef307e2b3074916b0082655f11e8256",
            "value": "vocab.txt: 100%"
          }
        },
        "e2060029b0a64680a1f2727f208a9afa": {
          "model_module": "@jupyter-widgets/controls",
          "model_module_version": "1.5.0",
          "model_name": "HTMLModel",
          "state": {
            "_dom_classes": [],
            "_model_module": "@jupyter-widgets/controls",
            "_model_module_version": "1.5.0",
            "_model_name": "HTMLModel",
            "_view_count": null,
            "_view_module": "@jupyter-widgets/controls",
            "_view_module_version": "1.5.0",
            "_view_name": "HTMLView",
            "description": "",
            "description_tooltip": null,
            "layout": "IPY_MODEL_bc94672b792e42e8baec2919d0a36c80",
            "placeholder": "​",
            "style": "IPY_MODEL_a717ec70d2144a998c6f662821460474",
            "value": " 268M/268M [00:01&lt;00:00, 172MB/s]"
          }
        },
        "e24fffe7a2a34d11b611b97984f451bf": {
          "model_module": "@jupyter-widgets/controls",
          "model_module_version": "1.5.0",
          "model_name": "HTMLModel",
          "state": {
            "_dom_classes": [],
            "_model_module": "@jupyter-widgets/controls",
            "_model_module_version": "1.5.0",
            "_model_name": "HTMLModel",
            "_view_count": null,
            "_view_module": "@jupyter-widgets/controls",
            "_view_module_version": "1.5.0",
            "_view_name": "HTMLView",
            "description": "",
            "description_tooltip": null,
            "layout": "IPY_MODEL_4868bb99c42f4008849753e5ebe67991",
            "placeholder": "​",
            "style": "IPY_MODEL_31f645d4e3294b72b331d1d87db6f1a5",
            "value": "config.json: 100%"
          }
        },
        "e2fcf406f19743c28b21230cd62ff2e6": {
          "model_module": "@jupyter-widgets/controls",
          "model_module_version": "1.5.0",
          "model_name": "DescriptionStyleModel",
          "state": {
            "_model_module": "@jupyter-widgets/controls",
            "_model_module_version": "1.5.0",
            "_model_name": "DescriptionStyleModel",
            "_view_count": null,
            "_view_module": "@jupyter-widgets/base",
            "_view_module_version": "1.2.0",
            "_view_name": "StyleView",
            "description_width": ""
          }
        },
        "e3218b1195db46e9b5a316f03aeec59e": {
          "model_module": "@jupyter-widgets/controls",
          "model_module_version": "1.5.0",
          "model_name": "HTMLModel",
          "state": {
            "_dom_classes": [],
            "_model_module": "@jupyter-widgets/controls",
            "_model_module_version": "1.5.0",
            "_model_name": "HTMLModel",
            "_view_count": null,
            "_view_module": "@jupyter-widgets/controls",
            "_view_module_version": "1.5.0",
            "_view_name": "HTMLView",
            "description": "",
            "description_tooltip": null,
            "layout": "IPY_MODEL_a085a545384b46ada56bfe966a41aafc",
            "placeholder": "​",
            "style": "IPY_MODEL_bf6bfcbfe62043ebb4e34f376a9132c9",
            "value": "vocab.json: 100%"
          }
        },
        "e37d89d394a1478eba734047be8675a1": {
          "model_module": "@jupyter-widgets/controls",
          "model_module_version": "1.5.0",
          "model_name": "HTMLModel",
          "state": {
            "_dom_classes": [],
            "_model_module": "@jupyter-widgets/controls",
            "_model_module_version": "1.5.0",
            "_model_name": "HTMLModel",
            "_view_count": null,
            "_view_module": "@jupyter-widgets/controls",
            "_view_module_version": "1.5.0",
            "_view_name": "HTMLView",
            "description": "",
            "description_tooltip": null,
            "layout": "IPY_MODEL_f72cf75106c941f388d678bcf1666e90",
            "placeholder": "​",
            "style": "IPY_MODEL_ed6e0ac9b689462e91576ea28b6664c4",
            "value": "tokenizer.json: 100%"
          }
        },
        "e493c3e0b9954259b42f1f990efe0135": {
          "model_module": "@jupyter-widgets/controls",
          "model_module_version": "1.5.0",
          "model_name": "HTMLModel",
          "state": {
            "_dom_classes": [],
            "_model_module": "@jupyter-widgets/controls",
            "_model_module_version": "1.5.0",
            "_model_name": "HTMLModel",
            "_view_count": null,
            "_view_module": "@jupyter-widgets/controls",
            "_view_module_version": "1.5.0",
            "_view_name": "HTMLView",
            "description": "",
            "description_tooltip": null,
            "layout": "IPY_MODEL_d168f80e54ad4f7d8866b6ce4551c31c",
            "placeholder": "​",
            "style": "IPY_MODEL_6aeff0ffb89547baaab9d585fead64cd",
            "value": "model.safetensors: 100%"
          }
        },
        "e49ea8a7454245acbde2bbe64b74477b": {
          "model_module": "@jupyter-widgets/base",
          "model_module_version": "1.2.0",
          "model_name": "LayoutModel",
          "state": {
            "_model_module": "@jupyter-widgets/base",
            "_model_module_version": "1.2.0",
            "_model_name": "LayoutModel",
            "_view_count": null,
            "_view_module": "@jupyter-widgets/base",
            "_view_module_version": "1.2.0",
            "_view_name": "LayoutView",
            "align_content": null,
            "align_items": null,
            "align_self": null,
            "border": null,
            "bottom": null,
            "display": null,
            "flex": null,
            "flex_flow": null,
            "grid_area": null,
            "grid_auto_columns": null,
            "grid_auto_flow": null,
            "grid_auto_rows": null,
            "grid_column": null,
            "grid_gap": null,
            "grid_row": null,
            "grid_template_areas": null,
            "grid_template_columns": null,
            "grid_template_rows": null,
            "height": null,
            "justify_content": null,
            "justify_items": null,
            "left": null,
            "margin": null,
            "max_height": null,
            "max_width": null,
            "min_height": null,
            "min_width": null,
            "object_fit": null,
            "object_position": null,
            "order": null,
            "overflow": null,
            "overflow_x": null,
            "overflow_y": null,
            "padding": null,
            "right": null,
            "top": null,
            "visibility": null,
            "width": null
          }
        },
        "e5c9290df605489b8b766b7891fa2cbc": {
          "model_module": "@jupyter-widgets/controls",
          "model_module_version": "1.5.0",
          "model_name": "FloatProgressModel",
          "state": {
            "_dom_classes": [],
            "_model_module": "@jupyter-widgets/controls",
            "_model_module_version": "1.5.0",
            "_model_name": "FloatProgressModel",
            "_view_count": null,
            "_view_module": "@jupyter-widgets/controls",
            "_view_module_version": "1.5.0",
            "_view_name": "ProgressView",
            "bar_style": "success",
            "description": "",
            "description_tooltip": null,
            "layout": "IPY_MODEL_f701679327ea4b56803c95fa36465c00",
            "max": 26,
            "min": 0,
            "orientation": "horizontal",
            "style": "IPY_MODEL_fb6fd0cf67c14ffb828432c8618adc1e",
            "value": 26
          }
        },
        "e72ba593aa064bd2a1f4b80dde376667": {
          "model_module": "@jupyter-widgets/base",
          "model_module_version": "1.2.0",
          "model_name": "LayoutModel",
          "state": {
            "_model_module": "@jupyter-widgets/base",
            "_model_module_version": "1.2.0",
            "_model_name": "LayoutModel",
            "_view_count": null,
            "_view_module": "@jupyter-widgets/base",
            "_view_module_version": "1.2.0",
            "_view_name": "LayoutView",
            "align_content": null,
            "align_items": null,
            "align_self": null,
            "border": null,
            "bottom": null,
            "display": null,
            "flex": null,
            "flex_flow": null,
            "grid_area": null,
            "grid_auto_columns": null,
            "grid_auto_flow": null,
            "grid_auto_rows": null,
            "grid_column": null,
            "grid_gap": null,
            "grid_row": null,
            "grid_template_areas": null,
            "grid_template_columns": null,
            "grid_template_rows": null,
            "height": null,
            "justify_content": null,
            "justify_items": null,
            "left": null,
            "margin": null,
            "max_height": null,
            "max_width": null,
            "min_height": null,
            "min_width": null,
            "object_fit": null,
            "object_position": null,
            "order": null,
            "overflow": null,
            "overflow_x": null,
            "overflow_y": null,
            "padding": null,
            "right": null,
            "top": null,
            "visibility": null,
            "width": null
          }
        },
        "e77da712f1bf493daf95826d99d92274": {
          "model_module": "@jupyter-widgets/controls",
          "model_module_version": "1.5.0",
          "model_name": "DescriptionStyleModel",
          "state": {
            "_model_module": "@jupyter-widgets/controls",
            "_model_module_version": "1.5.0",
            "_model_name": "DescriptionStyleModel",
            "_view_count": null,
            "_view_module": "@jupyter-widgets/base",
            "_view_module_version": "1.2.0",
            "_view_name": "StyleView",
            "description_width": ""
          }
        },
        "e79b88eda179468fac6a66b07e42e160": {
          "model_module": "@jupyter-widgets/base",
          "model_module_version": "1.2.0",
          "model_name": "LayoutModel",
          "state": {
            "_model_module": "@jupyter-widgets/base",
            "_model_module_version": "1.2.0",
            "_model_name": "LayoutModel",
            "_view_count": null,
            "_view_module": "@jupyter-widgets/base",
            "_view_module_version": "1.2.0",
            "_view_name": "LayoutView",
            "align_content": null,
            "align_items": null,
            "align_self": null,
            "border": null,
            "bottom": null,
            "display": null,
            "flex": null,
            "flex_flow": null,
            "grid_area": null,
            "grid_auto_columns": null,
            "grid_auto_flow": null,
            "grid_auto_rows": null,
            "grid_column": null,
            "grid_gap": null,
            "grid_row": null,
            "grid_template_areas": null,
            "grid_template_columns": null,
            "grid_template_rows": null,
            "height": null,
            "justify_content": null,
            "justify_items": null,
            "left": null,
            "margin": null,
            "max_height": null,
            "max_width": null,
            "min_height": null,
            "min_width": null,
            "object_fit": null,
            "object_position": null,
            "order": null,
            "overflow": null,
            "overflow_x": null,
            "overflow_y": null,
            "padding": null,
            "right": null,
            "top": null,
            "visibility": null,
            "width": null
          }
        },
        "e8b573eaad4c4babb02fc19d288544f6": {
          "model_module": "@jupyter-widgets/base",
          "model_module_version": "1.2.0",
          "model_name": "LayoutModel",
          "state": {
            "_model_module": "@jupyter-widgets/base",
            "_model_module_version": "1.2.0",
            "_model_name": "LayoutModel",
            "_view_count": null,
            "_view_module": "@jupyter-widgets/base",
            "_view_module_version": "1.2.0",
            "_view_name": "LayoutView",
            "align_content": null,
            "align_items": null,
            "align_self": null,
            "border": null,
            "bottom": null,
            "display": null,
            "flex": null,
            "flex_flow": null,
            "grid_area": null,
            "grid_auto_columns": null,
            "grid_auto_flow": null,
            "grid_auto_rows": null,
            "grid_column": null,
            "grid_gap": null,
            "grid_row": null,
            "grid_template_areas": null,
            "grid_template_columns": null,
            "grid_template_rows": null,
            "height": null,
            "justify_content": null,
            "justify_items": null,
            "left": null,
            "margin": null,
            "max_height": null,
            "max_width": null,
            "min_height": null,
            "min_width": null,
            "object_fit": null,
            "object_position": null,
            "order": null,
            "overflow": null,
            "overflow_x": null,
            "overflow_y": null,
            "padding": null,
            "right": null,
            "top": null,
            "visibility": null,
            "width": null
          }
        },
        "e8e9b2e128ef48ea91f8c4a18d77026f": {
          "model_module": "@jupyter-widgets/controls",
          "model_module_version": "1.5.0",
          "model_name": "HTMLModel",
          "state": {
            "_dom_classes": [],
            "_model_module": "@jupyter-widgets/controls",
            "_model_module_version": "1.5.0",
            "_model_name": "HTMLModel",
            "_view_count": null,
            "_view_module": "@jupyter-widgets/controls",
            "_view_module_version": "1.5.0",
            "_view_name": "HTMLView",
            "description": "",
            "description_tooltip": null,
            "layout": "IPY_MODEL_3e75c46e9c0b4f7a9927bb84a47a30d7",
            "placeholder": "​",
            "style": "IPY_MODEL_37a764bf35f6462b8493b8ab6ec1367d",
            "value": " 436k/436k [00:00&lt;00:00, 23.1MB/s]"
          }
        },
        "e9009d1d918146b69466790f365e1694": {
          "model_module": "@jupyter-widgets/base",
          "model_module_version": "1.2.0",
          "model_name": "LayoutModel",
          "state": {
            "_model_module": "@jupyter-widgets/base",
            "_model_module_version": "1.2.0",
            "_model_name": "LayoutModel",
            "_view_count": null,
            "_view_module": "@jupyter-widgets/base",
            "_view_module_version": "1.2.0",
            "_view_name": "LayoutView",
            "align_content": null,
            "align_items": null,
            "align_self": null,
            "border": null,
            "bottom": null,
            "display": null,
            "flex": null,
            "flex_flow": null,
            "grid_area": null,
            "grid_auto_columns": null,
            "grid_auto_flow": null,
            "grid_auto_rows": null,
            "grid_column": null,
            "grid_gap": null,
            "grid_row": null,
            "grid_template_areas": null,
            "grid_template_columns": null,
            "grid_template_rows": null,
            "height": null,
            "justify_content": null,
            "justify_items": null,
            "left": null,
            "margin": null,
            "max_height": null,
            "max_width": null,
            "min_height": null,
            "min_width": null,
            "object_fit": null,
            "object_position": null,
            "order": null,
            "overflow": null,
            "overflow_x": null,
            "overflow_y": null,
            "padding": null,
            "right": null,
            "top": null,
            "visibility": null,
            "width": null
          }
        },
        "ea6ab806206943ccb257bd05b170b32d": {
          "model_module": "@jupyter-widgets/base",
          "model_module_version": "1.2.0",
          "model_name": "LayoutModel",
          "state": {
            "_model_module": "@jupyter-widgets/base",
            "_model_module_version": "1.2.0",
            "_model_name": "LayoutModel",
            "_view_count": null,
            "_view_module": "@jupyter-widgets/base",
            "_view_module_version": "1.2.0",
            "_view_name": "LayoutView",
            "align_content": null,
            "align_items": null,
            "align_self": null,
            "border": null,
            "bottom": null,
            "display": null,
            "flex": null,
            "flex_flow": null,
            "grid_area": null,
            "grid_auto_columns": null,
            "grid_auto_flow": null,
            "grid_auto_rows": null,
            "grid_column": null,
            "grid_gap": null,
            "grid_row": null,
            "grid_template_areas": null,
            "grid_template_columns": null,
            "grid_template_rows": null,
            "height": null,
            "justify_content": null,
            "justify_items": null,
            "left": null,
            "margin": null,
            "max_height": null,
            "max_width": null,
            "min_height": null,
            "min_width": null,
            "object_fit": null,
            "object_position": null,
            "order": null,
            "overflow": null,
            "overflow_x": null,
            "overflow_y": null,
            "padding": null,
            "right": null,
            "top": null,
            "visibility": null,
            "width": null
          }
        },
        "eabf640c7ecf41d4b0ea08996ddfa1de": {
          "model_module": "@jupyter-widgets/controls",
          "model_module_version": "1.5.0",
          "model_name": "HTMLModel",
          "state": {
            "_dom_classes": [],
            "_model_module": "@jupyter-widgets/controls",
            "_model_module_version": "1.5.0",
            "_model_name": "HTMLModel",
            "_view_count": null,
            "_view_module": "@jupyter-widgets/controls",
            "_view_module_version": "1.5.0",
            "_view_name": "HTMLView",
            "description": "",
            "description_tooltip": null,
            "layout": "IPY_MODEL_4fca92ff73db4e2e8b2d398142045ec9",
            "placeholder": "​",
            "style": "IPY_MODEL_91d03108a6634960a5168804afec223b",
            "value": "config.json: 100%"
          }
        },
        "ead328d5823242d1ad378bff7ef833d3": {
          "model_module": "@jupyter-widgets/base",
          "model_module_version": "1.2.0",
          "model_name": "LayoutModel",
          "state": {
            "_model_module": "@jupyter-widgets/base",
            "_model_module_version": "1.2.0",
            "_model_name": "LayoutModel",
            "_view_count": null,
            "_view_module": "@jupyter-widgets/base",
            "_view_module_version": "1.2.0",
            "_view_name": "LayoutView",
            "align_content": null,
            "align_items": null,
            "align_self": null,
            "border": null,
            "bottom": null,
            "display": null,
            "flex": null,
            "flex_flow": null,
            "grid_area": null,
            "grid_auto_columns": null,
            "grid_auto_flow": null,
            "grid_auto_rows": null,
            "grid_column": null,
            "grid_gap": null,
            "grid_row": null,
            "grid_template_areas": null,
            "grid_template_columns": null,
            "grid_template_rows": null,
            "height": null,
            "justify_content": null,
            "justify_items": null,
            "left": null,
            "margin": null,
            "max_height": null,
            "max_width": null,
            "min_height": null,
            "min_width": null,
            "object_fit": null,
            "object_position": null,
            "order": null,
            "overflow": null,
            "overflow_x": null,
            "overflow_y": null,
            "padding": null,
            "right": null,
            "top": null,
            "visibility": null,
            "width": null
          }
        },
        "ebfb3ebdf0164995b1c2f35d5f4de23f": {
          "model_module": "@jupyter-widgets/controls",
          "model_module_version": "1.5.0",
          "model_name": "DescriptionStyleModel",
          "state": {
            "_model_module": "@jupyter-widgets/controls",
            "_model_module_version": "1.5.0",
            "_model_name": "DescriptionStyleModel",
            "_view_count": null,
            "_view_module": "@jupyter-widgets/base",
            "_view_module_version": "1.2.0",
            "_view_name": "StyleView",
            "description_width": ""
          }
        },
        "ec423fe8272e4dea8632e5c7ff5cef3c": {
          "model_module": "@jupyter-widgets/base",
          "model_module_version": "1.2.0",
          "model_name": "LayoutModel",
          "state": {
            "_model_module": "@jupyter-widgets/base",
            "_model_module_version": "1.2.0",
            "_model_name": "LayoutModel",
            "_view_count": null,
            "_view_module": "@jupyter-widgets/base",
            "_view_module_version": "1.2.0",
            "_view_name": "LayoutView",
            "align_content": null,
            "align_items": null,
            "align_self": null,
            "border": null,
            "bottom": null,
            "display": null,
            "flex": null,
            "flex_flow": null,
            "grid_area": null,
            "grid_auto_columns": null,
            "grid_auto_flow": null,
            "grid_auto_rows": null,
            "grid_column": null,
            "grid_gap": null,
            "grid_row": null,
            "grid_template_areas": null,
            "grid_template_columns": null,
            "grid_template_rows": null,
            "height": null,
            "justify_content": null,
            "justify_items": null,
            "left": null,
            "margin": null,
            "max_height": null,
            "max_width": null,
            "min_height": null,
            "min_width": null,
            "object_fit": null,
            "object_position": null,
            "order": null,
            "overflow": null,
            "overflow_x": null,
            "overflow_y": null,
            "padding": null,
            "right": null,
            "top": null,
            "visibility": null,
            "width": null
          }
        },
        "ec83033f8caa4ea0841080ce51002861": {
          "model_module": "@jupyter-widgets/base",
          "model_module_version": "1.2.0",
          "model_name": "LayoutModel",
          "state": {
            "_model_module": "@jupyter-widgets/base",
            "_model_module_version": "1.2.0",
            "_model_name": "LayoutModel",
            "_view_count": null,
            "_view_module": "@jupyter-widgets/base",
            "_view_module_version": "1.2.0",
            "_view_name": "LayoutView",
            "align_content": null,
            "align_items": null,
            "align_self": null,
            "border": null,
            "bottom": null,
            "display": null,
            "flex": null,
            "flex_flow": null,
            "grid_area": null,
            "grid_auto_columns": null,
            "grid_auto_flow": null,
            "grid_auto_rows": null,
            "grid_column": null,
            "grid_gap": null,
            "grid_row": null,
            "grid_template_areas": null,
            "grid_template_columns": null,
            "grid_template_rows": null,
            "height": null,
            "justify_content": null,
            "justify_items": null,
            "left": null,
            "margin": null,
            "max_height": null,
            "max_width": null,
            "min_height": null,
            "min_width": null,
            "object_fit": null,
            "object_position": null,
            "order": null,
            "overflow": null,
            "overflow_x": null,
            "overflow_y": null,
            "padding": null,
            "right": null,
            "top": null,
            "visibility": null,
            "width": null
          }
        },
        "ed6e0ac9b689462e91576ea28b6664c4": {
          "model_module": "@jupyter-widgets/controls",
          "model_module_version": "1.5.0",
          "model_name": "DescriptionStyleModel",
          "state": {
            "_model_module": "@jupyter-widgets/controls",
            "_model_module_version": "1.5.0",
            "_model_name": "DescriptionStyleModel",
            "_view_count": null,
            "_view_module": "@jupyter-widgets/base",
            "_view_module_version": "1.2.0",
            "_view_name": "StyleView",
            "description_width": ""
          }
        },
        "edb86a6b8659432e913c6072e3303b22": {
          "model_module": "@jupyter-widgets/controls",
          "model_module_version": "1.5.0",
          "model_name": "HTMLModel",
          "state": {
            "_dom_classes": [],
            "_model_module": "@jupyter-widgets/controls",
            "_model_module_version": "1.5.0",
            "_model_name": "HTMLModel",
            "_view_count": null,
            "_view_module": "@jupyter-widgets/controls",
            "_view_module_version": "1.5.0",
            "_view_name": "HTMLView",
            "description": "",
            "description_tooltip": null,
            "layout": "IPY_MODEL_5c1cede4afe44ec6b38f78d116f3b950",
            "placeholder": "​",
            "style": "IPY_MODEL_17c7dea8c42f41388f6a9726a4e1632a",
            "value": "tokenizer_config.json: 100%"
          }
        },
        "ef4e089850484d709ca04a671ae6f789": {
          "model_module": "@jupyter-widgets/controls",
          "model_module_version": "1.5.0",
          "model_name": "HTMLModel",
          "state": {
            "_dom_classes": [],
            "_model_module": "@jupyter-widgets/controls",
            "_model_module_version": "1.5.0",
            "_model_name": "HTMLModel",
            "_view_count": null,
            "_view_module": "@jupyter-widgets/controls",
            "_view_module_version": "1.5.0",
            "_view_name": "HTMLView",
            "description": "",
            "description_tooltip": null,
            "layout": "IPY_MODEL_543b8187b7eb4a26be31155fa4568e1b",
            "placeholder": "​",
            "style": "IPY_MODEL_85733e0f42134920adb54755f8b98d06",
            "value": "README.md: 100%"
          }
        },
        "efc7cde4ce5c481ebe871d38c12fcaa0": {
          "model_module": "@jupyter-widgets/controls",
          "model_module_version": "1.5.0",
          "model_name": "FloatProgressModel",
          "state": {
            "_dom_classes": [],
            "_model_module": "@jupyter-widgets/controls",
            "_model_module_version": "1.5.0",
            "_model_name": "FloatProgressModel",
            "_view_count": null,
            "_view_module": "@jupyter-widgets/controls",
            "_view_module_version": "1.5.0",
            "_view_name": "ProgressView",
            "bar_style": "success",
            "description": "",
            "description_tooltip": null,
            "layout": "IPY_MODEL_d15f514308ea47e48b06c025d77c1254",
            "max": 1355256,
            "min": 0,
            "orientation": "horizontal",
            "style": "IPY_MODEL_c531c43ca88445c5bf5aed428d9f3803",
            "value": 1355256
          }
        },
        "efcb2c4795854509a380eefe29ed6ac7": {
          "model_module": "@jupyter-widgets/controls",
          "model_module_version": "1.5.0",
          "model_name": "DescriptionStyleModel",
          "state": {
            "_model_module": "@jupyter-widgets/controls",
            "_model_module_version": "1.5.0",
            "_model_name": "DescriptionStyleModel",
            "_view_count": null,
            "_view_module": "@jupyter-widgets/base",
            "_view_module_version": "1.2.0",
            "_view_name": "StyleView",
            "description_width": ""
          }
        },
        "efed81d50b39410eb8bc71fc870412cc": {
          "model_module": "@jupyter-widgets/base",
          "model_module_version": "1.2.0",
          "model_name": "LayoutModel",
          "state": {
            "_model_module": "@jupyter-widgets/base",
            "_model_module_version": "1.2.0",
            "_model_name": "LayoutModel",
            "_view_count": null,
            "_view_module": "@jupyter-widgets/base",
            "_view_module_version": "1.2.0",
            "_view_name": "LayoutView",
            "align_content": null,
            "align_items": null,
            "align_self": null,
            "border": null,
            "bottom": null,
            "display": null,
            "flex": null,
            "flex_flow": null,
            "grid_area": null,
            "grid_auto_columns": null,
            "grid_auto_flow": null,
            "grid_auto_rows": null,
            "grid_column": null,
            "grid_gap": null,
            "grid_row": null,
            "grid_template_areas": null,
            "grid_template_columns": null,
            "grid_template_rows": null,
            "height": null,
            "justify_content": null,
            "justify_items": null,
            "left": null,
            "margin": null,
            "max_height": null,
            "max_width": null,
            "min_height": null,
            "min_width": null,
            "object_fit": null,
            "object_position": null,
            "order": null,
            "overflow": null,
            "overflow_x": null,
            "overflow_y": null,
            "padding": null,
            "right": null,
            "top": null,
            "visibility": null,
            "width": null
          }
        },
        "f0ab2dfef46344d7a294ccab000f181f": {
          "model_module": "@jupyter-widgets/base",
          "model_module_version": "1.2.0",
          "model_name": "LayoutModel",
          "state": {
            "_model_module": "@jupyter-widgets/base",
            "_model_module_version": "1.2.0",
            "_model_name": "LayoutModel",
            "_view_count": null,
            "_view_module": "@jupyter-widgets/base",
            "_view_module_version": "1.2.0",
            "_view_name": "LayoutView",
            "align_content": null,
            "align_items": null,
            "align_self": null,
            "border": null,
            "bottom": null,
            "display": null,
            "flex": null,
            "flex_flow": null,
            "grid_area": null,
            "grid_auto_columns": null,
            "grid_auto_flow": null,
            "grid_auto_rows": null,
            "grid_column": null,
            "grid_gap": null,
            "grid_row": null,
            "grid_template_areas": null,
            "grid_template_columns": null,
            "grid_template_rows": null,
            "height": null,
            "justify_content": null,
            "justify_items": null,
            "left": null,
            "margin": null,
            "max_height": null,
            "max_width": null,
            "min_height": null,
            "min_width": null,
            "object_fit": null,
            "object_position": null,
            "order": null,
            "overflow": null,
            "overflow_x": null,
            "overflow_y": null,
            "padding": null,
            "right": null,
            "top": null,
            "visibility": null,
            "width": null
          }
        },
        "f119ea7f40fe47458efef5db6ad9315b": {
          "model_module": "@jupyter-widgets/controls",
          "model_module_version": "1.5.0",
          "model_name": "FloatProgressModel",
          "state": {
            "_dom_classes": [],
            "_model_module": "@jupyter-widgets/controls",
            "_model_module_version": "1.5.0",
            "_model_name": "FloatProgressModel",
            "_view_count": null,
            "_view_module": "@jupyter-widgets/controls",
            "_view_module_version": "1.5.0",
            "_view_name": "ProgressView",
            "bar_style": "success",
            "description": "",
            "description_tooltip": null,
            "layout": "IPY_MODEL_943dd82236564ac18a448760f9949f0c",
            "max": 48,
            "min": 0,
            "orientation": "horizontal",
            "style": "IPY_MODEL_642c66e452024307aa6ef8cfc475e4a3",
            "value": 48
          }
        },
        "f28473ec8dd340b79df108fa4b0b5ce8": {
          "model_module": "@jupyter-widgets/controls",
          "model_module_version": "1.5.0",
          "model_name": "FloatProgressModel",
          "state": {
            "_dom_classes": [],
            "_model_module": "@jupyter-widgets/controls",
            "_model_module_version": "1.5.0",
            "_model_name": "FloatProgressModel",
            "_view_count": null,
            "_view_module": "@jupyter-widgets/controls",
            "_view_module_version": "1.5.0",
            "_view_name": "ProgressView",
            "bar_style": "success",
            "description": "",
            "description_tooltip": null,
            "layout": "IPY_MODEL_20f8ef1231c14544991cf373f89972f1",
            "max": 308441,
            "min": 0,
            "orientation": "horizontal",
            "style": "IPY_MODEL_0aed2227bc804d6f96ccf45988b41a93",
            "value": 308441
          }
        },
        "f33225cb8a0a4185bbdded3565c0b026": {
          "model_module": "@jupyter-widgets/base",
          "model_module_version": "1.2.0",
          "model_name": "LayoutModel",
          "state": {
            "_model_module": "@jupyter-widgets/base",
            "_model_module_version": "1.2.0",
            "_model_name": "LayoutModel",
            "_view_count": null,
            "_view_module": "@jupyter-widgets/base",
            "_view_module_version": "1.2.0",
            "_view_name": "LayoutView",
            "align_content": null,
            "align_items": null,
            "align_self": null,
            "border": null,
            "bottom": null,
            "display": null,
            "flex": null,
            "flex_flow": null,
            "grid_area": null,
            "grid_auto_columns": null,
            "grid_auto_flow": null,
            "grid_auto_rows": null,
            "grid_column": null,
            "grid_gap": null,
            "grid_row": null,
            "grid_template_areas": null,
            "grid_template_columns": null,
            "grid_template_rows": null,
            "height": null,
            "justify_content": null,
            "justify_items": null,
            "left": null,
            "margin": null,
            "max_height": null,
            "max_width": null,
            "min_height": null,
            "min_width": null,
            "object_fit": null,
            "object_position": null,
            "order": null,
            "overflow": null,
            "overflow_x": null,
            "overflow_y": null,
            "padding": null,
            "right": null,
            "top": null,
            "visibility": null,
            "width": null
          }
        },
        "f35e7524f9154e8193352663fabe78aa": {
          "model_module": "@jupyter-widgets/controls",
          "model_module_version": "1.5.0",
          "model_name": "FloatProgressModel",
          "state": {
            "_dom_classes": [],
            "_model_module": "@jupyter-widgets/controls",
            "_model_module_version": "1.5.0",
            "_model_name": "FloatProgressModel",
            "_view_count": null,
            "_view_module": "@jupyter-widgets/controls",
            "_view_module_version": "1.5.0",
            "_view_name": "ProgressView",
            "bar_style": "success",
            "description": "",
            "description_tooltip": null,
            "layout": "IPY_MODEL_ca2c0d1e49e3473fb180ad90ea0d136b",
            "max": 35296,
            "min": 0,
            "orientation": "horizontal",
            "style": "IPY_MODEL_a338504b90404e6298b56cf0e005e599",
            "value": 35296
          }
        },
        "f3830472d83d4a11ae61e0a9405f6d22": {
          "model_module": "@jupyter-widgets/controls",
          "model_module_version": "1.5.0",
          "model_name": "HBoxModel",
          "state": {
            "_dom_classes": [],
            "_model_module": "@jupyter-widgets/controls",
            "_model_module_version": "1.5.0",
            "_model_name": "HBoxModel",
            "_view_count": null,
            "_view_module": "@jupyter-widgets/controls",
            "_view_module_version": "1.5.0",
            "_view_name": "HBoxView",
            "box_style": "",
            "children": [
              "IPY_MODEL_16f3a524e49d40e98c113c8373791c4b",
              "IPY_MODEL_10d7fb2a2f854f5cba3f06bcec276852",
              "IPY_MODEL_15451a86a5bc45f2ac730331a7caa8b0"
            ],
            "layout": "IPY_MODEL_f0ab2dfef46344d7a294ccab000f181f"
          }
        },
        "f42011399f7744059a6ceaf01988ced9": {
          "model_module": "@jupyter-widgets/controls",
          "model_module_version": "1.5.0",
          "model_name": "HTMLModel",
          "state": {
            "_dom_classes": [],
            "_model_module": "@jupyter-widgets/controls",
            "_model_module_version": "1.5.0",
            "_model_name": "HTMLModel",
            "_view_count": null,
            "_view_module": "@jupyter-widgets/controls",
            "_view_module_version": "1.5.0",
            "_view_name": "HTMLView",
            "description": "",
            "description_tooltip": null,
            "layout": "IPY_MODEL_ead328d5823242d1ad378bff7ef833d3",
            "placeholder": "​",
            "style": "IPY_MODEL_1a6c88d2e8424a9c87b671acb77e5849",
            "value": "tokenizer_config.json: 100%"
          }
        },
        "f4876507c3644139b3806fbf02f46ebd": {
          "model_module": "@jupyter-widgets/controls",
          "model_module_version": "1.5.0",
          "model_name": "DescriptionStyleModel",
          "state": {
            "_model_module": "@jupyter-widgets/controls",
            "_model_module_version": "1.5.0",
            "_model_name": "DescriptionStyleModel",
            "_view_count": null,
            "_view_module": "@jupyter-widgets/base",
            "_view_module_version": "1.2.0",
            "_view_name": "StyleView",
            "description_width": ""
          }
        },
        "f48ba00691354ded93568c9379829a0e": {
          "model_module": "@jupyter-widgets/controls",
          "model_module_version": "1.5.0",
          "model_name": "HTMLModel",
          "state": {
            "_dom_classes": [],
            "_model_module": "@jupyter-widgets/controls",
            "_model_module_version": "1.5.0",
            "_model_name": "HTMLModel",
            "_view_count": null,
            "_view_module": "@jupyter-widgets/controls",
            "_view_module_version": "1.5.0",
            "_view_name": "HTMLView",
            "description": "",
            "description_tooltip": null,
            "layout": "IPY_MODEL_ec423fe8272e4dea8632e5c7ff5cef3c",
            "placeholder": "​",
            "style": "IPY_MODEL_f8d54aee808d4b98ab6be73ae8c82a03",
            "value": "validation-00000-of-00001.parquet: 100%"
          }
        },
        "f516e6691acf41f89c8f0c1c978337b3": {
          "model_module": "@jupyter-widgets/base",
          "model_module_version": "1.2.0",
          "model_name": "LayoutModel",
          "state": {
            "_model_module": "@jupyter-widgets/base",
            "_model_module_version": "1.2.0",
            "_model_name": "LayoutModel",
            "_view_count": null,
            "_view_module": "@jupyter-widgets/base",
            "_view_module_version": "1.2.0",
            "_view_name": "LayoutView",
            "align_content": null,
            "align_items": null,
            "align_self": null,
            "border": null,
            "bottom": null,
            "display": null,
            "flex": null,
            "flex_flow": null,
            "grid_area": null,
            "grid_auto_columns": null,
            "grid_auto_flow": null,
            "grid_auto_rows": null,
            "grid_column": null,
            "grid_gap": null,
            "grid_row": null,
            "grid_template_areas": null,
            "grid_template_columns": null,
            "grid_template_rows": null,
            "height": null,
            "justify_content": null,
            "justify_items": null,
            "left": null,
            "margin": null,
            "max_height": null,
            "max_width": null,
            "min_height": null,
            "min_width": null,
            "object_fit": null,
            "object_position": null,
            "order": null,
            "overflow": null,
            "overflow_x": null,
            "overflow_y": null,
            "padding": null,
            "right": null,
            "top": null,
            "visibility": null,
            "width": null
          }
        },
        "f672e45549324dec9fdfc779db73d0f4": {
          "model_module": "@jupyter-widgets/controls",
          "model_module_version": "1.5.0",
          "model_name": "DescriptionStyleModel",
          "state": {
            "_model_module": "@jupyter-widgets/controls",
            "_model_module_version": "1.5.0",
            "_model_name": "DescriptionStyleModel",
            "_view_count": null,
            "_view_module": "@jupyter-widgets/base",
            "_view_module_version": "1.2.0",
            "_view_name": "StyleView",
            "description_width": ""
          }
        },
        "f68822388daf485c84721db462ea50d2": {
          "model_module": "@jupyter-widgets/controls",
          "model_module_version": "1.5.0",
          "model_name": "HBoxModel",
          "state": {
            "_dom_classes": [],
            "_model_module": "@jupyter-widgets/controls",
            "_model_module_version": "1.5.0",
            "_model_name": "HBoxModel",
            "_view_count": null,
            "_view_module": "@jupyter-widgets/controls",
            "_view_module_version": "1.5.0",
            "_view_name": "HBoxView",
            "box_style": "",
            "children": [
              "IPY_MODEL_e493c3e0b9954259b42f1f990efe0135",
              "IPY_MODEL_af579cae53e74c96896cf2e6723f6908",
              "IPY_MODEL_23e4a40b988d493996c61d99d917cd5d"
            ],
            "layout": "IPY_MODEL_a38a8a1b1d6b4205bc5a7a725bd1f8ce"
          }
        },
        "f6a06fcd2e7c414683d82a7cbb47a331": {
          "model_module": "@jupyter-widgets/controls",
          "model_module_version": "1.5.0",
          "model_name": "HTMLModel",
          "state": {
            "_dom_classes": [],
            "_model_module": "@jupyter-widgets/controls",
            "_model_module_version": "1.5.0",
            "_model_name": "HTMLModel",
            "_view_count": null,
            "_view_module": "@jupyter-widgets/controls",
            "_view_module_version": "1.5.0",
            "_view_name": "HTMLView",
            "description": "",
            "description_tooltip": null,
            "layout": "IPY_MODEL_8039b108a2ed4d668c777c8b849577f2",
            "placeholder": "​",
            "style": "IPY_MODEL_7d347a8f64f2428ca4729520feb809c2",
            "value": " 331M/331M [00:01&lt;00:00, 183MB/s]"
          }
        },
        "f701679327ea4b56803c95fa36465c00": {
          "model_module": "@jupyter-widgets/base",
          "model_module_version": "1.2.0",
          "model_name": "LayoutModel",
          "state": {
            "_model_module": "@jupyter-widgets/base",
            "_model_module_version": "1.2.0",
            "_model_name": "LayoutModel",
            "_view_count": null,
            "_view_module": "@jupyter-widgets/base",
            "_view_module_version": "1.2.0",
            "_view_name": "LayoutView",
            "align_content": null,
            "align_items": null,
            "align_self": null,
            "border": null,
            "bottom": null,
            "display": null,
            "flex": null,
            "flex_flow": null,
            "grid_area": null,
            "grid_auto_columns": null,
            "grid_auto_flow": null,
            "grid_auto_rows": null,
            "grid_column": null,
            "grid_gap": null,
            "grid_row": null,
            "grid_template_areas": null,
            "grid_template_columns": null,
            "grid_template_rows": null,
            "height": null,
            "justify_content": null,
            "justify_items": null,
            "left": null,
            "margin": null,
            "max_height": null,
            "max_width": null,
            "min_height": null,
            "min_width": null,
            "object_fit": null,
            "object_position": null,
            "order": null,
            "overflow": null,
            "overflow_x": null,
            "overflow_y": null,
            "padding": null,
            "right": null,
            "top": null,
            "visibility": null,
            "width": null
          }
        },
        "f72cf75106c941f388d678bcf1666e90": {
          "model_module": "@jupyter-widgets/base",
          "model_module_version": "1.2.0",
          "model_name": "LayoutModel",
          "state": {
            "_model_module": "@jupyter-widgets/base",
            "_model_module_version": "1.2.0",
            "_model_name": "LayoutModel",
            "_view_count": null,
            "_view_module": "@jupyter-widgets/base",
            "_view_module_version": "1.2.0",
            "_view_name": "LayoutView",
            "align_content": null,
            "align_items": null,
            "align_self": null,
            "border": null,
            "bottom": null,
            "display": null,
            "flex": null,
            "flex_flow": null,
            "grid_area": null,
            "grid_auto_columns": null,
            "grid_auto_flow": null,
            "grid_auto_rows": null,
            "grid_column": null,
            "grid_gap": null,
            "grid_row": null,
            "grid_template_areas": null,
            "grid_template_columns": null,
            "grid_template_rows": null,
            "height": null,
            "justify_content": null,
            "justify_items": null,
            "left": null,
            "margin": null,
            "max_height": null,
            "max_width": null,
            "min_height": null,
            "min_width": null,
            "object_fit": null,
            "object_position": null,
            "order": null,
            "overflow": null,
            "overflow_x": null,
            "overflow_y": null,
            "padding": null,
            "right": null,
            "top": null,
            "visibility": null,
            "width": null
          }
        },
        "f7fa3717cc8744a782201e1eaa2e3b89": {
          "model_module": "@jupyter-widgets/base",
          "model_module_version": "1.2.0",
          "model_name": "LayoutModel",
          "state": {
            "_model_module": "@jupyter-widgets/base",
            "_model_module_version": "1.2.0",
            "_model_name": "LayoutModel",
            "_view_count": null,
            "_view_module": "@jupyter-widgets/base",
            "_view_module_version": "1.2.0",
            "_view_name": "LayoutView",
            "align_content": null,
            "align_items": null,
            "align_self": null,
            "border": null,
            "bottom": null,
            "display": null,
            "flex": null,
            "flex_flow": null,
            "grid_area": null,
            "grid_auto_columns": null,
            "grid_auto_flow": null,
            "grid_auto_rows": null,
            "grid_column": null,
            "grid_gap": null,
            "grid_row": null,
            "grid_template_areas": null,
            "grid_template_columns": null,
            "grid_template_rows": null,
            "height": null,
            "justify_content": null,
            "justify_items": null,
            "left": null,
            "margin": null,
            "max_height": null,
            "max_width": null,
            "min_height": null,
            "min_width": null,
            "object_fit": null,
            "object_position": null,
            "order": null,
            "overflow": null,
            "overflow_x": null,
            "overflow_y": null,
            "padding": null,
            "right": null,
            "top": null,
            "visibility": null,
            "width": null
          }
        },
        "f8c11a790e2348ae8376301b7b35dc3b": {
          "model_module": "@jupyter-widgets/base",
          "model_module_version": "1.2.0",
          "model_name": "LayoutModel",
          "state": {
            "_model_module": "@jupyter-widgets/base",
            "_model_module_version": "1.2.0",
            "_model_name": "LayoutModel",
            "_view_count": null,
            "_view_module": "@jupyter-widgets/base",
            "_view_module_version": "1.2.0",
            "_view_name": "LayoutView",
            "align_content": null,
            "align_items": null,
            "align_self": null,
            "border": null,
            "bottom": null,
            "display": null,
            "flex": null,
            "flex_flow": null,
            "grid_area": null,
            "grid_auto_columns": null,
            "grid_auto_flow": null,
            "grid_auto_rows": null,
            "grid_column": null,
            "grid_gap": null,
            "grid_row": null,
            "grid_template_areas": null,
            "grid_template_columns": null,
            "grid_template_rows": null,
            "height": null,
            "justify_content": null,
            "justify_items": null,
            "left": null,
            "margin": null,
            "max_height": null,
            "max_width": null,
            "min_height": null,
            "min_width": null,
            "object_fit": null,
            "object_position": null,
            "order": null,
            "overflow": null,
            "overflow_x": null,
            "overflow_y": null,
            "padding": null,
            "right": null,
            "top": null,
            "visibility": null,
            "width": null
          }
        },
        "f8c51bab51704391bc6ebb55b3a32831": {
          "model_module": "@jupyter-widgets/base",
          "model_module_version": "1.2.0",
          "model_name": "LayoutModel",
          "state": {
            "_model_module": "@jupyter-widgets/base",
            "_model_module_version": "1.2.0",
            "_model_name": "LayoutModel",
            "_view_count": null,
            "_view_module": "@jupyter-widgets/base",
            "_view_module_version": "1.2.0",
            "_view_name": "LayoutView",
            "align_content": null,
            "align_items": null,
            "align_self": null,
            "border": null,
            "bottom": null,
            "display": null,
            "flex": null,
            "flex_flow": null,
            "grid_area": null,
            "grid_auto_columns": null,
            "grid_auto_flow": null,
            "grid_auto_rows": null,
            "grid_column": null,
            "grid_gap": null,
            "grid_row": null,
            "grid_template_areas": null,
            "grid_template_columns": null,
            "grid_template_rows": null,
            "height": null,
            "justify_content": null,
            "justify_items": null,
            "left": null,
            "margin": null,
            "max_height": null,
            "max_width": null,
            "min_height": null,
            "min_width": null,
            "object_fit": null,
            "object_position": null,
            "order": null,
            "overflow": null,
            "overflow_x": null,
            "overflow_y": null,
            "padding": null,
            "right": null,
            "top": null,
            "visibility": null,
            "width": null
          }
        },
        "f8d54aee808d4b98ab6be73ae8c82a03": {
          "model_module": "@jupyter-widgets/controls",
          "model_module_version": "1.5.0",
          "model_name": "DescriptionStyleModel",
          "state": {
            "_model_module": "@jupyter-widgets/controls",
            "_model_module_version": "1.5.0",
            "_model_name": "DescriptionStyleModel",
            "_view_count": null,
            "_view_module": "@jupyter-widgets/base",
            "_view_module_version": "1.2.0",
            "_view_name": "StyleView",
            "description_width": ""
          }
        },
        "f8e1447a36ce4554b2eba72bb7c8870c": {
          "model_module": "@jupyter-widgets/base",
          "model_module_version": "1.2.0",
          "model_name": "LayoutModel",
          "state": {
            "_model_module": "@jupyter-widgets/base",
            "_model_module_version": "1.2.0",
            "_model_name": "LayoutModel",
            "_view_count": null,
            "_view_module": "@jupyter-widgets/base",
            "_view_module_version": "1.2.0",
            "_view_name": "LayoutView",
            "align_content": null,
            "align_items": null,
            "align_self": null,
            "border": null,
            "bottom": null,
            "display": null,
            "flex": null,
            "flex_flow": null,
            "grid_area": null,
            "grid_auto_columns": null,
            "grid_auto_flow": null,
            "grid_auto_rows": null,
            "grid_column": null,
            "grid_gap": null,
            "grid_row": null,
            "grid_template_areas": null,
            "grid_template_columns": null,
            "grid_template_rows": null,
            "height": null,
            "justify_content": null,
            "justify_items": null,
            "left": null,
            "margin": null,
            "max_height": null,
            "max_width": null,
            "min_height": null,
            "min_width": null,
            "object_fit": null,
            "object_position": null,
            "order": null,
            "overflow": null,
            "overflow_x": null,
            "overflow_y": null,
            "padding": null,
            "right": null,
            "top": null,
            "visibility": null,
            "width": null
          }
        },
        "f9147af0ae5245538e1f6a91b61252aa": {
          "model_module": "@jupyter-widgets/base",
          "model_module_version": "1.2.0",
          "model_name": "LayoutModel",
          "state": {
            "_model_module": "@jupyter-widgets/base",
            "_model_module_version": "1.2.0",
            "_model_name": "LayoutModel",
            "_view_count": null,
            "_view_module": "@jupyter-widgets/base",
            "_view_module_version": "1.2.0",
            "_view_name": "LayoutView",
            "align_content": null,
            "align_items": null,
            "align_self": null,
            "border": null,
            "bottom": null,
            "display": null,
            "flex": null,
            "flex_flow": null,
            "grid_area": null,
            "grid_auto_columns": null,
            "grid_auto_flow": null,
            "grid_auto_rows": null,
            "grid_column": null,
            "grid_gap": null,
            "grid_row": null,
            "grid_template_areas": null,
            "grid_template_columns": null,
            "grid_template_rows": null,
            "height": null,
            "justify_content": null,
            "justify_items": null,
            "left": null,
            "margin": null,
            "max_height": null,
            "max_width": null,
            "min_height": null,
            "min_width": null,
            "object_fit": null,
            "object_position": null,
            "order": null,
            "overflow": null,
            "overflow_x": null,
            "overflow_y": null,
            "padding": null,
            "right": null,
            "top": null,
            "visibility": null,
            "width": null
          }
        },
        "f937c106c06c4b099947a8155116abdd": {
          "model_module": "@jupyter-widgets/base",
          "model_module_version": "1.2.0",
          "model_name": "LayoutModel",
          "state": {
            "_model_module": "@jupyter-widgets/base",
            "_model_module_version": "1.2.0",
            "_model_name": "LayoutModel",
            "_view_count": null,
            "_view_module": "@jupyter-widgets/base",
            "_view_module_version": "1.2.0",
            "_view_name": "LayoutView",
            "align_content": null,
            "align_items": null,
            "align_self": null,
            "border": null,
            "bottom": null,
            "display": null,
            "flex": null,
            "flex_flow": null,
            "grid_area": null,
            "grid_auto_columns": null,
            "grid_auto_flow": null,
            "grid_auto_rows": null,
            "grid_column": null,
            "grid_gap": null,
            "grid_row": null,
            "grid_template_areas": null,
            "grid_template_columns": null,
            "grid_template_rows": null,
            "height": null,
            "justify_content": null,
            "justify_items": null,
            "left": null,
            "margin": null,
            "max_height": null,
            "max_width": null,
            "min_height": null,
            "min_width": null,
            "object_fit": null,
            "object_position": null,
            "order": null,
            "overflow": null,
            "overflow_x": null,
            "overflow_y": null,
            "padding": null,
            "right": null,
            "top": null,
            "visibility": null,
            "width": null
          }
        },
        "f9caaaa771924a7ca06004567114fdab": {
          "model_module": "@jupyter-widgets/base",
          "model_module_version": "1.2.0",
          "model_name": "LayoutModel",
          "state": {
            "_model_module": "@jupyter-widgets/base",
            "_model_module_version": "1.2.0",
            "_model_name": "LayoutModel",
            "_view_count": null,
            "_view_module": "@jupyter-widgets/base",
            "_view_module_version": "1.2.0",
            "_view_name": "LayoutView",
            "align_content": null,
            "align_items": null,
            "align_self": null,
            "border": null,
            "bottom": null,
            "display": null,
            "flex": null,
            "flex_flow": null,
            "grid_area": null,
            "grid_auto_columns": null,
            "grid_auto_flow": null,
            "grid_auto_rows": null,
            "grid_column": null,
            "grid_gap": null,
            "grid_row": null,
            "grid_template_areas": null,
            "grid_template_columns": null,
            "grid_template_rows": null,
            "height": null,
            "justify_content": null,
            "justify_items": null,
            "left": null,
            "margin": null,
            "max_height": null,
            "max_width": null,
            "min_height": null,
            "min_width": null,
            "object_fit": null,
            "object_position": null,
            "order": null,
            "overflow": null,
            "overflow_x": null,
            "overflow_y": null,
            "padding": null,
            "right": null,
            "top": null,
            "visibility": null,
            "width": null
          }
        },
        "fae9eaf11d514fdfa794e917b46478ba": {
          "model_module": "@jupyter-widgets/controls",
          "model_module_version": "1.5.0",
          "model_name": "HTMLModel",
          "state": {
            "_dom_classes": [],
            "_model_module": "@jupyter-widgets/controls",
            "_model_module_version": "1.5.0",
            "_model_name": "HTMLModel",
            "_view_count": null,
            "_view_module": "@jupyter-widgets/controls",
            "_view_module_version": "1.5.0",
            "_view_name": "HTMLView",
            "description": "",
            "description_tooltip": null,
            "layout": "IPY_MODEL_3435e45721664269b707ae1b74a50a93",
            "placeholder": "​",
            "style": "IPY_MODEL_082d84c2530447f1b85e3ab39d0e5b9c",
            "value": " 629/629 [00:00&lt;00:00, 36.6kB/s]"
          }
        },
        "fb041771b3c94ccfbc55366f7bbb3b55": {
          "model_module": "@jupyter-widgets/base",
          "model_module_version": "1.2.0",
          "model_name": "LayoutModel",
          "state": {
            "_model_module": "@jupyter-widgets/base",
            "_model_module_version": "1.2.0",
            "_model_name": "LayoutModel",
            "_view_count": null,
            "_view_module": "@jupyter-widgets/base",
            "_view_module_version": "1.2.0",
            "_view_name": "LayoutView",
            "align_content": null,
            "align_items": null,
            "align_self": null,
            "border": null,
            "bottom": null,
            "display": null,
            "flex": null,
            "flex_flow": null,
            "grid_area": null,
            "grid_auto_columns": null,
            "grid_auto_flow": null,
            "grid_auto_rows": null,
            "grid_column": null,
            "grid_gap": null,
            "grid_row": null,
            "grid_template_areas": null,
            "grid_template_columns": null,
            "grid_template_rows": null,
            "height": null,
            "justify_content": null,
            "justify_items": null,
            "left": null,
            "margin": null,
            "max_height": null,
            "max_width": null,
            "min_height": null,
            "min_width": null,
            "object_fit": null,
            "object_position": null,
            "order": null,
            "overflow": null,
            "overflow_x": null,
            "overflow_y": null,
            "padding": null,
            "right": null,
            "top": null,
            "visibility": null,
            "width": null
          }
        },
        "fb1162539d9842eaad2ba10aa9af12bb": {
          "model_module": "@jupyter-widgets/base",
          "model_module_version": "1.2.0",
          "model_name": "LayoutModel",
          "state": {
            "_model_module": "@jupyter-widgets/base",
            "_model_module_version": "1.2.0",
            "_model_name": "LayoutModel",
            "_view_count": null,
            "_view_module": "@jupyter-widgets/base",
            "_view_module_version": "1.2.0",
            "_view_name": "LayoutView",
            "align_content": null,
            "align_items": null,
            "align_self": null,
            "border": null,
            "bottom": null,
            "display": null,
            "flex": null,
            "flex_flow": null,
            "grid_area": null,
            "grid_auto_columns": null,
            "grid_auto_flow": null,
            "grid_auto_rows": null,
            "grid_column": null,
            "grid_gap": null,
            "grid_row": null,
            "grid_template_areas": null,
            "grid_template_columns": null,
            "grid_template_rows": null,
            "height": null,
            "justify_content": null,
            "justify_items": null,
            "left": null,
            "margin": null,
            "max_height": null,
            "max_width": null,
            "min_height": null,
            "min_width": null,
            "object_fit": null,
            "object_position": null,
            "order": null,
            "overflow": null,
            "overflow_x": null,
            "overflow_y": null,
            "padding": null,
            "right": null,
            "top": null,
            "visibility": null,
            "width": null
          }
        },
        "fb281a3b60404d5596bc4bc8984db1c5": {
          "model_module": "@jupyter-widgets/controls",
          "model_module_version": "1.5.0",
          "model_name": "HBoxModel",
          "state": {
            "_dom_classes": [],
            "_model_module": "@jupyter-widgets/controls",
            "_model_module_version": "1.5.0",
            "_model_name": "HBoxModel",
            "_view_count": null,
            "_view_module": "@jupyter-widgets/controls",
            "_view_module_version": "1.5.0",
            "_view_name": "HBoxView",
            "box_style": "",
            "children": [
              "IPY_MODEL_3d5163b509ca464d9cb5d1d40636d2dc",
              "IPY_MODEL_f119ea7f40fe47458efef5db6ad9315b",
              "IPY_MODEL_b0666b7e781547199e080390743fd862"
            ],
            "layout": "IPY_MODEL_8a74ea8153a3486688f09103e9795a2d"
          }
        },
        "fb6fd0cf67c14ffb828432c8618adc1e": {
          "model_module": "@jupyter-widgets/controls",
          "model_module_version": "1.5.0",
          "model_name": "ProgressStyleModel",
          "state": {
            "_model_module": "@jupyter-widgets/controls",
            "_model_module_version": "1.5.0",
            "_model_name": "ProgressStyleModel",
            "_view_count": null,
            "_view_module": "@jupyter-widgets/base",
            "_view_module_version": "1.2.0",
            "_view_name": "StyleView",
            "bar_color": null,
            "description_width": ""
          }
        },
        "fdbb4d68bb1f4e999850269e6f03d8cd": {
          "model_module": "@jupyter-widgets/controls",
          "model_module_version": "1.5.0",
          "model_name": "HBoxModel",
          "state": {
            "_dom_classes": [],
            "_model_module": "@jupyter-widgets/controls",
            "_model_module_version": "1.5.0",
            "_model_name": "HBoxModel",
            "_view_count": null,
            "_view_module": "@jupyter-widgets/controls",
            "_view_module_version": "1.5.0",
            "_view_name": "HBoxView",
            "box_style": "",
            "children": [
              "IPY_MODEL_f48ba00691354ded93568c9379829a0e",
              "IPY_MODEL_3103d106023742658958e25693b3033c",
              "IPY_MODEL_2261effc142c427e909c527f821bb4ad"
            ],
            "layout": "IPY_MODEL_81fd13827a014cb7829a682a0a7fbd9c"
          }
        },
        "fddf132c111f4016ab29a8e4b9975034": {
          "model_module": "@jupyter-widgets/controls",
          "model_module_version": "1.5.0",
          "model_name": "HTMLModel",
          "state": {
            "_dom_classes": [],
            "_model_module": "@jupyter-widgets/controls",
            "_model_module_version": "1.5.0",
            "_model_name": "HTMLModel",
            "_view_count": null,
            "_view_module": "@jupyter-widgets/controls",
            "_view_module_version": "1.5.0",
            "_view_name": "HTMLView",
            "description": "",
            "description_tooltip": null,
            "layout": "IPY_MODEL_d6c5ac04a3f946a6a872182813b0b87d",
            "placeholder": "​",
            "style": "IPY_MODEL_d16f0d9776cb4ed1b83c27cbe18d6fb9",
            "value": " 408/408 [00:00&lt;00:00, 10572.11 examples/s]"
          }
        },
        "fe31be53f19040f49cc9d3479d4d8101": {
          "model_module": "@jupyter-widgets/controls",
          "model_module_version": "1.5.0",
          "model_name": "DescriptionStyleModel",
          "state": {
            "_model_module": "@jupyter-widgets/controls",
            "_model_module_version": "1.5.0",
            "_model_name": "DescriptionStyleModel",
            "_view_count": null,
            "_view_module": "@jupyter-widgets/base",
            "_view_module_version": "1.2.0",
            "_view_name": "StyleView",
            "description_width": ""
          }
        },
        "fea4d8a9ad374c81a2fcd623bd642e49": {
          "model_module": "@jupyter-widgets/base",
          "model_module_version": "1.2.0",
          "model_name": "LayoutModel",
          "state": {
            "_model_module": "@jupyter-widgets/base",
            "_model_module_version": "1.2.0",
            "_model_name": "LayoutModel",
            "_view_count": null,
            "_view_module": "@jupyter-widgets/base",
            "_view_module_version": "1.2.0",
            "_view_name": "LayoutView",
            "align_content": null,
            "align_items": null,
            "align_self": null,
            "border": null,
            "bottom": null,
            "display": null,
            "flex": null,
            "flex_flow": null,
            "grid_area": null,
            "grid_auto_columns": null,
            "grid_auto_flow": null,
            "grid_auto_rows": null,
            "grid_column": null,
            "grid_gap": null,
            "grid_row": null,
            "grid_template_areas": null,
            "grid_template_columns": null,
            "grid_template_rows": null,
            "height": null,
            "justify_content": null,
            "justify_items": null,
            "left": null,
            "margin": null,
            "max_height": null,
            "max_width": null,
            "min_height": null,
            "min_width": null,
            "object_fit": null,
            "object_position": null,
            "order": null,
            "overflow": null,
            "overflow_x": null,
            "overflow_y": null,
            "padding": null,
            "right": null,
            "top": null,
            "visibility": null,
            "width": null
          }
        },
        "ff67235c800a4b1d93f3648ac164efdd": {
          "model_module": "@jupyter-widgets/base",
          "model_module_version": "1.2.0",
          "model_name": "LayoutModel",
          "state": {
            "_model_module": "@jupyter-widgets/base",
            "_model_module_version": "1.2.0",
            "_model_name": "LayoutModel",
            "_view_count": null,
            "_view_module": "@jupyter-widgets/base",
            "_view_module_version": "1.2.0",
            "_view_name": "LayoutView",
            "align_content": null,
            "align_items": null,
            "align_self": null,
            "border": null,
            "bottom": null,
            "display": null,
            "flex": null,
            "flex_flow": null,
            "grid_area": null,
            "grid_auto_columns": null,
            "grid_auto_flow": null,
            "grid_auto_rows": null,
            "grid_column": null,
            "grid_gap": null,
            "grid_row": null,
            "grid_template_areas": null,
            "grid_template_columns": null,
            "grid_template_rows": null,
            "height": null,
            "justify_content": null,
            "justify_items": null,
            "left": null,
            "margin": null,
            "max_height": null,
            "max_width": null,
            "min_height": null,
            "min_width": null,
            "object_fit": null,
            "object_position": null,
            "order": null,
            "overflow": null,
            "overflow_x": null,
            "overflow_y": null,
            "padding": null,
            "right": null,
            "top": null,
            "visibility": null,
            "width": null
          }
        },
        "ff6afaeff5c44fa298be9c4ddaace031": {
          "model_module": "@jupyter-widgets/base",
          "model_module_version": "1.2.0",
          "model_name": "LayoutModel",
          "state": {
            "_model_module": "@jupyter-widgets/base",
            "_model_module_version": "1.2.0",
            "_model_name": "LayoutModel",
            "_view_count": null,
            "_view_module": "@jupyter-widgets/base",
            "_view_module_version": "1.2.0",
            "_view_name": "LayoutView",
            "align_content": null,
            "align_items": null,
            "align_self": null,
            "border": null,
            "bottom": null,
            "display": null,
            "flex": null,
            "flex_flow": null,
            "grid_area": null,
            "grid_auto_columns": null,
            "grid_auto_flow": null,
            "grid_auto_rows": null,
            "grid_column": null,
            "grid_gap": null,
            "grid_row": null,
            "grid_template_areas": null,
            "grid_template_columns": null,
            "grid_template_rows": null,
            "height": null,
            "justify_content": null,
            "justify_items": null,
            "left": null,
            "margin": null,
            "max_height": null,
            "max_width": null,
            "min_height": null,
            "min_width": null,
            "object_fit": null,
            "object_position": null,
            "order": null,
            "overflow": null,
            "overflow_x": null,
            "overflow_y": null,
            "padding": null,
            "right": null,
            "top": null,
            "visibility": null,
            "width": null
          }
        },
        "ffc185d4ce2b42e1bee80721020d27af": {
          "model_module": "@jupyter-widgets/controls",
          "model_module_version": "1.5.0",
          "model_name": "HTMLModel",
          "state": {
            "_dom_classes": [],
            "_model_module": "@jupyter-widgets/controls",
            "_model_module_version": "1.5.0",
            "_model_name": "HTMLModel",
            "_view_count": null,
            "_view_module": "@jupyter-widgets/controls",
            "_view_module_version": "1.5.0",
            "_view_name": "HTMLView",
            "description": "",
            "description_tooltip": null,
            "layout": "IPY_MODEL_817339760540495fb11c61d25e49144b",
            "placeholder": "​",
            "style": "IPY_MODEL_9dace4a02ae747e89cf7db1419de980e",
            "value": "Map: 100%"
          }
        }
      }
    }
  },
  "nbformat": 4,
  "nbformat_minor": 0
}
